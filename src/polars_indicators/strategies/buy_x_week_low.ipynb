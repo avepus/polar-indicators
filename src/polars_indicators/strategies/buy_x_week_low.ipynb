{
 "cells": [
  {
   "cell_type": "code",
   "execution_count": 1,
   "metadata": {},
   "outputs": [],
   "source": [
    "import polars as pl\n",
    "from datetime import datetime,timedelta\n",
    "import get_and_store as gas\n",
    "import polars_indicators as pi\n",
    "from polars_indicators.indicators import IndicatorResult\n",
    "from importlib import reload\n",
    "DATE_COLUNN = \"Date\""
   ]
  },
  {
   "cell_type": "code",
   "execution_count": 32,
   "metadata": {},
   "outputs": [
    {
     "data": {
      "text/plain": [
       "<module 'polars_indicators.indicators' from 'c:\\\\users\\\\avery\\\\documents\\\\github\\\\polar-indicators\\\\src\\\\polars_indicators\\\\indicators\\\\__init__.py'>"
      ]
     },
     "execution_count": 32,
     "metadata": {},
     "output_type": "execute_result"
    }
   ],
   "source": [
    "reload(pi)\n",
    "reload(pi.strategies.buy_x_week_low)\n",
    "reload(pi.summarize.trades)\n",
    "reload(pi.indicators)"
   ]
  },
  {
   "cell_type": "code",
   "execution_count": 3,
   "metadata": {},
   "outputs": [],
   "source": [
    "symbols = ['A','AA']"
   ]
  },
  {
   "cell_type": "code",
   "execution_count": 4,
   "metadata": {},
   "outputs": [],
   "source": [
    "#df = gas.get_symbols_df(symbols)"
   ]
  },
  {
   "cell_type": "code",
   "execution_count": 33,
   "metadata": {},
   "outputs": [],
   "source": [
    "try:\n",
    "    df = saved_df.clone()\n",
    "except NameError:\n",
    "        df = gas.get_all_saved_data_df()\n",
    "        df = df.filter(pl.col(pi.indicators.DATE_COLUMN) >= datetime(2020, 1, 1))\n",
    "        df = df.collect()"
   ]
  },
  {
   "cell_type": "code",
   "execution_count": 34,
   "metadata": {},
   "outputs": [],
   "source": [
    "saved_df = df.clone()"
   ]
  },
  {
   "cell_type": "code",
   "execution_count": 35,
   "metadata": {},
   "outputs": [],
   "source": [
    "sma100 = pi.indicators.simple_moving_average(df, 50)\n",
    "df = sma100.df\n",
    "slope_up = pi.indicators.slope_up(df, column=sma100.column)\n",
    "df = slope_up.df.with_columns(pl.col(slope_up.column).shift()) #shifting so we use previous bar"
   ]
  },
  {
   "cell_type": "code",
   "execution_count": 36,
   "metadata": {},
   "outputs": [],
   "source": [
    "fluctuation = pi.indicators.fluctuation_percentage(df)\n",
    "fluct_sma3 = pi.indicators.simple_moving_average(fluctuation.df, 3, fluctuation.column)\n",
    "#grouped_fluctation = pi.indicators.group_by_amount_display(fluct_sma3.df, fluct_sma3.column, [1,2,3,5,7,10,20,30,40,50,60,70,80,90])\n",
    "grouped_fluctation = pi.indicators.group_by_amount(fluct_sma3.df, fluct_sma3.column, [1,2,3,5,7,10,20])\n",
    "df = grouped_fluctation.df"
   ]
  },
  {
   "cell_type": "code",
   "execution_count": 37,
   "metadata": {},
   "outputs": [
    {
     "data": {
      "text/html": [
       "<div><style>\n",
       ".dataframe > thead > tr > th,\n",
       ".dataframe > tbody > tr > td {\n",
       "  text-align: right;\n",
       "}\n",
       "</style>\n",
       "<small>shape: (6053367, 13)</small><table border=\"1\" class=\"dataframe\"><thead><tr><th>Date</th><th>Open</th><th>High</th><th>Low</th><th>Close</th><th>Adj Close</th><th>Volume</th><th>Symbol</th><th>SMA50</th><th>SMA50_slope_up</th><th>Low/High_fluctuation%</th><th>SMA3</th><th>SMA3_grouped_values</th></tr><tr><td>datetime[μs]</td><td>f64</td><td>f64</td><td>f64</td><td>f64</td><td>f64</td><td>i64</td><td>str</td><td>f64</td><td>bool</td><td>f64</td><td>f64</td><td>f64</td></tr></thead><tbody><tr><td>2020-01-02 00:00:00</td><td>85.900002</td><td>86.349998</td><td>85.199997</td><td>85.949997</td><td>85.731819</td><td>1410500</td><td>&quot;A&quot;</td><td>null</td><td>null</td><td>1.349767</td><td>null</td><td>20.01</td></tr><tr><td>2020-01-03 00:00:00</td><td>84.669998</td><td>85.330002</td><td>84.5</td><td>84.57</td><td>84.355324</td><td>1118300</td><td>&quot;A&quot;</td><td>null</td><td>null</td><td>0.982251</td><td>null</td><td>20.01</td></tr><tr><td>2020-01-06 00:00:00</td><td>84.0</td><td>84.82</td><td>83.599998</td><td>84.82</td><td>84.604691</td><td>1993200</td><td>&quot;A&quot;</td><td>null</td><td>null</td><td>1.459332</td><td>1.263783</td><td>2.0</td></tr><tr><td>2020-01-07 00:00:00</td><td>83.959999</td><td>85.260002</td><td>83.940002</td><td>85.080002</td><td>84.864029</td><td>1684700</td><td>&quot;A&quot;</td><td>null</td><td>null</td><td>1.572551</td><td>1.338045</td><td>2.0</td></tr><tr><td>2020-01-08 00:00:00</td><td>85.959999</td><td>86.470001</td><td>85.199997</td><td>85.919998</td><td>85.701897</td><td>1847600</td><td>&quot;A&quot;</td><td>null</td><td>null</td><td>1.490615</td><td>1.507499</td><td>2.0</td></tr><tr><td>2020-01-09 00:00:00</td><td>86.459999</td><td>87.699997</td><td>86.169998</td><td>87.269997</td><td>87.04847</td><td>1912700</td><td>&quot;A&quot;</td><td>null</td><td>null</td><td>1.775559</td><td>1.612908</td><td>2.0</td></tr><tr><td>2020-01-10 00:00:00</td><td>87.720001</td><td>88.239998</td><td>87.32</td><td>87.589996</td><td>87.367653</td><td>1417000</td><td>&quot;A&quot;</td><td>null</td><td>null</td><td>1.053594</td><td>1.439923</td><td>2.0</td></tr><tr><td>2020-01-13 00:00:00</td><td>87.809998</td><td>88.32</td><td>86.739998</td><td>87.459999</td><td>87.237984</td><td>1630200</td><td>&quot;A&quot;</td><td>null</td><td>null</td><td>1.821538</td><td>1.55023</td><td>2.0</td></tr><tr><td>2020-01-14 00:00:00</td><td>87.269997</td><td>88.209999</td><td>86.699997</td><td>87.989998</td><td>87.76664</td><td>1675200</td><td>&quot;A&quot;</td><td>null</td><td>null</td><td>1.74164</td><td>1.538924</td><td>2.0</td></tr><tr><td>2020-01-15 00:00:00</td><td>87.629997</td><td>89.110001</td><td>87.550003</td><td>88.620003</td><td>88.395042</td><td>1630400</td><td>&quot;A&quot;</td><td>null</td><td>null</td><td>1.781836</td><td>1.781671</td><td>2.0</td></tr><tr><td>2020-01-16 00:00:00</td><td>89.120003</td><td>89.489998</td><td>88.860001</td><td>89.459999</td><td>89.23291</td><td>1595900</td><td>&quot;A&quot;</td><td>null</td><td>null</td><td>0.708977</td><td>1.410818</td><td>2.0</td></tr><tr><td>2020-01-17 00:00:00</td><td>89.970001</td><td>90.279999</td><td>89.209999</td><td>90.120003</td><td>89.891235</td><td>3718300</td><td>&quot;A&quot;</td><td>null</td><td>null</td><td>1.199417</td><td>1.230077</td><td>2.0</td></tr><tr><td>&hellip;</td><td>&hellip;</td><td>&hellip;</td><td>&hellip;</td><td>&hellip;</td><td>&hellip;</td><td>&hellip;</td><td>&hellip;</td><td>&hellip;</td><td>&hellip;</td><td>&hellip;</td><td>&hellip;</td><td>&hellip;</td></tr><tr><td>2023-03-29 00:00:00</td><td>11.81</td><td>12.08</td><td>11.58</td><td>11.75</td><td>11.75</td><td>222900</td><td>&quot;ZYXI&quot;</td><td>12.6052</td><td>false</td><td>4.317789</td><td>4.829153</td><td>5.0</td></tr><tr><td>2023-03-30 00:00:00</td><td>11.79</td><td>11.88</td><td>11.37</td><td>11.45</td><td>11.45</td><td>134100</td><td>&quot;ZYXI&quot;</td><td>12.53</td><td>false</td><td>4.48549</td><td>4.922732</td><td>5.0</td></tr><tr><td>2023-03-31 00:00:00</td><td>11.56</td><td>12.22</td><td>11.56</td><td>12.0</td><td>12.0</td><td>422200</td><td>&quot;ZYXI&quot;</td><td>12.4658</td><td>false</td><td>5.709341</td><td>4.83754</td><td>5.0</td></tr><tr><td>2023-04-03 00:00:00</td><td>12.05</td><td>12.22</td><td>11.66</td><td>12.0</td><td>12.0</td><td>251400</td><td>&quot;ZYXI&quot;</td><td>12.3976</td><td>false</td><td>4.802748</td><td>4.999193</td><td>5.0</td></tr><tr><td>2023-04-04 00:00:00</td><td>12.14</td><td>12.19</td><td>11.7</td><td>11.82</td><td>11.82</td><td>125100</td><td>&quot;ZYXI&quot;</td><td>12.3298</td><td>false</td><td>4.188032</td><td>4.90004</td><td>5.0</td></tr><tr><td>2023-04-05 00:00:00</td><td>11.8</td><td>12.01</td><td>11.75</td><td>12.0</td><td>12.0</td><td>110200</td><td>&quot;ZYXI&quot;</td><td>12.2552</td><td>false</td><td>2.212768</td><td>3.734516</td><td>5.0</td></tr><tr><td>2023-04-06 00:00:00</td><td>11.95</td><td>12.4</td><td>11.79</td><td>12.16</td><td>12.16</td><td>208100</td><td>&quot;ZYXI&quot;</td><td>12.183</td><td>false</td><td>5.173873</td><td>3.858224</td><td>5.0</td></tr><tr><td>2023-04-10 00:00:00</td><td>12.09</td><td>12.1</td><td>11.73</td><td>11.81</td><td>11.81</td><td>185600</td><td>&quot;ZYXI&quot;</td><td>12.1132</td><td>false</td><td>3.154312</td><td>3.513651</td><td>5.0</td></tr><tr><td>2023-04-11 00:00:00</td><td>11.85</td><td>12.45</td><td>11.81</td><td>12.03</td><td>12.03</td><td>216600</td><td>&quot;ZYXI&quot;</td><td>12.0468</td><td>false</td><td>5.419131</td><td>4.582439</td><td>5.0</td></tr><tr><td>2023-04-12 00:00:00</td><td>12.06</td><td>12.33</td><td>11.59</td><td>11.63</td><td>11.63</td><td>109700</td><td>&quot;ZYXI&quot;</td><td>11.9958</td><td>false</td><td>6.384812</td><td>4.986085</td><td>5.0</td></tr><tr><td>2023-04-13 00:00:00</td><td>11.67</td><td>12.12</td><td>11.67</td><td>12.03</td><td>12.03</td><td>131000</td><td>&quot;ZYXI&quot;</td><td>11.9538</td><td>false</td><td>3.856039</td><td>5.219994</td><td>7.0</td></tr><tr><td>2023-04-14 00:00:00</td><td>12.08</td><td>12.15</td><td>11.82</td><td>11.94</td><td>11.94</td><td>107100</td><td>&quot;ZYXI&quot;</td><td>11.908</td><td>false</td><td>2.791878</td><td>4.344243</td><td>5.0</td></tr></tbody></table></div>"
      ],
      "text/plain": [
       "shape: (6053367, 13)\n",
       "┌────────┬───────────┬───────────┬───────────┬───┬────────────┬────────────┬──────────┬────────────┐\n",
       "│ Date   ┆ Open      ┆ High      ┆ Low       ┆ … ┆ SMA50_slop ┆ Low/High_f ┆ SMA3     ┆ SMA3_group │\n",
       "│ ---    ┆ ---       ┆ ---       ┆ ---       ┆   ┆ e_up       ┆ luctuation ┆ ---      ┆ ed_values  │\n",
       "│ dateti ┆ f64       ┆ f64       ┆ f64       ┆   ┆ ---        ┆ %          ┆ f64      ┆ ---        │\n",
       "│ me[μs] ┆           ┆           ┆           ┆   ┆ bool       ┆ ---        ┆          ┆ f64        │\n",
       "│        ┆           ┆           ┆           ┆   ┆            ┆ f64        ┆          ┆            │\n",
       "╞════════╪═══════════╪═══════════╪═══════════╪═══╪════════════╪════════════╪══════════╪════════════╡\n",
       "│ 2020-0 ┆ 85.900002 ┆ 86.349998 ┆ 85.199997 ┆ … ┆ null       ┆ 1.349767   ┆ null     ┆ 20.01      │\n",
       "│ 1-02   ┆           ┆           ┆           ┆   ┆            ┆            ┆          ┆            │\n",
       "│ 00:00: ┆           ┆           ┆           ┆   ┆            ┆            ┆          ┆            │\n",
       "│ 00     ┆           ┆           ┆           ┆   ┆            ┆            ┆          ┆            │\n",
       "│ 2020-0 ┆ 84.669998 ┆ 85.330002 ┆ 84.5      ┆ … ┆ null       ┆ 0.982251   ┆ null     ┆ 20.01      │\n",
       "│ 1-03   ┆           ┆           ┆           ┆   ┆            ┆            ┆          ┆            │\n",
       "│ 00:00: ┆           ┆           ┆           ┆   ┆            ┆            ┆          ┆            │\n",
       "│ 00     ┆           ┆           ┆           ┆   ┆            ┆            ┆          ┆            │\n",
       "│ 2020-0 ┆ 84.0      ┆ 84.82     ┆ 83.599998 ┆ … ┆ null       ┆ 1.459332   ┆ 1.263783 ┆ 2.0        │\n",
       "│ 1-06   ┆           ┆           ┆           ┆   ┆            ┆            ┆          ┆            │\n",
       "│ 00:00: ┆           ┆           ┆           ┆   ┆            ┆            ┆          ┆            │\n",
       "│ 00     ┆           ┆           ┆           ┆   ┆            ┆            ┆          ┆            │\n",
       "│ 2020-0 ┆ 83.959999 ┆ 85.260002 ┆ 83.940002 ┆ … ┆ null       ┆ 1.572551   ┆ 1.338045 ┆ 2.0        │\n",
       "│ 1-07   ┆           ┆           ┆           ┆   ┆            ┆            ┆          ┆            │\n",
       "│ 00:00: ┆           ┆           ┆           ┆   ┆            ┆            ┆          ┆            │\n",
       "│ 00     ┆           ┆           ┆           ┆   ┆            ┆            ┆          ┆            │\n",
       "│ …      ┆ …         ┆ …         ┆ …         ┆ … ┆ …          ┆ …          ┆ …        ┆ …          │\n",
       "│ 2023-0 ┆ 11.85     ┆ 12.45     ┆ 11.81     ┆ … ┆ false      ┆ 5.419131   ┆ 4.582439 ┆ 5.0        │\n",
       "│ 4-11   ┆           ┆           ┆           ┆   ┆            ┆            ┆          ┆            │\n",
       "│ 00:00: ┆           ┆           ┆           ┆   ┆            ┆            ┆          ┆            │\n",
       "│ 00     ┆           ┆           ┆           ┆   ┆            ┆            ┆          ┆            │\n",
       "│ 2023-0 ┆ 12.06     ┆ 12.33     ┆ 11.59     ┆ … ┆ false      ┆ 6.384812   ┆ 4.986085 ┆ 5.0        │\n",
       "│ 4-12   ┆           ┆           ┆           ┆   ┆            ┆            ┆          ┆            │\n",
       "│ 00:00: ┆           ┆           ┆           ┆   ┆            ┆            ┆          ┆            │\n",
       "│ 00     ┆           ┆           ┆           ┆   ┆            ┆            ┆          ┆            │\n",
       "│ 2023-0 ┆ 11.67     ┆ 12.12     ┆ 11.67     ┆ … ┆ false      ┆ 3.856039   ┆ 5.219994 ┆ 7.0        │\n",
       "│ 4-13   ┆           ┆           ┆           ┆   ┆            ┆            ┆          ┆            │\n",
       "│ 00:00: ┆           ┆           ┆           ┆   ┆            ┆            ┆          ┆            │\n",
       "│ 00     ┆           ┆           ┆           ┆   ┆            ┆            ┆          ┆            │\n",
       "│ 2023-0 ┆ 12.08     ┆ 12.15     ┆ 11.82     ┆ … ┆ false      ┆ 2.791878   ┆ 4.344243 ┆ 5.0        │\n",
       "│ 4-14   ┆           ┆           ┆           ┆   ┆            ┆            ┆          ┆            │\n",
       "│ 00:00: ┆           ┆           ┆           ┆   ┆            ┆            ┆          ┆            │\n",
       "│ 00     ┆           ┆           ┆           ┆   ┆            ┆            ┆          ┆            │\n",
       "└────────┴───────────┴───────────┴───────────┴───┴────────────┴────────────┴──────────┴────────────┘"
      ]
     },
     "execution_count": 37,
     "metadata": {},
     "output_type": "execute_result"
    }
   ],
   "source": [
    "df = df.with_columns(pl.col(pi.indicators.DATE_COLUMN).cast(pl.Datetime))\n",
    "df"
   ]
  },
  {
   "cell_type": "code",
   "execution_count": 38,
   "metadata": {},
   "outputs": [],
   "source": [
    "#filter out average price too low\n",
    "df = df.filter(pl.col(pi.indicators.CLOSE_COLUMN).mean().over(pi.indicators.SYMBOL_COLUMN) > 3)\n",
    "\n",
    "# filter out too many 0 volume bars. This gets rid of a lot of garbage\n",
    "df = df.filter((pl.col(pi.indicators.VOLUMNE_COLUMN) == 0).sum().over(pi.indicators.SYMBOL_COLUMN) < 3)\n",
    "\n",
    "# minimum amount of volume\n",
    "df = df.filter(pl.col(pi.indicators.VOLUMNE_COLUMN).mean().over(pi.indicators.SYMBOL_COLUMN) > 100000)\n"
   ]
  },
  {
   "cell_type": "code",
   "execution_count": 39,
   "metadata": {},
   "outputs": [],
   "source": [
    "lookback_bars = 7\n",
    "offset_bars = 3\n",
    "modresult_05 = pi.strategies.buy_x_week_low.strategy(df, lookback_bars, offset_bars, 0.5, -5, 2, 3)\n",
    "modresult_1 = pi.strategies.buy_x_week_low.strategy(df, lookback_bars, offset_bars, 1, -5, 2, 3)"
   ]
  },
  {
   "cell_type": "code",
   "execution_count": 40,
   "metadata": {},
   "outputs": [],
   "source": [
    "trades_05 = pi.summarize.trades.Trades.from_strategy_result(modresult_05, [slope_up.column, grouped_fluctation.column])\n",
    "trades_1 = pi.summarize.trades.Trades.from_strategy_result(modresult_1, [slope_up.column, grouped_fluctation.column])"
   ]
  },
  {
   "cell_type": "code",
   "execution_count": 42,
   "metadata": {},
   "outputs": [
    {
     "data": {
      "text/html": [
       "<div><style>\n",
       ".dataframe > thead > tr > th,\n",
       ".dataframe > tbody > tr > td {\n",
       "  text-align: right;\n",
       "}\n",
       "</style>\n",
       "<small>shape: (8, 12)</small><table border=\"1\" class=\"dataframe\"><thead><tr><th>SMA3_grouped_values</th><th>Gain/Loss%Sum</th><th>Winners</th><th>Losers</th><th>Trades</th><th>Win_Ratio</th><th>Average_Gain/Loss%</th><th>Average_Length</th><th>highest_win</th><th>Highest%</th><th>lowest_loss</th><th>Lowest%</th></tr><tr><td>f64</td><td>f64</td><td>u32</td><td>u32</td><td>u32</td><td>f64</td><td>f64</td><td>f64</td><td>f64</td><td>f64</td><td>f64</td><td>f64</td></tr></thead><tbody><tr><td>1.0</td><td>5489.96</td><td>5633</td><td>7781</td><td>13477</td><td>0.417971</td><td>0.407358</td><td>6.05936</td><td>119.16</td><td>120.82</td><td>-31.51</td><td>-31.53</td></tr><tr><td>2.0</td><td>17243.09</td><td>10394</td><td>16912</td><td>27337</td><td>0.380217</td><td>0.63076</td><td>4.943447</td><td>39.49</td><td>42.07</td><td>-12.88</td><td>-14.73</td></tr><tr><td>3.0</td><td>13743.24</td><td>9729</td><td>21782</td><td>31548</td><td>0.308387</td><td>0.43563</td><td>4.323127</td><td>56.2</td><td>61.36</td><td>-16.47</td><td>-18.0</td></tr><tr><td>5.0</td><td>-460.43</td><td>10518</td><td>32901</td><td>43451</td><td>0.242066</td><td>-0.010597</td><td>3.782836</td><td>69.3</td><td>302.13</td><td>-44.97</td><td>-46.89</td></tr><tr><td>7.0</td><td>-12121.53</td><td>4319</td><td>18655</td><td>22990</td><td>0.187864</td><td>-0.527252</td><td>3.306525</td><td>1900.14</td><td>2076.82</td><td>-53.55</td><td>-54.86</td></tr><tr><td>10.0</td><td>-15745.58</td><td>2152</td><td>12176</td><td>14337</td><td>0.150101</td><td>-1.098248</td><td>2.919509</td><td>1052.77</td><td>1170.33</td><td>-73.63</td><td>-76.49</td></tr><tr><td>20.0</td><td>-5175.93</td><td>926</td><td>5775</td><td>6704</td><td>0.138126</td><td>-0.772066</td><td>2.684964</td><td>333.85</td><td>508.52</td><td>-71.94</td><td>-73.43</td></tr><tr><td>20.01</td><td>2818.07</td><td>84</td><td>447</td><td>531</td><td>0.158192</td><td>5.3071</td><td>2.647834</td><td>738.12</td><td>3039.39</td><td>-76.41</td><td>-81.45</td></tr></tbody></table></div>"
      ],
      "text/plain": [
       "shape: (8, 12)\n",
       "┌────────────┬────────────┬─────────┬────────┬───┬──────────────┬──────────┬─────────────┬─────────┐\n",
       "│ SMA3_group ┆ Gain/Loss% ┆ Winners ┆ Losers ┆ … ┆ highest_win  ┆ Highest% ┆ lowest_loss ┆ Lowest% │\n",
       "│ ed_values  ┆ Sum        ┆ ---     ┆ ---    ┆   ┆ ---          ┆ ---      ┆ ---         ┆ ---     │\n",
       "│ ---        ┆ ---        ┆ u32     ┆ u32    ┆   ┆ f64          ┆ f64      ┆ f64         ┆ f64     │\n",
       "│ f64        ┆ f64        ┆         ┆        ┆   ┆              ┆          ┆             ┆         │\n",
       "╞════════════╪════════════╪═════════╪════════╪═══╪══════════════╪══════════╪═════════════╪═════════╡\n",
       "│ 1.0        ┆ 5489.96    ┆ 5633    ┆ 7781   ┆ … ┆ 119.16       ┆ 120.82   ┆ -31.51      ┆ -31.53  │\n",
       "│ 2.0        ┆ 17243.09   ┆ 10394   ┆ 16912  ┆ … ┆ 39.49        ┆ 42.07    ┆ -12.88      ┆ -14.73  │\n",
       "│ 3.0        ┆ 13743.24   ┆ 9729    ┆ 21782  ┆ … ┆ 56.2         ┆ 61.36    ┆ -16.47      ┆ -18.0   │\n",
       "│ 5.0        ┆ -460.43    ┆ 10518   ┆ 32901  ┆ … ┆ 69.3         ┆ 302.13   ┆ -44.97      ┆ -46.89  │\n",
       "│ 7.0        ┆ -12121.53  ┆ 4319    ┆ 18655  ┆ … ┆ 1900.14      ┆ 2076.82  ┆ -53.55      ┆ -54.86  │\n",
       "│ 10.0       ┆ -15745.58  ┆ 2152    ┆ 12176  ┆ … ┆ 1052.77      ┆ 1170.33  ┆ -73.63      ┆ -76.49  │\n",
       "│ 20.0       ┆ -5175.93   ┆ 926     ┆ 5775   ┆ … ┆ 333.85       ┆ 508.52   ┆ -71.94      ┆ -73.43  │\n",
       "│ 20.01      ┆ 2818.07    ┆ 84      ┆ 447    ┆ … ┆ 738.12       ┆ 3039.39  ┆ -76.41      ┆ -81.45  │\n",
       "└────────────┴────────────┴─────────┴────────┴───┴──────────────┴──────────┴─────────────┴─────────┘"
      ]
     },
     "execution_count": 42,
     "metadata": {},
     "output_type": "execute_result"
    }
   ],
   "source": [
    "trades_05.summarize_strategy([grouped_fluctation.column]).sort(grouped_fluctation.column)"
   ]
  },
  {
   "cell_type": "code",
   "execution_count": 14,
   "metadata": {},
   "outputs": [
    {
     "data": {
      "text/html": [
       "<div><style>\n",
       ".dataframe > thead > tr > th,\n",
       ".dataframe > tbody > tr > td {\n",
       "  text-align: right;\n",
       "}\n",
       "</style>\n",
       "<small>shape: (5548, 15)</small><table border=\"1\" class=\"dataframe\"><thead><tr><th>Low_7min_2offset_targets/exit_column</th><th>SMA25_slope_up</th><th>SMA3_grouped_values</th><th>Symbol</th><th>Start</th><th>End</th><th>Entry_Price</th><th>Exit_Price</th><th>Low</th><th>High</th><th>Length</th><th>Gain/Loss</th><th>Gain/Loss%</th><th>Highest%</th><th>Lowest%</th></tr><tr><td>i32</td><td>bool</td><td>f64</td><td>str</td><td>datetime[μs]</td><td>datetime[μs]</td><td>f64</td><td>f64</td><td>f64</td><td>f64</td><td>u32</td><td>f64</td><td>f64</td><td>f64</td><td>f64</td></tr></thead><tbody><tr><td>66</td><td>true</td><td>7.0</td><td>&quot;AA&quot;</td><td>2022-01-21 00:00:00</td><td>2022-01-21 00:00:00</td><td>59.093999</td><td>56.139299</td><td>56.040001</td><td>60.150002</td><td>1</td><td>-2.9547</td><td>-5.0</td><td>1.79</td><td>-5.17</td></tr><tr><td>69</td><td>true</td><td>10.0</td><td>&quot;AA&quot;</td><td>2022-04-21 00:00:00</td><td>2022-04-21 00:00:00</td><td>81.234152</td><td>77.172444</td><td>71.32</td><td>81.400002</td><td>1</td><td>-4.061708</td><td>-5.0</td><td>0.2</td><td>-12.2</td></tr><tr><td>77</td><td>true</td><td>10.0</td><td>&quot;AA&quot;</td><td>2022-09-14 00:00:00</td><td>2022-09-14 00:00:00</td><td>46.350599</td><td>44.033069</td><td>44.029999</td><td>49.470001</td><td>1</td><td>-2.31753</td><td>-5.0</td><td>6.73</td><td>-5.01</td></tr><tr><td>131</td><td>true</td><td>10.0</td><td>&quot;AADI&quot;</td><td>2020-08-24 00:00:00</td><td>2020-08-24 00:00:00</td><td>22.0095</td><td>20.909025</td><td>20.85</td><td>22.950001</td><td>1</td><td>-1.100475</td><td>-5.0</td><td>4.27</td><td>-5.27</td></tr><tr><td>138</td><td>true</td><td>10.0</td><td>&quot;AADI&quot;</td><td>2021-02-23 00:00:00</td><td>2021-02-23 00:00:00</td><td>28.0395</td><td>26.637525</td><td>25.65</td><td>28.65</td><td>1</td><td>-1.401975</td><td>-5.0</td><td>2.18</td><td>-8.52</td></tr><tr><td>216</td><td>true</td><td>10.0</td><td>&quot;AAL&quot;</td><td>2021-03-05 00:00:00</td><td>2021-03-05 00:00:00</td><td>20.4417</td><td>19.419615</td><td>18.940001</td><td>21.5</td><td>1</td><td>-1.022085</td><td>-5.0</td><td>5.18</td><td>-7.35</td></tr><tr><td>305</td><td>true</td><td>20.0</td><td>&quot;AAOI&quot;</td><td>2021-02-26 00:00:00</td><td>2021-02-26 00:00:00</td><td>10.46205</td><td>9.938947</td><td>9.201</td><td>10.72</td><td>1</td><td>-0.523102</td><td>-5.0</td><td>2.47</td><td>-12.05</td></tr><tr><td>572</td><td>true</td><td>7.0</td><td>&quot;AB&quot;</td><td>2020-06-11 00:00:00</td><td>2020-06-11 00:00:00</td><td>25.667701</td><td>24.384316</td><td>24.15</td><td>25.719999</td><td>1</td><td>-1.283385</td><td>-5.0</td><td>0.2</td><td>-5.91</td></tr><tr><td>586</td><td>true</td><td>5.0</td><td>&quot;AB&quot;</td><td>2021-09-20 00:00:00</td><td>2021-09-20 00:00:00</td><td>50.531399</td><td>48.004829</td><td>46.869999</td><td>50.950001</td><td>1</td><td>-2.52657</td><td>-5.0</td><td>0.83</td><td>-7.25</td></tr><tr><td>685</td><td>true</td><td>7.0</td><td>&quot;ABBV&quot;</td><td>2021-09-01 00:00:00</td><td>2021-09-01 00:00:00</td><td>119.012098</td><td>113.061493</td><td>106.099998</td><td>121.529999</td><td>1</td><td>-5.950605</td><td>-5.0</td><td>2.12</td><td>-10.85</td></tr><tr><td>814</td><td>true</td><td>10.0</td><td>&quot;ABCL&quot;</td><td>2021-02-22 00:00:00</td><td>2021-02-22 00:00:00</td><td>42.812998</td><td>40.672349</td><td>39.799999</td><td>44.950001</td><td>1</td><td>-2.14065</td><td>-5.0</td><td>4.99</td><td>-7.04</td></tr><tr><td>818</td><td>true</td><td>10.0</td><td>&quot;ABCL&quot;</td><td>2021-05-26 00:00:00</td><td>2021-05-26 00:00:00</td><td>31.285649</td><td>29.721367</td><td>28.110001</td><td>32.560001</td><td>1</td><td>-1.564282</td><td>-5.0</td><td>4.07</td><td>-10.15</td></tr><tr><td>&hellip;</td><td>&hellip;</td><td>&hellip;</td><td>&hellip;</td><td>&hellip;</td><td>&hellip;</td><td>&hellip;</td><td>&hellip;</td><td>&hellip;</td><td>&hellip;</td><td>&hellip;</td><td>&hellip;</td><td>&hellip;</td><td>&hellip;</td><td>&hellip;</td></tr><tr><td>191334</td><td>true</td><td>30.0</td><td>&quot;ZVRA&quot;</td><td>2020-12-24 00:00:00</td><td>2020-12-24 00:00:00</td><td>14.3112</td><td>13.59564</td><td>10.72</td><td>15.36</td><td>1</td><td>-0.71556</td><td>-5.0</td><td>7.33</td><td>-25.09</td></tr><tr><td>191337</td><td>true</td><td>20.0</td><td>&quot;ZVRA&quot;</td><td>2021-02-23 00:00:00</td><td>2021-02-23 00:00:00</td><td>9.07515</td><td>8.621392</td><td>8.48</td><td>10.21</td><td>1</td><td>-0.453757</td><td>-5.0</td><td>12.51</td><td>-6.56</td></tr><tr><td>191455</td><td>true</td><td>20.0</td><td>&quot;ZYME&quot;</td><td>2022-04-11 00:00:00</td><td>2022-04-11 00:00:00</td><td>6.3315</td><td>6.014925</td><td>5.84</td><td>6.5</td><td>1</td><td>-0.316575</td><td>-5.0</td><td>2.66</td><td>-7.76</td></tr><tr><td>191457</td><td>true</td><td>10.0</td><td>&quot;ZYME&quot;</td><td>2022-07-25 00:00:00</td><td>2022-07-25 00:00:00</td><td>5.81694</td><td>5.526093</td><td>5.35</td><td>5.89</td><td>1</td><td>-0.290847</td><td>-5.0</td><td>1.26</td><td>-8.03</td></tr><tr><td>191476</td><td>true</td><td>20.0</td><td>&quot;ZYNE&quot;</td><td>2021-02-22 00:00:00</td><td>2021-02-22 00:00:00</td><td>5.29635</td><td>5.031532</td><td>4.83</td><td>5.57</td><td>1</td><td>-0.264817</td><td>-5.0</td><td>5.17</td><td>-8.81</td></tr><tr><td>191477</td><td>true</td><td>20.0</td><td>&quot;ZYNE&quot;</td><td>2021-03-04 00:00:00</td><td>2021-03-04 00:00:00</td><td>4.11045</td><td>3.904928</td><td>3.85</td><td>4.53</td><td>1</td><td>-0.205523</td><td>-5.0</td><td>10.21</td><td>-6.34</td></tr><tr><td>191498</td><td>true</td><td>20.0</td><td>&quot;ZYXI&quot;</td><td>2020-07-15 00:00:00</td><td>2020-07-15 00:00:00</td><td>22.6125</td><td>21.481875</td><td>20.1</td><td>22.672728</td><td>1</td><td>-1.130625</td><td>-5.0</td><td>0.27</td><td>-11.11</td></tr><tr><td>191504</td><td>true</td><td>20.0</td><td>&quot;ZYXI&quot;</td><td>2020-10-12 00:00:00</td><td>2020-10-12 00:00:00</td><td>15.732818</td><td>14.946177</td><td>12.727273</td><td>17.227274</td><td>1</td><td>-0.786641</td><td>-5.0</td><td>9.5</td><td>-19.1</td></tr><tr><td>191523</td><td>true</td><td>7.0</td><td>&quot;ZYXI&quot;</td><td>2021-12-03 00:00:00</td><td>2021-12-03 00:00:00</td><td>11.310818</td><td>10.745277</td><td>10.618182</td><td>11.418182</td><td>1</td><td>-0.565541</td><td>-5.0</td><td>0.95</td><td>-6.12</td></tr><tr><td>191532</td><td>true</td><td>10.0</td><td>&quot;ZYXI&quot;</td><td>2022-06-01 00:00:00</td><td>2022-06-01 00:00:00</td><td>7.02495</td><td>6.673702</td><td>6.56</td><td>7.45</td><td>1</td><td>-0.351247</td><td>-5.0</td><td>6.05</td><td>-6.62</td></tr><tr><td>191533</td><td>true</td><td>20.0</td><td>&quot;ZYXI&quot;</td><td>2022-06-22 00:00:00</td><td>2022-06-22 00:00:00</td><td>7.3365</td><td>6.969675</td><td>6.65</td><td>8.75</td><td>1</td><td>-0.366825</td><td>-5.0</td><td>19.27</td><td>-9.36</td></tr><tr><td>191543</td><td>true</td><td>7.0</td><td>&quot;ZYXI&quot;</td><td>2023-01-30 00:00:00</td><td>2023-01-30 00:00:00</td><td>14.92425</td><td>14.178038</td><td>14.13</td><td>15.37</td><td>1</td><td>-0.746213</td><td>-5.0</td><td>2.99</td><td>-5.32</td></tr></tbody></table></div>"
      ],
      "text/plain": [
       "shape: (5548, 15)\n",
       "┌────────────┬────────────┬────────────┬────────┬───┬───────────┬────────────┬──────────┬─────────┐\n",
       "│ Low_7min_2 ┆ SMA25_slop ┆ SMA3_group ┆ Symbol ┆ … ┆ Gain/Loss ┆ Gain/Loss% ┆ Highest% ┆ Lowest% │\n",
       "│ offset_tar ┆ e_up       ┆ ed_values  ┆ ---    ┆   ┆ ---       ┆ ---        ┆ ---      ┆ ---     │\n",
       "│ gets/exit_ ┆ ---        ┆ ---        ┆ str    ┆   ┆ f64       ┆ f64        ┆ f64      ┆ f64     │\n",
       "│ co…        ┆ bool       ┆ f64        ┆        ┆   ┆           ┆            ┆          ┆         │\n",
       "│ ---        ┆            ┆            ┆        ┆   ┆           ┆            ┆          ┆         │\n",
       "│ i32        ┆            ┆            ┆        ┆   ┆           ┆            ┆          ┆         │\n",
       "╞════════════╪════════════╪════════════╪════════╪═══╪═══════════╪════════════╪══════════╪═════════╡\n",
       "│ 66         ┆ true       ┆ 7.0        ┆ AA     ┆ … ┆ -2.9547   ┆ -5.0       ┆ 1.79     ┆ -5.17   │\n",
       "│ 69         ┆ true       ┆ 10.0       ┆ AA     ┆ … ┆ -4.061708 ┆ -5.0       ┆ 0.2      ┆ -12.2   │\n",
       "│ 77         ┆ true       ┆ 10.0       ┆ AA     ┆ … ┆ -2.31753  ┆ -5.0       ┆ 6.73     ┆ -5.01   │\n",
       "│ 131        ┆ true       ┆ 10.0       ┆ AADI   ┆ … ┆ -1.100475 ┆ -5.0       ┆ 4.27     ┆ -5.27   │\n",
       "│ …          ┆ …          ┆ …          ┆ …      ┆ … ┆ …         ┆ …          ┆ …        ┆ …       │\n",
       "│ 191523     ┆ true       ┆ 7.0        ┆ ZYXI   ┆ … ┆ -0.565541 ┆ -5.0       ┆ 0.95     ┆ -6.12   │\n",
       "│ 191532     ┆ true       ┆ 10.0       ┆ ZYXI   ┆ … ┆ -0.351247 ┆ -5.0       ┆ 6.05     ┆ -6.62   │\n",
       "│ 191533     ┆ true       ┆ 20.0       ┆ ZYXI   ┆ … ┆ -0.366825 ┆ -5.0       ┆ 19.27    ┆ -9.36   │\n",
       "│ 191543     ┆ true       ┆ 7.0        ┆ ZYXI   ┆ … ┆ -0.746213 ┆ -5.0       ┆ 2.99     ┆ -5.32   │\n",
       "└────────────┴────────────┴────────────┴────────┴───┴───────────┴────────────┴──────────┴─────────┘"
      ]
     },
     "execution_count": 14,
     "metadata": {},
     "output_type": "execute_result"
    }
   ],
   "source": [
    "trades_05.df.filter(pl.col(slope_up.column) == True)"
   ]
  },
  {
   "cell_type": "code",
   "execution_count": 15,
   "metadata": {},
   "outputs": [
    {
     "data": {
      "text/html": [
       "<div><style>\n",
       ".dataframe > thead > tr > th,\n",
       ".dataframe > tbody > tr > td {\n",
       "  text-align: right;\n",
       "}\n",
       "</style>\n",
       "<small>shape: (3, 12)</small><table border=\"1\" class=\"dataframe\"><thead><tr><th>SMA25_slope_up</th><th>Gain/Loss%Sum</th><th>Winners</th><th>Losers</th><th>Trades</th><th>Win_Ratio</th><th>Average_Gain/Loss%</th><th>Average_Length</th><th>highest_win</th><th>Highest%</th><th>lowest_loss</th><th>Lowest%</th></tr><tr><td>bool</td><td>f64</td><td>u32</td><td>u32</td><td>u32</td><td>f64</td><td>f64</td><td>f64</td><td>f64</td><td>f64</td><td>f64</td><td>f64</td></tr></thead><tbody><tr><td>false</td><td>48311.96</td><td>59173</td><td>138750</td><td>198088</td><td>0.298721</td><td>0.243891</td><td>4.801184</td><td>1890.24</td><td>3023.85</td><td>-94.66</td><td>-94.85</td></tr><tr><td>null</td><td>-1275.0</td><td>0</td><td>255</td><td>255</td><td>0.0</td><td>-5.0</td><td>1.0</td><td>null</td><td>34.72</td><td>-5.0</td><td>-24.74</td></tr><tr><td>true</td><td>-28280.07</td><td>59</td><td>5690</td><td>5750</td><td>0.010261</td><td>-4.918273</td><td>1.0</td><td>17.05</td><td>86.26</td><td>-5.0</td><td>-57.1</td></tr></tbody></table></div>"
      ],
      "text/plain": [
       "shape: (3, 12)\n",
       "┌────────────┬────────────┬─────────┬────────┬───┬──────────────┬──────────┬─────────────┬─────────┐\n",
       "│ SMA25_slop ┆ Gain/Loss% ┆ Winners ┆ Losers ┆ … ┆ highest_win  ┆ Highest% ┆ lowest_loss ┆ Lowest% │\n",
       "│ e_up       ┆ Sum        ┆ ---     ┆ ---    ┆   ┆ ---          ┆ ---      ┆ ---         ┆ ---     │\n",
       "│ ---        ┆ ---        ┆ u32     ┆ u32    ┆   ┆ f64          ┆ f64      ┆ f64         ┆ f64     │\n",
       "│ bool       ┆ f64        ┆         ┆        ┆   ┆              ┆          ┆             ┆         │\n",
       "╞════════════╪════════════╪═════════╪════════╪═══╪══════════════╪══════════╪═════════════╪═════════╡\n",
       "│ false      ┆ 48311.96   ┆ 59173   ┆ 138750 ┆ … ┆ 1890.24      ┆ 3023.85  ┆ -94.66      ┆ -94.85  │\n",
       "│ null       ┆ -1275.0    ┆ 0       ┆ 255    ┆ … ┆ null         ┆ 34.72    ┆ -5.0        ┆ -24.74  │\n",
       "│ true       ┆ -28280.07  ┆ 59      ┆ 5690   ┆ … ┆ 17.05        ┆ 86.26    ┆ -5.0        ┆ -57.1   │\n",
       "└────────────┴────────────┴─────────┴────────┴───┴──────────────┴──────────┴─────────────┴─────────┘"
      ]
     },
     "execution_count": 15,
     "metadata": {},
     "output_type": "execute_result"
    }
   ],
   "source": [
    "trades_1.summarize_strategy(slope_up.column)"
   ]
  },
  {
   "cell_type": "code",
   "execution_count": 16,
   "metadata": {},
   "outputs": [
    {
     "data": {
      "text/html": [
       "<div><style>\n",
       ".dataframe > thead > tr > th,\n",
       ".dataframe > tbody > tr > td {\n",
       "  text-align: right;\n",
       "}\n",
       "</style>\n",
       "<small>shape: (71, 15)</small><table border=\"1\" class=\"dataframe\"><thead><tr><th>Low_7min_2offset_targets/exit_column</th><th>SMA25_slope_up</th><th>SMA3_grouped_values</th><th>Symbol</th><th>Start</th><th>End</th><th>Entry_Price</th><th>Exit_Price</th><th>Low</th><th>High</th><th>Length</th><th>Gain/Loss</th><th>Gain/Loss%</th><th>Highest%</th><th>Lowest%</th></tr><tr><td>i32</td><td>bool</td><td>f64</td><td>str</td><td>datetime[μs]</td><td>datetime[μs]</td><td>f64</td><td>f64</td><td>f64</td><td>f64</td><td>u32</td><td>f64</td><td>f64</td><td>f64</td><td>f64</td></tr></thead><tbody><tr><td>79602</td><td>false</td><td>5.0</td><td>&quot;GOOG&quot;</td><td>2020-03-23 00:00:00</td><td>2020-04-03 00:00:00</td><td>1047.65283</td><td>55.950748</td><td>53.990501</td><td>1175.310059</td><td>9</td><td>-991.702081</td><td>-94.66</td><td>12.19</td><td>-94.85</td></tr><tr><td>158000</td><td>false</td><td>40.0</td><td>&quot;SAVA&quot;</td><td>2020-05-13 00:00:00</td><td>2020-05-15 00:00:00</td><td>7.2417</td><td>1.7</td><td>1.63</td><td>8.82</td><td>3</td><td>-5.5417</td><td>-76.52</td><td>21.79</td><td>-77.49</td></tr><tr><td>80816</td><td>false</td><td>20.0</td><td>&quot;GRTX&quot;</td><td>2021-10-18 00:00:00</td><td>2021-10-19 00:00:00</td><td>7.41441</td><td>2.07</td><td>1.96</td><td>7.74</td><td>2</td><td>-5.34441</td><td>-72.08</td><td>4.39</td><td>-73.56</td></tr><tr><td>6019</td><td>false</td><td>10.0</td><td>&quot;AKBA&quot;</td><td>2020-09-02 00:00:00</td><td>2020-09-03 00:00:00</td><td>9.62025</td><td>2.94</td><td>2.63</td><td>10.09</td><td>2</td><td>-6.68025</td><td>-69.44</td><td>4.88</td><td>-72.66</td></tr><tr><td>15669</td><td>false</td><td>20.0</td><td>&quot;ATXS&quot;</td><td>2020-10-26 00:00:00</td><td>2020-10-27 00:00:00</td><td>31.936201</td><td>10.8</td><td>9.12</td><td>35.040001</td><td>2</td><td>-21.136201</td><td>-66.18</td><td>9.72</td><td>-71.44</td></tr><tr><td>128971</td><td>false</td><td>7.0</td><td>&quot;NSSC&quot;</td><td>2020-04-01 00:00:00</td><td>2020-04-03 00:00:00</td><td>14.9177</td><td>6.895</td><td>6.7</td><td>15.1</td><td>2</td><td>-8.0227</td><td>-53.78</td><td>1.22</td><td>-55.09</td></tr><tr><td>34463</td><td>false</td><td>20.0</td><td>&quot;CEMI&quot;</td><td>2020-06-11 00:00:00</td><td>2020-06-17 00:00:00</td><td>8.2214</td><td>3.86</td><td>3.51</td><td>10.79</td><td>5</td><td>-4.3614</td><td>-53.05</td><td>31.24</td><td>-57.31</td></tr><tr><td>193068</td><td>false</td><td>30.0</td><td>&quot;VRCA&quot;</td><td>2022-05-24 00:00:00</td><td>2022-05-25 00:00:00</td><td>5.4843</td><td>2.61</td><td>1.88</td><td>6.25</td><td>2</td><td>-2.8743</td><td>-52.41</td><td>13.96</td><td>-65.72</td></tr><tr><td>3454</td><td>false</td><td>10.0</td><td>&quot;ADVM&quot;</td><td>2021-04-16 00:00:00</td><td>2021-04-29 00:00:00</td><td>8.8375</td><td>4.34</td><td>3.78</td><td>10.33</td><td>10</td><td>-4.4975</td><td>-50.89</td><td>16.89</td><td>-57.23</td></tr><tr><td>39343</td><td>false</td><td>20.0</td><td>&quot;CMRX&quot;</td><td>2022-05-12 00:00:00</td><td>2022-05-16 00:00:00</td><td>3.9188</td><td>1.94</td><td>1.6</td><td>4.32</td><td>3</td><td>-1.9788</td><td>-50.5</td><td>10.24</td><td>-59.17</td></tr><tr><td>166268</td><td>false</td><td>10.0</td><td>&quot;SNX&quot;</td><td>2020-04-01 00:00:00</td><td>2020-04-03 00:00:00</td><td>70.831297</td><td>36.119999</td><td>33.325001</td><td>72.669998</td><td>2</td><td>-34.711298</td><td>-49.01</td><td>2.6</td><td>-52.95</td></tr><tr><td>114563</td><td>false</td><td>7.0</td><td>&quot;MCHP&quot;</td><td>2020-04-01 00:00:00</td><td>2020-04-03 00:00:00</td><td>62.983601</td><td>32.174999</td><td>31.51</td><td>66.970001</td><td>2</td><td>-30.808601</td><td>-48.92</td><td>6.33</td><td>-49.97</td></tr><tr><td>&hellip;</td><td>&hellip;</td><td>&hellip;</td><td>&hellip;</td><td>&hellip;</td><td>&hellip;</td><td>&hellip;</td><td>&hellip;</td><td>&hellip;</td><td>&hellip;</td><td>&hellip;</td><td>&hellip;</td><td>&hellip;</td><td>&hellip;</td><td>&hellip;</td></tr><tr><td>31603</td><td>false</td><td>20.0</td><td>&quot;CANO&quot;</td><td>2022-11-04 00:00:00</td><td>2022-11-10 00:00:00</td><td>3.333</td><td>2.35</td><td>2.05</td><td>3.78</td><td>5</td><td>-0.983</td><td>-29.49</td><td>13.41</td><td>-38.49</td></tr><tr><td>83623</td><td>false</td><td>7.0</td><td>&quot;HEAR&quot;</td><td>2022-07-26 00:00:00</td><td>2022-08-09 00:00:00</td><td>12.9684</td><td>9.15</td><td>9.15</td><td>14.74</td><td>11</td><td>-3.818401</td><td>-29.44</td><td>13.66</td><td>-29.44</td></tr><tr><td>160296</td><td>false</td><td>20.0</td><td>&quot;SDGR&quot;</td><td>2021-02-18 00:00:00</td><td>2021-03-04 00:00:00</td><td>100.626297</td><td>72.040001</td><td>69.029999</td><td>117.0</td><td>11</td><td>-28.586296</td><td>-28.41</td><td>16.27</td><td>-31.4</td></tr><tr><td>140051</td><td>false</td><td>20.0</td><td>&quot;PETZ&quot;</td><td>2021-09-28 00:00:00</td><td>2021-09-30 00:00:00</td><td>35.754002</td><td>25.6</td><td>22.4</td><td>38.939999</td><td>3</td><td>-10.154001</td><td>-28.4</td><td>8.91</td><td>-37.35</td></tr><tr><td>21014</td><td>false</td><td>10.0</td><td>&quot;BCLI&quot;</td><td>2021-02-18 00:00:00</td><td>2021-02-22 00:00:00</td><td>6.8276</td><td>4.9</td><td>4.51</td><td>7.04</td><td>3</td><td>-1.9276</td><td>-28.23</td><td>3.11</td><td>-33.94</td></tr><tr><td>197416</td><td>false</td><td>20.0</td><td>&quot;WISH&quot;</td><td>2021-08-12 00:00:00</td><td>2021-08-13 00:00:00</td><td>9.5647</td><td>6.96</td><td>6.69</td><td>10.008</td><td>2</td><td>-2.6047</td><td>-27.23</td><td>4.63</td><td>-30.06</td></tr><tr><td>145613</td><td>false</td><td>20.0</td><td>&quot;PRPL&quot;</td><td>2021-11-08 00:00:00</td><td>2021-11-10 00:00:00</td><td>18.685</td><td>13.76</td><td>13.7</td><td>19.940001</td><td>3</td><td>-4.925</td><td>-26.36</td><td>6.72</td><td>-26.68</td></tr><tr><td>135778</td><td>false</td><td>20.0</td><td>&quot;OSPN&quot;</td><td>2020-08-07 00:00:00</td><td>2020-08-12 00:00:00</td><td>29.8152</td><td>22.01</td><td>18.41</td><td>31.639999</td><td>4</td><td>-7.8052</td><td>-26.18</td><td>6.12</td><td>-38.25</td></tr><tr><td>192259</td><td>false</td><td>20.0</td><td>&quot;VOC&quot;</td><td>2020-03-06 00:00:00</td><td>2020-03-09 00:00:00</td><td>3.4542</td><td>2.55</td><td>2.55</td><td>3.72</td><td>2</td><td>-0.9042</td><td>-26.18</td><td>7.69</td><td>-26.18</td></tr><tr><td>77493</td><td>false</td><td>20.0</td><td>&quot;GLBS&quot;</td><td>2020-10-16 00:00:00</td><td>2020-10-20 00:00:00</td><td>12.12</td><td>9.0</td><td>7.0</td><td>14.0</td><td>3</td><td>-3.12</td><td>-25.74</td><td>15.51</td><td>-42.24</td></tr><tr><td>11731</td><td>false</td><td>20.0</td><td>&quot;APTO&quot;</td><td>2020-12-04 00:00:00</td><td>2020-12-07 00:00:00</td><td>6.0701</td><td>4.51</td><td>3.93</td><td>6.49</td><td>2</td><td>-1.5601</td><td>-25.7</td><td>6.92</td><td>-35.26</td></tr><tr><td>171853</td><td>false</td><td>10.0</td><td>&quot;STIM&quot;</td><td>2021-10-11 00:00:00</td><td>2021-10-13 00:00:00</td><td>6.2923</td><td>4.68</td><td>4.66</td><td>6.53</td><td>3</td><td>-1.6123</td><td>-25.62</td><td>3.78</td><td>-25.94</td></tr></tbody></table></div>"
      ],
      "text/plain": [
       "shape: (71, 15)\n",
       "┌────────────┬────────────┬────────────┬────────┬───┬────────────┬────────────┬──────────┬─────────┐\n",
       "│ Low_7min_2 ┆ SMA25_slop ┆ SMA3_group ┆ Symbol ┆ … ┆ Gain/Loss  ┆ Gain/Loss% ┆ Highest% ┆ Lowest% │\n",
       "│ offset_tar ┆ e_up       ┆ ed_values  ┆ ---    ┆   ┆ ---        ┆ ---        ┆ ---      ┆ ---     │\n",
       "│ gets/exit_ ┆ ---        ┆ ---        ┆ str    ┆   ┆ f64        ┆ f64        ┆ f64      ┆ f64     │\n",
       "│ co…        ┆ bool       ┆ f64        ┆        ┆   ┆            ┆            ┆          ┆         │\n",
       "│ ---        ┆            ┆            ┆        ┆   ┆            ┆            ┆          ┆         │\n",
       "│ i32        ┆            ┆            ┆        ┆   ┆            ┆            ┆          ┆         │\n",
       "╞════════════╪════════════╪════════════╪════════╪═══╪════════════╪════════════╪══════════╪═════════╡\n",
       "│ 79602      ┆ false      ┆ 5.0        ┆ GOOG   ┆ … ┆ -991.70208 ┆ -94.66     ┆ 12.19    ┆ -94.85  │\n",
       "│            ┆            ┆            ┆        ┆   ┆ 1          ┆            ┆          ┆         │\n",
       "│ 158000     ┆ false      ┆ 40.0       ┆ SAVA   ┆ … ┆ -5.5417    ┆ -76.52     ┆ 21.79    ┆ -77.49  │\n",
       "│ 80816      ┆ false      ┆ 20.0       ┆ GRTX   ┆ … ┆ -5.34441   ┆ -72.08     ┆ 4.39     ┆ -73.56  │\n",
       "│ 6019       ┆ false      ┆ 10.0       ┆ AKBA   ┆ … ┆ -6.68025   ┆ -69.44     ┆ 4.88     ┆ -72.66  │\n",
       "│ …          ┆ …          ┆ …          ┆ …      ┆ … ┆ …          ┆ …          ┆ …        ┆ …       │\n",
       "│ 192259     ┆ false      ┆ 20.0       ┆ VOC    ┆ … ┆ -0.9042    ┆ -26.18     ┆ 7.69     ┆ -26.18  │\n",
       "│ 77493      ┆ false      ┆ 20.0       ┆ GLBS   ┆ … ┆ -3.12      ┆ -25.74     ┆ 15.51    ┆ -42.24  │\n",
       "│ 11731      ┆ false      ┆ 20.0       ┆ APTO   ┆ … ┆ -1.5601    ┆ -25.7      ┆ 6.92     ┆ -35.26  │\n",
       "│ 171853     ┆ false      ┆ 10.0       ┆ STIM   ┆ … ┆ -1.6123    ┆ -25.62     ┆ 3.78     ┆ -25.94  │\n",
       "└────────────┴────────────┴────────────┴────────┴───┴────────────┴────────────┴──────────┴─────────┘"
      ]
     },
     "execution_count": 16,
     "metadata": {},
     "output_type": "execute_result"
    }
   ],
   "source": [
    "trades_1.df.filter(pl.col(\"Gain/Loss%\") < -25.54).sort(pl.col(\"Gain/Loss%\"))"
   ]
  },
  {
   "cell_type": "code",
   "execution_count": 17,
   "metadata": {},
   "outputs": [
    {
     "data": {
      "text/html": [
       "<div><style>\n",
       ".dataframe > thead > tr > th,\n",
       ".dataframe > tbody > tr > td {\n",
       "  text-align: right;\n",
       "}\n",
       "</style>\n",
       "<small>shape: (7, 15)</small><table border=\"1\" class=\"dataframe\"><thead><tr><th>Low_7min_2offset_targets/exit_column</th><th>SMA25_slope_up</th><th>SMA3_grouped_values</th><th>Symbol</th><th>Start</th><th>End</th><th>Entry_Price</th><th>Exit_Price</th><th>Low</th><th>High</th><th>Length</th><th>Gain/Loss</th><th>Gain/Loss%</th><th>Highest%</th><th>Lowest%</th></tr><tr><td>i32</td><td>bool</td><td>f64</td><td>str</td><td>datetime[μs]</td><td>datetime[μs]</td><td>f64</td><td>f64</td><td>f64</td><td>f64</td><td>u32</td><td>f64</td><td>f64</td><td>f64</td><td>f64</td></tr></thead><tbody><tr><td>14581</td><td>false</td><td>7.0</td><td>&quot;ATXI&quot;</td><td>2020-03-23 00:00:00</td><td>2020-04-07 00:00:00</td><td>6.2913</td><td>125.834999</td><td>6.01</td><td>136.949997</td><td>11</td><td>119.543699</td><td>1900.14</td><td>2076.82</td><td>-4.47</td></tr><tr><td>32144</td><td>false</td><td>30.0</td><td>&quot;CEAD&quot;</td><td>2021-01-04 00:00:00</td><td>2021-01-21 00:00:00</td><td>4.5225</td><td>13.65</td><td>4.5</td><td>32.25</td><td>13</td><td>9.1275</td><td>201.82</td><td>613.1</td><td>-0.5</td></tr><tr><td>73161</td><td>false</td><td>60.0</td><td>&quot;GLSI&quot;</td><td>2020-12-08 00:00:00</td><td>2020-12-14 00:00:00</td><td>5.03505</td><td>42.200001</td><td>5.025</td><td>158.070007</td><td>5</td><td>37.164951</td><td>738.12</td><td>3039.39</td><td>-0.2</td></tr><tr><td>73447</td><td>false</td><td>80.0</td><td>&quot;GME&quot;</td><td>2021-01-08 00:00:00</td><td>2021-02-02 00:00:00</td><td>4.308937</td><td>35.189999</td><td>4.27</td><td>120.75</td><td>17</td><td>30.881061</td><td>716.67</td><td>2702.32</td><td>-0.9</td></tr><tr><td>91082</td><td>false</td><td>40.0</td><td>&quot;ISIG&quot;</td><td>2021-12-03 00:00:00</td><td>2021-12-14 00:00:00</td><td>5.03505</td><td>17.4</td><td>4.93</td><td>35.5</td><td>8</td><td>12.364949</td><td>245.58</td><td>605.06</td><td>-2.09</td></tr><tr><td>106600</td><td>false</td><td>50.0</td><td>&quot;MARPS&quot;</td><td>2022-02-03 00:00:00</td><td>2022-03-11 00:00:00</td><td>4.3215</td><td>11.38</td><td>4.27</td><td>32.0</td><td>26</td><td>7.0585</td><td>163.33</td><td>640.48</td><td>-1.19</td></tr><tr><td>173362</td><td>false</td><td>10.0</td><td>&quot;UBX&quot;</td><td>2020-04-01 00:00:00</td><td>2020-04-15 00:00:00</td><td>5.27424</td><td>60.799999</td><td>5.2</td><td>67.0</td><td>9</td><td>55.525759</td><td>1052.77</td><td>1170.33</td><td>-1.41</td></tr></tbody></table></div>"
      ],
      "text/plain": [
       "shape: (7, 15)\n",
       "┌────────────┬────────────┬────────────┬────────┬───┬────────────┬────────────┬──────────┬─────────┐\n",
       "│ Low_7min_2 ┆ SMA25_slop ┆ SMA3_group ┆ Symbol ┆ … ┆ Gain/Loss  ┆ Gain/Loss% ┆ Highest% ┆ Lowest% │\n",
       "│ offset_tar ┆ e_up       ┆ ed_values  ┆ ---    ┆   ┆ ---        ┆ ---        ┆ ---      ┆ ---     │\n",
       "│ gets/exit_ ┆ ---        ┆ ---        ┆ str    ┆   ┆ f64        ┆ f64        ┆ f64      ┆ f64     │\n",
       "│ co…        ┆ bool       ┆ f64        ┆        ┆   ┆            ┆            ┆          ┆         │\n",
       "│ ---        ┆            ┆            ┆        ┆   ┆            ┆            ┆          ┆         │\n",
       "│ i32        ┆            ┆            ┆        ┆   ┆            ┆            ┆          ┆         │\n",
       "╞════════════╪════════════╪════════════╪════════╪═══╪════════════╪════════════╪══════════╪═════════╡\n",
       "│ 14581      ┆ false      ┆ 7.0        ┆ ATXI   ┆ … ┆ 119.543699 ┆ 1900.14    ┆ 2076.82  ┆ -4.47   │\n",
       "│ 32144      ┆ false      ┆ 30.0       ┆ CEAD   ┆ … ┆ 9.1275     ┆ 201.82     ┆ 613.1    ┆ -0.5    │\n",
       "│ 73161      ┆ false      ┆ 60.0       ┆ GLSI   ┆ … ┆ 37.164951  ┆ 738.12     ┆ 3039.39  ┆ -0.2    │\n",
       "│ 73447      ┆ false      ┆ 80.0       ┆ GME    ┆ … ┆ 30.881061  ┆ 716.67     ┆ 2702.32  ┆ -0.9    │\n",
       "│ 91082      ┆ false      ┆ 40.0       ┆ ISIG   ┆ … ┆ 12.364949  ┆ 245.58     ┆ 605.06   ┆ -2.09   │\n",
       "│ 106600     ┆ false      ┆ 50.0       ┆ MARPS  ┆ … ┆ 7.0585     ┆ 163.33     ┆ 640.48   ┆ -1.19   │\n",
       "│ 173362     ┆ false      ┆ 10.0       ┆ UBX    ┆ … ┆ 55.525759  ┆ 1052.77    ┆ 1170.33  ┆ -1.41   │\n",
       "└────────────┴────────────┴────────────┴────────┴───┴────────────┴────────────┴──────────┴─────────┘"
      ]
     },
     "execution_count": 17,
     "metadata": {},
     "output_type": "execute_result"
    }
   ],
   "source": [
    "trades_05.df.filter(pl.col(\"Highest%\") > 557.16)"
   ]
  },
  {
   "cell_type": "code",
   "execution_count": 18,
   "metadata": {},
   "outputs": [
    {
     "data": {
      "text/html": [
       "<div><style>\n",
       ".dataframe > thead > tr > th,\n",
       ".dataframe > tbody > tr > td {\n",
       "  text-align: right;\n",
       "}\n",
       "</style>\n",
       "<small>shape: (4288, 2)</small><table border=\"1\" class=\"dataframe\"><thead><tr><th>Symbol</th><th>trades</th></tr><tr><td>str</td><td>u32</td></tr></thead><tbody><tr><td>&quot;VXX&quot;</td><td>70</td></tr><tr><td>&quot;CSTE&quot;</td><td>66</td></tr><tr><td>&quot;LANC&quot;</td><td>64</td></tr><tr><td>&quot;D&quot;</td><td>64</td></tr><tr><td>&quot;TAIL&quot;</td><td>64</td></tr><tr><td>&quot;TR&quot;</td><td>64</td></tr><tr><td>&quot;COLD&quot;</td><td>63</td></tr><tr><td>&quot;PTBD&quot;</td><td>63</td></tr><tr><td>&quot;UVXY&quot;</td><td>62</td></tr><tr><td>&quot;TIP&quot;</td><td>62</td></tr><tr><td>&quot;BSCR&quot;</td><td>62</td></tr><tr><td>&quot;HOTH&quot;</td><td>62</td></tr><tr><td>&hellip;</td><td>&hellip;</td></tr><tr><td>&quot;VNLA&quot;</td><td>9</td></tr><tr><td>&quot;FLOT&quot;</td><td>9</td></tr><tr><td>&quot;BSCN&quot;</td><td>6</td></tr><tr><td>&quot;BDXA&quot;</td><td>5</td></tr><tr><td>&quot;SKYS&quot;</td><td>4</td></tr><tr><td>&quot;JMST&quot;</td><td>3</td></tr><tr><td>&quot;NEAR&quot;</td><td>2</td></tr><tr><td>&quot;PULS&quot;</td><td>2</td></tr><tr><td>&quot;CXT&quot;</td><td>1</td></tr><tr><td>&quot;MINT&quot;</td><td>1</td></tr><tr><td>&quot;FTSM&quot;</td><td>1</td></tr><tr><td>&quot;JPST&quot;</td><td>1</td></tr></tbody></table></div>"
      ],
      "text/plain": [
       "shape: (4288, 2)\n",
       "┌────────┬────────┐\n",
       "│ Symbol ┆ trades │\n",
       "│ ---    ┆ ---    │\n",
       "│ str    ┆ u32    │\n",
       "╞════════╪════════╡\n",
       "│ VXX    ┆ 70     │\n",
       "│ CSTE   ┆ 66     │\n",
       "│ LANC   ┆ 64     │\n",
       "│ D      ┆ 64     │\n",
       "│ …      ┆ …      │\n",
       "│ CXT    ┆ 1      │\n",
       "│ MINT   ┆ 1      │\n",
       "│ FTSM   ┆ 1      │\n",
       "│ JPST   ┆ 1      │\n",
       "└────────┴────────┘"
      ]
     },
     "execution_count": 18,
     "metadata": {},
     "output_type": "execute_result"
    }
   ],
   "source": [
    "tf = trades_05.df.groupby(pi.indicators.SYMBOL_COLUMN).agg(pl.col(pi.indicators.SYMBOL_COLUMN).count().alias(\"trades\")).sort(\"trades\", descending=True)\n",
    "tf"
   ]
  },
  {
   "cell_type": "code",
   "execution_count": 19,
   "metadata": {},
   "outputs": [],
   "source": [
    "tester = modresult_05.df.with_row_count(\"row\").filter(pl.col(\"row\").is_between(820,831)).select(\"Date\",\"Open\",\"High\",\"Low\",\"Close\",\"Volume\",\"Symbol\")"
   ]
  },
  {
   "cell_type": "code",
   "execution_count": null,
   "metadata": {},
   "outputs": [],
   "source": []
  }
 ],
 "metadata": {
  "kernelspec": {
   "display_name": ".venv",
   "language": "python",
   "name": "python3"
  },
  "language_info": {
   "codemirror_mode": {
    "name": "ipython",
    "version": 3
   },
   "file_extension": ".py",
   "mimetype": "text/x-python",
   "name": "python",
   "nbconvert_exporter": "python",
   "pygments_lexer": "ipython3",
   "version": "3.10.5"
  },
  "orig_nbformat": 4
 },
 "nbformat": 4,
 "nbformat_minor": 2
}
