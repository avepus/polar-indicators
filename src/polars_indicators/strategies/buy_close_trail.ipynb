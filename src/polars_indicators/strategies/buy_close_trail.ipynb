{
 "cells": [
  {
   "cell_type": "code",
   "execution_count": 18,
   "metadata": {},
   "outputs": [],
   "source": [
    "import polars as pl\n",
    "from datetime import datetime,timedelta\n",
    "import get_and_store as gas\n",
    "import polars_indicators as pi\n",
    "from polars_indicators.indicators import IndicatorResult\n",
    "from importlib import reload\n",
    "DATE_COLUNN = \"Date\""
   ]
  },
  {
   "cell_type": "code",
   "execution_count": 19,
   "metadata": {},
   "outputs": [
    {
     "data": {
      "text/plain": [
       "<module 'polars_indicators.indicators' from 'c:\\\\users\\\\avery\\\\documents\\\\github\\\\polar-indicators\\\\src\\\\polars_indicators\\\\indicators\\\\__init__.py'>"
      ]
     },
     "execution_count": 19,
     "metadata": {},
     "output_type": "execute_result"
    }
   ],
   "source": [
    "reload(pi)\n",
    "reload(pi.strategies)\n",
    "reload(pi.strategies.buy_x_week_low)\n",
    "reload(pi.strategies.buy_close_trail)\n",
    "reload(pi.summarize.trades)\n",
    "reload(pi.indicators)"
   ]
  },
  {
   "cell_type": "code",
   "execution_count": 20,
   "metadata": {},
   "outputs": [],
   "source": [
    "try:\n",
    "    df = saved_df.clone()\n",
    "except NameError:\n",
    "        df = gas.get_all_saved_data_df()\n",
    "        df = df.filter(pl.col(pi.indicators.DATE_COLUMN) >= datetime(2020, 1, 1))\n",
    "        df = df.collect()"
   ]
  },
  {
   "cell_type": "code",
   "execution_count": 21,
   "metadata": {},
   "outputs": [],
   "source": [
    "saved_df = df.clone()"
   ]
  },
  {
   "cell_type": "code",
   "execution_count": 22,
   "metadata": {},
   "outputs": [],
   "source": [
    "df = df.with_columns(pl.col(pi.indicators.DATE_COLUMN).cast(pl.Datetime))"
   ]
  },
  {
   "cell_type": "code",
   "execution_count": 23,
   "metadata": {},
   "outputs": [],
   "source": [
    "lower_limit = 3\n",
    "upper_limit = 250\n",
    "close_within_limits = f\"close_over{lower_limit}_under{upper_limit}\"\n",
    "df = df.with_columns(((pl.col(pi.indicators.CLOSE_COLUMN) > lower_limit) & (pl.col(pi.indicators.CLOSE_COLUMN) < upper_limit)).alias(close_within_limits))"
   ]
  },
  {
   "cell_type": "code",
   "execution_count": 37,
   "metadata": {},
   "outputs": [],
   "source": [
    "#per moving_average_comparision, (3, 5), (10,20) and (15,30) are best pairs\n",
    "sma3 = pi.indicators.simple_moving_average(df, 3)\n",
    "df = sma3.df\n",
    "sma5 = pi.indicators.simple_moving_average(df, 5)\n",
    "df = sma5.df\n",
    "sma10 = pi.indicators.simple_moving_average(df, 10)\n",
    "df = sma10.df\n",
    "sma20 = pi.indicators.simple_moving_average(df, 20)\n",
    "df = sma20.df\n",
    "sma15 = pi.indicators.simple_moving_average(df, 15)\n",
    "df = sma15.df\n",
    "sma30 = pi.indicators.simple_moving_average(df, 30)\n",
    "df = sma30.df"
   ]
  },
  {
   "cell_type": "code",
   "execution_count": 39,
   "metadata": {},
   "outputs": [],
   "source": [
    "sma3_cross_5 = pi.indicators.crossover_up(df, sma3.column, sma5.column)\n",
    "df = sma3_cross_5.df\n",
    "sma10_cross_20 = pi.indicators.crossover_up(df, sma10.column, sma20.column)\n",
    "df = sma10_cross_20.df\n",
    "sma15_cross_30 = pi.indicators.crossover_up(df, sma15.column, sma30.column)\n",
    "df = sma15_cross_30.df"
   ]
  },
  {
   "cell_type": "code",
   "execution_count": 40,
   "metadata": {},
   "outputs": [],
   "source": [
    "russell = df.filter(pl.col(pi.indicators.SYMBOL_COLUMN).is_in(pi.Russell1000_2020))"
   ]
  },
  {
   "cell_type": "code",
   "execution_count": 29,
   "metadata": {},
   "outputs": [],
   "source": [
    "#df = df.filter(pl.col(pi.indicators.SYMBOL_COLUMN).is_in(pi.SnP500_2020))"
   ]
  },
  {
   "cell_type": "code",
   "execution_count": 57,
   "metadata": {},
   "outputs": [],
   "source": [
    "buy_cols = []\n",
    "trades = []"
   ]
  },
  {
   "cell_type": "code",
   "execution_count": 58,
   "metadata": {},
   "outputs": [],
   "source": [
    "sma3_cross_and_sma10 = \"sma3_sma10\"\n",
    "buy_cols.append(sma3_cross_and_sma10)\n",
    "df = df.with_columns((pl.col(sma3_cross_5.column) & pl.col(sma10_cross_20.column)).alias(sma3_cross_and_sma10))\n",
    "trades.append(pi.summarize.trades.Trades.from_strategy_result(pi.strategies.buy_close_trail.strategy(df, sma3_cross_and_sma10, trailing_stop_bars=2)))"
   ]
  },
  {
   "cell_type": "code",
   "execution_count": 59,
   "metadata": {},
   "outputs": [],
   "source": [
    "sma3_cross_and_sma15 = \"sma3_sma15\"\n",
    "buy_cols.append(sma3_cross_and_sma15)\n",
    "df = df.with_columns((pl.col(sma3_cross_5.column) & pl.col(sma15_cross_30.column)).alias(sma3_cross_and_sma15))\n",
    "trades.append(pi.summarize.trades.Trades.from_strategy_result(pi.strategies.buy_close_trail.strategy(df, sma3_cross_and_sma15, trailing_stop_bars=2)))"
   ]
  },
  {
   "cell_type": "code",
   "execution_count": 60,
   "metadata": {},
   "outputs": [],
   "source": [
    "sma10_cross_and_sma15 = \"sma10_sma15\"\n",
    "buy_cols.append(sma10_cross_and_sma15)\n",
    "df = df.with_columns((pl.col(sma10_cross_20.column) & pl.col(sma15_cross_30.column)).alias(sma10_cross_and_sma15))\n",
    "trades.append(pi.summarize.trades.Trades.from_strategy_result(pi.strategies.buy_close_trail.strategy(df, sma10_cross_and_sma15, trailing_stop_bars=2)))"
   ]
  },
  {
   "cell_type": "code",
   "execution_count": 61,
   "metadata": {},
   "outputs": [
    {
     "data": {
      "text/html": [
       "<div><style>\n",
       ".dataframe > thead > tr > th,\n",
       ".dataframe > tbody > tr > td {\n",
       "  text-align: right;\n",
       "}\n",
       "</style>\n",
       "<small>shape: (3, 12)</small><table border=\"1\" class=\"dataframe\"><thead><tr><th>Gain/Loss%Sum</th><th>Winners</th><th>Losers</th><th>Trades</th><th>Win_Ratio</th><th>Average_Gain/Loss%</th><th>Average_Length</th><th>highest_win</th><th>Highest%</th><th>lowest_loss</th><th>Lowest%</th><th>Identifier</th></tr><tr><td>f64</td><td>u32</td><td>u32</td><td>u32</td><td>f64</td><td>f64</td><td>f64</td><td>f64</td><td>f64</td><td>f64</td><td>f64</td><td>str</td></tr></thead><tbody><tr><td>485.37</td><td>400</td><td>646</td><td>1050</td><td>0.380952</td><td>0.462257</td><td>4.961905</td><td>31.5</td><td>58.58</td><td>-13.36</td><td>-24.19</td><td>&quot;sma3_sma10&quot;</td></tr><tr><td>364.6</td><td>237</td><td>388</td><td>629</td><td>0.376789</td><td>0.57965</td><td>4.914149</td><td>34.61</td><td>47.5</td><td>-11.18</td><td>-14.16</td><td>&quot;sma3_sma15&quot;</td></tr><tr><td>-113.16</td><td>43</td><td>107</td><td>150</td><td>0.286667</td><td>-0.7544</td><td>4.626667</td><td>8.95</td><td>23.4</td><td>-14.19</td><td>-16.98</td><td>&quot;sma10_sma15&quot;</td></tr></tbody></table></div>"
      ],
      "text/plain": [
       "shape: (3, 12)\n",
       "┌───────────────┬─────────┬────────┬────────┬───┬──────────┬─────────────┬─────────┬─────────────┐\n",
       "│ Gain/Loss%Sum ┆ Winners ┆ Losers ┆ Trades ┆ … ┆ Highest% ┆ lowest_loss ┆ Lowest% ┆ Identifier  │\n",
       "│ ---           ┆ ---     ┆ ---    ┆ ---    ┆   ┆ ---      ┆ ---         ┆ ---     ┆ ---         │\n",
       "│ f64           ┆ u32     ┆ u32    ┆ u32    ┆   ┆ f64      ┆ f64         ┆ f64     ┆ str         │\n",
       "╞═══════════════╪═════════╪════════╪════════╪═══╪══════════╪═════════════╪═════════╪═════════════╡\n",
       "│ 485.37        ┆ 400     ┆ 646    ┆ 1050   ┆ … ┆ 58.58    ┆ -13.36      ┆ -24.19  ┆ sma3_sma10  │\n",
       "│ 364.6         ┆ 237     ┆ 388    ┆ 629    ┆ … ┆ 47.5     ┆ -11.18      ┆ -14.16  ┆ sma3_sma15  │\n",
       "│ -113.16       ┆ 43      ┆ 107    ┆ 150    ┆ … ┆ 23.4     ┆ -14.19      ┆ -16.98  ┆ sma10_sma15 │\n",
       "└───────────────┴─────────┴────────┴────────┴───┴──────────┴─────────────┴─────────┴─────────────┘"
      ]
     },
     "execution_count": 61,
     "metadata": {},
     "output_type": "execute_result"
    }
   ],
   "source": [
    "pi.summarize.trades.compare_strategies(trades, buy_cols)"
   ]
  },
  {
   "cell_type": "code",
   "execution_count": 32,
   "metadata": {},
   "outputs": [],
   "source": [
    "russell_results = [pi.summarize.trades.Trades.from_strategy_result(pi.strategies.buy_close_trail.strategy(russell, buy_indicator.column, trailing_stop_bars=2)) for buy_indicator in buy_indicators]"
   ]
  },
  {
   "cell_type": "code",
   "execution_count": 33,
   "metadata": {},
   "outputs": [
    {
     "data": {
      "text/html": [
       "<div><style>\n",
       ".dataframe > thead > tr > th,\n",
       ".dataframe > tbody > tr > td {\n",
       "  text-align: right;\n",
       "}\n",
       "</style>\n",
       "<small>shape: (6, 12)</small><table border=\"1\" class=\"dataframe\"><thead><tr><th>Gain/Loss%Sum</th><th>Winners</th><th>Losers</th><th>Trades</th><th>Win_Ratio</th><th>Average_Gain/Loss%</th><th>Average_Length</th><th>highest_win</th><th>Highest%</th><th>lowest_loss</th><th>Lowest%</th><th>Identifier</th></tr><tr><td>f64</td><td>u32</td><td>u32</td><td>u32</td><td>f64</td><td>f64</td><td>f64</td><td>f64</td><td>f64</td><td>f64</td><td>f64</td><td>str</td></tr></thead><tbody><tr><td>14986.99</td><td>23597</td><td>45167</td><td>69057</td><td>0.341703</td><td>0.217023</td><td>4.698524</td><td>144.23</td><td>520.19</td><td>-90.91</td><td>-91.01</td><td>&quot;(3, 5)&quot;</td></tr><tr><td>-4247.27</td><td>13564</td><td>31715</td><td>45537</td><td>0.297868</td><td>-0.093271</td><td>4.423436</td><td>95.21</td><td>127.84</td><td>-90.93</td><td>-91.03</td><td>&quot;(5, 8)&quot;</td></tr><tr><td>1231.29</td><td>5321</td><td>11902</td><td>17299</td><td>0.30759</td><td>0.071177</td><td>4.538875</td><td>79.01</td><td>111.95</td><td>-47.89</td><td>-52.73</td><td>&quot;(8, 21)&quot;</td></tr><tr><td>2800.15</td><td>5432</td><td>12185</td><td>17716</td><td>0.306615</td><td>0.158058</td><td>4.499774</td><td>64.42</td><td>87.52</td><td>-52.96</td><td>-62.46</td><td>&quot;(10, 20)&quot;</td></tr><tr><td>2075.17</td><td>3632</td><td>8029</td><td>11717</td><td>0.309977</td><td>0.177108</td><td>4.459674</td><td>72.36</td><td>143.35</td><td>-47.89</td><td>-50.95</td><td>&quot;(15, 30)&quot;</td></tr><tr><td>-681.59</td><td>859</td><td>2525</td><td>3403</td><td>0.252424</td><td>-0.200291</td><td>4.06553</td><td>36.71</td><td>43.07</td><td>-47.89</td><td>-50.95</td><td>&quot;(50, 100)&quot;</td></tr></tbody></table></div>"
      ],
      "text/plain": [
       "shape: (6, 12)\n",
       "┌───────────────┬─────────┬────────┬────────┬───┬──────────┬─────────────┬─────────┬────────────┐\n",
       "│ Gain/Loss%Sum ┆ Winners ┆ Losers ┆ Trades ┆ … ┆ Highest% ┆ lowest_loss ┆ Lowest% ┆ Identifier │\n",
       "│ ---           ┆ ---     ┆ ---    ┆ ---    ┆   ┆ ---      ┆ ---         ┆ ---     ┆ ---        │\n",
       "│ f64           ┆ u32     ┆ u32    ┆ u32    ┆   ┆ f64      ┆ f64         ┆ f64     ┆ str        │\n",
       "╞═══════════════╪═════════╪════════╪════════╪═══╪══════════╪═════════════╪═════════╪════════════╡\n",
       "│ 14986.99      ┆ 23597   ┆ 45167  ┆ 69057  ┆ … ┆ 520.19   ┆ -90.91      ┆ -91.01  ┆ (3, 5)     │\n",
       "│ -4247.27      ┆ 13564   ┆ 31715  ┆ 45537  ┆ … ┆ 127.84   ┆ -90.93      ┆ -91.03  ┆ (5, 8)     │\n",
       "│ 1231.29       ┆ 5321    ┆ 11902  ┆ 17299  ┆ … ┆ 111.95   ┆ -47.89      ┆ -52.73  ┆ (8, 21)    │\n",
       "│ 2800.15       ┆ 5432    ┆ 12185  ┆ 17716  ┆ … ┆ 87.52    ┆ -52.96      ┆ -62.46  ┆ (10, 20)   │\n",
       "│ 2075.17       ┆ 3632    ┆ 8029   ┆ 11717  ┆ … ┆ 143.35   ┆ -47.89      ┆ -50.95  ┆ (15, 30)   │\n",
       "│ -681.59       ┆ 859     ┆ 2525   ┆ 3403   ┆ … ┆ 43.07    ┆ -47.89      ┆ -50.95  ┆ (50, 100)  │\n",
       "└───────────────┴─────────┴────────┴────────┴───┴──────────┴─────────────┴─────────┴────────────┘"
      ]
     },
     "execution_count": 33,
     "metadata": {},
     "output_type": "execute_result"
    }
   ],
   "source": [
    "pi.summarize.trades.compare_strategies(russell_results, [str(x) for x in sma_pairs])"
   ]
  },
  {
   "cell_type": "code",
   "execution_count": 34,
   "metadata": {},
   "outputs": [
    {
     "data": {
      "text/html": [
       "<div><style>\n",
       ".dataframe > thead > tr > th,\n",
       ".dataframe > tbody > tr > td {\n",
       "  text-align: right;\n",
       "}\n",
       "</style>\n",
       "<small>shape: (11717, 13)</small><table border=\"1\" class=\"dataframe\"><thead><tr><th>enter/exit_column</th><th>Symbol</th><th>Start</th><th>End</th><th>Entry_Price</th><th>Exit_Price</th><th>Low</th><th>High</th><th>Length</th><th>Gain/Loss</th><th>Gain/Loss%</th><th>Highest%</th><th>Lowest%</th></tr><tr><td>i32</td><td>str</td><td>datetime[μs]</td><td>datetime[μs]</td><td>f64</td><td>f64</td><td>f64</td><td>f64</td><td>u32</td><td>f64</td><td>f64</td><td>f64</td><td>f64</td></tr></thead><tbody><tr><td>1</td><td>&quot;A&quot;</td><td>2020-04-14 00:00:00</td><td>2020-04-16 00:00:00</td><td>78.830002</td><td>77.0</td><td>76.470001</td><td>79.199997</td><td>3</td><td>-1.830002</td><td>-2.32</td><td>0.47</td><td>-2.99</td></tr><tr><td>2</td><td>&quot;A&quot;</td><td>2020-07-15 00:00:00</td><td>2020-07-24 00:00:00</td><td>92.879997</td><td>95.809998</td><td>91.080002</td><td>98.089996</td><td>8</td><td>2.93</td><td>3.15</td><td>5.61</td><td>-1.94</td></tr><tr><td>3</td><td>&quot;A&quot;</td><td>2020-09-30 00:00:00</td><td>2020-10-02 00:00:00</td><td>100.940002</td><td>100.209999</td><td>99.809998</td><td>102.410004</td><td>3</td><td>-0.730003</td><td>-0.72</td><td>1.46</td><td>-1.12</td></tr><tr><td>4</td><td>&quot;A&quot;</td><td>2021-02-23 00:00:00</td><td>2021-02-26 00:00:00</td><td>122.419998</td><td>121.93</td><td>120.410004</td><td>125.410004</td><td>4</td><td>-0.489998</td><td>-0.4</td><td>2.44</td><td>-1.64</td></tr><tr><td>5</td><td>&quot;A&quot;</td><td>2021-03-30 00:00:00</td><td>2021-04-07 00:00:00</td><td>124.839996</td><td>129.0</td><td>124.410004</td><td>131.860001</td><td>6</td><td>4.160004</td><td>3.33</td><td>5.62</td><td>-0.34</td></tr><tr><td>6</td><td>&quot;A&quot;</td><td>2021-06-04 00:00:00</td><td>2021-06-25 00:00:00</td><td>137.899994</td><td>146.429993</td><td>137.369995</td><td>148.330002</td><td>16</td><td>8.529999</td><td>6.19</td><td>7.56</td><td>-0.38</td></tr><tr><td>7</td><td>&quot;A&quot;</td><td>2021-11-04 00:00:00</td><td>2021-11-05 00:00:00</td><td>157.649994</td><td>154.570007</td><td>152.429993</td><td>158.929993</td><td>2</td><td>-3.079987</td><td>-1.95</td><td>0.81</td><td>-3.31</td></tr><tr><td>8</td><td>&quot;A&quot;</td><td>2021-12-30 00:00:00</td><td>2022-01-03 00:00:00</td><td>160.880005</td><td>159.0</td><td>153.929993</td><td>162.619995</td><td>3</td><td>-1.880005</td><td>-1.17</td><td>1.08</td><td>-4.32</td></tr><tr><td>9</td><td>&quot;A&quot;</td><td>2022-03-23 00:00:00</td><td>2022-03-31 00:00:00</td><td>134.179993</td><td>134.520004</td><td>132.289993</td><td>139.320007</td><td>7</td><td>0.340012</td><td>0.25</td><td>3.83</td><td>-1.41</td></tr><tr><td>10</td><td>&quot;A&quot;</td><td>2022-05-31 00:00:00</td><td>2022-06-01 00:00:00</td><td>127.559998</td><td>124.489998</td><td>122.43</td><td>130.070007</td><td>2</td><td>-3.07</td><td>-2.41</td><td>1.97</td><td>-4.02</td></tr><tr><td>11</td><td>&quot;A&quot;</td><td>2022-07-20 00:00:00</td><td>2022-08-05 00:00:00</td><td>119.860001</td><td>132.270004</td><td>119.25</td><td>135.259995</td><td>13</td><td>12.410004</td><td>10.35</td><td>12.85</td><td>-0.51</td></tr><tr><td>12</td><td>&quot;A&quot;</td><td>2022-10-21 00:00:00</td><td>2022-11-02 00:00:00</td><td>129.880005</td><td>137.350006</td><td>124.82</td><td>141.350006</td><td>9</td><td>7.470001</td><td>5.75</td><td>8.83</td><td>-3.9</td></tr><tr><td>&hellip;</td><td>&hellip;</td><td>&hellip;</td><td>&hellip;</td><td>&hellip;</td><td>&hellip;</td><td>&hellip;</td><td>&hellip;</td><td>&hellip;</td><td>&hellip;</td><td>&hellip;</td><td>&hellip;</td><td>&hellip;</td></tr><tr><td>11706</td><td>&quot;ZTS&quot;</td><td>2020-09-25 00:00:00</td><td>2020-10-02 00:00:00</td><td>160.839996</td><td>162.380005</td><td>157.25</td><td>166.789993</td><td>6</td><td>1.540009</td><td>0.96</td><td>3.7</td><td>-2.23</td></tr><tr><td>11707</td><td>&quot;ZTS&quot;</td><td>2020-11-09 00:00:00</td><td>2020-11-10 00:00:00</td><td>165.199997</td><td>165.009995</td><td>160.490005</td><td>176.410004</td><td>2</td><td>-0.190002</td><td>-0.12</td><td>6.79</td><td>-2.85</td></tr><tr><td>11708</td><td>&quot;ZTS&quot;</td><td>2020-12-31 00:00:00</td><td>2021-01-04 00:00:00</td><td>165.5</td><td>163.160004</td><td>160.720001</td><td>166.240005</td><td>2</td><td>-2.339996</td><td>-1.41</td><td>0.45</td><td>-2.89</td></tr><tr><td>11709</td><td>&quot;ZTS&quot;</td><td>2021-02-23 00:00:00</td><td>2021-02-25 00:00:00</td><td>159.520004</td><td>158.5</td><td>155.75</td><td>161.800003</td><td>3</td><td>-1.020004</td><td>-0.64</td><td>1.43</td><td>-2.36</td></tr><tr><td>11710</td><td>&quot;ZTS&quot;</td><td>2021-03-31 00:00:00</td><td>2021-04-01 00:00:00</td><td>157.479996</td><td>156.5</td><td>156.259995</td><td>158.809998</td><td>2</td><td>-0.979996</td><td>-0.62</td><td>0.84</td><td>-0.77</td></tr><tr><td>11711</td><td>&quot;ZTS&quot;</td><td>2021-10-22 00:00:00</td><td>2021-11-02 00:00:00</td><td>208.509995</td><td>212.740005</td><td>206.839996</td><td>217.639999</td><td>8</td><td>4.230011</td><td>2.03</td><td>4.38</td><td>-0.8</td></tr><tr><td>11712</td><td>&quot;ZTS&quot;</td><td>2022-04-01 00:00:00</td><td>2022-04-06 00:00:00</td><td>191.110001</td><td>187.179993</td><td>186.520004</td><td>192.330002</td><td>4</td><td>-3.930008</td><td>-2.06</td><td>0.64</td><td>-2.4</td></tr><tr><td>11713</td><td>&quot;ZTS&quot;</td><td>2022-06-10 00:00:00</td><td>2022-06-13 00:00:00</td><td>161.490005</td><td>157.710007</td><td>154.330002</td><td>165.179993</td><td>2</td><td>-3.779999</td><td>-2.34</td><td>2.28</td><td>-4.43</td></tr><tr><td>11714</td><td>&quot;ZTS&quot;</td><td>2022-07-06 00:00:00</td><td>2022-07-11 00:00:00</td><td>178.5</td><td>177.080002</td><td>174.399994</td><td>180.0</td><td>4</td><td>-1.419998</td><td>-0.8</td><td>0.84</td><td>-2.3</td></tr><tr><td>11715</td><td>&quot;ZTS&quot;</td><td>2022-11-30 00:00:00</td><td>2022-12-06 00:00:00</td><td>154.139999</td><td>152.399994</td><td>146.910004</td><td>157.910004</td><td>5</td><td>-1.740005</td><td>-1.13</td><td>2.45</td><td>-4.69</td></tr><tr><td>11716</td><td>&quot;ZTS&quot;</td><td>2023-01-17 00:00:00</td><td>2023-01-19 00:00:00</td><td>159.570007</td><td>159.009995</td><td>158.710007</td><td>163.160004</td><td>3</td><td>-0.560013</td><td>-0.35</td><td>2.25</td><td>-0.54</td></tr><tr><td>11717</td><td>&quot;ZTS&quot;</td><td>2023-04-12 00:00:00</td><td>2023-04-20 00:00:00</td><td>171.449997</td><td>172.850006</td><td>170.929993</td><td>175.949997</td><td>7</td><td>1.400009</td><td>0.82</td><td>2.62</td><td>-0.3</td></tr></tbody></table></div>"
      ],
      "text/plain": [
       "shape: (11717, 13)\n",
       "┌────────────┬────────┬─────────────┬────────────┬───┬───────────┬────────────┬──────────┬─────────┐\n",
       "│ enter/exit ┆ Symbol ┆ Start       ┆ End        ┆ … ┆ Gain/Loss ┆ Gain/Loss% ┆ Highest% ┆ Lowest% │\n",
       "│ _column    ┆ ---    ┆ ---         ┆ ---        ┆   ┆ ---       ┆ ---        ┆ ---      ┆ ---     │\n",
       "│ ---        ┆ str    ┆ datetime[μs ┆ datetime[μ ┆   ┆ f64       ┆ f64        ┆ f64      ┆ f64     │\n",
       "│ i32        ┆        ┆ ]           ┆ s]         ┆   ┆           ┆            ┆          ┆         │\n",
       "╞════════════╪════════╪═════════════╪════════════╪═══╪═══════════╪════════════╪══════════╪═════════╡\n",
       "│ 1          ┆ A      ┆ 2020-04-14  ┆ 2020-04-16 ┆ … ┆ -1.830002 ┆ -2.32      ┆ 0.47     ┆ -2.99   │\n",
       "│            ┆        ┆ 00:00:00    ┆ 00:00:00   ┆   ┆           ┆            ┆          ┆         │\n",
       "│ 2          ┆ A      ┆ 2020-07-15  ┆ 2020-07-24 ┆ … ┆ 2.93      ┆ 3.15       ┆ 5.61     ┆ -1.94   │\n",
       "│            ┆        ┆ 00:00:00    ┆ 00:00:00   ┆   ┆           ┆            ┆          ┆         │\n",
       "│ 3          ┆ A      ┆ 2020-09-30  ┆ 2020-10-02 ┆ … ┆ -0.730003 ┆ -0.72      ┆ 1.46     ┆ -1.12   │\n",
       "│            ┆        ┆ 00:00:00    ┆ 00:00:00   ┆   ┆           ┆            ┆          ┆         │\n",
       "│ 4          ┆ A      ┆ 2021-02-23  ┆ 2021-02-26 ┆ … ┆ -0.489998 ┆ -0.4       ┆ 2.44     ┆ -1.64   │\n",
       "│            ┆        ┆ 00:00:00    ┆ 00:00:00   ┆   ┆           ┆            ┆          ┆         │\n",
       "│ …          ┆ …      ┆ …           ┆ …          ┆ … ┆ …         ┆ …          ┆ …        ┆ …       │\n",
       "│ 11714      ┆ ZTS    ┆ 2022-07-06  ┆ 2022-07-11 ┆ … ┆ -1.419998 ┆ -0.8       ┆ 0.84     ┆ -2.3    │\n",
       "│            ┆        ┆ 00:00:00    ┆ 00:00:00   ┆   ┆           ┆            ┆          ┆         │\n",
       "│ 11715      ┆ ZTS    ┆ 2022-11-30  ┆ 2022-12-06 ┆ … ┆ -1.740005 ┆ -1.13      ┆ 2.45     ┆ -4.69   │\n",
       "│            ┆        ┆ 00:00:00    ┆ 00:00:00   ┆   ┆           ┆            ┆          ┆         │\n",
       "│ 11716      ┆ ZTS    ┆ 2023-01-17  ┆ 2023-01-19 ┆ … ┆ -0.560013 ┆ -0.35      ┆ 2.25     ┆ -0.54   │\n",
       "│            ┆        ┆ 00:00:00    ┆ 00:00:00   ┆   ┆           ┆            ┆          ┆         │\n",
       "│ 11717      ┆ ZTS    ┆ 2023-04-12  ┆ 2023-04-20 ┆ … ┆ 1.400009  ┆ 0.82       ┆ 2.62     ┆ -0.3    │\n",
       "│            ┆        ┆ 00:00:00    ┆ 00:00:00   ┆   ┆           ┆            ┆          ┆         │\n",
       "└────────────┴────────┴─────────────┴────────────┴───┴───────────┴────────────┴──────────┴─────────┘"
      ]
     },
     "execution_count": 34,
     "metadata": {},
     "output_type": "execute_result"
    }
   ],
   "source": [
    "russell_results[4].df"
   ]
  },
  {
   "cell_type": "code",
   "execution_count": 35,
   "metadata": {},
   "outputs": [
    {
     "data": {
      "text/html": [
       "<div><style>\n",
       ".dataframe > thead > tr > th,\n",
       ".dataframe > tbody > tr > td {\n",
       "  text-align: right;\n",
       "}\n",
       "</style>\n",
       "<small>shape: (4, 25)</small><table border=\"1\" class=\"dataframe\"><thead><tr><th>Date</th><th>Open</th><th>High</th><th>Low</th><th>Close</th><th>Adj Close</th><th>Volume</th><th>Symbol</th><th>close_over3_under250</th><th>SMA3_Close</th><th>SMA5_Close</th><th>SMA8_Close</th><th>SMA21_Close</th><th>SMA10_Close</th><th>SMA20_Close</th><th>SMA15_Close</th><th>SMA30_Close</th><th>SMA50_Close</th><th>SMA100_Close</th><th>SMA3_Close_cross_up_SMA5_Close</th><th>SMA5_Close_cross_up_SMA8_Close</th><th>SMA8_Close_cross_up_SMA21_Close</th><th>SMA10_Close_cross_up_SMA20_Close</th><th>SMA15_Close_cross_up_SMA30_Close</th><th>SMA50_Close_cross_up_SMA100_Close</th></tr><tr><td>datetime[μs]</td><td>f64</td><td>f64</td><td>f64</td><td>f64</td><td>f64</td><td>i64</td><td>str</td><td>bool</td><td>f64</td><td>f64</td><td>f64</td><td>f64</td><td>f64</td><td>f64</td><td>f64</td><td>f64</td><td>f64</td><td>f64</td><td>bool</td><td>bool</td><td>bool</td><td>bool</td><td>bool</td><td>bool</td></tr></thead><tbody><tr><td>2020-04-22 00:00:00</td><td>74.75</td><td>75.580002</td><td>73.779999</td><td>75.169998</td><td>73.746544</td><td>2347400</td><td>&quot;A&quot;</td><td>true</td><td>75.43</td><td>76.918001</td><td>77.085001</td><td>74.125715</td><td>77.170001</td><td>74.482001</td><td>75.448001</td><td>71.904334</td><td>75.5774</td><td>null</td><td>false</td><td>false</td><td>false</td><td>false</td><td>false</td><td>null</td></tr><tr><td>2020-04-23 00:00:00</td><td>76.599998</td><td>77.489998</td><td>75.050003</td><td>75.089996</td><td>73.668068</td><td>2097700</td><td>&quot;A&quot;</td><td>true</td><td>74.669998</td><td>76.186</td><td>76.945001</td><td>74.510953</td><td>77.010001</td><td>74.786501</td><td>75.859334</td><td>72.112667</td><td>75.3774</td><td>null</td><td>false</td><td>false</td><td>false</td><td>false</td><td>false</td><td>null</td></tr><tr><td>2020-04-24 00:00:00</td><td>75.620003</td><td>75.910004</td><td>74.019997</td><td>75.75</td><td>74.315559</td><td>1654300</td><td>&quot;A&quot;</td><td>true</td><td>75.336665</td><td>75.425999</td><td>76.56</td><td>74.832381</td><td>76.752</td><td>74.888</td><td>76.09</td><td>72.523667</td><td>75.1838</td><td>null</td><td>false</td><td>false</td><td>false</td><td>false</td><td>false</td><td>null</td></tr><tr><td>2020-04-27 00:00:00</td><td>76.349998</td><td>76.620003</td><td>75.839996</td><td>76.25</td><td>74.806091</td><td>1295800</td><td>&quot;A&quot;</td><td>true</td><td>75.696665</td><td>75.201999</td><td>76.46</td><td>74.952858</td><td>76.756001</td><td>75.155</td><td>76.478667</td><td>72.758667</td><td>74.9994</td><td>null</td><td>true</td><td>false</td><td>false</td><td>false</td><td>false</td><td>null</td></tr></tbody></table></div>"
      ],
      "text/plain": [
       "shape: (4, 25)\n",
       "┌──────────┬──────────┬──────────┬─────────┬───┬────────────┬────────────┬────────────┬────────────┐\n",
       "│ Date     ┆ Open     ┆ High     ┆ Low     ┆ … ┆ SMA8_Close ┆ SMA10_Clos ┆ SMA15_Clos ┆ SMA50_Clos │\n",
       "│ ---      ┆ ---      ┆ ---      ┆ ---     ┆   ┆ _cross_up_ ┆ e_cross_up ┆ e_cross_up ┆ e_cross_up │\n",
       "│ datetime ┆ f64      ┆ f64      ┆ f64     ┆   ┆ SMA21_Clos ┆ _SMA20_Clo ┆ _SMA30_Clo ┆ _SMA100_Cl │\n",
       "│ [μs]     ┆          ┆          ┆         ┆   ┆ e          ┆ se         ┆ se         ┆ os…        │\n",
       "│          ┆          ┆          ┆         ┆   ┆ ---        ┆ ---        ┆ ---        ┆ ---        │\n",
       "│          ┆          ┆          ┆         ┆   ┆ bool       ┆ bool       ┆ bool       ┆ bool       │\n",
       "╞══════════╪══════════╪══════════╪═════════╪═══╪════════════╪════════════╪════════════╪════════════╡\n",
       "│ 2020-04- ┆ 74.75    ┆ 75.58000 ┆ 73.7799 ┆ … ┆ false      ┆ false      ┆ false      ┆ null       │\n",
       "│ 22       ┆          ┆ 2        ┆ 99      ┆   ┆            ┆            ┆            ┆            │\n",
       "│ 00:00:00 ┆          ┆          ┆         ┆   ┆            ┆            ┆            ┆            │\n",
       "│ 2020-04- ┆ 76.59999 ┆ 77.48999 ┆ 75.0500 ┆ … ┆ false      ┆ false      ┆ false      ┆ null       │\n",
       "│ 23       ┆ 8        ┆ 8        ┆ 03      ┆   ┆            ┆            ┆            ┆            │\n",
       "│ 00:00:00 ┆          ┆          ┆         ┆   ┆            ┆            ┆            ┆            │\n",
       "│ 2020-04- ┆ 75.62000 ┆ 75.91000 ┆ 74.0199 ┆ … ┆ false      ┆ false      ┆ false      ┆ null       │\n",
       "│ 24       ┆ 3        ┆ 4        ┆ 97      ┆   ┆            ┆            ┆            ┆            │\n",
       "│ 00:00:00 ┆          ┆          ┆         ┆   ┆            ┆            ┆            ┆            │\n",
       "│ 2020-04- ┆ 76.34999 ┆ 76.62000 ┆ 75.8399 ┆ … ┆ false      ┆ false      ┆ false      ┆ null       │\n",
       "│ 27       ┆ 8        ┆ 3        ┆ 96      ┆   ┆            ┆            ┆            ┆            │\n",
       "│ 00:00:00 ┆          ┆          ┆         ┆   ┆            ┆            ┆            ┆            │\n",
       "└──────────┴──────────┴──────────┴─────────┴───┴────────────┴────────────┴────────────┴────────────┘"
      ]
     },
     "execution_count": 35,
     "metadata": {},
     "output_type": "execute_result"
    }
   ],
   "source": [
    "russell.filter(pl.col(pi.indicators.DATE_COLUMN).is_between(datetime(2020,4,22),datetime(2020,4,27)) & (pl.col(pi.indicators.SYMBOL_COLUMN) == \"A\"))"
   ]
  },
  {
   "cell_type": "code",
   "execution_count": null,
   "metadata": {},
   "outputs": [],
   "source": []
  }
 ],
 "metadata": {
  "kernelspec": {
   "display_name": ".venv",
   "language": "python",
   "name": "python3"
  },
  "language_info": {
   "codemirror_mode": {
    "name": "ipython",
    "version": 3
   },
   "file_extension": ".py",
   "mimetype": "text/x-python",
   "name": "python",
   "nbconvert_exporter": "python",
   "pygments_lexer": "ipython3",
   "version": "3.10.5"
  },
  "orig_nbformat": 4
 },
 "nbformat": 4,
 "nbformat_minor": 2
}
