{
 "cells": [
  {
   "cell_type": "code",
   "execution_count": null,
   "metadata": {},
   "outputs": [],
   "source": [
    "import polars as pl\n",
    "from datetime import datetime\n",
    "import get_and_store as gas\n",
    "import polars_indicators as pi\n",
    "from polars_indicators import IndicatorResult\n",
    "DATE_COLUNN = \"Date\""
   ]
  },
  {
   "cell_type": "code",
   "execution_count": null,
   "metadata": {},
   "outputs": [],
   "source": [
    "symbols = ['A','AA']"
   ]
  },
  {
   "cell_type": "code",
   "execution_count": null,
   "metadata": {},
   "outputs": [],
   "source": [
    "df = gas.get_symbols_df(symbols)\n",
    "df = df.filter(pl.col('Date') >= datetime(2021, 1, 1))\n",
    "df = df.collect()"
   ]
  },
  {
   "cell_type": "code",
   "execution_count": null,
   "metadata": {},
   "outputs": [],
   "source": [
    "df"
   ]
  },
  {
   "cell_type": "code",
   "execution_count": null,
   "metadata": {},
   "outputs": [],
   "source": [
    "sma25 = pi.simple_moving_average(df, days=25)\n",
    "sma50 = pi.simple_moving_average(sma25.df, days=50)\n",
    "df = sma50.df\n",
    "df"
   ]
  },
  {
   "cell_type": "code",
   "execution_count": null,
   "metadata": {},
   "outputs": [],
   "source": [
    "cross_up = pi.crossover_up(df, sma25.column, sma50.column)\n",
    "cross_up.df"
   ]
  },
  {
   "cell_type": "code",
   "execution_count": null,
   "metadata": {},
   "outputs": [],
   "source": [
    "#convert to open values\n",
    "cross_up.df = cross_up.df.with_columns(pl.when(pl.col(cross_up.column)).then(pl.col(\"Open\")).alias(cross_up.column))"
   ]
  },
  {
   "cell_type": "code",
   "execution_count": null,
   "metadata": {},
   "outputs": [],
   "source": [
    "trail = pi.trailing_stop(cross_up.df, bars=2)\n",
    "t = trail.df.filter(pl.col(\"Date\").is_between(datetime(2022, 6, 1), datetime(2022, 6, 12)))\n",
    "t"
   ]
  },
  {
   "cell_type": "code",
   "execution_count": null,
   "metadata": {},
   "outputs": [],
   "source": [
    "index = \"row_nr\"\n",
    "bars = 2\n",
    "df = t.select(trail.column).with_row_count(index)\n",
    "df.drop_nulls(trail.column).with_columns((pl.col(index) - pl.col(index).shift(1)).alias(\"test\"))"
   ]
  },
  {
   "cell_type": "code",
   "execution_count": null,
   "metadata": {},
   "outputs": [],
   "source": [
    "#left off here\n",
    "col1 = 'test'\n",
    "df = df.drop_nulls(trail.column).with_columns(pl.when(pl.col(index) - pl.col(index).shift(1) < bars).then(pl.col(index).shift(1)).otherwise(pl.col(index)).alias(col1))\n",
    "df"
   ]
  },
  {
   "cell_type": "code",
   "execution_count": null,
   "metadata": {},
   "outputs": [],
   "source": [
    "#left off here. Maybe something like this is my answer?\n",
    "col2 = \"test2\"\n",
    "df = df.drop_nulls(trail.column).with_columns(pl.when(pl.col(index) - pl.col(index).shift(1) < bars).then(pl.col(col1).shift(1)).otherwise(pl.col(index)).alias(col2))\n",
    "df"
   ]
  },
  {
   "cell_type": "code",
   "execution_count": null,
   "metadata": {},
   "outputs": [],
   "source": [
    "def limit_entries(df: pl.DataFrame | pl.LazyFrame, bars: int, entries: str) -> IndicatorResult:\n",
    "    \"\"\"Forces a minimum number of bars between entries\"\"\"\n",
    "    column_name = f\"{bars}_minimum_bars_between\"\n",
    "    if column_name in df.columns:\n",
    "        return IndicatorResult(df, column_name)\n",
    "    for i in range(bars, 0, -1):\n",
    "        df = df.with_columns(pl.col(entries).shift(i))\n",
    "    return IndicatorResult(df, column_name)\n",
    "limit_entries(t, 1, trail.column).df"
   ]
  },
  {
   "cell_type": "code",
   "execution_count": null,
   "metadata": {},
   "outputs": [],
   "source": [
    "ret = pi.create_trade_ids(trail.df, cross_up.column, trail.column)"
   ]
  },
  {
   "cell_type": "code",
   "execution_count": null,
   "metadata": {},
   "outputs": [],
   "source": [
    "pi.summarize_trades(ret.df, ret.column, cross_up.column, trail.column)"
   ]
  },
  {
   "cell_type": "code",
   "execution_count": null,
   "metadata": {},
   "outputs": [],
   "source": []
  }
 ],
 "metadata": {
  "kernelspec": {
   "display_name": ".venv",
   "language": "python",
   "name": "python3"
  },
  "language_info": {
   "codemirror_mode": {
    "name": "ipython",
    "version": 3
   },
   "file_extension": ".py",
   "mimetype": "text/x-python",
   "name": "python",
   "nbconvert_exporter": "python",
   "pygments_lexer": "ipython3",
   "version": "3.10.10"
  },
  "orig_nbformat": 4
 },
 "nbformat": 4,
 "nbformat_minor": 2
}
