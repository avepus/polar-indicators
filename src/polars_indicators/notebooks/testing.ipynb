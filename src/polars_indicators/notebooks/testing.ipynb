{
 "cells": [
  {
   "cell_type": "code",
   "execution_count": 1,
   "metadata": {},
   "outputs": [],
   "source": [
    "import polars as pl\n",
    "from datetime import datetime\n",
    "import get_and_store as gas\n",
    "import polars_indicators as pi"
   ]
  },
  {
   "cell_type": "code",
   "execution_count": 2,
   "metadata": {},
   "outputs": [],
   "source": [
    "symbols = ['A','AA']"
   ]
  },
  {
   "cell_type": "code",
   "execution_count": 19,
   "metadata": {},
   "outputs": [],
   "source": [
    "df = gas.get_symbols_df(symbols)\n",
    "df = df.filter(pl.col('Date') >= datetime(2023, 1, 1))\n",
    "df = df.collect()"
   ]
  },
  {
   "cell_type": "code",
   "execution_count": 4,
   "metadata": {},
   "outputs": [
    {
     "data": {
      "text/html": [
       "<div><style>\n",
       ".dataframe > thead > tr > th,\n",
       ".dataframe > tbody > tr > td {\n",
       "  text-align: right;\n",
       "}\n",
       "</style>\n",
       "<small>shape: (94, 8)</small><table border=\"1\" class=\"dataframe\"><thead><tr><th>Date</th><th>Open</th><th>High</th><th>Low</th><th>Close</th><th>Adj Close</th><th>Volume</th><th>Symbol</th></tr><tr><td>date</td><td>f64</td><td>f64</td><td>f64</td><td>f64</td><td>f64</td><td>i64</td><td>str</td></tr></thead><tbody><tr><td>2023-01-03</td><td>151.960007</td><td>153.130005</td><td>148.470001</td><td>150.039993</td><td>150.039993</td><td>1414300</td><td>&quot;A&quot;</td></tr><tr><td>2023-01-04</td><td>151.649994</td><td>153.039993</td><td>150.240005</td><td>151.669998</td><td>151.669998</td><td>1247400</td><td>&quot;A&quot;</td></tr><tr><td>2023-01-05</td><td>150.0</td><td>153.070007</td><td>148.770004</td><td>152.110001</td><td>152.110001</td><td>1714600</td><td>&quot;A&quot;</td></tr><tr><td>2023-01-06</td><td>154.360001</td><td>154.639999</td><td>143.009995</td><td>147.669998</td><td>147.669998</td><td>2445000</td><td>&quot;A&quot;</td></tr><tr><td>2023-01-09</td><td>149.690002</td><td>151.279999</td><td>147.199997</td><td>147.470001</td><td>147.470001</td><td>1269600</td><td>&quot;A&quot;</td></tr><tr><td>2023-01-10</td><td>150.179993</td><td>155.550003</td><td>148.75</td><td>155.229996</td><td>155.229996</td><td>1565700</td><td>&quot;A&quot;</td></tr><tr><td>2023-01-11</td><td>155.229996</td><td>158.580002</td><td>155.229996</td><td>158.169998</td><td>158.169998</td><td>1241900</td><td>&quot;A&quot;</td></tr><tr><td>2023-01-12</td><td>158.160004</td><td>158.600006</td><td>155.580002</td><td>156.490005</td><td>156.490005</td><td>809100</td><td>&quot;A&quot;</td></tr><tr><td>2023-01-13</td><td>155.539993</td><td>157.279999</td><td>154.5</td><td>156.919998</td><td>156.919998</td><td>921700</td><td>&quot;A&quot;</td></tr><tr><td>2023-01-17</td><td>156.679993</td><td>158.110001</td><td>155.029999</td><td>155.399994</td><td>155.399994</td><td>1602200</td><td>&quot;A&quot;</td></tr><tr><td>2023-01-18</td><td>156.259995</td><td>158.160004</td><td>153.639999</td><td>154.070007</td><td>154.070007</td><td>1150700</td><td>&quot;A&quot;</td></tr><tr><td>2023-01-19</td><td>153.580002</td><td>154.919998</td><td>152.139999</td><td>152.869995</td><td>152.869995</td><td>1017400</td><td>&quot;A&quot;</td></tr><tr><td>&hellip;</td><td>&hellip;</td><td>&hellip;</td><td>&hellip;</td><td>&hellip;</td><td>&hellip;</td><td>&hellip;</td><td>&hellip;</td></tr><tr><td>2023-02-23</td><td>48.5</td><td>49.029999</td><td>46.549999</td><td>47.959999</td><td>47.873615</td><td>4654300</td><td>&quot;AA&quot;</td></tr><tr><td>2023-02-24</td><td>46.93</td><td>46.93</td><td>45.27</td><td>46.450001</td><td>46.366337</td><td>4587700</td><td>&quot;AA&quot;</td></tr><tr><td>2023-02-27</td><td>46.849998</td><td>48.435001</td><td>46.369999</td><td>48.040001</td><td>47.953476</td><td>4931200</td><td>&quot;AA&quot;</td></tr><tr><td>2023-02-28</td><td>48.25</td><td>50.040001</td><td>47.799999</td><td>48.939999</td><td>48.851852</td><td>3871400</td><td>&quot;AA&quot;</td></tr><tr><td>2023-03-01</td><td>51.290001</td><td>52.959999</td><td>50.529999</td><td>51.650002</td><td>51.556973</td><td>7599600</td><td>&quot;AA&quot;</td></tr><tr><td>2023-03-02</td><td>50.189999</td><td>53.709999</td><td>50.049999</td><td>53.689999</td><td>53.593296</td><td>6467900</td><td>&quot;AA&quot;</td></tr><tr><td>2023-03-03</td><td>54.330002</td><td>55.740002</td><td>53.700001</td><td>55.52</td><td>55.420002</td><td>6158800</td><td>&quot;AA&quot;</td></tr><tr><td>2023-03-06</td><td>54.009998</td><td>54.900002</td><td>53.380001</td><td>53.689999</td><td>53.689999</td><td>5129900</td><td>&quot;AA&quot;</td></tr><tr><td>2023-03-07</td><td>52.779999</td><td>53.040001</td><td>49.919998</td><td>50.169998</td><td>50.169998</td><td>6298100</td><td>&quot;AA&quot;</td></tr><tr><td>2023-03-08</td><td>50.41</td><td>51.240002</td><td>49.75</td><td>51.02</td><td>51.02</td><td>3467000</td><td>&quot;AA&quot;</td></tr><tr><td>2023-03-09</td><td>50.700001</td><td>51.139999</td><td>47.330002</td><td>47.900002</td><td>47.900002</td><td>5590500</td><td>&quot;AA&quot;</td></tr><tr><td>2023-03-10</td><td>48.119999</td><td>48.119999</td><td>44.459999</td><td>44.91</td><td>44.91</td><td>6190400</td><td>&quot;AA&quot;</td></tr></tbody></table></div>"
      ],
      "text/plain": [
       "shape: (94, 8)\n",
       "┌────────────┬────────────┬────────────┬────────────┬────────────┬────────────┬─────────┬────────┐\n",
       "│ Date       ┆ Open       ┆ High       ┆ Low        ┆ Close      ┆ Adj Close  ┆ Volume  ┆ Symbol │\n",
       "│ ---        ┆ ---        ┆ ---        ┆ ---        ┆ ---        ┆ ---        ┆ ---     ┆ ---    │\n",
       "│ date       ┆ f64        ┆ f64        ┆ f64        ┆ f64        ┆ f64        ┆ i64     ┆ str    │\n",
       "╞════════════╪════════════╪════════════╪════════════╪════════════╪════════════╪═════════╪════════╡\n",
       "│ 2023-01-03 ┆ 151.960007 ┆ 153.130005 ┆ 148.470001 ┆ 150.039993 ┆ 150.039993 ┆ 1414300 ┆ A      │\n",
       "│ 2023-01-04 ┆ 151.649994 ┆ 153.039993 ┆ 150.240005 ┆ 151.669998 ┆ 151.669998 ┆ 1247400 ┆ A      │\n",
       "│ 2023-01-05 ┆ 150.0      ┆ 153.070007 ┆ 148.770004 ┆ 152.110001 ┆ 152.110001 ┆ 1714600 ┆ A      │\n",
       "│ 2023-01-06 ┆ 154.360001 ┆ 154.639999 ┆ 143.009995 ┆ 147.669998 ┆ 147.669998 ┆ 2445000 ┆ A      │\n",
       "│ …          ┆ …          ┆ …          ┆ …          ┆ …          ┆ …          ┆ …       ┆ …      │\n",
       "│ 2023-03-07 ┆ 52.779999  ┆ 53.040001  ┆ 49.919998  ┆ 50.169998  ┆ 50.169998  ┆ 6298100 ┆ AA     │\n",
       "│ 2023-03-08 ┆ 50.41      ┆ 51.240002  ┆ 49.75      ┆ 51.02      ┆ 51.02      ┆ 3467000 ┆ AA     │\n",
       "│ 2023-03-09 ┆ 50.700001  ┆ 51.139999  ┆ 47.330002  ┆ 47.900002  ┆ 47.900002  ┆ 5590500 ┆ AA     │\n",
       "│ 2023-03-10 ┆ 48.119999  ┆ 48.119999  ┆ 44.459999  ┆ 44.91      ┆ 44.91      ┆ 6190400 ┆ AA     │\n",
       "└────────────┴────────────┴────────────┴────────────┴────────────┴────────────┴─────────┴────────┘"
      ]
     },
     "execution_count": 4,
     "metadata": {},
     "output_type": "execute_result"
    }
   ],
   "source": [
    "df"
   ]
  },
  {
   "cell_type": "code",
   "execution_count": 5,
   "metadata": {},
   "outputs": [
    {
     "data": {
      "text/html": [
       "<div><style>\n",
       ".dataframe > thead > tr > th,\n",
       ".dataframe > tbody > tr > td {\n",
       "  text-align: right;\n",
       "}\n",
       "</style>\n",
       "<small>shape: (94, 10)</small><table border=\"1\" class=\"dataframe\"><thead><tr><th>Date</th><th>Open</th><th>High</th><th>Low</th><th>Close</th><th>Adj Close</th><th>Volume</th><th>Symbol</th><th>SMA5</th><th>SMA4</th></tr><tr><td>date</td><td>f64</td><td>f64</td><td>f64</td><td>f64</td><td>f64</td><td>i64</td><td>str</td><td>f64</td><td>f64</td></tr></thead><tbody><tr><td>2023-01-03</td><td>151.960007</td><td>153.130005</td><td>148.470001</td><td>150.039993</td><td>150.039993</td><td>1414300</td><td>&quot;A&quot;</td><td>null</td><td>null</td></tr><tr><td>2023-01-04</td><td>151.649994</td><td>153.039993</td><td>150.240005</td><td>151.669998</td><td>151.669998</td><td>1247400</td><td>&quot;A&quot;</td><td>null</td><td>null</td></tr><tr><td>2023-01-05</td><td>150.0</td><td>153.070007</td><td>148.770004</td><td>152.110001</td><td>152.110001</td><td>1714600</td><td>&quot;A&quot;</td><td>null</td><td>null</td></tr><tr><td>2023-01-06</td><td>154.360001</td><td>154.639999</td><td>143.009995</td><td>147.669998</td><td>147.669998</td><td>2445000</td><td>&quot;A&quot;</td><td>null</td><td>150.372498</td></tr><tr><td>2023-01-09</td><td>149.690002</td><td>151.279999</td><td>147.199997</td><td>147.470001</td><td>147.470001</td><td>1269600</td><td>&quot;A&quot;</td><td>149.791998</td><td>149.73</td></tr><tr><td>2023-01-10</td><td>150.179993</td><td>155.550003</td><td>148.75</td><td>155.229996</td><td>155.229996</td><td>1565700</td><td>&quot;A&quot;</td><td>150.829999</td><td>150.619999</td></tr><tr><td>2023-01-11</td><td>155.229996</td><td>158.580002</td><td>155.229996</td><td>158.169998</td><td>158.169998</td><td>1241900</td><td>&quot;A&quot;</td><td>152.129999</td><td>152.134998</td></tr><tr><td>2023-01-12</td><td>158.160004</td><td>158.600006</td><td>155.580002</td><td>156.490005</td><td>156.490005</td><td>809100</td><td>&quot;A&quot;</td><td>153.006</td><td>154.34</td></tr><tr><td>2023-01-13</td><td>155.539993</td><td>157.279999</td><td>154.5</td><td>156.919998</td><td>156.919998</td><td>921700</td><td>&quot;A&quot;</td><td>154.856</td><td>156.702499</td></tr><tr><td>2023-01-17</td><td>156.679993</td><td>158.110001</td><td>155.029999</td><td>155.399994</td><td>155.399994</td><td>1602200</td><td>&quot;A&quot;</td><td>156.441998</td><td>156.744999</td></tr><tr><td>2023-01-18</td><td>156.259995</td><td>158.160004</td><td>153.639999</td><td>154.070007</td><td>154.070007</td><td>1150700</td><td>&quot;A&quot;</td><td>156.210001</td><td>155.720001</td></tr><tr><td>2023-01-19</td><td>153.580002</td><td>154.919998</td><td>152.139999</td><td>152.869995</td><td>152.869995</td><td>1017400</td><td>&quot;A&quot;</td><td>155.15</td><td>154.814999</td></tr><tr><td>&hellip;</td><td>&hellip;</td><td>&hellip;</td><td>&hellip;</td><td>&hellip;</td><td>&hellip;</td><td>&hellip;</td><td>&hellip;</td><td>&hellip;</td><td>&hellip;</td></tr><tr><td>2023-02-23</td><td>48.5</td><td>49.029999</td><td>46.549999</td><td>47.959999</td><td>47.873615</td><td>4654300</td><td>&quot;AA&quot;</td><td>48.134</td><td>47.974999</td></tr><tr><td>2023-02-24</td><td>46.93</td><td>46.93</td><td>45.27</td><td>46.450001</td><td>46.366337</td><td>4587700</td><td>&quot;AA&quot;</td><td>47.67</td><td>47.865</td></tr><tr><td>2023-02-27</td><td>46.849998</td><td>48.435001</td><td>46.369999</td><td>48.040001</td><td>47.953476</td><td>4931200</td><td>&quot;AA&quot;</td><td>47.9</td><td>47.8575</td></tr><tr><td>2023-02-28</td><td>48.25</td><td>50.040001</td><td>47.799999</td><td>48.939999</td><td>48.851852</td><td>3871400</td><td>&quot;AA&quot;</td><td>48.074</td><td>47.8475</td></tr><tr><td>2023-03-01</td><td>51.290001</td><td>52.959999</td><td>50.529999</td><td>51.650002</td><td>51.556973</td><td>7599600</td><td>&quot;AA&quot;</td><td>48.608</td><td>48.77</td></tr><tr><td>2023-03-02</td><td>50.189999</td><td>53.709999</td><td>50.049999</td><td>53.689999</td><td>53.593296</td><td>6467900</td><td>&quot;AA&quot;</td><td>49.754</td><td>50.58</td></tr><tr><td>2023-03-03</td><td>54.330002</td><td>55.740002</td><td>53.700001</td><td>55.52</td><td>55.420002</td><td>6158800</td><td>&quot;AA&quot;</td><td>51.568</td><td>52.45</td></tr><tr><td>2023-03-06</td><td>54.009998</td><td>54.900002</td><td>53.380001</td><td>53.689999</td><td>53.689999</td><td>5129900</td><td>&quot;AA&quot;</td><td>52.698</td><td>53.6375</td></tr><tr><td>2023-03-07</td><td>52.779999</td><td>53.040001</td><td>49.919998</td><td>50.169998</td><td>50.169998</td><td>6298100</td><td>&quot;AA&quot;</td><td>52.943999</td><td>53.267499</td></tr><tr><td>2023-03-08</td><td>50.41</td><td>51.240002</td><td>49.75</td><td>51.02</td><td>51.02</td><td>3467000</td><td>&quot;AA&quot;</td><td>52.817999</td><td>52.599999</td></tr><tr><td>2023-03-09</td><td>50.700001</td><td>51.139999</td><td>47.330002</td><td>47.900002</td><td>47.900002</td><td>5590500</td><td>&quot;AA&quot;</td><td>51.66</td><td>50.695</td></tr><tr><td>2023-03-10</td><td>48.119999</td><td>48.119999</td><td>44.459999</td><td>44.91</td><td>44.91</td><td>6190400</td><td>&quot;AA&quot;</td><td>49.538</td><td>48.5</td></tr></tbody></table></div>"
      ],
      "text/plain": [
       "shape: (94, 10)\n",
       "┌────────────┬────────────┬────────────┬────────────┬───┬─────────┬────────┬───────────┬───────────┐\n",
       "│ Date       ┆ Open       ┆ High       ┆ Low        ┆ … ┆ Volume  ┆ Symbol ┆ SMA5      ┆ SMA4      │\n",
       "│ ---        ┆ ---        ┆ ---        ┆ ---        ┆   ┆ ---     ┆ ---    ┆ ---       ┆ ---       │\n",
       "│ date       ┆ f64        ┆ f64        ┆ f64        ┆   ┆ i64     ┆ str    ┆ f64       ┆ f64       │\n",
       "╞════════════╪════════════╪════════════╪════════════╪═══╪═════════╪════════╪═══════════╪═══════════╡\n",
       "│ 2023-01-03 ┆ 151.960007 ┆ 153.130005 ┆ 148.470001 ┆ … ┆ 1414300 ┆ A      ┆ null      ┆ null      │\n",
       "│ 2023-01-04 ┆ 151.649994 ┆ 153.039993 ┆ 150.240005 ┆ … ┆ 1247400 ┆ A      ┆ null      ┆ null      │\n",
       "│ 2023-01-05 ┆ 150.0      ┆ 153.070007 ┆ 148.770004 ┆ … ┆ 1714600 ┆ A      ┆ null      ┆ null      │\n",
       "│ 2023-01-06 ┆ 154.360001 ┆ 154.639999 ┆ 143.009995 ┆ … ┆ 2445000 ┆ A      ┆ null      ┆ 150.37249 │\n",
       "│            ┆            ┆            ┆            ┆   ┆         ┆        ┆           ┆ 8         │\n",
       "│ …          ┆ …          ┆ …          ┆ …          ┆ … ┆ …       ┆ …      ┆ …         ┆ …         │\n",
       "│ 2023-03-07 ┆ 52.779999  ┆ 53.040001  ┆ 49.919998  ┆ … ┆ 6298100 ┆ AA     ┆ 52.943999 ┆ 53.267499 │\n",
       "│ 2023-03-08 ┆ 50.41      ┆ 51.240002  ┆ 49.75      ┆ … ┆ 3467000 ┆ AA     ┆ 52.817999 ┆ 52.599999 │\n",
       "│ 2023-03-09 ┆ 50.700001  ┆ 51.139999  ┆ 47.330002  ┆ … ┆ 5590500 ┆ AA     ┆ 51.66     ┆ 50.695    │\n",
       "│ 2023-03-10 ┆ 48.119999  ┆ 48.119999  ┆ 44.459999  ┆ … ┆ 6190400 ┆ AA     ┆ 49.538    ┆ 48.5      │\n",
       "└────────────┴────────────┴────────────┴────────────┴───┴─────────┴────────┴───────────┴───────────┘"
      ]
     },
     "execution_count": 5,
     "metadata": {},
     "output_type": "execute_result"
    }
   ],
   "source": [
    "ret1 = pi.simple_moving_average(df, 5)\n",
    "ret2 = pi.simple_moving_average(ret1.df, 4)\n",
    "ret2.df"
   ]
  },
  {
   "cell_type": "code",
   "execution_count": 8,
   "metadata": {},
   "outputs": [
    {
     "data": {
      "text/html": [
       "<div><style>\n",
       ".dataframe > thead > tr > th,\n",
       ".dataframe > tbody > tr > td {\n",
       "  text-align: right;\n",
       "}\n",
       "</style>\n",
       "<small>shape: (94, 11)</small><table border=\"1\" class=\"dataframe\"><thead><tr><th>Date</th><th>Open</th><th>High</th><th>Low</th><th>Close</th><th>Adj Close</th><th>Volume</th><th>Symbol</th><th>SMA5</th><th>SMA4</th><th>SMA5_cross_up_SMA4</th></tr><tr><td>date</td><td>f64</td><td>f64</td><td>f64</td><td>f64</td><td>f64</td><td>i64</td><td>str</td><td>f64</td><td>f64</td><td>bool</td></tr></thead><tbody><tr><td>2023-01-03</td><td>151.960007</td><td>153.130005</td><td>148.470001</td><td>150.039993</td><td>150.039993</td><td>1414300</td><td>&quot;A&quot;</td><td>null</td><td>null</td><td>null</td></tr><tr><td>2023-01-04</td><td>151.649994</td><td>153.039993</td><td>150.240005</td><td>151.669998</td><td>151.669998</td><td>1247400</td><td>&quot;A&quot;</td><td>null</td><td>null</td><td>null</td></tr><tr><td>2023-01-05</td><td>150.0</td><td>153.070007</td><td>148.770004</td><td>152.110001</td><td>152.110001</td><td>1714600</td><td>&quot;A&quot;</td><td>null</td><td>null</td><td>null</td></tr><tr><td>2023-01-06</td><td>154.360001</td><td>154.639999</td><td>143.009995</td><td>147.669998</td><td>147.669998</td><td>2445000</td><td>&quot;A&quot;</td><td>null</td><td>150.372498</td><td>null</td></tr><tr><td>2023-01-09</td><td>149.690002</td><td>151.279999</td><td>147.199997</td><td>147.470001</td><td>147.470001</td><td>1269600</td><td>&quot;A&quot;</td><td>149.791998</td><td>149.73</td><td>null</td></tr><tr><td>2023-01-10</td><td>150.179993</td><td>155.550003</td><td>148.75</td><td>155.229996</td><td>155.229996</td><td>1565700</td><td>&quot;A&quot;</td><td>150.829999</td><td>150.619999</td><td>false</td></tr><tr><td>2023-01-11</td><td>155.229996</td><td>158.580002</td><td>155.229996</td><td>158.169998</td><td>158.169998</td><td>1241900</td><td>&quot;A&quot;</td><td>152.129999</td><td>152.134998</td><td>false</td></tr><tr><td>2023-01-12</td><td>158.160004</td><td>158.600006</td><td>155.580002</td><td>156.490005</td><td>156.490005</td><td>809100</td><td>&quot;A&quot;</td><td>153.006</td><td>154.34</td><td>false</td></tr><tr><td>2023-01-13</td><td>155.539993</td><td>157.279999</td><td>154.5</td><td>156.919998</td><td>156.919998</td><td>921700</td><td>&quot;A&quot;</td><td>154.856</td><td>156.702499</td><td>false</td></tr><tr><td>2023-01-17</td><td>156.679993</td><td>158.110001</td><td>155.029999</td><td>155.399994</td><td>155.399994</td><td>1602200</td><td>&quot;A&quot;</td><td>156.441998</td><td>156.744999</td><td>false</td></tr><tr><td>2023-01-18</td><td>156.259995</td><td>158.160004</td><td>153.639999</td><td>154.070007</td><td>154.070007</td><td>1150700</td><td>&quot;A&quot;</td><td>156.210001</td><td>155.720001</td><td>true</td></tr><tr><td>2023-01-19</td><td>153.580002</td><td>154.919998</td><td>152.139999</td><td>152.869995</td><td>152.869995</td><td>1017400</td><td>&quot;A&quot;</td><td>155.15</td><td>154.814999</td><td>false</td></tr><tr><td>&hellip;</td><td>&hellip;</td><td>&hellip;</td><td>&hellip;</td><td>&hellip;</td><td>&hellip;</td><td>&hellip;</td><td>&hellip;</td><td>&hellip;</td><td>&hellip;</td><td>&hellip;</td></tr><tr><td>2023-02-23</td><td>48.5</td><td>49.029999</td><td>46.549999</td><td>47.959999</td><td>47.873615</td><td>4654300</td><td>&quot;AA&quot;</td><td>48.134</td><td>47.974999</td><td>false</td></tr><tr><td>2023-02-24</td><td>46.93</td><td>46.93</td><td>45.27</td><td>46.450001</td><td>46.366337</td><td>4587700</td><td>&quot;AA&quot;</td><td>47.67</td><td>47.865</td><td>false</td></tr><tr><td>2023-02-27</td><td>46.849998</td><td>48.435001</td><td>46.369999</td><td>48.040001</td><td>47.953476</td><td>4931200</td><td>&quot;AA&quot;</td><td>47.9</td><td>47.8575</td><td>true</td></tr><tr><td>2023-02-28</td><td>48.25</td><td>50.040001</td><td>47.799999</td><td>48.939999</td><td>48.851852</td><td>3871400</td><td>&quot;AA&quot;</td><td>48.074</td><td>47.8475</td><td>false</td></tr><tr><td>2023-03-01</td><td>51.290001</td><td>52.959999</td><td>50.529999</td><td>51.650002</td><td>51.556973</td><td>7599600</td><td>&quot;AA&quot;</td><td>48.608</td><td>48.77</td><td>false</td></tr><tr><td>2023-03-02</td><td>50.189999</td><td>53.709999</td><td>50.049999</td><td>53.689999</td><td>53.593296</td><td>6467900</td><td>&quot;AA&quot;</td><td>49.754</td><td>50.58</td><td>false</td></tr><tr><td>2023-03-03</td><td>54.330002</td><td>55.740002</td><td>53.700001</td><td>55.52</td><td>55.420002</td><td>6158800</td><td>&quot;AA&quot;</td><td>51.568</td><td>52.45</td><td>false</td></tr><tr><td>2023-03-06</td><td>54.009998</td><td>54.900002</td><td>53.380001</td><td>53.689999</td><td>53.689999</td><td>5129900</td><td>&quot;AA&quot;</td><td>52.698</td><td>53.6375</td><td>false</td></tr><tr><td>2023-03-07</td><td>52.779999</td><td>53.040001</td><td>49.919998</td><td>50.169998</td><td>50.169998</td><td>6298100</td><td>&quot;AA&quot;</td><td>52.943999</td><td>53.267499</td><td>false</td></tr><tr><td>2023-03-08</td><td>50.41</td><td>51.240002</td><td>49.75</td><td>51.02</td><td>51.02</td><td>3467000</td><td>&quot;AA&quot;</td><td>52.817999</td><td>52.599999</td><td>true</td></tr><tr><td>2023-03-09</td><td>50.700001</td><td>51.139999</td><td>47.330002</td><td>47.900002</td><td>47.900002</td><td>5590500</td><td>&quot;AA&quot;</td><td>51.66</td><td>50.695</td><td>false</td></tr><tr><td>2023-03-10</td><td>48.119999</td><td>48.119999</td><td>44.459999</td><td>44.91</td><td>44.91</td><td>6190400</td><td>&quot;AA&quot;</td><td>49.538</td><td>48.5</td><td>false</td></tr></tbody></table></div>"
      ],
      "text/plain": [
       "shape: (94, 11)\n",
       "┌────────────┬───────────┬───────────┬───────────┬───┬────────┬───────────┬───────────┬────────────┐\n",
       "│ Date       ┆ Open      ┆ High      ┆ Low       ┆ … ┆ Symbol ┆ SMA5      ┆ SMA4      ┆ SMA5_cross │\n",
       "│ ---        ┆ ---       ┆ ---       ┆ ---       ┆   ┆ ---    ┆ ---       ┆ ---       ┆ _up_SMA4   │\n",
       "│ date       ┆ f64       ┆ f64       ┆ f64       ┆   ┆ str    ┆ f64       ┆ f64       ┆ ---        │\n",
       "│            ┆           ┆           ┆           ┆   ┆        ┆           ┆           ┆ bool       │\n",
       "╞════════════╪═══════════╪═══════════╪═══════════╪═══╪════════╪═══════════╪═══════════╪════════════╡\n",
       "│ 2023-01-03 ┆ 151.96000 ┆ 153.13000 ┆ 148.47000 ┆ … ┆ A      ┆ null      ┆ null      ┆ null       │\n",
       "│            ┆ 7         ┆ 5         ┆ 1         ┆   ┆        ┆           ┆           ┆            │\n",
       "│ 2023-01-04 ┆ 151.64999 ┆ 153.03999 ┆ 150.24000 ┆ … ┆ A      ┆ null      ┆ null      ┆ null       │\n",
       "│            ┆ 4         ┆ 3         ┆ 5         ┆   ┆        ┆           ┆           ┆            │\n",
       "│ 2023-01-05 ┆ 150.0     ┆ 153.07000 ┆ 148.77000 ┆ … ┆ A      ┆ null      ┆ null      ┆ null       │\n",
       "│            ┆           ┆ 7         ┆ 4         ┆   ┆        ┆           ┆           ┆            │\n",
       "│ 2023-01-06 ┆ 154.36000 ┆ 154.63999 ┆ 143.00999 ┆ … ┆ A      ┆ null      ┆ 150.37249 ┆ null       │\n",
       "│            ┆ 1         ┆ 9         ┆ 5         ┆   ┆        ┆           ┆ 8         ┆            │\n",
       "│ …          ┆ …         ┆ …         ┆ …         ┆ … ┆ …      ┆ …         ┆ …         ┆ …          │\n",
       "│ 2023-03-07 ┆ 52.779999 ┆ 53.040001 ┆ 49.919998 ┆ … ┆ AA     ┆ 52.943999 ┆ 53.267499 ┆ false      │\n",
       "│ 2023-03-08 ┆ 50.41     ┆ 51.240002 ┆ 49.75     ┆ … ┆ AA     ┆ 52.817999 ┆ 52.599999 ┆ true       │\n",
       "│ 2023-03-09 ┆ 50.700001 ┆ 51.139999 ┆ 47.330002 ┆ … ┆ AA     ┆ 51.66     ┆ 50.695    ┆ false      │\n",
       "│ 2023-03-10 ┆ 48.119999 ┆ 48.119999 ┆ 44.459999 ┆ … ┆ AA     ┆ 49.538    ┆ 48.5      ┆ false      │\n",
       "└────────────┴───────────┴───────────┴───────────┴───┴────────┴───────────┴───────────┴────────────┘"
      ]
     },
     "execution_count": 8,
     "metadata": {},
     "output_type": "execute_result"
    }
   ],
   "source": [
    "ret3 = pi.crossover(ret2.df, ret1.column, ret2.column, direction='up')\n",
    "ret3.df"
   ]
  },
  {
   "cell_type": "code",
   "execution_count": null,
   "metadata": {},
   "outputs": [],
   "source": [
    "ret3.df.filter(pl.col(ret3.column) == True)"
   ]
  },
  {
   "cell_type": "code",
   "execution_count": 20,
   "metadata": {},
   "outputs": [
    {
     "data": {
      "text/html": [
       "<div><style>\n",
       ".dataframe > thead > tr > th,\n",
       ".dataframe > tbody > tr > td {\n",
       "  text-align: right;\n",
       "}\n",
       "</style>\n",
       "<small>shape: (94, 10)</small><table border=\"1\" class=\"dataframe\"><thead><tr><th>my_index</th><th>Date</th><th>Open</th><th>High</th><th>Low</th><th>Close</th><th>Adj Close</th><th>Volume</th><th>Symbol</th><th>test</th></tr><tr><td>u32</td><td>date</td><td>f64</td><td>f64</td><td>f64</td><td>f64</td><td>f64</td><td>i64</td><td>str</td><td>i64</td></tr></thead><tbody><tr><td>0</td><td>2023-01-03</td><td>151.960007</td><td>153.130005</td><td>148.470001</td><td>150.039993</td><td>150.039993</td><td>1414300</td><td>&quot;A&quot;</td><td>1</td></tr><tr><td>1</td><td>2023-01-04</td><td>151.649994</td><td>153.039993</td><td>150.240005</td><td>151.669998</td><td>151.669998</td><td>1247400</td><td>&quot;A&quot;</td><td>2</td></tr><tr><td>2</td><td>2023-01-05</td><td>150.0</td><td>153.070007</td><td>148.770004</td><td>152.110001</td><td>152.110001</td><td>1714600</td><td>&quot;A&quot;</td><td>3</td></tr><tr><td>3</td><td>2023-01-06</td><td>154.360001</td><td>154.639999</td><td>143.009995</td><td>147.669998</td><td>147.669998</td><td>2445000</td><td>&quot;A&quot;</td><td>2</td></tr><tr><td>4</td><td>2023-01-09</td><td>149.690002</td><td>151.279999</td><td>147.199997</td><td>147.470001</td><td>147.470001</td><td>1269600</td><td>&quot;A&quot;</td><td>5</td></tr><tr><td>5</td><td>2023-01-10</td><td>150.179993</td><td>155.550003</td><td>148.75</td><td>155.229996</td><td>155.229996</td><td>1565700</td><td>&quot;A&quot;</td><td>6</td></tr><tr><td>6</td><td>2023-01-11</td><td>155.229996</td><td>158.580002</td><td>155.229996</td><td>158.169998</td><td>158.169998</td><td>1241900</td><td>&quot;A&quot;</td><td>7</td></tr><tr><td>7</td><td>2023-01-12</td><td>158.160004</td><td>158.600006</td><td>155.580002</td><td>156.490005</td><td>156.490005</td><td>809100</td><td>&quot;A&quot;</td><td>8</td></tr><tr><td>8</td><td>2023-01-13</td><td>155.539993</td><td>157.279999</td><td>154.5</td><td>156.919998</td><td>156.919998</td><td>921700</td><td>&quot;A&quot;</td><td>9</td></tr><tr><td>9</td><td>2023-01-17</td><td>156.679993</td><td>158.110001</td><td>155.029999</td><td>155.399994</td><td>155.399994</td><td>1602200</td><td>&quot;A&quot;</td><td>10</td></tr><tr><td>10</td><td>2023-01-18</td><td>156.259995</td><td>158.160004</td><td>153.639999</td><td>154.070007</td><td>154.070007</td><td>1150700</td><td>&quot;A&quot;</td><td>11</td></tr><tr><td>11</td><td>2023-01-19</td><td>153.580002</td><td>154.919998</td><td>152.139999</td><td>152.869995</td><td>152.869995</td><td>1017400</td><td>&quot;A&quot;</td><td>12</td></tr><tr><td>&hellip;</td><td>&hellip;</td><td>&hellip;</td><td>&hellip;</td><td>&hellip;</td><td>&hellip;</td><td>&hellip;</td><td>&hellip;</td><td>&hellip;</td><td>&hellip;</td></tr><tr><td>82</td><td>2023-02-23</td><td>48.5</td><td>49.029999</td><td>46.549999</td><td>47.959999</td><td>47.873615</td><td>4654300</td><td>&quot;AA&quot;</td><td>83</td></tr><tr><td>83</td><td>2023-02-24</td><td>46.93</td><td>46.93</td><td>45.27</td><td>46.450001</td><td>46.366337</td><td>4587700</td><td>&quot;AA&quot;</td><td>84</td></tr><tr><td>84</td><td>2023-02-27</td><td>46.849998</td><td>48.435001</td><td>46.369999</td><td>48.040001</td><td>47.953476</td><td>4931200</td><td>&quot;AA&quot;</td><td>85</td></tr><tr><td>85</td><td>2023-02-28</td><td>48.25</td><td>50.040001</td><td>47.799999</td><td>48.939999</td><td>48.851852</td><td>3871400</td><td>&quot;AA&quot;</td><td>86</td></tr><tr><td>86</td><td>2023-03-01</td><td>51.290001</td><td>52.959999</td><td>50.529999</td><td>51.650002</td><td>51.556973</td><td>7599600</td><td>&quot;AA&quot;</td><td>87</td></tr><tr><td>87</td><td>2023-03-02</td><td>50.189999</td><td>53.709999</td><td>50.049999</td><td>53.689999</td><td>53.593296</td><td>6467900</td><td>&quot;AA&quot;</td><td>88</td></tr><tr><td>88</td><td>2023-03-03</td><td>54.330002</td><td>55.740002</td><td>53.700001</td><td>55.52</td><td>55.420002</td><td>6158800</td><td>&quot;AA&quot;</td><td>89</td></tr><tr><td>89</td><td>2023-03-06</td><td>54.009998</td><td>54.900002</td><td>53.380001</td><td>53.689999</td><td>53.689999</td><td>5129900</td><td>&quot;AA&quot;</td><td>90</td></tr><tr><td>90</td><td>2023-03-07</td><td>52.779999</td><td>53.040001</td><td>49.919998</td><td>50.169998</td><td>50.169998</td><td>6298100</td><td>&quot;AA&quot;</td><td>91</td></tr><tr><td>91</td><td>2023-03-08</td><td>50.41</td><td>51.240002</td><td>49.75</td><td>51.02</td><td>51.02</td><td>3467000</td><td>&quot;AA&quot;</td><td>92</td></tr><tr><td>92</td><td>2023-03-09</td><td>50.700001</td><td>51.139999</td><td>47.330002</td><td>47.900002</td><td>47.900002</td><td>5590500</td><td>&quot;AA&quot;</td><td>93</td></tr><tr><td>93</td><td>2023-03-10</td><td>48.119999</td><td>48.119999</td><td>44.459999</td><td>44.91</td><td>44.91</td><td>6190400</td><td>&quot;AA&quot;</td><td>94</td></tr></tbody></table></div>"
      ],
      "text/plain": [
       "shape: (94, 10)\n",
       "┌──────────┬────────────┬────────────┬────────────┬───┬────────────┬─────────┬────────┬──────┐\n",
       "│ my_index ┆ Date       ┆ Open       ┆ High       ┆ … ┆ Adj Close  ┆ Volume  ┆ Symbol ┆ test │\n",
       "│ ---      ┆ ---        ┆ ---        ┆ ---        ┆   ┆ ---        ┆ ---     ┆ ---    ┆ ---  │\n",
       "│ u32      ┆ date       ┆ f64        ┆ f64        ┆   ┆ f64        ┆ i64     ┆ str    ┆ i64  │\n",
       "╞══════════╪════════════╪════════════╪════════════╪═══╪════════════╪═════════╪════════╪══════╡\n",
       "│ 0        ┆ 2023-01-03 ┆ 151.960007 ┆ 153.130005 ┆ … ┆ 150.039993 ┆ 1414300 ┆ A      ┆ 1    │\n",
       "│ 1        ┆ 2023-01-04 ┆ 151.649994 ┆ 153.039993 ┆ … ┆ 151.669998 ┆ 1247400 ┆ A      ┆ 2    │\n",
       "│ 2        ┆ 2023-01-05 ┆ 150.0      ┆ 153.070007 ┆ … ┆ 152.110001 ┆ 1714600 ┆ A      ┆ 3    │\n",
       "│ 3        ┆ 2023-01-06 ┆ 154.360001 ┆ 154.639999 ┆ … ┆ 147.669998 ┆ 2445000 ┆ A      ┆ 2    │\n",
       "│ …        ┆ …          ┆ …          ┆ …          ┆ … ┆ …          ┆ …       ┆ …      ┆ …    │\n",
       "│ 90       ┆ 2023-03-07 ┆ 52.779999  ┆ 53.040001  ┆ … ┆ 50.169998  ┆ 6298100 ┆ AA     ┆ 91   │\n",
       "│ 91       ┆ 2023-03-08 ┆ 50.41      ┆ 51.240002  ┆ … ┆ 51.02      ┆ 3467000 ┆ AA     ┆ 92   │\n",
       "│ 92       ┆ 2023-03-09 ┆ 50.700001  ┆ 51.139999  ┆ … ┆ 47.900002  ┆ 5590500 ┆ AA     ┆ 93   │\n",
       "│ 93       ┆ 2023-03-10 ┆ 48.119999  ┆ 48.119999  ┆ … ┆ 44.91      ┆ 6190400 ┆ AA     ┆ 94   │\n",
       "└──────────┴────────────┴────────────┴────────────┴───┴────────────┴─────────┴────────┴──────┘"
      ]
     },
     "execution_count": 20,
     "metadata": {},
     "output_type": "execute_result"
    }
   ],
   "source": [
    "col_name = 'my_index'\n",
    "df = df.with_row_count(name=col_name).with_columns(pl.when(pl.col(col_name) == 3).then(pl.col(col_name)-1).otherwise(pl.col(col_name) + 1).alias('test'))\n",
    "df"
   ]
  },
  {
   "cell_type": "code",
   "execution_count": 24,
   "metadata": {},
   "outputs": [],
   "source": [
    "result = pi.crossover(df, 'test', col_name)\n",
    "mydf = result.df"
   ]
  },
  {
   "cell_type": "code",
   "execution_count": 27,
   "metadata": {},
   "outputs": [
    {
     "data": {
      "text/plain": [
       "[3, 4]"
      ]
     },
     "execution_count": 27,
     "metadata": {},
     "output_type": "execute_result"
    }
   ],
   "source": [
    "mydf.filter(pl.col(result.column) == True)[col_name].to_list()"
   ]
  },
  {
   "cell_type": "code",
   "execution_count": null,
   "metadata": {},
   "outputs": [],
   "source": []
  }
 ],
 "metadata": {
  "kernelspec": {
   "display_name": ".venv",
   "language": "python",
   "name": "python3"
  },
  "language_info": {
   "codemirror_mode": {
    "name": "ipython",
    "version": 3
   },
   "file_extension": ".py",
   "mimetype": "text/x-python",
   "name": "python",
   "nbconvert_exporter": "python",
   "pygments_lexer": "ipython3",
   "version": "3.10.5"
  },
  "orig_nbformat": 4
 },
 "nbformat": 4,
 "nbformat_minor": 2
}
