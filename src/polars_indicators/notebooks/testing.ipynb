{
 "cells": [
  {
   "cell_type": "code",
   "execution_count": 1,
   "metadata": {},
   "outputs": [],
   "source": [
    "import polars as pl\n",
    "from datetime import datetime,timedelta\n",
    "import get_and_store as gas\n",
    "import polars_indicators as pi\n",
    "from polars_indicators.indicators import IndicatorResult\n",
    "from importlib import reload\n",
    "DATE_COLUNN = \"Date\""
   ]
  },
  {
   "cell_type": "code",
   "execution_count": 2,
   "metadata": {},
   "outputs": [
    {
     "data": {
      "text/plain": [
       "<module 'polars_indicators.indicators' from '/home/avery/dev/polar-indicators/src/polars_indicators/indicators/__init__.py'>"
      ]
     },
     "execution_count": 2,
     "metadata": {},
     "output_type": "execute_result"
    }
   ],
   "source": [
    "reload(pi)\n",
    "reload(pi.strategies.buy_x_week_low)\n",
    "reload(pi.summarize.trades)\n",
    "reload(pi.indicators)"
   ]
  },
  {
   "cell_type": "code",
   "execution_count": 3,
   "metadata": {},
   "outputs": [],
   "source": [
    "symbols = ['A','AA']"
   ]
  },
  {
   "cell_type": "code",
   "execution_count": 4,
   "metadata": {},
   "outputs": [],
   "source": [
    "#df = gas.get_symbols_df(symbols)"
   ]
  },
  {
   "cell_type": "code",
   "execution_count": 5,
   "metadata": {},
   "outputs": [],
   "source": [
    "try:\n",
    "    df = saved_df.clone()\n",
    "except NameError:\n",
    "        df = gas.get_all_saved_data_df()\n",
    "        df = df.filter(pl.col(pi.indicators.DATE_COLUMN) >= datetime(2020, 1, 1))\n",
    "        df = df.collect()"
   ]
  },
  {
   "cell_type": "code",
   "execution_count": 6,
   "metadata": {},
   "outputs": [],
   "source": [
    "saved_df = df.clone()"
   ]
  },
  {
   "cell_type": "code",
   "execution_count": 7,
   "metadata": {},
   "outputs": [],
   "source": [
    "sma100 = pi.indicators.simple_moving_average(df, 100)\n",
    "df = sma100.df\n",
    "slope_up = pi.indicators.slope_up(df, column=sma100.column)\n",
    "df = slope_up.df.with_columns(pl.col(slope_up.column).shift()) #shifting so we use previous bar"
   ]
  },
  {
   "cell_type": "code",
   "execution_count": 8,
   "metadata": {},
   "outputs": [
    {
     "data": {
      "text/html": [
       "<div><style>\n",
       ".dataframe > thead > tr > th,\n",
       ".dataframe > tbody > tr > td {\n",
       "  text-align: right;\n",
       "}\n",
       "</style>\n",
       "<small>shape: (6053367, 10)</small><table border=\"1\" class=\"dataframe\"><thead><tr><th>Date</th><th>Open</th><th>High</th><th>Low</th><th>Close</th><th>Adj Close</th><th>Volume</th><th>Symbol</th><th>SMA100</th><th>SMA100_slope_up</th></tr><tr><td>datetime[μs]</td><td>f64</td><td>f64</td><td>f64</td><td>f64</td><td>f64</td><td>i64</td><td>str</td><td>f64</td><td>bool</td></tr></thead><tbody><tr><td>2020-01-02 00:00:00</td><td>4.61</td><td>4.61</td><td>4.26</td><td>4.56</td><td>4.56</td><td>116200</td><td>&quot;CEMI&quot;</td><td>null</td><td>null</td></tr><tr><td>2020-01-03 00:00:00</td><td>5.0</td><td>5.4</td><td>4.78</td><td>5.19</td><td>5.19</td><td>432600</td><td>&quot;CEMI&quot;</td><td>null</td><td>null</td></tr><tr><td>2020-01-06 00:00:00</td><td>5.08</td><td>5.11</td><td>4.85</td><td>4.89</td><td>4.89</td><td>140400</td><td>&quot;CEMI&quot;</td><td>null</td><td>null</td></tr><tr><td>2020-01-07 00:00:00</td><td>4.83</td><td>5.19</td><td>4.82</td><td>5.09</td><td>5.09</td><td>75200</td><td>&quot;CEMI&quot;</td><td>null</td><td>null</td></tr><tr><td>2020-01-08 00:00:00</td><td>5.05</td><td>5.1</td><td>4.82</td><td>4.87</td><td>4.87</td><td>71300</td><td>&quot;CEMI&quot;</td><td>null</td><td>null</td></tr><tr><td>2020-01-09 00:00:00</td><td>4.85</td><td>4.94</td><td>4.85</td><td>4.86</td><td>4.86</td><td>21500</td><td>&quot;CEMI&quot;</td><td>null</td><td>null</td></tr><tr><td>2020-01-10 00:00:00</td><td>4.85</td><td>4.85</td><td>3.89</td><td>4.54</td><td>4.54</td><td>557100</td><td>&quot;CEMI&quot;</td><td>null</td><td>null</td></tr><tr><td>2020-01-13 00:00:00</td><td>4.5</td><td>4.5</td><td>4.21</td><td>4.24</td><td>4.24</td><td>87500</td><td>&quot;CEMI&quot;</td><td>null</td><td>null</td></tr><tr><td>2020-01-14 00:00:00</td><td>4.25</td><td>4.34</td><td>4.0</td><td>4.16</td><td>4.16</td><td>60800</td><td>&quot;CEMI&quot;</td><td>null</td><td>null</td></tr><tr><td>2020-01-15 00:00:00</td><td>4.15</td><td>4.34</td><td>4.15</td><td>4.16</td><td>4.16</td><td>109100</td><td>&quot;CEMI&quot;</td><td>null</td><td>null</td></tr><tr><td>2020-01-16 00:00:00</td><td>4.18</td><td>4.18</td><td>3.9</td><td>4.01</td><td>4.01</td><td>212400</td><td>&quot;CEMI&quot;</td><td>null</td><td>null</td></tr><tr><td>2020-01-17 00:00:00</td><td>4.0</td><td>4.02</td><td>3.8</td><td>3.9</td><td>3.9</td><td>593600</td><td>&quot;CEMI&quot;</td><td>null</td><td>null</td></tr><tr><td>&hellip;</td><td>&hellip;</td><td>&hellip;</td><td>&hellip;</td><td>&hellip;</td><td>&hellip;</td><td>&hellip;</td><td>&hellip;</td><td>&hellip;</td><td>&hellip;</td></tr><tr><td>2023-03-29 00:00:00</td><td>31.84</td><td>31.889</td><td>31.84</td><td>31.868999</td><td>31.868999</td><td>1600</td><td>&quot;SIXL&quot;</td><td>33.01303</td><td>false</td></tr><tr><td>2023-03-30 00:00:00</td><td>32.02</td><td>32.02</td><td>31.879</td><td>31.879</td><td>31.879</td><td>300</td><td>&quot;SIXL&quot;</td><td>33.00983</td><td>false</td></tr><tr><td>2023-03-31 00:00:00</td><td>32.009998</td><td>32.207001</td><td>32.009998</td><td>32.207001</td><td>32.207001</td><td>300</td><td>&quot;SIXL&quot;</td><td>33.00724</td><td>false</td></tr><tr><td>2023-04-03 00:00:00</td><td>32.268002</td><td>32.268002</td><td>32.268002</td><td>32.268002</td><td>32.268002</td><td>100</td><td>&quot;SIXL&quot;</td><td>33.00287</td><td>false</td></tr><tr><td>2023-04-04 00:00:00</td><td>31.93</td><td>32.061001</td><td>31.92</td><td>32.061001</td><td>32.061001</td><td>800</td><td>&quot;SIXL&quot;</td><td>32.99623</td><td>false</td></tr><tr><td>2023-04-05 00:00:00</td><td>32.355</td><td>32.355</td><td>32.355</td><td>32.355</td><td>32.355</td><td>700</td><td>&quot;SIXL&quot;</td><td>32.99607</td><td>false</td></tr><tr><td>2023-04-06 00:00:00</td><td>32.419998</td><td>32.462002</td><td>32.419998</td><td>32.462002</td><td>32.462002</td><td>2400</td><td>&quot;SIXL&quot;</td><td>32.98801</td><td>false</td></tr><tr><td>2023-04-10 00:00:00</td><td>32.459999</td><td>32.539001</td><td>32.459999</td><td>32.539001</td><td>32.539001</td><td>2500</td><td>&quot;SIXL&quot;</td><td>32.98405</td><td>false</td></tr><tr><td>2023-04-11 00:00:00</td><td>32.669998</td><td>32.669998</td><td>32.644001</td><td>32.644001</td><td>32.644001</td><td>900</td><td>&quot;SIXL&quot;</td><td>32.98257</td><td>false</td></tr><tr><td>2023-04-12 00:00:00</td><td>32.669998</td><td>32.669998</td><td>32.526001</td><td>32.526001</td><td>32.526001</td><td>9700</td><td>&quot;SIXL&quot;</td><td>32.97797</td><td>false</td></tr><tr><td>2023-04-13 00:00:00</td><td>32.700001</td><td>32.700001</td><td>32.700001</td><td>32.700001</td><td>32.700001</td><td>100</td><td>&quot;SIXL&quot;</td><td>32.97513</td><td>false</td></tr><tr><td>2023-04-14 00:00:00</td><td>32.360001</td><td>32.450001</td><td>32.349998</td><td>32.368</td><td>32.368</td><td>3400</td><td>&quot;SIXL&quot;</td><td>32.96959</td><td>false</td></tr></tbody></table></div>"
      ],
      "text/plain": [
       "shape: (6053367, 10)\n",
       "┌──────────────┬───────────┬───────────┬───────────┬───┬────────┬────────┬──────────┬──────────────┐\n",
       "│ Date         ┆ Open      ┆ High      ┆ Low       ┆ … ┆ Volume ┆ Symbol ┆ SMA100   ┆ SMA100_slope │\n",
       "│ ---          ┆ ---       ┆ ---       ┆ ---       ┆   ┆ ---    ┆ ---    ┆ ---      ┆ _up          │\n",
       "│ datetime[μs] ┆ f64       ┆ f64       ┆ f64       ┆   ┆ i64    ┆ str    ┆ f64      ┆ ---          │\n",
       "│              ┆           ┆           ┆           ┆   ┆        ┆        ┆          ┆ bool         │\n",
       "╞══════════════╪═══════════╪═══════════╪═══════════╪═══╪════════╪════════╪══════════╪══════════════╡\n",
       "│ 2020-01-02   ┆ 4.61      ┆ 4.61      ┆ 4.26      ┆ … ┆ 116200 ┆ CEMI   ┆ null     ┆ null         │\n",
       "│ 00:00:00     ┆           ┆           ┆           ┆   ┆        ┆        ┆          ┆              │\n",
       "│ 2020-01-03   ┆ 5.0       ┆ 5.4       ┆ 4.78      ┆ … ┆ 432600 ┆ CEMI   ┆ null     ┆ null         │\n",
       "│ 00:00:00     ┆           ┆           ┆           ┆   ┆        ┆        ┆          ┆              │\n",
       "│ 2020-01-06   ┆ 5.08      ┆ 5.11      ┆ 4.85      ┆ … ┆ 140400 ┆ CEMI   ┆ null     ┆ null         │\n",
       "│ 00:00:00     ┆           ┆           ┆           ┆   ┆        ┆        ┆          ┆              │\n",
       "│ 2020-01-07   ┆ 4.83      ┆ 5.19      ┆ 4.82      ┆ … ┆ 75200  ┆ CEMI   ┆ null     ┆ null         │\n",
       "│ 00:00:00     ┆           ┆           ┆           ┆   ┆        ┆        ┆          ┆              │\n",
       "│ …            ┆ …         ┆ …         ┆ …         ┆ … ┆ …      ┆ …      ┆ …        ┆ …            │\n",
       "│ 2023-04-11   ┆ 32.669998 ┆ 32.669998 ┆ 32.644001 ┆ … ┆ 900    ┆ SIXL   ┆ 32.98257 ┆ false        │\n",
       "│ 00:00:00     ┆           ┆           ┆           ┆   ┆        ┆        ┆          ┆              │\n",
       "│ 2023-04-12   ┆ 32.669998 ┆ 32.669998 ┆ 32.526001 ┆ … ┆ 9700   ┆ SIXL   ┆ 32.97797 ┆ false        │\n",
       "│ 00:00:00     ┆           ┆           ┆           ┆   ┆        ┆        ┆          ┆              │\n",
       "│ 2023-04-13   ┆ 32.700001 ┆ 32.700001 ┆ 32.700001 ┆ … ┆ 100    ┆ SIXL   ┆ 32.97513 ┆ false        │\n",
       "│ 00:00:00     ┆           ┆           ┆           ┆   ┆        ┆        ┆          ┆              │\n",
       "│ 2023-04-14   ┆ 32.360001 ┆ 32.450001 ┆ 32.349998 ┆ … ┆ 3400   ┆ SIXL   ┆ 32.96959 ┆ false        │\n",
       "│ 00:00:00     ┆           ┆           ┆           ┆   ┆        ┆        ┆          ┆              │\n",
       "└──────────────┴───────────┴───────────┴───────────┴───┴────────┴────────┴──────────┴──────────────┘"
      ]
     },
     "execution_count": 8,
     "metadata": {},
     "output_type": "execute_result"
    }
   ],
   "source": [
    "df = df.with_columns(pl.col(pi.indicators.DATE_COLUMN).cast(pl.Datetime))\n",
    "df"
   ]
  },
  {
   "cell_type": "code",
   "execution_count": 9,
   "metadata": {},
   "outputs": [],
   "source": [
    "#filter out average price too low\n",
    "df = df.filter(pl.col(pi.indicators.CLOSE_COLUMN).mean().over(pi.indicators.SYMBOL_COLUMN) > 3)\n",
    "\n",
    "# filter out too many 0 volume bars. This gets rid of a lot of garbage\n",
    "df = df.filter((pl.col(pi.indicators.VOLUMNE_COLUMN) == 0).sum().over(pi.indicators.SYMBOL_COLUMN) < 3)\n",
    "\n",
    "# minimum amount of volume\n",
    "df = df.filter(pl.col(pi.indicators.VOLUMNE_COLUMN).mean().over(pi.indicators.SYMBOL_COLUMN) > 100000)\n"
   ]
  },
  {
   "cell_type": "code",
   "execution_count": 10,
   "metadata": {},
   "outputs": [
    {
     "data": {
      "text/plain": [
       "polars.series.series.Series"
      ]
     },
     "execution_count": 10,
     "metadata": {},
     "output_type": "execute_result"
    }
   ],
   "source": [
    "#r = df.select(pl.col(pi.indicators.CLOSE_COLUMN) > 3)\n",
    "r = df[pi.indicators.CLOSE_COLUMN] > 3\n",
    "type(r)"
   ]
  },
  {
   "cell_type": "code",
   "execution_count": 11,
   "metadata": {},
   "outputs": [
    {
     "name": "stderr",
     "output_type": "stream",
     "text": [
      "The predicate 'col(\"364 days, 0:00:00_week_min_targets\").is_not_null()' in 'when->then->otherwise' is not a valid aggregation and might produce a different number of rows than the groupby operation would. This behavior is experimental and may be subject to change\n",
      "The predicate 'col(\"364 days, 0:00:00_week_min_targets\").is_not_null()' in 'when->then->otherwise' is not a valid aggregation and might produce a different number of rows than the groupby operation would. This behavior is experimental and may be subject to change\n"
     ]
    }
   ],
   "source": [
    "lookback = timedelta(weeks=52)\n",
    "modresult_05 = pi.strategies.buy_x_week_low.strategy(df, lookback, 0.5, 5, 2, 3)\n",
    "modresult_1 = pi.strategies.buy_x_week_low.strategy(df, lookback, 1, 5, 2, 3)"
   ]
  },
  {
   "cell_type": "code",
   "execution_count": 12,
   "metadata": {},
   "outputs": [],
   "source": [
    "trades_05 = pi.summarize.trades.Trades.from_strategy_result(modresult_05, [slope_up.column])\n",
    "trades_1 = pi.summarize.trades.Trades.from_strategy_result(modresult_1, [slope_up.column])"
   ]
  },
  {
   "cell_type": "code",
   "execution_count": 13,
   "metadata": {},
   "outputs": [
    {
     "name": "stderr",
     "output_type": "stream",
     "text": [
      "The predicate '[(col(\"Gain/Loss%\")) > (0.0)]' in 'when->then->otherwise' is not a valid aggregation and might produce a different number of rows than the groupby operation would. This behavior is experimental and may be subject to change\n",
      "The predicate '[(col(\"Gain/Loss%\")) < (0.0)]' in 'when->then->otherwise' is not a valid aggregation and might produce a different number of rows than the groupby operation would. This behavior is experimental and may be subject to change\n"
     ]
    },
    {
     "data": {
      "text/html": [
       "<div><style>\n",
       ".dataframe > thead > tr > th,\n",
       ".dataframe > tbody > tr > td {\n",
       "  text-align: right;\n",
       "}\n",
       "</style>\n",
       "<small>shape: (3, 12)</small><table border=\"1\" class=\"dataframe\"><thead><tr><th>SMA100_slope_up</th><th>Gain/Loss%Sum</th><th>Winners</th><th>Losers</th><th>Trades</th><th>Win_Ratio</th><th>Average_Gain/Loss%</th><th>Average_Length</th><th>highest_win</th><th>Highest%</th><th>lowest_loss</th><th>Lowest%</th></tr><tr><td>bool</td><td>f64</td><td>u32</td><td>u32</td><td>u32</td><td>f64</td><td>f64</td><td>f64</td><td>f64</td><td>f64</td><td>f64</td><td>f64</td></tr></thead><tbody><tr><td>false</td><td>66528.23</td><td>26676</td><td>15869</td><td>42563</td><td>0.626742</td><td>1.563053</td><td>4.848108</td><td>417.25</td><td>462.63</td><td>-72.26</td><td>-86.47</td></tr><tr><td>null</td><td>415.0</td><td>83</td><td>0</td><td>83</td><td>1.0</td><td>5.0</td><td>1.0</td><td>5.0</td><td>30.08</td><td>null</td><td>-13.25</td></tr><tr><td>true</td><td>800.0</td><td>160</td><td>0</td><td>160</td><td>1.0</td><td>5.0</td><td>1.0</td><td>5.0</td><td>560.43</td><td>null</td><td>-49.11</td></tr></tbody></table></div>"
      ],
      "text/plain": [
       "shape: (3, 12)\n",
       "┌────────────┬────────────┬─────────┬────────┬───┬──────────────┬──────────┬─────────────┬─────────┐\n",
       "│ SMA100_slo ┆ Gain/Loss% ┆ Winners ┆ Losers ┆ … ┆ highest_win  ┆ Highest% ┆ lowest_loss ┆ Lowest% │\n",
       "│ pe_up      ┆ Sum        ┆ ---     ┆ ---    ┆   ┆ ---          ┆ ---      ┆ ---         ┆ ---     │\n",
       "│ ---        ┆ ---        ┆ u32     ┆ u32    ┆   ┆ f64          ┆ f64      ┆ f64         ┆ f64     │\n",
       "│ bool       ┆ f64        ┆         ┆        ┆   ┆              ┆          ┆             ┆         │\n",
       "╞════════════╪════════════╪═════════╪════════╪═══╪══════════════╪══════════╪═════════════╪═════════╡\n",
       "│ false      ┆ 66528.23   ┆ 26676   ┆ 15869  ┆ … ┆ 417.25       ┆ 462.63   ┆ -72.26      ┆ -86.47  │\n",
       "│ null       ┆ 415.0      ┆ 83      ┆ 0      ┆ … ┆ 5.0          ┆ 30.08    ┆ null        ┆ -13.25  │\n",
       "│ true       ┆ 800.0      ┆ 160     ┆ 0      ┆ … ┆ 5.0          ┆ 560.43   ┆ null        ┆ -49.11  │\n",
       "└────────────┴────────────┴─────────┴────────┴───┴──────────────┴──────────┴─────────────┴─────────┘"
      ]
     },
     "execution_count": 13,
     "metadata": {},
     "output_type": "execute_result"
    }
   ],
   "source": [
    "trades_05.summarize_strategy(slope_up.column)"
   ]
  },
  {
   "cell_type": "code",
   "execution_count": 14,
   "metadata": {},
   "outputs": [
    {
     "data": {
      "text/html": [
       "<div><style>\n",
       ".dataframe > thead > tr > th,\n",
       ".dataframe > tbody > tr > td {\n",
       "  text-align: right;\n",
       "}\n",
       "</style>\n",
       "<small>shape: (1, 11)</small><table border=\"1\" class=\"dataframe\"><thead><tr><th>Gain/Loss%Sum</th><th>Winners</th><th>Losers</th><th>Trades</th><th>Win_Ratio</th><th>Average_Gain/Loss%</th><th>Average_Length</th><th>highest_win</th><th>Highest%</th><th>lowest_loss</th><th>Lowest%</th></tr><tr><td>f64</td><td>u32</td><td>u32</td><td>u32</td><td>f64</td><td>f64</td><td>f64</td><td>f64</td><td>f64</td><td>f64</td><td>f64</td></tr></thead><tbody><tr><td>69558.68</td><td>28368</td><td>17906</td><td>46291</td><td>0.612819</td><td>1.502639</td><td>4.742261</td><td>414.69</td><td>557.16</td><td>-71.98</td><td>-86.54</td></tr></tbody></table></div>"
      ],
      "text/plain": [
       "shape: (1, 11)\n",
       "┌───────────────┬─────────┬────────┬────────┬───┬─────────────┬──────────┬─────────────┬─────────┐\n",
       "│ Gain/Loss%Sum ┆ Winners ┆ Losers ┆ Trades ┆ … ┆ highest_win ┆ Highest% ┆ lowest_loss ┆ Lowest% │\n",
       "│ ---           ┆ ---     ┆ ---    ┆ ---    ┆   ┆ ---         ┆ ---      ┆ ---         ┆ ---     │\n",
       "│ f64           ┆ u32     ┆ u32    ┆ u32    ┆   ┆ f64         ┆ f64      ┆ f64         ┆ f64     │\n",
       "╞═══════════════╪═════════╪════════╪════════╪═══╪═════════════╪══════════╪═════════════╪═════════╡\n",
       "│ 69558.68      ┆ 28368   ┆ 17906  ┆ 46291  ┆ … ┆ 414.69      ┆ 557.16   ┆ -71.98      ┆ -86.54  │\n",
       "└───────────────┴─────────┴────────┴────────┴───┴─────────────┴──────────┴─────────────┴─────────┘"
      ]
     },
     "execution_count": 14,
     "metadata": {},
     "output_type": "execute_result"
    }
   ],
   "source": [
    "trades_1.summarize_strategy()"
   ]
  },
  {
   "cell_type": "code",
   "execution_count": 19,
   "metadata": {},
   "outputs": [
    {
     "data": {
      "text/html": [
       "<div><style>\n",
       ".dataframe > thead > tr > th,\n",
       ".dataframe > tbody > tr > td {\n",
       "  text-align: right;\n",
       "}\n",
       "</style>\n",
       "<small>shape: (1, 14)</small><table border=\"1\" class=\"dataframe\"><thead><tr><th>364 days, 0:00:00_week_min_targets/exit_column</th><th>SMA100_slope_up</th><th>Symbol</th><th>Start</th><th>End</th><th>Entry_Price</th><th>Exit_Price</th><th>Low</th><th>High</th><th>Length</th><th>Gain/Loss</th><th>Gain/Loss%</th><th>Highest%</th><th>Lowest%</th></tr><tr><td>i32</td><td>bool</td><td>str</td><td>datetime[μs]</td><td>datetime[μs]</td><td>f64</td><td>f64</td><td>f64</td><td>f64</td><td>u32</td><td>f64</td><td>f64</td><td>f64</td><td>f64</td></tr></thead><tbody><tr><td>40239</td><td>false</td><td>&quot;SPRO&quot;</td><td>2022-04-26 00:00:00</td><td>2022-05-03 00:00:00</td><td>5.353</td><td>1.5</td><td>1.495</td><td>5.54</td><td>6</td><td>-3.853</td><td>-71.98</td><td>3.49</td><td>-72.07</td></tr></tbody></table></div>"
      ],
      "text/plain": [
       "shape: (1, 14)\n",
       "┌────────────┬────────────┬────────┬─────────────┬───┬───────────┬────────────┬──────────┬─────────┐\n",
       "│ 364 days,  ┆ SMA100_slo ┆ Symbol ┆ Start       ┆ … ┆ Gain/Loss ┆ Gain/Loss% ┆ Highest% ┆ Lowest% │\n",
       "│ 0:00:00_we ┆ pe_up      ┆ ---    ┆ ---         ┆   ┆ ---       ┆ ---        ┆ ---      ┆ ---     │\n",
       "│ ek_min_tar ┆ ---        ┆ str    ┆ datetime[μs ┆   ┆ f64       ┆ f64        ┆ f64      ┆ f64     │\n",
       "│ ge…        ┆ bool       ┆        ┆ ]           ┆   ┆           ┆            ┆          ┆         │\n",
       "│ ---        ┆            ┆        ┆             ┆   ┆           ┆            ┆          ┆         │\n",
       "│ i32        ┆            ┆        ┆             ┆   ┆           ┆            ┆          ┆         │\n",
       "╞════════════╪════════════╪════════╪═════════════╪═══╪═══════════╪════════════╪══════════╪═════════╡\n",
       "│ 40239      ┆ false      ┆ SPRO   ┆ 2022-04-26  ┆ … ┆ -3.853    ┆ -71.98     ┆ 3.49     ┆ -72.07  │\n",
       "│            ┆            ┆        ┆ 00:00:00    ┆   ┆           ┆            ┆          ┆         │\n",
       "└────────────┴────────────┴────────┴─────────────┴───┴───────────┴────────────┴──────────┴─────────┘"
      ]
     },
     "execution_count": 19,
     "metadata": {},
     "output_type": "execute_result"
    }
   ],
   "source": [
    "trades_1.df.filter(pl.col(\"Gain/Loss%\") < -70.54)"
   ]
  },
  {
   "cell_type": "code",
   "execution_count": 16,
   "metadata": {},
   "outputs": [
    {
     "data": {
      "text/html": [
       "<div><style>\n",
       ".dataframe > thead > tr > th,\n",
       ".dataframe > tbody > tr > td {\n",
       "  text-align: right;\n",
       "}\n",
       "</style>\n",
       "<small>shape: (1, 14)</small><table border=\"1\" class=\"dataframe\"><thead><tr><th>364 days, 0:00:00_week_min_targets/exit_column</th><th>SMA100_slope_up</th><th>Symbol</th><th>Start</th><th>End</th><th>Entry_Price</th><th>Exit_Price</th><th>Low</th><th>High</th><th>Length</th><th>Gain/Loss</th><th>Gain/Loss%</th><th>Highest%</th><th>Lowest%</th></tr><tr><td>i32</td><td>bool</td><td>str</td><td>datetime[μs]</td><td>datetime[μs]</td><td>f64</td><td>f64</td><td>f64</td><td>f64</td><td>u32</td><td>f64</td><td>f64</td><td>f64</td><td>f64</td></tr></thead><tbody><tr><td>30482</td><td>true</td><td>&quot;CARM&quot;</td><td>2021-08-13 00:00:00</td><td>2021-08-13 00:00:00</td><td>18.382001</td><td>19.301101</td><td>14.0</td><td>120.800003</td><td>1</td><td>0.9191</td><td>5.0</td><td>557.16</td><td>-23.84</td></tr></tbody></table></div>"
      ],
      "text/plain": [
       "shape: (1, 14)\n",
       "┌────────────┬────────────┬────────┬─────────────┬───┬───────────┬────────────┬──────────┬─────────┐\n",
       "│ 364 days,  ┆ SMA100_slo ┆ Symbol ┆ Start       ┆ … ┆ Gain/Loss ┆ Gain/Loss% ┆ Highest% ┆ Lowest% │\n",
       "│ 0:00:00_we ┆ pe_up      ┆ ---    ┆ ---         ┆   ┆ ---       ┆ ---        ┆ ---      ┆ ---     │\n",
       "│ ek_min_tar ┆ ---        ┆ str    ┆ datetime[μs ┆   ┆ f64       ┆ f64        ┆ f64      ┆ f64     │\n",
       "│ ge…        ┆ bool       ┆        ┆ ]           ┆   ┆           ┆            ┆          ┆         │\n",
       "│ ---        ┆            ┆        ┆             ┆   ┆           ┆            ┆          ┆         │\n",
       "│ i32        ┆            ┆        ┆             ┆   ┆           ┆            ┆          ┆         │\n",
       "╞════════════╪════════════╪════════╪═════════════╪═══╪═══════════╪════════════╪══════════╪═════════╡\n",
       "│ 30482      ┆ true       ┆ CARM   ┆ 2021-08-13  ┆ … ┆ 0.9191    ┆ 5.0        ┆ 557.16   ┆ -23.84  │\n",
       "│            ┆            ┆        ┆ 00:00:00    ┆   ┆           ┆            ┆          ┆         │\n",
       "└────────────┴────────────┴────────┴─────────────┴───┴───────────┴────────────┴──────────┴─────────┘"
      ]
     },
     "execution_count": 16,
     "metadata": {},
     "output_type": "execute_result"
    }
   ],
   "source": [
    "trades_1.df.filter(pl.col(\"Highest%\") == 557.16)"
   ]
  },
  {
   "cell_type": "code",
   "execution_count": 17,
   "metadata": {},
   "outputs": [
    {
     "data": {
      "text/html": [
       "<div><style>\n",
       ".dataframe > thead > tr > th,\n",
       ".dataframe > tbody > tr > td {\n",
       "  text-align: right;\n",
       "}\n",
       "</style>\n",
       "<small>shape: (3892, 2)</small><table border=\"1\" class=\"dataframe\"><thead><tr><th>Symbol</th><th>trades</th></tr><tr><td>str</td><td>u32</td></tr></thead><tbody><tr><td>&quot;ROOT&quot;</td><td>65</td></tr><tr><td>&quot;AYTU&quot;</td><td>65</td></tr><tr><td>&quot;BXRX&quot;</td><td>60</td></tr><tr><td>&quot;PALI&quot;</td><td>60</td></tr><tr><td>&quot;COMS&quot;</td><td>60</td></tr><tr><td>&quot;WISA&quot;</td><td>60</td></tr><tr><td>&quot;CZOO&quot;</td><td>58</td></tr><tr><td>&quot;KALA&quot;</td><td>57</td></tr><tr><td>&quot;NBY&quot;</td><td>56</td></tr><tr><td>&quot;INM&quot;</td><td>56</td></tr><tr><td>&quot;RMED&quot;</td><td>55</td></tr><tr><td>&quot;RSLS&quot;</td><td>55</td></tr><tr><td>&hellip;</td><td>&hellip;</td></tr><tr><td>&quot;TTE&quot;</td><td>1</td></tr><tr><td>&quot;TYG&quot;</td><td>1</td></tr><tr><td>&quot;XLV&quot;</td><td>1</td></tr><tr><td>&quot;FDL&quot;</td><td>1</td></tr><tr><td>&quot;PRGS&quot;</td><td>1</td></tr><tr><td>&quot;VST&quot;</td><td>1</td></tr><tr><td>&quot;CBOE&quot;</td><td>1</td></tr><tr><td>&quot;COWZ&quot;</td><td>1</td></tr><tr><td>&quot;NTR&quot;</td><td>1</td></tr><tr><td>&quot;SQM&quot;</td><td>1</td></tr><tr><td>&quot;TRI&quot;</td><td>1</td></tr><tr><td>&quot;IDA&quot;</td><td>1</td></tr></tbody></table></div>"
      ],
      "text/plain": [
       "shape: (3892, 2)\n",
       "┌────────┬────────┐\n",
       "│ Symbol ┆ trades │\n",
       "│ ---    ┆ ---    │\n",
       "│ str    ┆ u32    │\n",
       "╞════════╪════════╡\n",
       "│ ROOT   ┆ 65     │\n",
       "│ AYTU   ┆ 65     │\n",
       "│ BXRX   ┆ 60     │\n",
       "│ PALI   ┆ 60     │\n",
       "│ …      ┆ …      │\n",
       "│ NTR    ┆ 1      │\n",
       "│ SQM    ┆ 1      │\n",
       "│ TRI    ┆ 1      │\n",
       "│ IDA    ┆ 1      │\n",
       "└────────┴────────┘"
      ]
     },
     "execution_count": 17,
     "metadata": {},
     "output_type": "execute_result"
    }
   ],
   "source": [
    "tf = trades_05.df.groupby(pi.indicators.SYMBOL_COLUMN).agg(pl.col(pi.indicators.SYMBOL_COLUMN).count().alias(\"trades\")).sort(\"trades\", descending=True)\n",
    "tf"
   ]
  },
  {
   "cell_type": "code",
   "execution_count": 18,
   "metadata": {},
   "outputs": [
    {
     "data": {
      "text/html": [
       "<div><style>\n",
       ".dataframe > thead > tr > th,\n",
       ".dataframe > tbody > tr > td {\n",
       "  text-align: right;\n",
       "}\n",
       "</style>\n",
       "<small>shape: (42806, 14)</small><table border=\"1\" class=\"dataframe\"><thead><tr><th>364 days, 0:00:00_week_min_targets/exit_column</th><th>SMA100_slope_up</th><th>Symbol</th><th>Start</th><th>End</th><th>Entry_Price</th><th>Exit_Price</th><th>Low</th><th>High</th><th>Length</th><th>Gain/Loss</th><th>Gain/Loss%</th><th>Highest%</th><th>Lowest%</th></tr><tr><td>i32</td><td>bool</td><td>str</td><td>datetime[μs]</td><td>datetime[μs]</td><td>f64</td><td>f64</td><td>f64</td><td>f64</td><td>u32</td><td>f64</td><td>f64</td><td>f64</td><td>f64</td></tr></thead><tbody><tr><td>1</td><td>false</td><td>&quot;CEMI&quot;</td><td>2021-05-25 00:00:00</td><td>2021-06-03 00:00:00</td><td>3.02505</td><td>3.17</td><td>2.98</td><td>3.3</td><td>7</td><td>0.14495</td><td>4.79</td><td>9.09</td><td>-1.49</td></tr><tr><td>2</td><td>false</td><td>&quot;BWXT&quot;</td><td>2021-08-03 00:00:00</td><td>2021-08-03 00:00:00</td><td>53.2851</td><td>55.949355</td><td>52.470001</td><td>56.279999</td><td>1</td><td>2.664255</td><td>5.0</td><td>5.62</td><td>-1.53</td></tr><tr><td>3</td><td>false</td><td>&quot;BWXT&quot;</td><td>2021-08-05 00:00:00</td><td>2021-08-16 00:00:00</td><td>52.732351</td><td>55.110001</td><td>52.310001</td><td>55.91</td><td>8</td><td>2.377649</td><td>4.51</td><td>6.03</td><td>-0.8</td></tr><tr><td>4</td><td>false</td><td>&quot;BWXT&quot;</td><td>2021-11-02 00:00:00</td><td>2021-11-08 00:00:00</td><td>52.571551</td><td>54.0</td><td>50.82</td><td>55.529999</td><td>5</td><td>1.428449</td><td>2.72</td><td>5.63</td><td>-3.33</td></tr><tr><td>5</td><td>false</td><td>&quot;BWXT&quot;</td><td>2021-11-18 00:00:00</td><td>2021-11-23 00:00:00</td><td>51.0741</td><td>51.200001</td><td>50.310001</td><td>52.18</td><td>4</td><td>0.125901</td><td>0.25</td><td>2.17</td><td>-1.5</td></tr><tr><td>6</td><td>false</td><td>&quot;BWXT&quot;</td><td>2021-11-24 00:00:00</td><td>2021-11-26 00:00:00</td><td>50.561551</td><td>49.84</td><td>48.919998</td><td>51.509998</td><td>2</td><td>-0.721551</td><td>-1.43</td><td>1.88</td><td>-3.25</td></tr><tr><td>7</td><td>false</td><td>&quot;BWXT&quot;</td><td>2021-11-29 00:00:00</td><td>2021-12-09 00:00:00</td><td>49.164598</td><td>47.889999</td><td>46.799999</td><td>49.75</td><td>9</td><td>-1.274599</td><td>-2.59</td><td>1.19</td><td>-4.81</td></tr><tr><td>8</td><td>false</td><td>&quot;BWXT&quot;</td><td>2021-12-15 00:00:00</td><td>2021-12-20 00:00:00</td><td>47.033999</td><td>46.700001</td><td>45.5</td><td>48.73</td><td>4</td><td>-0.333998</td><td>-0.71</td><td>3.61</td><td>-3.26</td></tr><tr><td>9</td><td>false</td><td>&quot;BWXT&quot;</td><td>2022-01-26 00:00:00</td><td>2022-01-26 00:00:00</td><td>45.7275</td><td>48.013875</td><td>45.23</td><td>48.299999</td><td>1</td><td>2.286375</td><td>5.0</td><td>5.63</td><td>-1.09</td></tr><tr><td>10</td><td>false</td><td>&quot;BWXT&quot;</td><td>2022-01-27 00:00:00</td><td>2022-01-28 00:00:00</td><td>45.45615</td><td>44.0</td><td>42.580002</td><td>46.259998</td><td>2</td><td>-1.45615</td><td>-3.2</td><td>1.77</td><td>-6.33</td></tr><tr><td>11</td><td>false</td><td>&quot;BWXT&quot;</td><td>2022-01-31 00:00:00</td><td>2022-02-04 00:00:00</td><td>42.792902</td><td>43.880001</td><td>42.740002</td><td>44.919998</td><td>5</td><td>1.087099</td><td>2.54</td><td>4.97</td><td>-0.12</td></tr><tr><td>12</td><td>false</td><td>&quot;BWXT&quot;</td><td>2022-02-22 00:00:00</td><td>2022-03-03 00:00:00</td><td>42.792902</td><td>52.799999</td><td>42.77</td><td>54.299999</td><td>8</td><td>10.007097</td><td>23.38</td><td>26.89</td><td>-0.05</td></tr><tr><td>&hellip;</td><td>&hellip;</td><td>&hellip;</td><td>&hellip;</td><td>&hellip;</td><td>&hellip;</td><td>&hellip;</td><td>&hellip;</td><td>&hellip;</td><td>&hellip;</td><td>&hellip;</td><td>&hellip;</td><td>&hellip;</td><td>&hellip;</td></tr><tr><td>42795</td><td>false</td><td>&quot;APPS&quot;</td><td>2022-05-11 00:00:00</td><td>2022-05-11 00:00:00</td><td>24.481801</td><td>25.705891</td><td>22.860001</td><td>26.110001</td><td>1</td><td>1.22409</td><td>5.0</td><td>6.65</td><td>-6.62</td></tr><tr><td>42796</td><td>false</td><td>&quot;APPS&quot;</td><td>2022-05-12 00:00:00</td><td>2022-05-12 00:00:00</td><td>22.974301</td><td>24.123016</td><td>21.6</td><td>24.790001</td><td>1</td><td>1.148715</td><td>5.0</td><td>7.9</td><td>-5.98</td></tr><tr><td>42797</td><td>false</td><td>&quot;APPS&quot;</td><td>2022-05-24 00:00:00</td><td>2022-05-24 00:00:00</td><td>21.708</td><td>22.7934</td><td>21.43</td><td>24.190001</td><td>1</td><td>1.0854</td><td>5.0</td><td>11.43</td><td>-1.28</td></tr><tr><td>42798</td><td>false</td><td>&quot;APPS&quot;</td><td>2022-06-01 00:00:00</td><td>2022-06-10 00:00:00</td><td>21.53715</td><td>18.379999</td><td>17.129999</td><td>22.5</td><td>8</td><td>-3.157151</td><td>-14.66</td><td>4.47</td><td>-20.46</td></tr><tr><td>42799</td><td>false</td><td>&quot;APPS&quot;</td><td>2022-06-14 00:00:00</td><td>2022-07-01 00:00:00</td><td>15.4971</td><td>16.9</td><td>14.43</td><td>18.26</td><td>13</td><td>1.4029</td><td>9.05</td><td>17.83</td><td>-6.89</td></tr><tr><td>42800</td><td>false</td><td>&quot;APPS&quot;</td><td>2022-09-26 00:00:00</td><td>2022-09-26 00:00:00</td><td>14.50215</td><td>15.227258</td><td>14.5</td><td>15.57</td><td>1</td><td>0.725108</td><td>5.0</td><td>7.36</td><td>-0.01</td></tr><tr><td>42801</td><td>false</td><td>&quot;APPS&quot;</td><td>2022-09-27 00:00:00</td><td>2022-09-27 00:00:00</td><td>14.50215</td><td>15.227258</td><td>14.38</td><td>15.36</td><td>1</td><td>0.725108</td><td>5.0</td><td>5.92</td><td>-0.84</td></tr><tr><td>42802</td><td>false</td><td>&quot;APPS&quot;</td><td>2022-09-29 00:00:00</td><td>2022-10-07 00:00:00</td><td>14.4519</td><td>15.07</td><td>14.09</td><td>16.719999</td><td>7</td><td>0.6181</td><td>4.28</td><td>15.69</td><td>-2.5</td></tr><tr><td>42803</td><td>false</td><td>&quot;APPS&quot;</td><td>2022-10-10 00:00:00</td><td>2022-10-13 00:00:00</td><td>14.16045</td><td>13.46499</td><td>12.19</td><td>14.5</td><td>4</td><td>-0.69546</td><td>-4.91</td><td>2.4</td><td>-13.92</td></tr><tr><td>42804</td><td>false</td><td>&quot;APPS&quot;</td><td>2022-11-04 00:00:00</td><td>2022-11-04 00:00:00</td><td>12.25095</td><td>12.863497</td><td>11.98</td><td>13.07</td><td>1</td><td>0.612547</td><td>5.0</td><td>6.69</td><td>-2.21</td></tr><tr><td>42805</td><td>false</td><td>&quot;APPS&quot;</td><td>2022-11-08 00:00:00</td><td>2022-11-17 00:00:00</td><td>12.0399</td><td>17.690001</td><td>10.65</td><td>20.4</td><td>8</td><td>5.650101</td><td>46.93</td><td>69.44</td><td>-11.54</td></tr><tr><td>42806</td><td>false</td><td>&quot;APPS&quot;</td><td>2023-02-27 00:00:00</td><td>2023-03-20 00:00:00</td><td>10.70325</td><td>10.14</td><td>9.13</td><td>11.31</td><td>16</td><td>-0.563249</td><td>-5.26</td><td>5.67</td><td>-14.7</td></tr></tbody></table></div>"
      ],
      "text/plain": [
       "shape: (42806, 14)\n",
       "┌────────────┬────────────┬────────┬─────────────┬───┬───────────┬────────────┬──────────┬─────────┐\n",
       "│ 364 days,  ┆ SMA100_slo ┆ Symbol ┆ Start       ┆ … ┆ Gain/Loss ┆ Gain/Loss% ┆ Highest% ┆ Lowest% │\n",
       "│ 0:00:00_we ┆ pe_up      ┆ ---    ┆ ---         ┆   ┆ ---       ┆ ---        ┆ ---      ┆ ---     │\n",
       "│ ek_min_tar ┆ ---        ┆ str    ┆ datetime[μs ┆   ┆ f64       ┆ f64        ┆ f64      ┆ f64     │\n",
       "│ ge…        ┆ bool       ┆        ┆ ]           ┆   ┆           ┆            ┆          ┆         │\n",
       "│ ---        ┆            ┆        ┆             ┆   ┆           ┆            ┆          ┆         │\n",
       "│ i32        ┆            ┆        ┆             ┆   ┆           ┆            ┆          ┆         │\n",
       "╞════════════╪════════════╪════════╪═════════════╪═══╪═══════════╪════════════╪══════════╪═════════╡\n",
       "│ 1          ┆ false      ┆ CEMI   ┆ 2021-05-25  ┆ … ┆ 0.14495   ┆ 4.79       ┆ 9.09     ┆ -1.49   │\n",
       "│            ┆            ┆        ┆ 00:00:00    ┆   ┆           ┆            ┆          ┆         │\n",
       "│ 2          ┆ false      ┆ BWXT   ┆ 2021-08-03  ┆ … ┆ 2.664255  ┆ 5.0        ┆ 5.62     ┆ -1.53   │\n",
       "│            ┆            ┆        ┆ 00:00:00    ┆   ┆           ┆            ┆          ┆         │\n",
       "│ 3          ┆ false      ┆ BWXT   ┆ 2021-08-05  ┆ … ┆ 2.377649  ┆ 4.51       ┆ 6.03     ┆ -0.8    │\n",
       "│            ┆            ┆        ┆ 00:00:00    ┆   ┆           ┆            ┆          ┆         │\n",
       "│ 4          ┆ false      ┆ BWXT   ┆ 2021-11-02  ┆ … ┆ 1.428449  ┆ 2.72       ┆ 5.63     ┆ -3.33   │\n",
       "│            ┆            ┆        ┆ 00:00:00    ┆   ┆           ┆            ┆          ┆         │\n",
       "│ …          ┆ …          ┆ …      ┆ …           ┆ … ┆ …         ┆ …          ┆ …        ┆ …       │\n",
       "│ 42803      ┆ false      ┆ APPS   ┆ 2022-10-10  ┆ … ┆ -0.69546  ┆ -4.91      ┆ 2.4      ┆ -13.92  │\n",
       "│            ┆            ┆        ┆ 00:00:00    ┆   ┆           ┆            ┆          ┆         │\n",
       "│ 42804      ┆ false      ┆ APPS   ┆ 2022-11-04  ┆ … ┆ 0.612547  ┆ 5.0        ┆ 6.69     ┆ -2.21   │\n",
       "│            ┆            ┆        ┆ 00:00:00    ┆   ┆           ┆            ┆          ┆         │\n",
       "│ 42805      ┆ false      ┆ APPS   ┆ 2022-11-08  ┆ … ┆ 5.650101  ┆ 46.93      ┆ 69.44    ┆ -11.54  │\n",
       "│            ┆            ┆        ┆ 00:00:00    ┆   ┆           ┆            ┆          ┆         │\n",
       "│ 42806      ┆ false      ┆ APPS   ┆ 2023-02-27  ┆ … ┆ -0.563249 ┆ -5.26      ┆ 5.67     ┆ -14.7   │\n",
       "│            ┆            ┆        ┆ 00:00:00    ┆   ┆           ┆            ┆          ┆         │\n",
       "└────────────┴────────────┴────────┴─────────────┴───┴───────────┴────────────┴──────────┴─────────┘"
      ]
     },
     "execution_count": 18,
     "metadata": {},
     "output_type": "execute_result"
    }
   ],
   "source": [
    "trades_05.df"
   ]
  },
  {
   "cell_type": "code",
   "execution_count": null,
   "metadata": {},
   "outputs": [],
   "source": [
    "index = \"index\"\n",
    "t = df.with_row_count(index).filter(pl.col(index) < 10).select(pl.col(pi.indicators.DATE_COLUMN),pi.indicators.LOW_COLUMN)"
   ]
  },
  {
   "cell_type": "code",
   "execution_count": 33,
   "metadata": {},
   "outputs": [
    {
     "data": {
      "text/html": [
       "<div><style>\n",
       ".dataframe > thead > tr > th,\n",
       ".dataframe > tbody > tr > td {\n",
       "  text-align: right;\n",
       "}\n",
       "</style>\n",
       "<small>shape: (10, 3)</small><table border=\"1\" class=\"dataframe\"><thead><tr><th>Date</th><th>Low</th><th>roll</th></tr><tr><td>datetime[μs]</td><td>f64</td><td>f64</td></tr></thead><tbody><tr><td>2020-01-02 00:00:00</td><td>4.26</td><td>null</td></tr><tr><td>2020-01-03 00:00:00</td><td>4.78</td><td>null</td></tr><tr><td>2020-01-06 00:00:00</td><td>4.85</td><td>null</td></tr><tr><td>2020-01-07 00:00:00</td><td>4.82</td><td>null</td></tr><tr><td>2020-01-08 00:00:00</td><td>4.82</td><td>4.26</td></tr><tr><td>2020-01-09 00:00:00</td><td>4.85</td><td>4.78</td></tr><tr><td>2020-01-10 00:00:00</td><td>3.89</td><td>4.82</td></tr><tr><td>2020-01-13 00:00:00</td><td>4.21</td><td>4.82</td></tr><tr><td>2020-01-14 00:00:00</td><td>4.0</td><td>4.82</td></tr><tr><td>2020-01-15 00:00:00</td><td>4.15</td><td>3.89</td></tr></tbody></table></div>"
      ],
      "text/plain": [
       "shape: (10, 3)\n",
       "┌─────────────────────┬──────┬──────┐\n",
       "│ Date                ┆ Low  ┆ roll │\n",
       "│ ---                 ┆ ---  ┆ ---  │\n",
       "│ datetime[μs]        ┆ f64  ┆ f64  │\n",
       "╞═════════════════════╪══════╪══════╡\n",
       "│ 2020-01-02 00:00:00 ┆ 4.26 ┆ null │\n",
       "│ 2020-01-03 00:00:00 ┆ 4.78 ┆ null │\n",
       "│ 2020-01-06 00:00:00 ┆ 4.85 ┆ null │\n",
       "│ 2020-01-07 00:00:00 ┆ 4.82 ┆ null │\n",
       "│ …                   ┆ …    ┆ …    │\n",
       "│ 2020-01-10 00:00:00 ┆ 3.89 ┆ 4.82 │\n",
       "│ 2020-01-13 00:00:00 ┆ 4.21 ┆ 4.82 │\n",
       "│ 2020-01-14 00:00:00 ┆ 4.0  ┆ 4.82 │\n",
       "│ 2020-01-15 00:00:00 ┆ 4.15 ┆ 3.89 │\n",
       "└─────────────────────┴──────┴──────┘"
      ]
     },
     "execution_count": 33,
     "metadata": {},
     "output_type": "execute_result"
    }
   ],
   "source": [
    "t.with_columns(pl.col(\"Low\").rolling_min(2).shift(3).alias(\"roll\"))"
   ]
  },
  {
   "cell_type": "code",
   "execution_count": null,
   "metadata": {},
   "outputs": [],
   "source": []
  },
  {
   "cell_type": "code",
   "execution_count": 29,
   "metadata": {},
   "outputs": [
    {
     "data": {
      "text/html": [
       "<div><style>\n",
       ".dataframe > thead > tr > th,\n",
       ".dataframe > tbody > tr > td {\n",
       "  text-align: right;\n",
       "}\n",
       "</style>\n",
       "<small>shape: (3433219, 11)</small><table border=\"1\" class=\"dataframe\"><thead><tr><th>Date</th><th>Open</th><th>High</th><th>Low</th><th>Close</th><th>Adj Close</th><th>Volume</th><th>Symbol</th><th>SMA100</th><th>SMA100_slope_up</th><th>tester</th></tr><tr><td>datetime[μs]</td><td>f64</td><td>f64</td><td>f64</td><td>f64</td><td>f64</td><td>i64</td><td>str</td><td>f64</td><td>bool</td><td>u32</td></tr></thead><tbody><tr><td>2020-01-02 00:00:00</td><td>4.61</td><td>4.61</td><td>4.26</td><td>4.56</td><td>4.56</td><td>116200</td><td>&quot;CEMI&quot;</td><td>null</td><td>null</td><td>753</td></tr><tr><td>2020-01-03 00:00:00</td><td>5.0</td><td>5.4</td><td>4.78</td><td>5.19</td><td>5.19</td><td>432600</td><td>&quot;CEMI&quot;</td><td>null</td><td>null</td><td>753</td></tr><tr><td>2020-01-06 00:00:00</td><td>5.08</td><td>5.11</td><td>4.85</td><td>4.89</td><td>4.89</td><td>140400</td><td>&quot;CEMI&quot;</td><td>null</td><td>null</td><td>753</td></tr><tr><td>2020-01-07 00:00:00</td><td>4.83</td><td>5.19</td><td>4.82</td><td>5.09</td><td>5.09</td><td>75200</td><td>&quot;CEMI&quot;</td><td>null</td><td>null</td><td>753</td></tr><tr><td>2020-01-08 00:00:00</td><td>5.05</td><td>5.1</td><td>4.82</td><td>4.87</td><td>4.87</td><td>71300</td><td>&quot;CEMI&quot;</td><td>null</td><td>null</td><td>753</td></tr><tr><td>2020-01-09 00:00:00</td><td>4.85</td><td>4.94</td><td>4.85</td><td>4.86</td><td>4.86</td><td>21500</td><td>&quot;CEMI&quot;</td><td>null</td><td>null</td><td>753</td></tr><tr><td>2020-01-10 00:00:00</td><td>4.85</td><td>4.85</td><td>3.89</td><td>4.54</td><td>4.54</td><td>557100</td><td>&quot;CEMI&quot;</td><td>null</td><td>null</td><td>753</td></tr><tr><td>2020-01-13 00:00:00</td><td>4.5</td><td>4.5</td><td>4.21</td><td>4.24</td><td>4.24</td><td>87500</td><td>&quot;CEMI&quot;</td><td>null</td><td>null</td><td>753</td></tr><tr><td>2020-01-14 00:00:00</td><td>4.25</td><td>4.34</td><td>4.0</td><td>4.16</td><td>4.16</td><td>60800</td><td>&quot;CEMI&quot;</td><td>null</td><td>null</td><td>753</td></tr><tr><td>2020-01-15 00:00:00</td><td>4.15</td><td>4.34</td><td>4.15</td><td>4.16</td><td>4.16</td><td>109100</td><td>&quot;CEMI&quot;</td><td>null</td><td>null</td><td>753</td></tr><tr><td>2020-01-16 00:00:00</td><td>4.18</td><td>4.18</td><td>3.9</td><td>4.01</td><td>4.01</td><td>212400</td><td>&quot;CEMI&quot;</td><td>null</td><td>null</td><td>753</td></tr><tr><td>2020-01-17 00:00:00</td><td>4.0</td><td>4.02</td><td>3.8</td><td>3.9</td><td>3.9</td><td>593600</td><td>&quot;CEMI&quot;</td><td>null</td><td>null</td><td>753</td></tr><tr><td>&hellip;</td><td>&hellip;</td><td>&hellip;</td><td>&hellip;</td><td>&hellip;</td><td>&hellip;</td><td>&hellip;</td><td>&hellip;</td><td>&hellip;</td><td>&hellip;</td><td>&hellip;</td></tr><tr><td>2023-03-29 00:00:00</td><td>11.64</td><td>12.24</td><td>11.4</td><td>12.12</td><td>12.12</td><td>2275200</td><td>&quot;APPS&quot;</td><td>14.4539</td><td>false</td><td>52</td></tr><tr><td>2023-03-30 00:00:00</td><td>12.48</td><td>12.53</td><td>11.93</td><td>12.11</td><td>12.11</td><td>2130700</td><td>&quot;APPS&quot;</td><td>14.4487</td><td>false</td><td>52</td></tr><tr><td>2023-03-31 00:00:00</td><td>12.26</td><td>12.48</td><td>12.17</td><td>12.36</td><td>12.36</td><td>1671500</td><td>&quot;APPS&quot;</td><td>14.4487</td><td>false</td><td>52</td></tr><tr><td>2023-04-03 00:00:00</td><td>12.27</td><td>12.33</td><td>11.66</td><td>12.28</td><td>12.28</td><td>2307400</td><td>&quot;APPS&quot;</td><td>14.4494</td><td>false</td><td>52</td></tr><tr><td>2023-04-04 00:00:00</td><td>12.42</td><td>12.6</td><td>12.08</td><td>12.32</td><td>12.32</td><td>1406600</td><td>&quot;APPS&quot;</td><td>14.4573</td><td>true</td><td>52</td></tr><tr><td>2023-04-05 00:00:00</td><td>12.19</td><td>12.2</td><td>11.68</td><td>11.91</td><td>11.91</td><td>1558900</td><td>&quot;APPS&quot;</td><td>14.4687</td><td>true</td><td>52</td></tr><tr><td>2023-04-06 00:00:00</td><td>11.91</td><td>12.32</td><td>11.8</td><td>12.22</td><td>12.22</td><td>1210600</td><td>&quot;APPS&quot;</td><td>14.4176</td><td>true</td><td>52</td></tr><tr><td>2023-04-10 00:00:00</td><td>12.02</td><td>12.3</td><td>11.86</td><td>12.28</td><td>12.28</td><td>1322000</td><td>&quot;APPS&quot;</td><td>14.3485</td><td>false</td><td>52</td></tr><tr><td>2023-04-11 00:00:00</td><td>12.26</td><td>12.63</td><td>12.23</td><td>12.46</td><td>12.46</td><td>1067600</td><td>&quot;APPS&quot;</td><td>14.2911</td><td>false</td><td>52</td></tr><tr><td>2023-04-12 00:00:00</td><td>12.84</td><td>12.89</td><td>12.17</td><td>12.2</td><td>12.2</td><td>1310900</td><td>&quot;APPS&quot;</td><td>14.216</td><td>false</td><td>52</td></tr><tr><td>2023-04-13 00:00:00</td><td>12.35</td><td>12.79</td><td>12.31</td><td>12.61</td><td>12.61</td><td>1195500</td><td>&quot;APPS&quot;</td><td>14.1569</td><td>false</td><td>52</td></tr><tr><td>2023-04-14 00:00:00</td><td>12.59</td><td>12.72</td><td>12.14</td><td>12.27</td><td>12.27</td><td>1128400</td><td>&quot;APPS&quot;</td><td>14.1052</td><td>false</td><td>52</td></tr></tbody></table></div>"
      ],
      "text/plain": [
       "shape: (3433219, 11)\n",
       "┌─────────────────────┬───────┬───────┬───────┬───┬────────┬─────────┬─────────────────┬────────┐\n",
       "│ Date                ┆ Open  ┆ High  ┆ Low   ┆ … ┆ Symbol ┆ SMA100  ┆ SMA100_slope_up ┆ tester │\n",
       "│ ---                 ┆ ---   ┆ ---   ┆ ---   ┆   ┆ ---    ┆ ---     ┆ ---             ┆ ---    │\n",
       "│ datetime[μs]        ┆ f64   ┆ f64   ┆ f64   ┆   ┆ str    ┆ f64     ┆ bool            ┆ u32    │\n",
       "╞═════════════════════╪═══════╪═══════╪═══════╪═══╪════════╪═════════╪═════════════════╪════════╡\n",
       "│ 2020-01-02 00:00:00 ┆ 4.61  ┆ 4.61  ┆ 4.26  ┆ … ┆ CEMI   ┆ null    ┆ null            ┆ 753    │\n",
       "│ 2020-01-03 00:00:00 ┆ 5.0   ┆ 5.4   ┆ 4.78  ┆ … ┆ CEMI   ┆ null    ┆ null            ┆ 753    │\n",
       "│ 2020-01-06 00:00:00 ┆ 5.08  ┆ 5.11  ┆ 4.85  ┆ … ┆ CEMI   ┆ null    ┆ null            ┆ 753    │\n",
       "│ 2020-01-07 00:00:00 ┆ 4.83  ┆ 5.19  ┆ 4.82  ┆ … ┆ CEMI   ┆ null    ┆ null            ┆ 753    │\n",
       "│ …                   ┆ …     ┆ …     ┆ …     ┆ … ┆ …      ┆ …       ┆ …               ┆ …      │\n",
       "│ 2023-04-11 00:00:00 ┆ 12.26 ┆ 12.63 ┆ 12.23 ┆ … ┆ APPS   ┆ 14.2911 ┆ false           ┆ 52     │\n",
       "│ 2023-04-12 00:00:00 ┆ 12.84 ┆ 12.89 ┆ 12.17 ┆ … ┆ APPS   ┆ 14.216  ┆ false           ┆ 52     │\n",
       "│ 2023-04-13 00:00:00 ┆ 12.35 ┆ 12.79 ┆ 12.31 ┆ … ┆ APPS   ┆ 14.1569 ┆ false           ┆ 52     │\n",
       "│ 2023-04-14 00:00:00 ┆ 12.59 ┆ 12.72 ┆ 12.14 ┆ … ┆ APPS   ┆ 14.1052 ┆ false           ┆ 52     │\n",
       "└─────────────────────┴───────┴───────┴───────┴───┴────────┴─────────┴─────────────────┴────────┘"
      ]
     },
     "execution_count": 29,
     "metadata": {},
     "output_type": "execute_result"
    }
   ],
   "source": [
    "df.with_columns(pl.col(pi.indicators.LOW_COLUMN).arg_min().over(pi.indicators.SYMBOL_COLUMN).alias(\"tester\"))"
   ]
  },
  {
   "cell_type": "code",
   "execution_count": null,
   "metadata": {},
   "outputs": [],
   "source": []
  }
 ],
 "metadata": {
  "kernelspec": {
   "display_name": ".venv",
   "language": "python",
   "name": "python3"
  },
  "language_info": {
   "codemirror_mode": {
    "name": "ipython",
    "version": 3
   },
   "file_extension": ".py",
   "mimetype": "text/x-python",
   "name": "python",
   "nbconvert_exporter": "python",
   "pygments_lexer": "ipython3",
   "version": "3.10.10"
  },
  "orig_nbformat": 4
 },
 "nbformat": 4,
 "nbformat_minor": 2
}
