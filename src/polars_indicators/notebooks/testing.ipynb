{
 "cells": [
  {
   "cell_type": "code",
   "execution_count": 1,
   "metadata": {},
   "outputs": [],
   "source": [
    "import polars as pl\n",
    "from datetime import datetime\n",
    "import get_and_store as gas\n",
    "import polars"
   ]
  },
  {
   "cell_type": "code",
   "execution_count": 2,
   "metadata": {},
   "outputs": [],
   "source": [
    "symbols = ['A','AA']"
   ]
  },
  {
   "cell_type": "code",
   "execution_count": 3,
   "metadata": {},
   "outputs": [],
   "source": [
    "df = gas.get_symbols_df(symbols)\n",
    "df = df.filter(pl.col('Date') >= datetime(2023, 1, 1))\n",
    "df = df.collect()"
   ]
  },
  {
   "cell_type": "code",
   "execution_count": 4,
   "metadata": {},
   "outputs": [
    {
     "data": {
      "text/html": [
       "<div><style>\n",
       ".dataframe > thead > tr > th,\n",
       ".dataframe > tbody > tr > td {\n",
       "  text-align: right;\n",
       "}\n",
       "</style>\n",
       "<small>shape: (94, 8)</small><table border=\"1\" class=\"dataframe\"><thead><tr><th>Date</th><th>Open</th><th>High</th><th>Low</th><th>Close</th><th>Adj Close</th><th>Volume</th><th>Symbol</th></tr><tr><td>date</td><td>f64</td><td>f64</td><td>f64</td><td>f64</td><td>f64</td><td>i64</td><td>str</td></tr></thead><tbody><tr><td>2023-01-03</td><td>151.960007</td><td>153.130005</td><td>148.470001</td><td>150.039993</td><td>150.039993</td><td>1414300</td><td>&quot;A&quot;</td></tr><tr><td>2023-01-04</td><td>151.649994</td><td>153.039993</td><td>150.240005</td><td>151.669998</td><td>151.669998</td><td>1247400</td><td>&quot;A&quot;</td></tr><tr><td>2023-01-05</td><td>150.0</td><td>153.070007</td><td>148.770004</td><td>152.110001</td><td>152.110001</td><td>1714600</td><td>&quot;A&quot;</td></tr><tr><td>2023-01-06</td><td>154.360001</td><td>154.639999</td><td>143.009995</td><td>147.669998</td><td>147.669998</td><td>2445000</td><td>&quot;A&quot;</td></tr><tr><td>2023-01-09</td><td>149.690002</td><td>151.279999</td><td>147.199997</td><td>147.470001</td><td>147.470001</td><td>1269600</td><td>&quot;A&quot;</td></tr><tr><td>2023-01-10</td><td>150.179993</td><td>155.550003</td><td>148.75</td><td>155.229996</td><td>155.229996</td><td>1565700</td><td>&quot;A&quot;</td></tr><tr><td>2023-01-11</td><td>155.229996</td><td>158.580002</td><td>155.229996</td><td>158.169998</td><td>158.169998</td><td>1241900</td><td>&quot;A&quot;</td></tr><tr><td>2023-01-12</td><td>158.160004</td><td>158.600006</td><td>155.580002</td><td>156.490005</td><td>156.490005</td><td>809100</td><td>&quot;A&quot;</td></tr><tr><td>2023-01-13</td><td>155.539993</td><td>157.279999</td><td>154.5</td><td>156.919998</td><td>156.919998</td><td>921700</td><td>&quot;A&quot;</td></tr><tr><td>2023-01-17</td><td>156.679993</td><td>158.110001</td><td>155.029999</td><td>155.399994</td><td>155.399994</td><td>1602200</td><td>&quot;A&quot;</td></tr><tr><td>2023-01-18</td><td>156.259995</td><td>158.160004</td><td>153.639999</td><td>154.070007</td><td>154.070007</td><td>1150700</td><td>&quot;A&quot;</td></tr><tr><td>2023-01-19</td><td>153.580002</td><td>154.919998</td><td>152.139999</td><td>152.869995</td><td>152.869995</td><td>1017400</td><td>&quot;A&quot;</td></tr><tr><td>&hellip;</td><td>&hellip;</td><td>&hellip;</td><td>&hellip;</td><td>&hellip;</td><td>&hellip;</td><td>&hellip;</td><td>&hellip;</td></tr><tr><td>2023-02-23</td><td>48.5</td><td>49.029999</td><td>46.549999</td><td>47.959999</td><td>47.873615</td><td>4654300</td><td>&quot;AA&quot;</td></tr><tr><td>2023-02-24</td><td>46.93</td><td>46.93</td><td>45.27</td><td>46.450001</td><td>46.366337</td><td>4587700</td><td>&quot;AA&quot;</td></tr><tr><td>2023-02-27</td><td>46.849998</td><td>48.435001</td><td>46.369999</td><td>48.040001</td><td>47.953476</td><td>4931200</td><td>&quot;AA&quot;</td></tr><tr><td>2023-02-28</td><td>48.25</td><td>50.040001</td><td>47.799999</td><td>48.939999</td><td>48.851852</td><td>3871400</td><td>&quot;AA&quot;</td></tr><tr><td>2023-03-01</td><td>51.290001</td><td>52.959999</td><td>50.529999</td><td>51.650002</td><td>51.556973</td><td>7599600</td><td>&quot;AA&quot;</td></tr><tr><td>2023-03-02</td><td>50.189999</td><td>53.709999</td><td>50.049999</td><td>53.689999</td><td>53.593296</td><td>6467900</td><td>&quot;AA&quot;</td></tr><tr><td>2023-03-03</td><td>54.330002</td><td>55.740002</td><td>53.700001</td><td>55.52</td><td>55.420002</td><td>6158800</td><td>&quot;AA&quot;</td></tr><tr><td>2023-03-06</td><td>54.009998</td><td>54.900002</td><td>53.380001</td><td>53.689999</td><td>53.689999</td><td>5129900</td><td>&quot;AA&quot;</td></tr><tr><td>2023-03-07</td><td>52.779999</td><td>53.040001</td><td>49.919998</td><td>50.169998</td><td>50.169998</td><td>6298100</td><td>&quot;AA&quot;</td></tr><tr><td>2023-03-08</td><td>50.41</td><td>51.240002</td><td>49.75</td><td>51.02</td><td>51.02</td><td>3467000</td><td>&quot;AA&quot;</td></tr><tr><td>2023-03-09</td><td>50.700001</td><td>51.139999</td><td>47.330002</td><td>47.900002</td><td>47.900002</td><td>5590500</td><td>&quot;AA&quot;</td></tr><tr><td>2023-03-10</td><td>48.119999</td><td>48.119999</td><td>44.459999</td><td>44.91</td><td>44.91</td><td>6190400</td><td>&quot;AA&quot;</td></tr></tbody></table></div>"
      ],
      "text/plain": [
       "shape: (94, 8)\n",
       "┌────────────┬────────────┬────────────┬────────────┬────────────┬────────────┬─────────┬────────┐\n",
       "│ Date       ┆ Open       ┆ High       ┆ Low        ┆ Close      ┆ Adj Close  ┆ Volume  ┆ Symbol │\n",
       "│ ---        ┆ ---        ┆ ---        ┆ ---        ┆ ---        ┆ ---        ┆ ---     ┆ ---    │\n",
       "│ date       ┆ f64        ┆ f64        ┆ f64        ┆ f64        ┆ f64        ┆ i64     ┆ str    │\n",
       "╞════════════╪════════════╪════════════╪════════════╪════════════╪════════════╪═════════╪════════╡\n",
       "│ 2023-01-03 ┆ 151.960007 ┆ 153.130005 ┆ 148.470001 ┆ 150.039993 ┆ 150.039993 ┆ 1414300 ┆ A      │\n",
       "│ 2023-01-04 ┆ 151.649994 ┆ 153.039993 ┆ 150.240005 ┆ 151.669998 ┆ 151.669998 ┆ 1247400 ┆ A      │\n",
       "│ 2023-01-05 ┆ 150.0      ┆ 153.070007 ┆ 148.770004 ┆ 152.110001 ┆ 152.110001 ┆ 1714600 ┆ A      │\n",
       "│ 2023-01-06 ┆ 154.360001 ┆ 154.639999 ┆ 143.009995 ┆ 147.669998 ┆ 147.669998 ┆ 2445000 ┆ A      │\n",
       "│ …          ┆ …          ┆ …          ┆ …          ┆ …          ┆ …          ┆ …       ┆ …      │\n",
       "│ 2023-03-07 ┆ 52.779999  ┆ 53.040001  ┆ 49.919998  ┆ 50.169998  ┆ 50.169998  ┆ 6298100 ┆ AA     │\n",
       "│ 2023-03-08 ┆ 50.41      ┆ 51.240002  ┆ 49.75      ┆ 51.02      ┆ 51.02      ┆ 3467000 ┆ AA     │\n",
       "│ 2023-03-09 ┆ 50.700001  ┆ 51.139999  ┆ 47.330002  ┆ 47.900002  ┆ 47.900002  ┆ 5590500 ┆ AA     │\n",
       "│ 2023-03-10 ┆ 48.119999  ┆ 48.119999  ┆ 44.459999  ┆ 44.91      ┆ 44.91      ┆ 6190400 ┆ AA     │\n",
       "└────────────┴────────────┴────────────┴────────────┴────────────┴────────────┴─────────┴────────┘"
      ]
     },
     "execution_count": 4,
     "metadata": {},
     "output_type": "execute_result"
    }
   ],
   "source": [
    "df"
   ]
  },
  {
   "cell_type": "code",
   "execution_count": 10,
   "metadata": {},
   "outputs": [
    {
     "ename": "ColumnNotFoundError",
     "evalue": "30_day_moving_avg\n\nError originated just after this operation:\nDF [\"Date\", \"Open\", \"High\", \"Low\"]; PROJECT */7 COLUMNS; SELECTION: \"None\"",
     "output_type": "error",
     "traceback": [
      "\u001b[1;31m---------------------------------------------------------------------------\u001b[0m",
      "\u001b[1;31mColumnNotFoundError\u001b[0m                       Traceback (most recent call last)",
      "Cell \u001b[1;32mIn[10], line 1\u001b[0m\n\u001b[1;32m----> 1\u001b[0m df\u001b[39m.\u001b[39;49mwith_columns(\n\u001b[0;32m      2\u001b[0m     {\n\u001b[0;32m      3\u001b[0m         \u001b[39m'\u001b[39;49m\u001b[39m30_day_moving_avg\u001b[39;49m\u001b[39m'\u001b[39;49m: pl\u001b[39m.\u001b[39;49mcol(\u001b[39m'\u001b[39;49m\u001b[39mClose\u001b[39;49m\u001b[39m'\u001b[39;49m)\u001b[39m.\u001b[39;49mmean()\u001b[39m.\u001b[39;49mover(\u001b[39m30\u001b[39;49m),\n\u001b[0;32m      4\u001b[0m         \u001b[39m'\u001b[39;49m\u001b[39m50_day_moving_avg\u001b[39;49m\u001b[39m'\u001b[39;49m: pl\u001b[39m.\u001b[39;49mcol(\u001b[39m'\u001b[39;49m\u001b[39mClose\u001b[39;49m\u001b[39m'\u001b[39;49m)\u001b[39m.\u001b[39;49mmean()\u001b[39m.\u001b[39;49mover(\u001b[39m50\u001b[39;49m)\n\u001b[0;32m      5\u001b[0m     }\n\u001b[0;32m      6\u001b[0m )\n",
      "File \u001b[1;32mc:\\Users\\Avery\\Documents\\GitHub\\polar-indicators\\.venv\\lib\\site-packages\\polars\\dataframe\\frame.py:6660\u001b[0m, in \u001b[0;36mDataFrame.with_columns\u001b[1;34m(self, exprs, *more_exprs, **named_exprs)\u001b[0m\n\u001b[0;32m   6509\u001b[0m \u001b[39mdef\u001b[39;00m \u001b[39mwith_columns\u001b[39m(\n\u001b[0;32m   6510\u001b[0m     \u001b[39mself\u001b[39m,\n\u001b[0;32m   6511\u001b[0m     exprs: IntoExpr \u001b[39m|\u001b[39m Iterable[IntoExpr] \u001b[39m=\u001b[39m \u001b[39mNone\u001b[39;00m,\n\u001b[0;32m   6512\u001b[0m     \u001b[39m*\u001b[39mmore_exprs: IntoExpr,\n\u001b[0;32m   6513\u001b[0m     \u001b[39m*\u001b[39m\u001b[39m*\u001b[39mnamed_exprs: IntoExpr,\n\u001b[0;32m   6514\u001b[0m ) \u001b[39m-\u001b[39m\u001b[39m>\u001b[39m Self:\n\u001b[0;32m   6515\u001b[0m \u001b[39m    \u001b[39m\u001b[39m\"\"\"\u001b[39;00m\n\u001b[0;32m   6516\u001b[0m \u001b[39m    Add columns to this DataFrame.\u001b[39;00m\n\u001b[0;32m   6517\u001b[0m \n\u001b[1;32m   (...)\u001b[0m\n\u001b[0;32m   6657\u001b[0m \n\u001b[0;32m   6658\u001b[0m \u001b[39m    \"\"\"\u001b[39;00m\n\u001b[0;32m   6659\u001b[0m     \u001b[39mreturn\u001b[39;00m \u001b[39mself\u001b[39m\u001b[39m.\u001b[39m_from_pydf(\n\u001b[1;32m-> 6660\u001b[0m         \u001b[39mself\u001b[39;49m\u001b[39m.\u001b[39;49mlazy()\n\u001b[0;32m   6661\u001b[0m         \u001b[39m.\u001b[39;49mwith_columns(exprs, \u001b[39m*\u001b[39;49mmore_exprs, \u001b[39m*\u001b[39;49m\u001b[39m*\u001b[39;49mnamed_exprs)\n\u001b[0;32m   6662\u001b[0m         \u001b[39m.\u001b[39;49mcollect(no_optimization\u001b[39m=\u001b[39;49m\u001b[39mTrue\u001b[39;49;00m)\n\u001b[0;32m   6663\u001b[0m         \u001b[39m.\u001b[39m_df\n\u001b[0;32m   6664\u001b[0m     )\n",
      "File \u001b[1;32mc:\\Users\\Avery\\Documents\\GitHub\\polar-indicators\\.venv\\lib\\site-packages\\polars\\lazyframe\\frame.py:1475\u001b[0m, in \u001b[0;36mLazyFrame.collect\u001b[1;34m(self, type_coercion, predicate_pushdown, projection_pushdown, simplify_expression, no_optimization, slice_pushdown, common_subplan_elimination, streaming)\u001b[0m\n\u001b[0;32m   1464\u001b[0m     common_subplan_elimination \u001b[39m=\u001b[39m \u001b[39mFalse\u001b[39;00m\n\u001b[0;32m   1466\u001b[0m ldf \u001b[39m=\u001b[39m \u001b[39mself\u001b[39m\u001b[39m.\u001b[39m_ldf\u001b[39m.\u001b[39moptimization_toggle(\n\u001b[0;32m   1467\u001b[0m     type_coercion,\n\u001b[0;32m   1468\u001b[0m     predicate_pushdown,\n\u001b[1;32m   (...)\u001b[0m\n\u001b[0;32m   1473\u001b[0m     streaming,\n\u001b[0;32m   1474\u001b[0m )\n\u001b[1;32m-> 1475\u001b[0m \u001b[39mreturn\u001b[39;00m wrap_df(ldf\u001b[39m.\u001b[39;49mcollect())\n",
      "\u001b[1;31mColumnNotFoundError\u001b[0m: 30_day_moving_avg\n\nError originated just after this operation:\nDF [\"Date\", \"Open\", \"High\", \"Low\"]; PROJECT */7 COLUMNS; SELECTION: \"None\""
     ]
    }
   ],
   "source": []
  },
  {
   "cell_type": "code",
   "execution_count": null,
   "metadata": {},
   "outputs": [],
   "source": []
  }
 ],
 "metadata": {
  "kernelspec": {
   "display_name": ".venv",
   "language": "python",
   "name": "python3"
  },
  "language_info": {
   "codemirror_mode": {
    "name": "ipython",
    "version": 3
   },
   "file_extension": ".py",
   "mimetype": "text/x-python",
   "name": "python",
   "nbconvert_exporter": "python",
   "pygments_lexer": "ipython3",
   "version": "3.10.5"
  },
  "orig_nbformat": 4
 },
 "nbformat": 4,
 "nbformat_minor": 2
}
