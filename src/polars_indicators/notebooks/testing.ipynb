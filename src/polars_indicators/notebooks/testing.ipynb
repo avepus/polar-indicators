{
 "cells": [
  {
   "cell_type": "code",
   "execution_count": null,
   "metadata": {},
   "outputs": [],
   "source": [
    "import polars as pl\n",
    "from datetime import datetime\n",
    "import get_and_store as gas\n",
    "import polars_indicators as pi"
   ]
  },
  {
   "cell_type": "code",
   "execution_count": null,
   "metadata": {},
   "outputs": [],
   "source": [
    "symbols = ['A','AA']"
   ]
  },
  {
   "cell_type": "code",
   "execution_count": null,
   "metadata": {},
   "outputs": [],
   "source": [
    "df = gas.get_symbols_df(symbols)\n",
    "df = df.filter(pl.col('Date') >= datetime(2023, 1, 1))\n",
    "df = df.collect()"
   ]
  },
  {
   "cell_type": "code",
   "execution_count": null,
   "metadata": {},
   "outputs": [],
   "source": [
    "df"
   ]
  },
  {
   "cell_type": "code",
   "execution_count": null,
   "metadata": {},
   "outputs": [],
   "source": [
    "index_name = 'my_index'\n",
    "column_name = \"test\"\n",
    "mydf = df.with_row_count(name=index_name).with_columns( \n",
    "                pl.when(\n",
    "                    pl.col(index_name) == 3) \\\n",
    "                    .then(pl.lit(True)) \\\n",
    "                .when(\n",
    "                    (pl.col(index_name) == 4)) \\\n",
    "                    .then(pl.lit(True)) \\\n",
    "                .when(\n",
    "                    (pl.col(index_name) == 7)) \\\n",
    "                    .then(pl.lit(True)) \\\n",
    "                .otherwise(\n",
    "                    pl.lit(False)) \\\n",
    "                .alias(column_name))\n",
    "mydf"
   ]
  },
  {
   "cell_type": "code",
   "execution_count": null,
   "metadata": {},
   "outputs": [],
   "source": [
    "trail = pi.trailing_stop(mydf, 2)"
   ]
  },
  {
   "cell_type": "code",
   "execution_count": null,
   "metadata": {},
   "outputs": [],
   "source": [
    "trail.df.groupby([column_name, trail.column]).agg(pl.col(column_name).sum().alias(column_name + 'sum'),\n",
    "                                                  pl.col(trail.column).sum().alias(trail.column + 'sum'),\n",
    "                                                  pl.col(\"Date\").min().alias(\"Start\"),\n",
    "                                                  pl.col(\"Date\").max().alias(\"End\")\n",
    ")"
   ]
  },
  {
   "cell_type": "code",
   "execution_count": null,
   "metadata": {},
   "outputs": [],
   "source": []
  }
 ],
 "metadata": {
  "kernelspec": {
   "display_name": ".venv",
   "language": "python",
   "name": "python3"
  },
  "language_info": {
   "codemirror_mode": {
    "name": "ipython",
    "version": 3
   },
   "file_extension": ".py",
   "mimetype": "text/x-python",
   "name": "python",
   "nbconvert_exporter": "python",
   "pygments_lexer": "ipython3",
   "version": "3.10.5"
  },
  "orig_nbformat": 4
 },
 "nbformat": 4,
 "nbformat_minor": 2
}
