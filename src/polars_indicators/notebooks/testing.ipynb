{
 "cells": [
  {
   "cell_type": "code",
   "execution_count": null,
   "metadata": {},
   "outputs": [],
   "source": [
    "import polars as pl\n",
    "from datetime import datetime,timedelta\n",
    "import get_and_store as gas\n",
    "import polars_indicators as pi\n",
    "from polars_indicators.indicators import IndicatorResult\n",
    "from importlib import reload\n",
    "DATE_COLUNN = \"Date\""
   ]
  },
  {
   "cell_type": "code",
   "execution_count": null,
   "metadata": {},
   "outputs": [],
   "source": [
    "reload(pi)\n",
    "reload(pi.strategies.buy_x_week_low)\n",
    "reload(pi.summarize.trades)\n",
    "reload(pi.indicators)"
   ]
  },
  {
   "cell_type": "code",
   "execution_count": null,
   "metadata": {},
   "outputs": [],
   "source": [
    "symbols = ['A','AA']"
   ]
  },
  {
   "cell_type": "code",
   "execution_count": null,
   "metadata": {},
   "outputs": [],
   "source": [
    "#df = gas.get_symbols_df(symbols)"
   ]
  },
  {
   "cell_type": "code",
   "execution_count": null,
   "metadata": {},
   "outputs": [],
   "source": [
    "try:\n",
    "    df = saved_df.clone()\n",
    "except NameError:\n",
    "        df = gas.get_all_saved_data_df()\n",
    "        df = df.filter(pl.col('Date') >= datetime(2020, 1, 1))\n",
    "        df = df.collect()"
   ]
  },
  {
   "cell_type": "code",
   "execution_count": null,
   "metadata": {},
   "outputs": [],
   "source": [
    "saved_df = df.clone()"
   ]
  },
  {
   "cell_type": "code",
   "execution_count": null,
   "metadata": {},
   "outputs": [],
   "source": [
    "sma100 = pi.indicators.simple_moving_average(df, 100)\n",
    "df = sma100.df\n",
    "slope_up = pi.indicators.slope_up(df, column=sma100.column)\n",
    "df = slope_up.df.with_columns(pl.col(slope_up.column).shift()) #shifting so we use previous bar"
   ]
  },
  {
   "cell_type": "code",
   "execution_count": null,
   "metadata": {},
   "outputs": [],
   "source": [
    "df = df.with_columns(pl.col(pi.indicators.DATE_COLUMN).cast(pl.Datetime))\n",
    "df"
   ]
  },
  {
   "cell_type": "code",
   "execution_count": null,
   "metadata": {},
   "outputs": [],
   "source": [
    "#filter out average price too low\n",
    "df = df.filter(pl.col(pi.indicators.CLOSE_COLUMN).mean().over(pi.indicators.SYMBOL_COLUMN) > 3)\n",
    "\n",
    "# filter out too many 0 volume bars. This gets rid of a lot of garbage\n",
    "df = df.filter((pl.col(pi.indicators.VOLUMNE_COLUMN) == 0).sum().over(pi.indicators.SYMBOL_COLUMN) < 3)\n",
    "\n",
    "# minimum amount of volume\n",
    "df = df.filter(pl.col(pi.indicators.VOLUMNE_COLUMN).mean().over(pi.indicators.SYMBOL_COLUMN) > 100000)\n"
   ]
  },
  {
   "cell_type": "code",
   "execution_count": null,
   "metadata": {},
   "outputs": [],
   "source": []
  },
  {
   "cell_type": "code",
   "execution_count": null,
   "metadata": {},
   "outputs": [],
   "source": [
    "lookback = timedelta(weeks=52)\n",
    "modresult_05 = pi.strategies.buy_x_week_low.strategy(df, lookback, 0.5, 5, 2)\n",
    "modresult_1 = pi.strategies.buy_x_week_low.strategy(df, lookback, 1, 5, 2)"
   ]
  },
  {
   "cell_type": "code",
   "execution_count": null,
   "metadata": {},
   "outputs": [],
   "source": [
    "trades_05 = pi.summarize.trades.Trades.from_strategy_result(modresult_05, [slope_up.column])\n",
    "trades_1 = pi.summarize.trades.Trades.from_strategy_result(modresult_1, [slope_up.column])"
   ]
  },
  {
   "cell_type": "code",
   "execution_count": null,
   "metadata": {},
   "outputs": [],
   "source": [
    "trades_05.summarize_strategy()"
   ]
  },
  {
   "cell_type": "code",
   "execution_count": null,
   "metadata": {},
   "outputs": [],
   "source": [
    "trades_1.summarize_strategy()"
   ]
  },
  {
   "cell_type": "code",
   "execution_count": null,
   "metadata": {},
   "outputs": [],
   "source": [
    "trades_1.df.filter(pl.col(\"Lowest%\") == -98.76)"
   ]
  },
  {
   "cell_type": "code",
   "execution_count": null,
   "metadata": {},
   "outputs": [],
   "source": []
  },
  {
   "cell_type": "code",
   "execution_count": null,
   "metadata": {},
   "outputs": [],
   "source": []
  }
 ],
 "metadata": {
  "kernelspec": {
   "display_name": ".venv",
   "language": "python",
   "name": "python3"
  },
  "language_info": {
   "codemirror_mode": {
    "name": "ipython",
    "version": 3
   },
   "file_extension": ".py",
   "mimetype": "text/x-python",
   "name": "python",
   "nbconvert_exporter": "python",
   "pygments_lexer": "ipython3",
   "version": "3.10.5"
  },
  "orig_nbformat": 4
 },
 "nbformat": 4,
 "nbformat_minor": 2
}
