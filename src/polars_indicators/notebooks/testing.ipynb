{
 "cells": [
  {
   "cell_type": "code",
   "execution_count": null,
   "metadata": {},
   "outputs": [],
   "source": [
    "import polars as pl\n",
    "from datetime import datetime\n",
    "import get_and_store as gas\n",
    "import polars_indicators as pi"
   ]
  },
  {
   "cell_type": "code",
   "execution_count": null,
   "metadata": {},
   "outputs": [],
   "source": [
    "symbols = ['A','AA']"
   ]
  },
  {
   "cell_type": "code",
   "execution_count": null,
   "metadata": {},
   "outputs": [],
   "source": [
    "df = gas.get_symbols_df(symbols)\n",
    "df = df.filter(pl.col('Date') >= datetime(2023, 1, 1))\n",
    "df = df.collect()"
   ]
  },
  {
   "cell_type": "code",
   "execution_count": null,
   "metadata": {},
   "outputs": [],
   "source": [
    "df"
   ]
  },
  {
   "cell_type": "code",
   "execution_count": null,
   "metadata": {},
   "outputs": [],
   "source": [
    "index_name = 'my_index'\n",
    "column_name = \"test\"\n",
    "mydf = df.with_row_count(name=index_name).with_columns( \n",
    "                pl.when(\n",
    "                    pl.col(index_name) == 3) \\\n",
    "                    .then(pl.lit(True)) \\\n",
    "                .when(\n",
    "                    (pl.col(index_name) == 4)) \\\n",
    "                    .then(pl.lit(True)) \\\n",
    "                .when(\n",
    "                    (pl.col(index_name) == 7)) \\\n",
    "                    .then(pl.lit(True)) \\\n",
    "                .when(\n",
    "                    (pl.col(index_name) == 85)) \\\n",
    "                    .then(pl.lit(True)) \\\n",
    "                .otherwise(\n",
    "                    pl.lit(False)) \\\n",
    "                .alias(column_name))\n",
    "mydf"
   ]
  },
  {
   "cell_type": "code",
   "execution_count": null,
   "metadata": {},
   "outputs": [],
   "source": [
    "trail = pi.trailing_stop(mydf, 2)"
   ]
  },
  {
   "cell_type": "code",
   "execution_count": null,
   "metadata": {},
   "outputs": [],
   "source": [
    "pi.create_trade_ids(trail.df, column_name, trail.column).df"
   ]
  },
  {
   "cell_type": "code",
   "execution_count": null,
   "metadata": {},
   "outputs": [],
   "source": [
    "newcol = 'sum'\n",
    "new = trail.df.with_columns(pl.col(trail.column).cumsum().shift(1).alias(newcol))\n",
    "new\n",
    "#left off here. issue with row index 84 being considered in the trade"
   ]
  },
  {
   "cell_type": "code",
   "execution_count": null,
   "metadata": {},
   "outputs": [],
   "source": [
    "new = new.with_columns(pl.when(pl.col(column_name).max().over(pl.col(newcol))).then(pl.col('sum')).alias('test2'))\n",
    "new"
   ]
  },
  {
   "cell_type": "code",
   "execution_count": null,
   "metadata": {},
   "outputs": [],
   "source": [
    "new = new.with_columns(pl.col(column_name).max().over(pl.col(newcol)).alias('test3'))\n",
    "new"
   ]
  },
  {
   "cell_type": "code",
   "execution_count": null,
   "metadata": {},
   "outputs": [],
   "source": [
    "new.with_columns(pl.when(pl.col('Date') == pl.col('Date').min().over(pl.col('test2'),pl.col(\"Symbol\"))).then(pl.lit(True)).otherwise(pl.lit(False)).cumsum().alias('test4'))"
   ]
  },
  {
   "cell_type": "code",
   "execution_count": null,
   "metadata": {},
   "outputs": [],
   "source": [
    "new.with_columns(pl.when(pl.col(column_name)).then(-1).otherwise(pl.col(trail.column).cumsum()).alias('a'))"
   ]
  },
  {
   "cell_type": "code",
   "execution_count": null,
   "metadata": {},
   "outputs": [],
   "source": []
  },
  {
   "cell_type": "code",
   "execution_count": null,
   "metadata": {},
   "outputs": [],
   "source": [
    "pi.create_trade_ids(new, 'test', trail.column).df"
   ]
  },
  {
   "cell_type": "code",
   "execution_count": null,
   "metadata": {},
   "outputs": [],
   "source": [
    "new = df"
   ]
  },
  {
   "cell_type": "code",
   "execution_count": null,
   "metadata": {},
   "outputs": [],
   "source": [
    "index_name = 'index'\n",
    "entries = \"entries\"\n",
    "mydf = df.with_row_count(name=index_name).with_columns( \n",
    "                pl.when(\n",
    "                    pl.col(index_name) == 3) \\\n",
    "                    .then(pl.lit(True)) \\\n",
    "                .when(\n",
    "                    (pl.col(index_name) == 4)) \\\n",
    "                    .then(pl.lit(True)) \\\n",
    "                .when(\n",
    "                    (pl.col(index_name) == 7)) \\\n",
    "                    .then(pl.lit(True)) \\\n",
    "                .when(\n",
    "                    (pl.col(index_name) == 85)) \\\n",
    "                    .then(pl.lit(True)) \\\n",
    "                .otherwise(\n",
    "                    pl.lit(False)) \\\n",
    "                .alias(entries))\n",
    "mydf.head()"
   ]
  },
  {
   "cell_type": "code",
   "execution_count": null,
   "metadata": {},
   "outputs": [],
   "source": [
    "trail = pi.trailing_stop(mydf, bars=2)\n",
    "mydf = trail.df\n",
    "mydf.head()"
   ]
  },
  {
   "cell_type": "code",
   "execution_count": null,
   "metadata": {},
   "outputs": [],
   "source": [
    "exit_column = trail.column\n",
    "exit_ids = \"exit_ids\"\n",
    "enter_column = entries\n",
    "df = mydf.with_columns(pl.col(exit_column).cumsum().shift(1).alias(exit_ids))\n",
    "df.head()"
   ]
  },
  {
   "cell_type": "code",
   "execution_count": null,
   "metadata": {},
   "outputs": [],
   "source": [
    "df.with_columns(\n",
    "        pl.col(enter_column).max().over(pl.col(exit_ids)).alias(\"FileNotFoundError\")) #ensures we only count trades with entries"
   ]
  },
  {
   "cell_type": "code",
   "execution_count": null,
   "metadata": {},
   "outputs": [],
   "source": [
    "\n",
    "\n",
    "def add_id_column(df, enter_column, exit_column):\n",
    "    def add_exit_ids(df, exit_column):\n",
    "        column_name = \"exit_ids_test\"\n",
    "        if column_name in df.columns:\n",
    "            return pi.IndicatorResult(df, column_name)\n",
    "        df = df.with_columns(pl.col(exit_column).cumsum().shift(1).alias(column_name))\n",
    "        return pi.IndicatorResult(df, column_name)\n",
    "\n",
    "    def add_traded_column(df, enter_column, exit_ids):\n",
    "        column_name = \"traded\"\n",
    "        if column_name in df.columns:\n",
    "            return pi.IndicatorResult(df, column_name)\n",
    "        df = df.with_columns(\n",
    "            pl.col(enter_column).max().over(pl.col(exit_ids)).alias(column_name)) #ensures we only count trades with entries\n",
    "        return pi.IndicatorResult(df, column_name)\n",
    "    column_name = \"ids\"\n",
    "    exit_ids = add_exit_ids(df, exit_column)\n",
    "    traded = add_traded_column(exit_ids.df, enter_column, exit_ids.column)\n",
    "\n",
    "    df = traded.df.with_columns(\n",
    "        pl.when(\n",
    "            pl.col(traded.column) #pl.col(enter_column).max().over(pl.col(exit_ids)) #ensures we only count trades with entries\n",
    "            &\n",
    "            (pl.col(\"Date\") == pl.col(\"Date\").min().over(exit_ids.column)) #ensures we only count a trade once per exit\n",
    "        ).then(1).otherwise(0).alias(column_name))\n",
    "    \n",
    "    df = df.with_columns(pl.when(pl.col(traded.column)).then(pl.col(column_name).cumsum()))\n",
    "    return pi.IndicatorResult(df, column_name)\n",
    "ex = add_exit_ids(df, exit_column)\n",
    "newdf = add_traded_column(ex.df, enter_column, ex.column).df\n",
    "add_id_column(newdf, enter_column, exit_column).df\n"
   ]
  },
  {
   "cell_type": "code",
   "execution_count": null,
   "metadata": {},
   "outputs": [],
   "source": [
    "lf = df.lazy()"
   ]
  },
  {
   "cell_type": "code",
   "execution_count": null,
   "metadata": {},
   "outputs": [],
   "source": [
    "lf = lf.lazy()"
   ]
  },
  {
   "cell_type": "code",
   "execution_count": null,
   "metadata": {},
   "outputs": [],
   "source": []
  }
 ],
 "metadata": {
  "kernelspec": {
   "display_name": ".venv",
   "language": "python",
   "name": "python3"
  },
  "language_info": {
   "codemirror_mode": {
    "name": "ipython",
    "version": 3
   },
   "file_extension": ".py",
   "mimetype": "text/x-python",
   "name": "python",
   "nbconvert_exporter": "python",
   "pygments_lexer": "ipython3",
   "version": "3.10.5"
  },
  "orig_nbformat": 4
 },
 "nbformat": 4,
 "nbformat_minor": 2
}
