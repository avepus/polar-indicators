{
 "cells": [
  {
   "cell_type": "code",
   "execution_count": null,
   "metadata": {},
   "outputs": [],
   "source": [
    "import polars as pl\n",
    "from datetime import datetime,timedelta\n",
    "import get_and_store as gas\n",
    "import polars_indicators as pi\n",
    "from polars_indicators.indicators import IndicatorResult\n",
    "from importlib import reload\n",
    "DATE_COLUNN = \"Date\""
   ]
  },
  {
   "cell_type": "code",
   "execution_count": null,
   "metadata": {},
   "outputs": [],
   "source": [
    "reload(pi)\n",
    "reload(pi.strategies)\n",
    "reload(pi.strategies.buy_x_week_low)\n",
    "reload(pi.strategies.buy_close)\n",
    "reload(pi.summarize.trades)\n",
    "reload(pi.indicators)"
   ]
  },
  {
   "cell_type": "code",
   "execution_count": null,
   "metadata": {},
   "outputs": [],
   "source": [
    "symbols = ['A','AA']"
   ]
  },
  {
   "cell_type": "code",
   "execution_count": null,
   "metadata": {},
   "outputs": [],
   "source": [
    "#df = gas.get_symbols_df(symbols)"
   ]
  },
  {
   "cell_type": "code",
   "execution_count": null,
   "metadata": {},
   "outputs": [],
   "source": [
    "try:\n",
    "    df = saved_df.clone()\n",
    "except NameError:\n",
    "        df = gas.get_all_saved_data_df()\n",
    "        df = df.filter(pl.col(pi.indicators.DATE_COLUMN) >= datetime(2020, 1, 1))\n",
    "        df = df.collect()"
   ]
  },
  {
   "cell_type": "code",
   "execution_count": null,
   "metadata": {},
   "outputs": [],
   "source": [
    "saved_df = df.clone()"
   ]
  },
  {
   "cell_type": "code",
   "execution_count": null,
   "metadata": {},
   "outputs": [],
   "source": [
    "fluctuation = pi.indicators.fluctuation_percentage(df)\n",
    "fluct_sma3 = pi.indicators.simple_moving_average(fluctuation.df, 7, fluctuation.column)\n",
    "#grouped_fluctation = pi.indicators.group_by_amount_display(fluct_sma3.df, fluct_sma3.column, [1,2,3,5,7,10,20,30,40,50,60,70,80,90])\n",
    "grouped_fluctation = pi.indicators.group_by_amount(fluct_sma3.df, fluct_sma3.column, [1,2,3,5,7,10,20])\n",
    "df = grouped_fluctation.df"
   ]
  },
  {
   "cell_type": "code",
   "execution_count": null,
   "metadata": {},
   "outputs": [],
   "source": [
    "relative_volume = pi.indicators.relative_volume(df, 5)\n",
    "grouped_relative_volume = pi.indicators.group_by_amount(relative_volume.df, relative_volume.column, [x * 25 for x in range(1,7)])\n",
    "df = grouped_relative_volume.df"
   ]
  },
  {
   "cell_type": "code",
   "execution_count": null,
   "metadata": {},
   "outputs": [],
   "source": [
    "df = df.with_columns(pl.col(pi.indicators.DATE_COLUMN).cast(pl.Datetime))\n",
    "df"
   ]
  },
  {
   "cell_type": "code",
   "execution_count": null,
   "metadata": {},
   "outputs": [],
   "source": [
    "#filter out average price too low\n",
    "df = df.filter(pl.col(pi.indicators.CLOSE_COLUMN).mean().over(pi.indicators.SYMBOL_COLUMN) > 3)\n",
    "\n",
    "# filter out too many 0 volume bars. This gets rid of a lot of garbage\n",
    "df = df.filter((pl.col(pi.indicators.VOLUME_COLUMN) == 0).sum().over(pi.indicators.SYMBOL_COLUMN) < 3)\n",
    "\n",
    "# minimum amount of volume\n",
    "df = df.filter(pl.col(pi.indicators.VOLUME_COLUMN).mean().over(pi.indicators.SYMBOL_COLUMN) > 100000)\n"
   ]
  },
  {
   "cell_type": "code",
   "execution_count": null,
   "metadata": {},
   "outputs": [],
   "source": [
    "# #buy_x_week_low\n",
    "# lookback_bars = 7\n",
    "# offset_bars = 3\n",
    "# min_price = 3\n",
    "# offset_percentage = 1\n",
    "# extra_columns = [grouped_relative_volume.column, grouped_fluctation.column]\n",
    "\n",
    "# roll_min = pi.indicators.rolling_min_with_offset(df, column=pi.indicators.LOW_COLUMN, bars=lookback_bars, offset=offset_bars)\n",
    "# df = roll_min.df\n",
    "\n",
    "# #min_price filter\n",
    "# df = df.with_columns(pl.when(pl.col(roll_min.column) >= min_price).then(pl.col(roll_min.column)))\n",
    "\n",
    "# #filter when bar in offset range was below minimum\n",
    "# df = df.with_columns(pl.when(pl.col(roll_min.column) < pl.col(pi.indicators.LOW_COLUMN).rolling_min(offset_bars).shift().over(pi.indicators.SYMBOL_COLUMN)).then(\n",
    "#     pl.col(roll_min.column)))\n",
    "\n",
    "# #take the offset_percentage into account\n",
    "# factor = (100 + offset_percentage) / 100\n",
    "# df = df.with_columns(pl.col(roll_min.column) * factor)\n",
    "\n",
    "\n",
    "# #this is where we differ. Just calculating when the contitions are true for passing to buy_close\n",
    "# enter_column = \"enter\"\n",
    "# target = pi.indicators.targeted_value(df, roll_min.column)\n",
    "# df = target.df.with_columns((\n",
    "#         pl.col(target.column).is_not_null()\n",
    "#         &\n",
    "#         (\n",
    "#             ((pl.col(grouped_fluctation.column) >= 10) & (pl.col(grouped_relative_volume.column) == 25))\n",
    "#             |\n",
    "#             ((pl.col(grouped_fluctation.column) == 20.01) & (pl.col(grouped_relative_volume.column) == 50))\n",
    "#         )\n",
    "#     ).alias(enter_column))\n",
    "# df\n"
   ]
  },
  {
   "cell_type": "code",
   "execution_count": null,
   "metadata": {},
   "outputs": [],
   "source": [
    "# res = pi.strategies.buy_close.strategy(df, enter_column, 2)"
   ]
  },
  {
   "cell_type": "code",
   "execution_count": null,
   "metadata": {},
   "outputs": [],
   "source": [
    "# ts = pi.summarize.trades.Trades.from_strategy_result(res, extra_columns)\n",
    "# ts.summarize_strategy(extra_columns)"
   ]
  },
  {
   "cell_type": "code",
   "execution_count": null,
   "metadata": {},
   "outputs": [],
   "source": [
    "# ts.df.filter(pl.col(\"Start\") > datetime(2023,1,1))"
   ]
  },
  {
   "cell_type": "code",
   "execution_count": null,
   "metadata": {},
   "outputs": [],
   "source": [
    "lookback_bars = 7\n",
    "offset_bars = 3\n",
    "modresult_05 = pi.strategies.buy_x_week_low.strategy(df, lookback_bars, offset_bars, 0.5, -5, 2, 3)\n",
    "modresult_1 = pi.strategies.buy_x_week_low.strategy(df, lookback_bars, offset_bars, 1, -5, 2, 3)"
   ]
  },
  {
   "cell_type": "code",
   "execution_count": null,
   "metadata": {},
   "outputs": [],
   "source": [
    "extra_columns = [grouped_fluctation.column, grouped_relative_volume.column]\n",
    "trades_05 = pi.summarize.trades.Trades.from_strategy_result(modresult_05, extra_columns)\n",
    "trades_1 = pi.summarize.trades.Trades.from_strategy_result(modresult_1, extra_columns)"
   ]
  },
  {
   "cell_type": "code",
   "execution_count": null,
   "metadata": {},
   "outputs": [],
   "source": [
    "ss_05 = trades_05.summarize_strategy([grouped_relative_volume.column, grouped_fluctation.column]).sort(grouped_relative_volume.column)\n",
    "ss_05"
   ]
  },
  {
   "cell_type": "code",
   "execution_count": null,
   "metadata": {},
   "outputs": [],
   "source": [
    "ss_1 = trades_1.summarize_strategy([grouped_relative_volume.column, grouped_fluctation.column]).sort(grouped_relative_volume.column).filter(pl.col(\"SMA7_Low/High_fluctuation%_grouped_values\") >= 10)\n",
    "ss_1"
   ]
  },
  {
   "cell_type": "code",
   "execution_count": null,
   "metadata": {},
   "outputs": [],
   "source": [
    "ss_1.join(ss_05, on=extra_columns).select(extra_columns,\"Trades\",\"Trades_right\",\"Win_Ratio\",\"Win_Ratio_right\",\"Average_Gain/Loss%\",\"Average_Gain/Loss%_right\")"
   ]
  },
  {
   "cell_type": "code",
   "execution_count": null,
   "metadata": {},
   "outputs": [],
   "source": [
    "filtered_1 = trades_1.df.filter((\n",
    "    (pl.col(grouped_fluctation.column) >= 10) & (pl.col(grouped_relative_volume.column) == 25))\n",
    "    |\n",
    "    (pl.col(grouped_fluctation.column) == 20.01) & (pl.col(grouped_relative_volume.column) == 50))\n"
   ]
  },
  {
   "cell_type": "code",
   "execution_count": null,
   "metadata": {},
   "outputs": [],
   "source": [
    "filtered_1.filter(pl.col(\"Start\") > datetime(2023,1,1))"
   ]
  },
  {
   "cell_type": "code",
   "execution_count": null,
   "metadata": {},
   "outputs": [],
   "source": [
    "modresult_1.df.filter(pl.col(modresult_1.ids_column) == 25790)"
   ]
  },
  {
   "cell_type": "code",
   "execution_count": null,
   "metadata": {},
   "outputs": [],
   "source": [
    "filtered_1.filter(pl.col(\"Gain/Loss%\") > 50).sort(pl.col(\"Gain/Loss%\"))"
   ]
  },
  {
   "cell_type": "code",
   "execution_count": null,
   "metadata": {},
   "outputs": [],
   "source": [
    "trades_05.df.filter(pl.col(\"Highest%\") > 557.16)"
   ]
  },
  {
   "cell_type": "code",
   "execution_count": null,
   "metadata": {},
   "outputs": [],
   "source": [
    "tf = trades_05.df.groupby(pi.indicators.SYMBOL_COLUMN).agg(pl.col(pi.indicators.SYMBOL_COLUMN).count().alias(\"trades\")).sort(\"trades\", descending=True)\n",
    "tf"
   ]
  },
  {
   "cell_type": "code",
   "execution_count": null,
   "metadata": {},
   "outputs": [],
   "source": [
    "tester = modresult_05.df.with_row_count(\"row\").filter(pl.col(\"row\").is_between(820,831)).select(\"Date\",\"Open\",\"High\",\"Low\",\"Close\",\"Volume\",\"Symbol\")"
   ]
  },
  {
   "cell_type": "code",
   "execution_count": null,
   "metadata": {},
   "outputs": [],
   "source": []
  }
 ],
 "metadata": {
  "kernelspec": {
   "display_name": ".venv",
   "language": "python",
   "name": "python3"
  },
  "language_info": {
   "codemirror_mode": {
    "name": "ipython",
    "version": 3
   },
   "file_extension": ".py",
   "mimetype": "text/x-python",
   "name": "python",
   "nbconvert_exporter": "python",
   "pygments_lexer": "ipython3",
   "version": "3.10.5"
  },
  "orig_nbformat": 4
 },
 "nbformat": 4,
 "nbformat_minor": 2
}
