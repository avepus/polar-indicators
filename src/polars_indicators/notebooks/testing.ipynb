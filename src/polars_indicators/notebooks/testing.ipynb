{
 "cells": [
  {
   "cell_type": "code",
   "execution_count": 1,
   "metadata": {},
   "outputs": [],
   "source": [
    "import polars as pl\n",
    "from datetime import datetime\n",
    "import get_and_store as gas\n",
    "import polars_indicators as pi"
   ]
  },
  {
   "cell_type": "code",
   "execution_count": 2,
   "metadata": {},
   "outputs": [],
   "source": [
    "symbols = ['A','AA']"
   ]
  },
  {
   "cell_type": "code",
   "execution_count": 3,
   "metadata": {},
   "outputs": [],
   "source": [
    "df = gas.get_symbols_df(symbols)\n",
    "df = df.filter(pl.col('Date') >= datetime(2023, 1, 1))\n",
    "df = df.collect()"
   ]
  },
  {
   "cell_type": "code",
   "execution_count": 4,
   "metadata": {},
   "outputs": [
    {
     "data": {
      "text/html": [
       "<div><style>\n",
       ".dataframe > thead > tr > th,\n",
       ".dataframe > tbody > tr > td {\n",
       "  text-align: right;\n",
       "}\n",
       "</style>\n",
       "<small>shape: (94, 8)</small><table border=\"1\" class=\"dataframe\"><thead><tr><th>Date</th><th>Open</th><th>High</th><th>Low</th><th>Close</th><th>Adj Close</th><th>Volume</th><th>Symbol</th></tr><tr><td>date</td><td>f64</td><td>f64</td><td>f64</td><td>f64</td><td>f64</td><td>i64</td><td>str</td></tr></thead><tbody><tr><td>2023-01-03</td><td>151.960007</td><td>153.130005</td><td>148.470001</td><td>150.039993</td><td>150.039993</td><td>1414300</td><td>&quot;A&quot;</td></tr><tr><td>2023-01-04</td><td>151.649994</td><td>153.039993</td><td>150.240005</td><td>151.669998</td><td>151.669998</td><td>1247400</td><td>&quot;A&quot;</td></tr><tr><td>2023-01-05</td><td>150.0</td><td>153.070007</td><td>148.770004</td><td>152.110001</td><td>152.110001</td><td>1714600</td><td>&quot;A&quot;</td></tr><tr><td>2023-01-06</td><td>154.360001</td><td>154.639999</td><td>143.009995</td><td>147.669998</td><td>147.669998</td><td>2445000</td><td>&quot;A&quot;</td></tr><tr><td>2023-01-09</td><td>149.690002</td><td>151.279999</td><td>147.199997</td><td>147.470001</td><td>147.470001</td><td>1269600</td><td>&quot;A&quot;</td></tr><tr><td>2023-01-10</td><td>150.179993</td><td>155.550003</td><td>148.75</td><td>155.229996</td><td>155.229996</td><td>1565700</td><td>&quot;A&quot;</td></tr><tr><td>2023-01-11</td><td>155.229996</td><td>158.580002</td><td>155.229996</td><td>158.169998</td><td>158.169998</td><td>1241900</td><td>&quot;A&quot;</td></tr><tr><td>2023-01-12</td><td>158.160004</td><td>158.600006</td><td>155.580002</td><td>156.490005</td><td>156.490005</td><td>809100</td><td>&quot;A&quot;</td></tr><tr><td>2023-01-13</td><td>155.539993</td><td>157.279999</td><td>154.5</td><td>156.919998</td><td>156.919998</td><td>921700</td><td>&quot;A&quot;</td></tr><tr><td>2023-01-17</td><td>156.679993</td><td>158.110001</td><td>155.029999</td><td>155.399994</td><td>155.399994</td><td>1602200</td><td>&quot;A&quot;</td></tr><tr><td>2023-01-18</td><td>156.259995</td><td>158.160004</td><td>153.639999</td><td>154.070007</td><td>154.070007</td><td>1150700</td><td>&quot;A&quot;</td></tr><tr><td>2023-01-19</td><td>153.580002</td><td>154.919998</td><td>152.139999</td><td>152.869995</td><td>152.869995</td><td>1017400</td><td>&quot;A&quot;</td></tr><tr><td>&hellip;</td><td>&hellip;</td><td>&hellip;</td><td>&hellip;</td><td>&hellip;</td><td>&hellip;</td><td>&hellip;</td><td>&hellip;</td></tr><tr><td>2023-02-23</td><td>48.5</td><td>49.029999</td><td>46.549999</td><td>47.959999</td><td>47.873615</td><td>4654300</td><td>&quot;AA&quot;</td></tr><tr><td>2023-02-24</td><td>46.93</td><td>46.93</td><td>45.27</td><td>46.450001</td><td>46.366337</td><td>4587700</td><td>&quot;AA&quot;</td></tr><tr><td>2023-02-27</td><td>46.849998</td><td>48.435001</td><td>46.369999</td><td>48.040001</td><td>47.953476</td><td>4931200</td><td>&quot;AA&quot;</td></tr><tr><td>2023-02-28</td><td>48.25</td><td>50.040001</td><td>47.799999</td><td>48.939999</td><td>48.851852</td><td>3871400</td><td>&quot;AA&quot;</td></tr><tr><td>2023-03-01</td><td>51.290001</td><td>52.959999</td><td>50.529999</td><td>51.650002</td><td>51.556973</td><td>7599600</td><td>&quot;AA&quot;</td></tr><tr><td>2023-03-02</td><td>50.189999</td><td>53.709999</td><td>50.049999</td><td>53.689999</td><td>53.593296</td><td>6467900</td><td>&quot;AA&quot;</td></tr><tr><td>2023-03-03</td><td>54.330002</td><td>55.740002</td><td>53.700001</td><td>55.52</td><td>55.420002</td><td>6158800</td><td>&quot;AA&quot;</td></tr><tr><td>2023-03-06</td><td>54.009998</td><td>54.900002</td><td>53.380001</td><td>53.689999</td><td>53.689999</td><td>5129900</td><td>&quot;AA&quot;</td></tr><tr><td>2023-03-07</td><td>52.779999</td><td>53.040001</td><td>49.919998</td><td>50.169998</td><td>50.169998</td><td>6298100</td><td>&quot;AA&quot;</td></tr><tr><td>2023-03-08</td><td>50.41</td><td>51.240002</td><td>49.75</td><td>51.02</td><td>51.02</td><td>3467000</td><td>&quot;AA&quot;</td></tr><tr><td>2023-03-09</td><td>50.700001</td><td>51.139999</td><td>47.330002</td><td>47.900002</td><td>47.900002</td><td>5590500</td><td>&quot;AA&quot;</td></tr><tr><td>2023-03-10</td><td>48.119999</td><td>48.119999</td><td>44.459999</td><td>44.91</td><td>44.91</td><td>6190400</td><td>&quot;AA&quot;</td></tr></tbody></table></div>"
      ],
      "text/plain": [
       "shape: (94, 8)\n",
       "┌────────────┬────────────┬────────────┬────────────┬────────────┬────────────┬─────────┬────────┐\n",
       "│ Date       ┆ Open       ┆ High       ┆ Low        ┆ Close      ┆ Adj Close  ┆ Volume  ┆ Symbol │\n",
       "│ ---        ┆ ---        ┆ ---        ┆ ---        ┆ ---        ┆ ---        ┆ ---     ┆ ---    │\n",
       "│ date       ┆ f64        ┆ f64        ┆ f64        ┆ f64        ┆ f64        ┆ i64     ┆ str    │\n",
       "╞════════════╪════════════╪════════════╪════════════╪════════════╪════════════╪═════════╪════════╡\n",
       "│ 2023-01-03 ┆ 151.960007 ┆ 153.130005 ┆ 148.470001 ┆ 150.039993 ┆ 150.039993 ┆ 1414300 ┆ A      │\n",
       "│ 2023-01-04 ┆ 151.649994 ┆ 153.039993 ┆ 150.240005 ┆ 151.669998 ┆ 151.669998 ┆ 1247400 ┆ A      │\n",
       "│ 2023-01-05 ┆ 150.0      ┆ 153.070007 ┆ 148.770004 ┆ 152.110001 ┆ 152.110001 ┆ 1714600 ┆ A      │\n",
       "│ 2023-01-06 ┆ 154.360001 ┆ 154.639999 ┆ 143.009995 ┆ 147.669998 ┆ 147.669998 ┆ 2445000 ┆ A      │\n",
       "│ …          ┆ …          ┆ …          ┆ …          ┆ …          ┆ …          ┆ …       ┆ …      │\n",
       "│ 2023-03-07 ┆ 52.779999  ┆ 53.040001  ┆ 49.919998  ┆ 50.169998  ┆ 50.169998  ┆ 6298100 ┆ AA     │\n",
       "│ 2023-03-08 ┆ 50.41      ┆ 51.240002  ┆ 49.75      ┆ 51.02      ┆ 51.02      ┆ 3467000 ┆ AA     │\n",
       "│ 2023-03-09 ┆ 50.700001  ┆ 51.139999  ┆ 47.330002  ┆ 47.900002  ┆ 47.900002  ┆ 5590500 ┆ AA     │\n",
       "│ 2023-03-10 ┆ 48.119999  ┆ 48.119999  ┆ 44.459999  ┆ 44.91      ┆ 44.91      ┆ 6190400 ┆ AA     │\n",
       "└────────────┴────────────┴────────────┴────────────┴────────────┴────────────┴─────────┴────────┘"
      ]
     },
     "execution_count": 4,
     "metadata": {},
     "output_type": "execute_result"
    }
   ],
   "source": [
    "df"
   ]
  },
  {
   "cell_type": "code",
   "execution_count": 5,
   "metadata": {},
   "outputs": [
    {
     "data": {
      "text/html": [
       "<div><style>\n",
       ".dataframe > thead > tr > th,\n",
       ".dataframe > tbody > tr > td {\n",
       "  text-align: right;\n",
       "}\n",
       "</style>\n",
       "<small>shape: (94, 10)</small><table border=\"1\" class=\"dataframe\"><thead><tr><th>Date</th><th>Open</th><th>High</th><th>Low</th><th>Close</th><th>Adj Close</th><th>Volume</th><th>Symbol</th><th>SMA5</th><th>SMA4</th></tr><tr><td>date</td><td>f64</td><td>f64</td><td>f64</td><td>f64</td><td>f64</td><td>i64</td><td>str</td><td>f64</td><td>f64</td></tr></thead><tbody><tr><td>2023-01-03</td><td>151.960007</td><td>153.130005</td><td>148.470001</td><td>150.039993</td><td>150.039993</td><td>1414300</td><td>&quot;A&quot;</td><td>null</td><td>null</td></tr><tr><td>2023-01-04</td><td>151.649994</td><td>153.039993</td><td>150.240005</td><td>151.669998</td><td>151.669998</td><td>1247400</td><td>&quot;A&quot;</td><td>null</td><td>null</td></tr><tr><td>2023-01-05</td><td>150.0</td><td>153.070007</td><td>148.770004</td><td>152.110001</td><td>152.110001</td><td>1714600</td><td>&quot;A&quot;</td><td>null</td><td>null</td></tr><tr><td>2023-01-06</td><td>154.360001</td><td>154.639999</td><td>143.009995</td><td>147.669998</td><td>147.669998</td><td>2445000</td><td>&quot;A&quot;</td><td>null</td><td>150.372498</td></tr><tr><td>2023-01-09</td><td>149.690002</td><td>151.279999</td><td>147.199997</td><td>147.470001</td><td>147.470001</td><td>1269600</td><td>&quot;A&quot;</td><td>149.791998</td><td>149.73</td></tr><tr><td>2023-01-10</td><td>150.179993</td><td>155.550003</td><td>148.75</td><td>155.229996</td><td>155.229996</td><td>1565700</td><td>&quot;A&quot;</td><td>150.829999</td><td>150.619999</td></tr><tr><td>2023-01-11</td><td>155.229996</td><td>158.580002</td><td>155.229996</td><td>158.169998</td><td>158.169998</td><td>1241900</td><td>&quot;A&quot;</td><td>152.129999</td><td>152.134998</td></tr><tr><td>2023-01-12</td><td>158.160004</td><td>158.600006</td><td>155.580002</td><td>156.490005</td><td>156.490005</td><td>809100</td><td>&quot;A&quot;</td><td>153.006</td><td>154.34</td></tr><tr><td>2023-01-13</td><td>155.539993</td><td>157.279999</td><td>154.5</td><td>156.919998</td><td>156.919998</td><td>921700</td><td>&quot;A&quot;</td><td>154.856</td><td>156.702499</td></tr><tr><td>2023-01-17</td><td>156.679993</td><td>158.110001</td><td>155.029999</td><td>155.399994</td><td>155.399994</td><td>1602200</td><td>&quot;A&quot;</td><td>156.441998</td><td>156.744999</td></tr><tr><td>2023-01-18</td><td>156.259995</td><td>158.160004</td><td>153.639999</td><td>154.070007</td><td>154.070007</td><td>1150700</td><td>&quot;A&quot;</td><td>156.210001</td><td>155.720001</td></tr><tr><td>2023-01-19</td><td>153.580002</td><td>154.919998</td><td>152.139999</td><td>152.869995</td><td>152.869995</td><td>1017400</td><td>&quot;A&quot;</td><td>155.15</td><td>154.814999</td></tr><tr><td>&hellip;</td><td>&hellip;</td><td>&hellip;</td><td>&hellip;</td><td>&hellip;</td><td>&hellip;</td><td>&hellip;</td><td>&hellip;</td><td>&hellip;</td><td>&hellip;</td></tr><tr><td>2023-02-23</td><td>48.5</td><td>49.029999</td><td>46.549999</td><td>47.959999</td><td>47.873615</td><td>4654300</td><td>&quot;AA&quot;</td><td>48.134</td><td>47.974999</td></tr><tr><td>2023-02-24</td><td>46.93</td><td>46.93</td><td>45.27</td><td>46.450001</td><td>46.366337</td><td>4587700</td><td>&quot;AA&quot;</td><td>47.67</td><td>47.865</td></tr><tr><td>2023-02-27</td><td>46.849998</td><td>48.435001</td><td>46.369999</td><td>48.040001</td><td>47.953476</td><td>4931200</td><td>&quot;AA&quot;</td><td>47.9</td><td>47.8575</td></tr><tr><td>2023-02-28</td><td>48.25</td><td>50.040001</td><td>47.799999</td><td>48.939999</td><td>48.851852</td><td>3871400</td><td>&quot;AA&quot;</td><td>48.074</td><td>47.8475</td></tr><tr><td>2023-03-01</td><td>51.290001</td><td>52.959999</td><td>50.529999</td><td>51.650002</td><td>51.556973</td><td>7599600</td><td>&quot;AA&quot;</td><td>48.608</td><td>48.77</td></tr><tr><td>2023-03-02</td><td>50.189999</td><td>53.709999</td><td>50.049999</td><td>53.689999</td><td>53.593296</td><td>6467900</td><td>&quot;AA&quot;</td><td>49.754</td><td>50.58</td></tr><tr><td>2023-03-03</td><td>54.330002</td><td>55.740002</td><td>53.700001</td><td>55.52</td><td>55.420002</td><td>6158800</td><td>&quot;AA&quot;</td><td>51.568</td><td>52.45</td></tr><tr><td>2023-03-06</td><td>54.009998</td><td>54.900002</td><td>53.380001</td><td>53.689999</td><td>53.689999</td><td>5129900</td><td>&quot;AA&quot;</td><td>52.698</td><td>53.6375</td></tr><tr><td>2023-03-07</td><td>52.779999</td><td>53.040001</td><td>49.919998</td><td>50.169998</td><td>50.169998</td><td>6298100</td><td>&quot;AA&quot;</td><td>52.943999</td><td>53.267499</td></tr><tr><td>2023-03-08</td><td>50.41</td><td>51.240002</td><td>49.75</td><td>51.02</td><td>51.02</td><td>3467000</td><td>&quot;AA&quot;</td><td>52.817999</td><td>52.599999</td></tr><tr><td>2023-03-09</td><td>50.700001</td><td>51.139999</td><td>47.330002</td><td>47.900002</td><td>47.900002</td><td>5590500</td><td>&quot;AA&quot;</td><td>51.66</td><td>50.695</td></tr><tr><td>2023-03-10</td><td>48.119999</td><td>48.119999</td><td>44.459999</td><td>44.91</td><td>44.91</td><td>6190400</td><td>&quot;AA&quot;</td><td>49.538</td><td>48.5</td></tr></tbody></table></div>"
      ],
      "text/plain": [
       "shape: (94, 10)\n",
       "┌────────────┬────────────┬────────────┬────────────┬───┬─────────┬────────┬───────────┬───────────┐\n",
       "│ Date       ┆ Open       ┆ High       ┆ Low        ┆ … ┆ Volume  ┆ Symbol ┆ SMA5      ┆ SMA4      │\n",
       "│ ---        ┆ ---        ┆ ---        ┆ ---        ┆   ┆ ---     ┆ ---    ┆ ---       ┆ ---       │\n",
       "│ date       ┆ f64        ┆ f64        ┆ f64        ┆   ┆ i64     ┆ str    ┆ f64       ┆ f64       │\n",
       "╞════════════╪════════════╪════════════╪════════════╪═══╪═════════╪════════╪═══════════╪═══════════╡\n",
       "│ 2023-01-03 ┆ 151.960007 ┆ 153.130005 ┆ 148.470001 ┆ … ┆ 1414300 ┆ A      ┆ null      ┆ null      │\n",
       "│ 2023-01-04 ┆ 151.649994 ┆ 153.039993 ┆ 150.240005 ┆ … ┆ 1247400 ┆ A      ┆ null      ┆ null      │\n",
       "│ 2023-01-05 ┆ 150.0      ┆ 153.070007 ┆ 148.770004 ┆ … ┆ 1714600 ┆ A      ┆ null      ┆ null      │\n",
       "│ 2023-01-06 ┆ 154.360001 ┆ 154.639999 ┆ 143.009995 ┆ … ┆ 2445000 ┆ A      ┆ null      ┆ 150.37249 │\n",
       "│            ┆            ┆            ┆            ┆   ┆         ┆        ┆           ┆ 8         │\n",
       "│ …          ┆ …          ┆ …          ┆ …          ┆ … ┆ …       ┆ …      ┆ …         ┆ …         │\n",
       "│ 2023-03-07 ┆ 52.779999  ┆ 53.040001  ┆ 49.919998  ┆ … ┆ 6298100 ┆ AA     ┆ 52.943999 ┆ 53.267499 │\n",
       "│ 2023-03-08 ┆ 50.41      ┆ 51.240002  ┆ 49.75      ┆ … ┆ 3467000 ┆ AA     ┆ 52.817999 ┆ 52.599999 │\n",
       "│ 2023-03-09 ┆ 50.700001  ┆ 51.139999  ┆ 47.330002  ┆ … ┆ 5590500 ┆ AA     ┆ 51.66     ┆ 50.695    │\n",
       "│ 2023-03-10 ┆ 48.119999  ┆ 48.119999  ┆ 44.459999  ┆ … ┆ 6190400 ┆ AA     ┆ 49.538    ┆ 48.5      │\n",
       "└────────────┴────────────┴────────────┴────────────┴───┴─────────┴────────┴───────────┴───────────┘"
      ]
     },
     "execution_count": 5,
     "metadata": {},
     "output_type": "execute_result"
    }
   ],
   "source": [
    "ret1 = pi.simple_moving_average(df, 5)\n",
    "ret2 = pi.simple_moving_average(ret1.df, 4)\n",
    "ret2.df"
   ]
  },
  {
   "cell_type": "code",
   "execution_count": 6,
   "metadata": {},
   "outputs": [
    {
     "data": {
      "text/html": [
       "<div><style>\n",
       ".dataframe > thead > tr > th,\n",
       ".dataframe > tbody > tr > td {\n",
       "  text-align: right;\n",
       "}\n",
       "</style>\n",
       "<small>shape: (94, 11)</small><table border=\"1\" class=\"dataframe\"><thead><tr><th>Date</th><th>Open</th><th>High</th><th>Low</th><th>Close</th><th>Adj Close</th><th>Volume</th><th>Symbol</th><th>SMA5</th><th>SMA4</th><th>SMA5_cross_up_SMA4</th></tr><tr><td>date</td><td>f64</td><td>f64</td><td>f64</td><td>f64</td><td>f64</td><td>i64</td><td>str</td><td>f64</td><td>f64</td><td>bool</td></tr></thead><tbody><tr><td>2023-01-03</td><td>151.960007</td><td>153.130005</td><td>148.470001</td><td>150.039993</td><td>150.039993</td><td>1414300</td><td>&quot;A&quot;</td><td>null</td><td>null</td><td>false</td></tr><tr><td>2023-01-04</td><td>151.649994</td><td>153.039993</td><td>150.240005</td><td>151.669998</td><td>151.669998</td><td>1247400</td><td>&quot;A&quot;</td><td>null</td><td>null</td><td>null</td></tr><tr><td>2023-01-05</td><td>150.0</td><td>153.070007</td><td>148.770004</td><td>152.110001</td><td>152.110001</td><td>1714600</td><td>&quot;A&quot;</td><td>null</td><td>null</td><td>null</td></tr><tr><td>2023-01-06</td><td>154.360001</td><td>154.639999</td><td>143.009995</td><td>147.669998</td><td>147.669998</td><td>2445000</td><td>&quot;A&quot;</td><td>null</td><td>150.372498</td><td>null</td></tr><tr><td>2023-01-09</td><td>149.690002</td><td>151.279999</td><td>147.199997</td><td>147.470001</td><td>147.470001</td><td>1269600</td><td>&quot;A&quot;</td><td>149.791998</td><td>149.73</td><td>null</td></tr><tr><td>2023-01-10</td><td>150.179993</td><td>155.550003</td><td>148.75</td><td>155.229996</td><td>155.229996</td><td>1565700</td><td>&quot;A&quot;</td><td>150.829999</td><td>150.619999</td><td>false</td></tr><tr><td>2023-01-11</td><td>155.229996</td><td>158.580002</td><td>155.229996</td><td>158.169998</td><td>158.169998</td><td>1241900</td><td>&quot;A&quot;</td><td>152.129999</td><td>152.134998</td><td>false</td></tr><tr><td>2023-01-12</td><td>158.160004</td><td>158.600006</td><td>155.580002</td><td>156.490005</td><td>156.490005</td><td>809100</td><td>&quot;A&quot;</td><td>153.006</td><td>154.34</td><td>false</td></tr><tr><td>2023-01-13</td><td>155.539993</td><td>157.279999</td><td>154.5</td><td>156.919998</td><td>156.919998</td><td>921700</td><td>&quot;A&quot;</td><td>154.856</td><td>156.702499</td><td>false</td></tr><tr><td>2023-01-17</td><td>156.679993</td><td>158.110001</td><td>155.029999</td><td>155.399994</td><td>155.399994</td><td>1602200</td><td>&quot;A&quot;</td><td>156.441998</td><td>156.744999</td><td>false</td></tr><tr><td>2023-01-18</td><td>156.259995</td><td>158.160004</td><td>153.639999</td><td>154.070007</td><td>154.070007</td><td>1150700</td><td>&quot;A&quot;</td><td>156.210001</td><td>155.720001</td><td>true</td></tr><tr><td>2023-01-19</td><td>153.580002</td><td>154.919998</td><td>152.139999</td><td>152.869995</td><td>152.869995</td><td>1017400</td><td>&quot;A&quot;</td><td>155.15</td><td>154.814999</td><td>false</td></tr><tr><td>&hellip;</td><td>&hellip;</td><td>&hellip;</td><td>&hellip;</td><td>&hellip;</td><td>&hellip;</td><td>&hellip;</td><td>&hellip;</td><td>&hellip;</td><td>&hellip;</td><td>&hellip;</td></tr><tr><td>2023-02-23</td><td>48.5</td><td>49.029999</td><td>46.549999</td><td>47.959999</td><td>47.873615</td><td>4654300</td><td>&quot;AA&quot;</td><td>48.134</td><td>47.974999</td><td>false</td></tr><tr><td>2023-02-24</td><td>46.93</td><td>46.93</td><td>45.27</td><td>46.450001</td><td>46.366337</td><td>4587700</td><td>&quot;AA&quot;</td><td>47.67</td><td>47.865</td><td>false</td></tr><tr><td>2023-02-27</td><td>46.849998</td><td>48.435001</td><td>46.369999</td><td>48.040001</td><td>47.953476</td><td>4931200</td><td>&quot;AA&quot;</td><td>47.9</td><td>47.8575</td><td>true</td></tr><tr><td>2023-02-28</td><td>48.25</td><td>50.040001</td><td>47.799999</td><td>48.939999</td><td>48.851852</td><td>3871400</td><td>&quot;AA&quot;</td><td>48.074</td><td>47.8475</td><td>false</td></tr><tr><td>2023-03-01</td><td>51.290001</td><td>52.959999</td><td>50.529999</td><td>51.650002</td><td>51.556973</td><td>7599600</td><td>&quot;AA&quot;</td><td>48.608</td><td>48.77</td><td>false</td></tr><tr><td>2023-03-02</td><td>50.189999</td><td>53.709999</td><td>50.049999</td><td>53.689999</td><td>53.593296</td><td>6467900</td><td>&quot;AA&quot;</td><td>49.754</td><td>50.58</td><td>false</td></tr><tr><td>2023-03-03</td><td>54.330002</td><td>55.740002</td><td>53.700001</td><td>55.52</td><td>55.420002</td><td>6158800</td><td>&quot;AA&quot;</td><td>51.568</td><td>52.45</td><td>false</td></tr><tr><td>2023-03-06</td><td>54.009998</td><td>54.900002</td><td>53.380001</td><td>53.689999</td><td>53.689999</td><td>5129900</td><td>&quot;AA&quot;</td><td>52.698</td><td>53.6375</td><td>false</td></tr><tr><td>2023-03-07</td><td>52.779999</td><td>53.040001</td><td>49.919998</td><td>50.169998</td><td>50.169998</td><td>6298100</td><td>&quot;AA&quot;</td><td>52.943999</td><td>53.267499</td><td>false</td></tr><tr><td>2023-03-08</td><td>50.41</td><td>51.240002</td><td>49.75</td><td>51.02</td><td>51.02</td><td>3467000</td><td>&quot;AA&quot;</td><td>52.817999</td><td>52.599999</td><td>true</td></tr><tr><td>2023-03-09</td><td>50.700001</td><td>51.139999</td><td>47.330002</td><td>47.900002</td><td>47.900002</td><td>5590500</td><td>&quot;AA&quot;</td><td>51.66</td><td>50.695</td><td>false</td></tr><tr><td>2023-03-10</td><td>48.119999</td><td>48.119999</td><td>44.459999</td><td>44.91</td><td>44.91</td><td>6190400</td><td>&quot;AA&quot;</td><td>49.538</td><td>48.5</td><td>false</td></tr></tbody></table></div>"
      ],
      "text/plain": [
       "shape: (94, 11)\n",
       "┌────────────┬───────────┬───────────┬───────────┬───┬────────┬───────────┬───────────┬────────────┐\n",
       "│ Date       ┆ Open      ┆ High      ┆ Low       ┆ … ┆ Symbol ┆ SMA5      ┆ SMA4      ┆ SMA5_cross │\n",
       "│ ---        ┆ ---       ┆ ---       ┆ ---       ┆   ┆ ---    ┆ ---       ┆ ---       ┆ _up_SMA4   │\n",
       "│ date       ┆ f64       ┆ f64       ┆ f64       ┆   ┆ str    ┆ f64       ┆ f64       ┆ ---        │\n",
       "│            ┆           ┆           ┆           ┆   ┆        ┆           ┆           ┆ bool       │\n",
       "╞════════════╪═══════════╪═══════════╪═══════════╪═══╪════════╪═══════════╪═══════════╪════════════╡\n",
       "│ 2023-01-03 ┆ 151.96000 ┆ 153.13000 ┆ 148.47000 ┆ … ┆ A      ┆ null      ┆ null      ┆ false      │\n",
       "│            ┆ 7         ┆ 5         ┆ 1         ┆   ┆        ┆           ┆           ┆            │\n",
       "│ 2023-01-04 ┆ 151.64999 ┆ 153.03999 ┆ 150.24000 ┆ … ┆ A      ┆ null      ┆ null      ┆ null       │\n",
       "│            ┆ 4         ┆ 3         ┆ 5         ┆   ┆        ┆           ┆           ┆            │\n",
       "│ 2023-01-05 ┆ 150.0     ┆ 153.07000 ┆ 148.77000 ┆ … ┆ A      ┆ null      ┆ null      ┆ null       │\n",
       "│            ┆           ┆ 7         ┆ 4         ┆   ┆        ┆           ┆           ┆            │\n",
       "│ 2023-01-06 ┆ 154.36000 ┆ 154.63999 ┆ 143.00999 ┆ … ┆ A      ┆ null      ┆ 150.37249 ┆ null       │\n",
       "│            ┆ 1         ┆ 9         ┆ 5         ┆   ┆        ┆           ┆ 8         ┆            │\n",
       "│ …          ┆ …         ┆ …         ┆ …         ┆ … ┆ …      ┆ …         ┆ …         ┆ …          │\n",
       "│ 2023-03-07 ┆ 52.779999 ┆ 53.040001 ┆ 49.919998 ┆ … ┆ AA     ┆ 52.943999 ┆ 53.267499 ┆ false      │\n",
       "│ 2023-03-08 ┆ 50.41     ┆ 51.240002 ┆ 49.75     ┆ … ┆ AA     ┆ 52.817999 ┆ 52.599999 ┆ true       │\n",
       "│ 2023-03-09 ┆ 50.700001 ┆ 51.139999 ┆ 47.330002 ┆ … ┆ AA     ┆ 51.66     ┆ 50.695    ┆ false      │\n",
       "│ 2023-03-10 ┆ 48.119999 ┆ 48.119999 ┆ 44.459999 ┆ … ┆ AA     ┆ 49.538    ┆ 48.5      ┆ false      │\n",
       "└────────────┴───────────┴───────────┴───────────┴───┴────────┴───────────┴───────────┴────────────┘"
      ]
     },
     "execution_count": 6,
     "metadata": {},
     "output_type": "execute_result"
    }
   ],
   "source": [
    "ret3 = pi.crossover(ret2.df, ret1.column, ret2.column, direction='up')\n",
    "ret3.df"
   ]
  },
  {
   "cell_type": "code",
   "execution_count": 7,
   "metadata": {},
   "outputs": [
    {
     "data": {
      "text/html": [
       "<div><style>\n",
       ".dataframe > thead > tr > th,\n",
       ".dataframe > tbody > tr > td {\n",
       "  text-align: right;\n",
       "}\n",
       "</style>\n",
       "<small>shape: (14, 11)</small><table border=\"1\" class=\"dataframe\"><thead><tr><th>Date</th><th>Open</th><th>High</th><th>Low</th><th>Close</th><th>Adj Close</th><th>Volume</th><th>Symbol</th><th>SMA5</th><th>SMA4</th><th>SMA5_cross_up_SMA4</th></tr><tr><td>date</td><td>f64</td><td>f64</td><td>f64</td><td>f64</td><td>f64</td><td>i64</td><td>str</td><td>f64</td><td>f64</td><td>bool</td></tr></thead><tbody><tr><td>2023-01-18</td><td>156.259995</td><td>158.160004</td><td>153.639999</td><td>154.070007</td><td>154.070007</td><td>1150700</td><td>&quot;A&quot;</td><td>156.210001</td><td>155.720001</td><td>true</td></tr><tr><td>2023-01-27</td><td>155.75</td><td>156.960007</td><td>154.809998</td><td>155.690002</td><td>155.690002</td><td>646200</td><td>&quot;A&quot;</td><td>156.485999</td><td>155.842499</td><td>true</td></tr><tr><td>2023-02-07</td><td>151.490005</td><td>154.960007</td><td>151.130005</td><td>154.509995</td><td>154.509995</td><td>1126700</td><td>&quot;A&quot;</td><td>154.45</td><td>154.200001</td><td>true</td></tr><tr><td>2023-02-13</td><td>153.270004</td><td>154.660004</td><td>152.009995</td><td>154.600006</td><td>154.600006</td><td>925400</td><td>&quot;A&quot;</td><td>153.692001</td><td>153.487503</td><td>true</td></tr><tr><td>2023-02-16</td><td>148.809998</td><td>150.160004</td><td>147.229996</td><td>148.279999</td><td>148.279999</td><td>1101700</td><td>&quot;A&quot;</td><td>152.044</td><td>151.9175</td><td>true</td></tr><tr><td>2023-03-01</td><td>138.580002</td><td>139.990005</td><td>136.25</td><td>137.509995</td><td>137.509995</td><td>3132800</td><td>&quot;A&quot;</td><td>141.211996</td><td>140.714996</td><td>true</td></tr><tr><td>2023-03-09</td><td>141.259995</td><td>142.0</td><td>138.300003</td><td>138.929993</td><td>138.929993</td><td>1328900</td><td>&quot;A&quot;</td><td>141.463995</td><td>140.847496</td><td>true</td></tr><tr><td>2023-01-19</td><td>51.139999</td><td>53.145</td><td>49.52</td><td>49.52</td><td>49.430809</td><td>12142700</td><td>&quot;AA&quot;</td><td>53.152</td><td>53.110001</td><td>true</td></tr><tr><td>2023-01-30</td><td>51.91</td><td>52.130001</td><td>50.279999</td><td>50.34</td><td>50.249332</td><td>4370000</td><td>&quot;AA&quot;</td><td>52.052</td><td>51.8475</td><td>true</td></tr><tr><td>2023-02-02</td><td>54.279999</td><td>54.469002</td><td>51.919998</td><td>53.66</td><td>53.563351</td><td>4665600</td><td>&quot;AA&quot;</td><td>52.714001</td><td>52.705001</td><td>true</td></tr><tr><td>2023-02-07</td><td>52.16</td><td>53.400002</td><td>50.865002</td><td>53.240002</td><td>53.144108</td><td>4359400</td><td>&quot;AA&quot;</td><td>53.248001</td><td>52.915001</td><td>true</td></tr><tr><td>2023-02-21</td><td>48.130001</td><td>49.790001</td><td>47.810001</td><td>48.07</td><td>47.983418</td><td>5382000</td><td>&quot;AA&quot;</td><td>48.214</td><td>48.035</td><td>true</td></tr><tr><td>2023-02-27</td><td>46.849998</td><td>48.435001</td><td>46.369999</td><td>48.040001</td><td>47.953476</td><td>4931200</td><td>&quot;AA&quot;</td><td>47.9</td><td>47.8575</td><td>true</td></tr><tr><td>2023-03-08</td><td>50.41</td><td>51.240002</td><td>49.75</td><td>51.02</td><td>51.02</td><td>3467000</td><td>&quot;AA&quot;</td><td>52.817999</td><td>52.599999</td><td>true</td></tr></tbody></table></div>"
      ],
      "text/plain": [
       "shape: (14, 11)\n",
       "┌────────────┬───────────┬───────────┬───────────┬───┬────────┬───────────┬───────────┬────────────┐\n",
       "│ Date       ┆ Open      ┆ High      ┆ Low       ┆ … ┆ Symbol ┆ SMA5      ┆ SMA4      ┆ SMA5_cross │\n",
       "│ ---        ┆ ---       ┆ ---       ┆ ---       ┆   ┆ ---    ┆ ---       ┆ ---       ┆ _up_SMA4   │\n",
       "│ date       ┆ f64       ┆ f64       ┆ f64       ┆   ┆ str    ┆ f64       ┆ f64       ┆ ---        │\n",
       "│            ┆           ┆           ┆           ┆   ┆        ┆           ┆           ┆ bool       │\n",
       "╞════════════╪═══════════╪═══════════╪═══════════╪═══╪════════╪═══════════╪═══════════╪════════════╡\n",
       "│ 2023-01-18 ┆ 156.25999 ┆ 158.16000 ┆ 153.63999 ┆ … ┆ A      ┆ 156.21000 ┆ 155.72000 ┆ true       │\n",
       "│            ┆ 5         ┆ 4         ┆ 9         ┆   ┆        ┆ 1         ┆ 1         ┆            │\n",
       "│ 2023-01-27 ┆ 155.75    ┆ 156.96000 ┆ 154.80999 ┆ … ┆ A      ┆ 156.48599 ┆ 155.84249 ┆ true       │\n",
       "│            ┆           ┆ 7         ┆ 8         ┆   ┆        ┆ 9         ┆ 9         ┆            │\n",
       "│ 2023-02-07 ┆ 151.49000 ┆ 154.96000 ┆ 151.13000 ┆ … ┆ A      ┆ 154.45    ┆ 154.20000 ┆ true       │\n",
       "│            ┆ 5         ┆ 7         ┆ 5         ┆   ┆        ┆           ┆ 1         ┆            │\n",
       "│ 2023-02-13 ┆ 153.27000 ┆ 154.66000 ┆ 152.00999 ┆ … ┆ A      ┆ 153.69200 ┆ 153.48750 ┆ true       │\n",
       "│            ┆ 4         ┆ 4         ┆ 5         ┆   ┆        ┆ 1         ┆ 3         ┆            │\n",
       "│ …          ┆ …         ┆ …         ┆ …         ┆ … ┆ …      ┆ …         ┆ …         ┆ …          │\n",
       "│ 2023-02-07 ┆ 52.16     ┆ 53.400002 ┆ 50.865002 ┆ … ┆ AA     ┆ 53.248001 ┆ 52.915001 ┆ true       │\n",
       "│ 2023-02-21 ┆ 48.130001 ┆ 49.790001 ┆ 47.810001 ┆ … ┆ AA     ┆ 48.214    ┆ 48.035    ┆ true       │\n",
       "│ 2023-02-27 ┆ 46.849998 ┆ 48.435001 ┆ 46.369999 ┆ … ┆ AA     ┆ 47.9      ┆ 47.8575   ┆ true       │\n",
       "│ 2023-03-08 ┆ 50.41     ┆ 51.240002 ┆ 49.75     ┆ … ┆ AA     ┆ 52.817999 ┆ 52.599999 ┆ true       │\n",
       "└────────────┴───────────┴───────────┴───────────┴───┴────────┴───────────┴───────────┴────────────┘"
      ]
     },
     "execution_count": 7,
     "metadata": {},
     "output_type": "execute_result"
    }
   ],
   "source": [
    "ret3.df.filter(pl.col(ret3.column) == True)"
   ]
  },
  {
   "cell_type": "code",
   "execution_count": 8,
   "metadata": {},
   "outputs": [
    {
     "data": {
      "text/html": [
       "<div><style>\n",
       ".dataframe > thead > tr > th,\n",
       ".dataframe > tbody > tr > td {\n",
       "  text-align: right;\n",
       "}\n",
       "</style>\n",
       "<small>shape: (94, 11)</small><table border=\"1\" class=\"dataframe\"><thead><tr><th>Date</th><th>Open</th><th>High</th><th>Low</th><th>Close</th><th>Adj Close</th><th>Volume</th><th>Symbol</th><th>SMA5</th><th>SMA4</th><th>SMA5_cross_up_SMA4</th></tr><tr><td>date</td><td>f64</td><td>f64</td><td>f64</td><td>f64</td><td>f64</td><td>i64</td><td>str</td><td>f64</td><td>f64</td><td>bool</td></tr></thead><tbody><tr><td>2023-01-03</td><td>151.960007</td><td>153.130005</td><td>148.470001</td><td>150.039993</td><td>150.039993</td><td>1414300</td><td>&quot;A&quot;</td><td>null</td><td>null</td><td>false</td></tr><tr><td>2023-01-04</td><td>151.649994</td><td>153.039993</td><td>150.240005</td><td>151.669998</td><td>151.669998</td><td>1247400</td><td>&quot;A&quot;</td><td>null</td><td>null</td><td>null</td></tr><tr><td>2023-01-05</td><td>150.0</td><td>153.070007</td><td>148.770004</td><td>152.110001</td><td>152.110001</td><td>1714600</td><td>&quot;A&quot;</td><td>null</td><td>null</td><td>null</td></tr><tr><td>2023-01-06</td><td>154.360001</td><td>154.639999</td><td>143.009995</td><td>147.669998</td><td>147.669998</td><td>2445000</td><td>&quot;A&quot;</td><td>null</td><td>150.372498</td><td>null</td></tr><tr><td>2023-01-09</td><td>149.690002</td><td>151.279999</td><td>147.199997</td><td>147.470001</td><td>147.470001</td><td>1269600</td><td>&quot;A&quot;</td><td>149.791998</td><td>149.73</td><td>null</td></tr><tr><td>2023-01-10</td><td>150.179993</td><td>155.550003</td><td>148.75</td><td>155.229996</td><td>155.229996</td><td>1565700</td><td>&quot;A&quot;</td><td>150.829999</td><td>150.619999</td><td>false</td></tr><tr><td>2023-01-11</td><td>155.229996</td><td>158.580002</td><td>155.229996</td><td>158.169998</td><td>158.169998</td><td>1241900</td><td>&quot;A&quot;</td><td>152.129999</td><td>152.134998</td><td>false</td></tr><tr><td>2023-01-12</td><td>158.160004</td><td>158.600006</td><td>155.580002</td><td>156.490005</td><td>156.490005</td><td>809100</td><td>&quot;A&quot;</td><td>153.006</td><td>154.34</td><td>false</td></tr><tr><td>2023-01-13</td><td>155.539993</td><td>157.279999</td><td>154.5</td><td>156.919998</td><td>156.919998</td><td>921700</td><td>&quot;A&quot;</td><td>154.856</td><td>156.702499</td><td>false</td></tr><tr><td>2023-01-17</td><td>156.679993</td><td>158.110001</td><td>155.029999</td><td>155.399994</td><td>155.399994</td><td>1602200</td><td>&quot;A&quot;</td><td>156.441998</td><td>156.744999</td><td>false</td></tr><tr><td>2023-01-18</td><td>156.259995</td><td>158.160004</td><td>153.639999</td><td>154.070007</td><td>154.070007</td><td>1150700</td><td>&quot;A&quot;</td><td>156.210001</td><td>155.720001</td><td>true</td></tr><tr><td>2023-01-19</td><td>153.580002</td><td>154.919998</td><td>152.139999</td><td>152.869995</td><td>152.869995</td><td>1017400</td><td>&quot;A&quot;</td><td>155.15</td><td>154.814999</td><td>false</td></tr><tr><td>&hellip;</td><td>&hellip;</td><td>&hellip;</td><td>&hellip;</td><td>&hellip;</td><td>&hellip;</td><td>&hellip;</td><td>&hellip;</td><td>&hellip;</td><td>&hellip;</td><td>&hellip;</td></tr><tr><td>2023-02-23</td><td>48.5</td><td>49.029999</td><td>46.549999</td><td>47.959999</td><td>47.873615</td><td>4654300</td><td>&quot;AA&quot;</td><td>48.134</td><td>47.974999</td><td>false</td></tr><tr><td>2023-02-24</td><td>46.93</td><td>46.93</td><td>45.27</td><td>46.450001</td><td>46.366337</td><td>4587700</td><td>&quot;AA&quot;</td><td>47.67</td><td>47.865</td><td>false</td></tr><tr><td>2023-02-27</td><td>46.849998</td><td>48.435001</td><td>46.369999</td><td>48.040001</td><td>47.953476</td><td>4931200</td><td>&quot;AA&quot;</td><td>47.9</td><td>47.8575</td><td>true</td></tr><tr><td>2023-02-28</td><td>48.25</td><td>50.040001</td><td>47.799999</td><td>48.939999</td><td>48.851852</td><td>3871400</td><td>&quot;AA&quot;</td><td>48.074</td><td>47.8475</td><td>false</td></tr><tr><td>2023-03-01</td><td>51.290001</td><td>52.959999</td><td>50.529999</td><td>51.650002</td><td>51.556973</td><td>7599600</td><td>&quot;AA&quot;</td><td>48.608</td><td>48.77</td><td>false</td></tr><tr><td>2023-03-02</td><td>50.189999</td><td>53.709999</td><td>50.049999</td><td>53.689999</td><td>53.593296</td><td>6467900</td><td>&quot;AA&quot;</td><td>49.754</td><td>50.58</td><td>false</td></tr><tr><td>2023-03-03</td><td>54.330002</td><td>55.740002</td><td>53.700001</td><td>55.52</td><td>55.420002</td><td>6158800</td><td>&quot;AA&quot;</td><td>51.568</td><td>52.45</td><td>false</td></tr><tr><td>2023-03-06</td><td>54.009998</td><td>54.900002</td><td>53.380001</td><td>53.689999</td><td>53.689999</td><td>5129900</td><td>&quot;AA&quot;</td><td>52.698</td><td>53.6375</td><td>false</td></tr><tr><td>2023-03-07</td><td>52.779999</td><td>53.040001</td><td>49.919998</td><td>50.169998</td><td>50.169998</td><td>6298100</td><td>&quot;AA&quot;</td><td>52.943999</td><td>53.267499</td><td>false</td></tr><tr><td>2023-03-08</td><td>50.41</td><td>51.240002</td><td>49.75</td><td>51.02</td><td>51.02</td><td>3467000</td><td>&quot;AA&quot;</td><td>52.817999</td><td>52.599999</td><td>true</td></tr><tr><td>2023-03-09</td><td>50.700001</td><td>51.139999</td><td>47.330002</td><td>47.900002</td><td>47.900002</td><td>5590500</td><td>&quot;AA&quot;</td><td>51.66</td><td>50.695</td><td>false</td></tr><tr><td>2023-03-10</td><td>48.119999</td><td>48.119999</td><td>44.459999</td><td>44.91</td><td>44.91</td><td>6190400</td><td>&quot;AA&quot;</td><td>49.538</td><td>48.5</td><td>false</td></tr></tbody></table></div>"
      ],
      "text/plain": [
       "shape: (94, 11)\n",
       "┌────────────┬───────────┬───────────┬───────────┬───┬────────┬───────────┬───────────┬────────────┐\n",
       "│ Date       ┆ Open      ┆ High      ┆ Low       ┆ … ┆ Symbol ┆ SMA5      ┆ SMA4      ┆ SMA5_cross │\n",
       "│ ---        ┆ ---       ┆ ---       ┆ ---       ┆   ┆ ---    ┆ ---       ┆ ---       ┆ _up_SMA4   │\n",
       "│ date       ┆ f64       ┆ f64       ┆ f64       ┆   ┆ str    ┆ f64       ┆ f64       ┆ ---        │\n",
       "│            ┆           ┆           ┆           ┆   ┆        ┆           ┆           ┆ bool       │\n",
       "╞════════════╪═══════════╪═══════════╪═══════════╪═══╪════════╪═══════════╪═══════════╪════════════╡\n",
       "│ 2023-01-03 ┆ 151.96000 ┆ 153.13000 ┆ 148.47000 ┆ … ┆ A      ┆ null      ┆ null      ┆ false      │\n",
       "│            ┆ 7         ┆ 5         ┆ 1         ┆   ┆        ┆           ┆           ┆            │\n",
       "│ 2023-01-04 ┆ 151.64999 ┆ 153.03999 ┆ 150.24000 ┆ … ┆ A      ┆ null      ┆ null      ┆ null       │\n",
       "│            ┆ 4         ┆ 3         ┆ 5         ┆   ┆        ┆           ┆           ┆            │\n",
       "│ 2023-01-05 ┆ 150.0     ┆ 153.07000 ┆ 148.77000 ┆ … ┆ A      ┆ null      ┆ null      ┆ null       │\n",
       "│            ┆           ┆ 7         ┆ 4         ┆   ┆        ┆           ┆           ┆            │\n",
       "│ 2023-01-06 ┆ 154.36000 ┆ 154.63999 ┆ 143.00999 ┆ … ┆ A      ┆ null      ┆ 150.37249 ┆ null       │\n",
       "│            ┆ 1         ┆ 9         ┆ 5         ┆   ┆        ┆           ┆ 8         ┆            │\n",
       "│ …          ┆ …         ┆ …         ┆ …         ┆ … ┆ …      ┆ …         ┆ …         ┆ …          │\n",
       "│ 2023-03-07 ┆ 52.779999 ┆ 53.040001 ┆ 49.919998 ┆ … ┆ AA     ┆ 52.943999 ┆ 53.267499 ┆ false      │\n",
       "│ 2023-03-08 ┆ 50.41     ┆ 51.240002 ┆ 49.75     ┆ … ┆ AA     ┆ 52.817999 ┆ 52.599999 ┆ true       │\n",
       "│ 2023-03-09 ┆ 50.700001 ┆ 51.139999 ┆ 47.330002 ┆ … ┆ AA     ┆ 51.66     ┆ 50.695    ┆ false      │\n",
       "│ 2023-03-10 ┆ 48.119999 ┆ 48.119999 ┆ 44.459999 ┆ … ┆ AA     ┆ 49.538    ┆ 48.5      ┆ false      │\n",
       "└────────────┴───────────┴───────────┴───────────┴───┴────────┴───────────┴───────────┴────────────┘"
      ]
     },
     "execution_count": 8,
     "metadata": {},
     "output_type": "execute_result"
    }
   ],
   "source": [
    "ret3.df"
   ]
  },
  {
   "cell_type": "code",
   "execution_count": 9,
   "metadata": {},
   "outputs": [],
   "source": [
    "index_name = 'ind'\n",
    "column_name = 'test'\n",
    "first_symbol = df[pi.SYMBOL_COLUMN].to_list()[0]\n",
    "newdf = df.with_row_count(name=index_name).with_columns( \n",
    "                pl.when(\n",
    "                    pl.col(pi.SYMBOL_COLUMN) == first_symbol) \\\n",
    "                    .then(pl.col(index_name) + 1) \\\n",
    "                .otherwise(\n",
    "                    pl.col(index_name) - 1) \\\n",
    "                .alias(column_name))"
   ]
  },
  {
   "cell_type": "code",
   "execution_count": 10,
   "metadata": {},
   "outputs": [
    {
     "data": {
      "text/plain": [
       "['ind',\n",
       " 'Date',\n",
       " 'Open',\n",
       " 'High',\n",
       " 'Low',\n",
       " 'Close',\n",
       " 'Adj Close',\n",
       " 'Volume',\n",
       " 'Symbol',\n",
       " 'test']"
      ]
     },
     "execution_count": 10,
     "metadata": {},
     "output_type": "execute_result"
    }
   ],
   "source": [
    "newdf.columns"
   ]
  },
  {
   "cell_type": "code",
   "execution_count": 11,
   "metadata": {},
   "outputs": [
    {
     "data": {
      "text/html": [
       "<div><style>\n",
       ".dataframe > thead > tr > th,\n",
       ".dataframe > tbody > tr > td {\n",
       "  text-align: right;\n",
       "}\n",
       "</style>\n",
       "<small>shape: (0, 11)</small><table border=\"1\" class=\"dataframe\"><thead><tr><th>ind</th><th>Date</th><th>Open</th><th>High</th><th>Low</th><th>Close</th><th>Adj Close</th><th>Volume</th><th>Symbol</th><th>test</th><th>ind_cross_test</th></tr><tr><td>u32</td><td>date</td><td>f64</td><td>f64</td><td>f64</td><td>f64</td><td>f64</td><td>i64</td><td>str</td><td>i64</td><td>bool</td></tr></thead><tbody></tbody></table></div>"
      ],
      "text/plain": [
       "shape: (0, 11)\n",
       "┌─────┬──────┬──────┬──────┬───┬────────┬────────┬──────┬────────────────┐\n",
       "│ ind ┆ Date ┆ Open ┆ High ┆ … ┆ Volume ┆ Symbol ┆ test ┆ ind_cross_test │\n",
       "│ --- ┆ ---  ┆ ---  ┆ ---  ┆   ┆ ---    ┆ ---    ┆ ---  ┆ ---            │\n",
       "│ u32 ┆ date ┆ f64  ┆ f64  ┆   ┆ i64    ┆ str    ┆ i64  ┆ bool           │\n",
       "╞═════╪══════╪══════╪══════╪═══╪════════╪════════╪══════╪════════════════╡\n",
       "└─────┴──────┴──────┴──────┴───┴────────┴────────┴──────┴────────────────┘"
      ]
     },
     "execution_count": 11,
     "metadata": {},
     "output_type": "execute_result"
    }
   ],
   "source": [
    "ret = pi.crossover(newdf, index_name, column_name)\n",
    "ret.df.filter(pl.col(ret.column) == True)"
   ]
  },
  {
   "cell_type": "code",
   "execution_count": 12,
   "metadata": {},
   "outputs": [
    {
     "data": {
      "text/plain": [
       "True"
      ]
     },
     "execution_count": 12,
     "metadata": {},
     "output_type": "execute_result"
    }
   ],
   "source": [
    "df.filter(pl.col('Symbol') == 'B').is_empty()"
   ]
  },
  {
   "cell_type": "code",
   "execution_count": 16,
   "metadata": {},
   "outputs": [
    {
     "data": {
      "text/html": [
       "<i>naive plan: (run <b>LazyFrame.explain(optimized=True)</b> to see the optimized plan)</i>\n",
       "    <p></p>\n",
       "    <div>DF [\"Date\", \"Open\", \"High\", \"Low\"]; PROJECT */8 COLUMNS; SELECTION: \"None\"</div>"
      ],
      "text/plain": [
       "<polars.LazyFrame object at 0x7FED0BB6ABF0>"
      ]
     },
     "execution_count": 16,
     "metadata": {},
     "output_type": "execute_result"
    }
   ],
   "source": [
    "lf = df.lazy()\n",
    "lf"
   ]
  },
  {
   "cell_type": "code",
   "execution_count": 21,
   "metadata": {},
   "outputs": [],
   "source": [
    "same_symbol = 'same_symbol'\n",
    "cross_up = 'cross_up'\n",
    "cross_down = 'cross_down'\n",
    "SYMBOL_COLUMN = 'Symbol'\n",
    "column1 = 'Open'\n",
    "column2 = 'Close'\n",
    "lf = lf.with_columns((pl.col(SYMBOL_COLUMN).shift(1) == pl.col(SYMBOL_COLUMN)).alias(same_symbol))\n"
   ]
  },
  {
   "cell_type": "code",
   "execution_count": 22,
   "metadata": {},
   "outputs": [
    {
     "data": {
      "text/html": [
       "<div><style>\n",
       ".dataframe > thead > tr > th,\n",
       ".dataframe > tbody > tr > td {\n",
       "  text-align: right;\n",
       "}\n",
       "</style>\n",
       "<small>shape: (94, 9)</small><table border=\"1\" class=\"dataframe\"><thead><tr><th>Date</th><th>Open</th><th>High</th><th>Low</th><th>Close</th><th>Adj Close</th><th>Volume</th><th>Symbol</th><th>same_symbol</th></tr><tr><td>date</td><td>f64</td><td>f64</td><td>f64</td><td>f64</td><td>f64</td><td>i64</td><td>str</td><td>bool</td></tr></thead><tbody><tr><td>2023-01-03</td><td>151.960007</td><td>153.130005</td><td>148.470001</td><td>150.039993</td><td>150.039993</td><td>1414300</td><td>&quot;A&quot;</td><td>false</td></tr><tr><td>2023-01-04</td><td>151.649994</td><td>153.039993</td><td>150.240005</td><td>151.669998</td><td>151.669998</td><td>1247400</td><td>&quot;A&quot;</td><td>true</td></tr><tr><td>2023-01-05</td><td>150.0</td><td>153.070007</td><td>148.770004</td><td>152.110001</td><td>152.110001</td><td>1714600</td><td>&quot;A&quot;</td><td>true</td></tr><tr><td>2023-01-06</td><td>154.360001</td><td>154.639999</td><td>143.009995</td><td>147.669998</td><td>147.669998</td><td>2445000</td><td>&quot;A&quot;</td><td>true</td></tr><tr><td>2023-01-09</td><td>149.690002</td><td>151.279999</td><td>147.199997</td><td>147.470001</td><td>147.470001</td><td>1269600</td><td>&quot;A&quot;</td><td>true</td></tr><tr><td>2023-01-10</td><td>150.179993</td><td>155.550003</td><td>148.75</td><td>155.229996</td><td>155.229996</td><td>1565700</td><td>&quot;A&quot;</td><td>true</td></tr><tr><td>2023-01-11</td><td>155.229996</td><td>158.580002</td><td>155.229996</td><td>158.169998</td><td>158.169998</td><td>1241900</td><td>&quot;A&quot;</td><td>true</td></tr><tr><td>2023-01-12</td><td>158.160004</td><td>158.600006</td><td>155.580002</td><td>156.490005</td><td>156.490005</td><td>809100</td><td>&quot;A&quot;</td><td>true</td></tr><tr><td>2023-01-13</td><td>155.539993</td><td>157.279999</td><td>154.5</td><td>156.919998</td><td>156.919998</td><td>921700</td><td>&quot;A&quot;</td><td>true</td></tr><tr><td>2023-01-17</td><td>156.679993</td><td>158.110001</td><td>155.029999</td><td>155.399994</td><td>155.399994</td><td>1602200</td><td>&quot;A&quot;</td><td>true</td></tr><tr><td>2023-01-18</td><td>156.259995</td><td>158.160004</td><td>153.639999</td><td>154.070007</td><td>154.070007</td><td>1150700</td><td>&quot;A&quot;</td><td>true</td></tr><tr><td>2023-01-19</td><td>153.580002</td><td>154.919998</td><td>152.139999</td><td>152.869995</td><td>152.869995</td><td>1017400</td><td>&quot;A&quot;</td><td>true</td></tr><tr><td>&hellip;</td><td>&hellip;</td><td>&hellip;</td><td>&hellip;</td><td>&hellip;</td><td>&hellip;</td><td>&hellip;</td><td>&hellip;</td><td>&hellip;</td></tr><tr><td>2023-02-23</td><td>48.5</td><td>49.029999</td><td>46.549999</td><td>47.959999</td><td>47.873615</td><td>4654300</td><td>&quot;AA&quot;</td><td>true</td></tr><tr><td>2023-02-24</td><td>46.93</td><td>46.93</td><td>45.27</td><td>46.450001</td><td>46.366337</td><td>4587700</td><td>&quot;AA&quot;</td><td>true</td></tr><tr><td>2023-02-27</td><td>46.849998</td><td>48.435001</td><td>46.369999</td><td>48.040001</td><td>47.953476</td><td>4931200</td><td>&quot;AA&quot;</td><td>true</td></tr><tr><td>2023-02-28</td><td>48.25</td><td>50.040001</td><td>47.799999</td><td>48.939999</td><td>48.851852</td><td>3871400</td><td>&quot;AA&quot;</td><td>true</td></tr><tr><td>2023-03-01</td><td>51.290001</td><td>52.959999</td><td>50.529999</td><td>51.650002</td><td>51.556973</td><td>7599600</td><td>&quot;AA&quot;</td><td>true</td></tr><tr><td>2023-03-02</td><td>50.189999</td><td>53.709999</td><td>50.049999</td><td>53.689999</td><td>53.593296</td><td>6467900</td><td>&quot;AA&quot;</td><td>true</td></tr><tr><td>2023-03-03</td><td>54.330002</td><td>55.740002</td><td>53.700001</td><td>55.52</td><td>55.420002</td><td>6158800</td><td>&quot;AA&quot;</td><td>true</td></tr><tr><td>2023-03-06</td><td>54.009998</td><td>54.900002</td><td>53.380001</td><td>53.689999</td><td>53.689999</td><td>5129900</td><td>&quot;AA&quot;</td><td>true</td></tr><tr><td>2023-03-07</td><td>52.779999</td><td>53.040001</td><td>49.919998</td><td>50.169998</td><td>50.169998</td><td>6298100</td><td>&quot;AA&quot;</td><td>true</td></tr><tr><td>2023-03-08</td><td>50.41</td><td>51.240002</td><td>49.75</td><td>51.02</td><td>51.02</td><td>3467000</td><td>&quot;AA&quot;</td><td>true</td></tr><tr><td>2023-03-09</td><td>50.700001</td><td>51.139999</td><td>47.330002</td><td>47.900002</td><td>47.900002</td><td>5590500</td><td>&quot;AA&quot;</td><td>true</td></tr><tr><td>2023-03-10</td><td>48.119999</td><td>48.119999</td><td>44.459999</td><td>44.91</td><td>44.91</td><td>6190400</td><td>&quot;AA&quot;</td><td>true</td></tr></tbody></table></div>"
      ],
      "text/plain": [
       "shape: (94, 9)\n",
       "┌────────────┬────────────┬────────────┬────────────┬───┬───────────┬─────────┬────────┬───────────┐\n",
       "│ Date       ┆ Open       ┆ High       ┆ Low        ┆ … ┆ Adj Close ┆ Volume  ┆ Symbol ┆ same_symb │\n",
       "│ ---        ┆ ---        ┆ ---        ┆ ---        ┆   ┆ ---       ┆ ---     ┆ ---    ┆ ol        │\n",
       "│ date       ┆ f64        ┆ f64        ┆ f64        ┆   ┆ f64       ┆ i64     ┆ str    ┆ ---       │\n",
       "│            ┆            ┆            ┆            ┆   ┆           ┆         ┆        ┆ bool      │\n",
       "╞════════════╪════════════╪════════════╪════════════╪═══╪═══════════╪═════════╪════════╪═══════════╡\n",
       "│ 2023-01-03 ┆ 151.960007 ┆ 153.130005 ┆ 148.470001 ┆ … ┆ 150.03999 ┆ 1414300 ┆ A      ┆ false     │\n",
       "│            ┆            ┆            ┆            ┆   ┆ 3         ┆         ┆        ┆           │\n",
       "│ 2023-01-04 ┆ 151.649994 ┆ 153.039993 ┆ 150.240005 ┆ … ┆ 151.66999 ┆ 1247400 ┆ A      ┆ true      │\n",
       "│            ┆            ┆            ┆            ┆   ┆ 8         ┆         ┆        ┆           │\n",
       "│ 2023-01-05 ┆ 150.0      ┆ 153.070007 ┆ 148.770004 ┆ … ┆ 152.11000 ┆ 1714600 ┆ A      ┆ true      │\n",
       "│            ┆            ┆            ┆            ┆   ┆ 1         ┆         ┆        ┆           │\n",
       "│ 2023-01-06 ┆ 154.360001 ┆ 154.639999 ┆ 143.009995 ┆ … ┆ 147.66999 ┆ 2445000 ┆ A      ┆ true      │\n",
       "│            ┆            ┆            ┆            ┆   ┆ 8         ┆         ┆        ┆           │\n",
       "│ …          ┆ …          ┆ …          ┆ …          ┆ … ┆ …         ┆ …       ┆ …      ┆ …         │\n",
       "│ 2023-03-07 ┆ 52.779999  ┆ 53.040001  ┆ 49.919998  ┆ … ┆ 50.169998 ┆ 6298100 ┆ AA     ┆ true      │\n",
       "│ 2023-03-08 ┆ 50.41      ┆ 51.240002  ┆ 49.75      ┆ … ┆ 51.02     ┆ 3467000 ┆ AA     ┆ true      │\n",
       "│ 2023-03-09 ┆ 50.700001  ┆ 51.139999  ┆ 47.330002  ┆ … ┆ 47.900002 ┆ 5590500 ┆ AA     ┆ true      │\n",
       "│ 2023-03-10 ┆ 48.119999  ┆ 48.119999  ┆ 44.459999  ┆ … ┆ 44.91     ┆ 6190400 ┆ AA     ┆ true      │\n",
       "└────────────┴────────────┴────────────┴────────────┴───┴───────────┴─────────┴────────┴───────────┘"
      ]
     },
     "execution_count": 22,
     "metadata": {},
     "output_type": "execute_result"
    }
   ],
   "source": [
    "lf.collect()"
   ]
  },
  {
   "cell_type": "code",
   "execution_count": 23,
   "metadata": {},
   "outputs": [],
   "source": [
    "\n",
    "lf = lf.with_columns(\n",
    "        (\n",
    "            (pl.col(column1) > pl.col(column2))\n",
    "            &\n",
    "            (pl.col(column1).shift(1) < pl.col(column2).shift(1))\n",
    "        ).alias(cross_up)\n",
    "    )"
   ]
  },
  {
   "cell_type": "code",
   "execution_count": 25,
   "metadata": {},
   "outputs": [
    {
     "data": {
      "text/html": [
       "<div><style>\n",
       ".dataframe > thead > tr > th,\n",
       ".dataframe > tbody > tr > td {\n",
       "  text-align: right;\n",
       "}\n",
       "</style>\n",
       "<small>shape: (94, 10)</small><table border=\"1\" class=\"dataframe\"><thead><tr><th>Date</th><th>Open</th><th>High</th><th>Low</th><th>Close</th><th>Adj Close</th><th>Volume</th><th>Symbol</th><th>same_symbol</th><th>cross_up</th></tr><tr><td>date</td><td>f64</td><td>f64</td><td>f64</td><td>f64</td><td>f64</td><td>i64</td><td>str</td><td>bool</td><td>bool</td></tr></thead><tbody><tr><td>2023-01-03</td><td>151.960007</td><td>153.130005</td><td>148.470001</td><td>150.039993</td><td>150.039993</td><td>1414300</td><td>&quot;A&quot;</td><td>false</td><td>null</td></tr><tr><td>2023-01-04</td><td>151.649994</td><td>153.039993</td><td>150.240005</td><td>151.669998</td><td>151.669998</td><td>1247400</td><td>&quot;A&quot;</td><td>true</td><td>false</td></tr><tr><td>2023-01-05</td><td>150.0</td><td>153.070007</td><td>148.770004</td><td>152.110001</td><td>152.110001</td><td>1714600</td><td>&quot;A&quot;</td><td>true</td><td>false</td></tr><tr><td>2023-01-06</td><td>154.360001</td><td>154.639999</td><td>143.009995</td><td>147.669998</td><td>147.669998</td><td>2445000</td><td>&quot;A&quot;</td><td>true</td><td>true</td></tr><tr><td>2023-01-09</td><td>149.690002</td><td>151.279999</td><td>147.199997</td><td>147.470001</td><td>147.470001</td><td>1269600</td><td>&quot;A&quot;</td><td>true</td><td>false</td></tr><tr><td>2023-01-10</td><td>150.179993</td><td>155.550003</td><td>148.75</td><td>155.229996</td><td>155.229996</td><td>1565700</td><td>&quot;A&quot;</td><td>true</td><td>false</td></tr><tr><td>2023-01-11</td><td>155.229996</td><td>158.580002</td><td>155.229996</td><td>158.169998</td><td>158.169998</td><td>1241900</td><td>&quot;A&quot;</td><td>true</td><td>false</td></tr><tr><td>2023-01-12</td><td>158.160004</td><td>158.600006</td><td>155.580002</td><td>156.490005</td><td>156.490005</td><td>809100</td><td>&quot;A&quot;</td><td>true</td><td>true</td></tr><tr><td>2023-01-13</td><td>155.539993</td><td>157.279999</td><td>154.5</td><td>156.919998</td><td>156.919998</td><td>921700</td><td>&quot;A&quot;</td><td>true</td><td>false</td></tr><tr><td>2023-01-17</td><td>156.679993</td><td>158.110001</td><td>155.029999</td><td>155.399994</td><td>155.399994</td><td>1602200</td><td>&quot;A&quot;</td><td>true</td><td>true</td></tr><tr><td>2023-01-18</td><td>156.259995</td><td>158.160004</td><td>153.639999</td><td>154.070007</td><td>154.070007</td><td>1150700</td><td>&quot;A&quot;</td><td>true</td><td>false</td></tr><tr><td>2023-01-19</td><td>153.580002</td><td>154.919998</td><td>152.139999</td><td>152.869995</td><td>152.869995</td><td>1017400</td><td>&quot;A&quot;</td><td>true</td><td>false</td></tr><tr><td>&hellip;</td><td>&hellip;</td><td>&hellip;</td><td>&hellip;</td><td>&hellip;</td><td>&hellip;</td><td>&hellip;</td><td>&hellip;</td><td>&hellip;</td><td>&hellip;</td></tr><tr><td>2023-02-23</td><td>48.5</td><td>49.029999</td><td>46.549999</td><td>47.959999</td><td>47.873615</td><td>4654300</td><td>&quot;AA&quot;</td><td>true</td><td>false</td></tr><tr><td>2023-02-24</td><td>46.93</td><td>46.93</td><td>45.27</td><td>46.450001</td><td>46.366337</td><td>4587700</td><td>&quot;AA&quot;</td><td>true</td><td>false</td></tr><tr><td>2023-02-27</td><td>46.849998</td><td>48.435001</td><td>46.369999</td><td>48.040001</td><td>47.953476</td><td>4931200</td><td>&quot;AA&quot;</td><td>true</td><td>false</td></tr><tr><td>2023-02-28</td><td>48.25</td><td>50.040001</td><td>47.799999</td><td>48.939999</td><td>48.851852</td><td>3871400</td><td>&quot;AA&quot;</td><td>true</td><td>false</td></tr><tr><td>2023-03-01</td><td>51.290001</td><td>52.959999</td><td>50.529999</td><td>51.650002</td><td>51.556973</td><td>7599600</td><td>&quot;AA&quot;</td><td>true</td><td>false</td></tr><tr><td>2023-03-02</td><td>50.189999</td><td>53.709999</td><td>50.049999</td><td>53.689999</td><td>53.593296</td><td>6467900</td><td>&quot;AA&quot;</td><td>true</td><td>false</td></tr><tr><td>2023-03-03</td><td>54.330002</td><td>55.740002</td><td>53.700001</td><td>55.52</td><td>55.420002</td><td>6158800</td><td>&quot;AA&quot;</td><td>true</td><td>false</td></tr><tr><td>2023-03-06</td><td>54.009998</td><td>54.900002</td><td>53.380001</td><td>53.689999</td><td>53.689999</td><td>5129900</td><td>&quot;AA&quot;</td><td>true</td><td>true</td></tr><tr><td>2023-03-07</td><td>52.779999</td><td>53.040001</td><td>49.919998</td><td>50.169998</td><td>50.169998</td><td>6298100</td><td>&quot;AA&quot;</td><td>true</td><td>false</td></tr><tr><td>2023-03-08</td><td>50.41</td><td>51.240002</td><td>49.75</td><td>51.02</td><td>51.02</td><td>3467000</td><td>&quot;AA&quot;</td><td>true</td><td>false</td></tr><tr><td>2023-03-09</td><td>50.700001</td><td>51.139999</td><td>47.330002</td><td>47.900002</td><td>47.900002</td><td>5590500</td><td>&quot;AA&quot;</td><td>true</td><td>true</td></tr><tr><td>2023-03-10</td><td>48.119999</td><td>48.119999</td><td>44.459999</td><td>44.91</td><td>44.91</td><td>6190400</td><td>&quot;AA&quot;</td><td>true</td><td>false</td></tr></tbody></table></div>"
      ],
      "text/plain": [
       "shape: (94, 10)\n",
       "┌────────────┬────────────┬────────────┬────────────┬───┬─────────┬────────┬───────────┬──────────┐\n",
       "│ Date       ┆ Open       ┆ High       ┆ Low        ┆ … ┆ Volume  ┆ Symbol ┆ same_symb ┆ cross_up │\n",
       "│ ---        ┆ ---        ┆ ---        ┆ ---        ┆   ┆ ---     ┆ ---    ┆ ol        ┆ ---      │\n",
       "│ date       ┆ f64        ┆ f64        ┆ f64        ┆   ┆ i64     ┆ str    ┆ ---       ┆ bool     │\n",
       "│            ┆            ┆            ┆            ┆   ┆         ┆        ┆ bool      ┆          │\n",
       "╞════════════╪════════════╪════════════╪════════════╪═══╪═════════╪════════╪═══════════╪══════════╡\n",
       "│ 2023-01-03 ┆ 151.960007 ┆ 153.130005 ┆ 148.470001 ┆ … ┆ 1414300 ┆ A      ┆ false     ┆ null     │\n",
       "│ 2023-01-04 ┆ 151.649994 ┆ 153.039993 ┆ 150.240005 ┆ … ┆ 1247400 ┆ A      ┆ true      ┆ false    │\n",
       "│ 2023-01-05 ┆ 150.0      ┆ 153.070007 ┆ 148.770004 ┆ … ┆ 1714600 ┆ A      ┆ true      ┆ false    │\n",
       "│ 2023-01-06 ┆ 154.360001 ┆ 154.639999 ┆ 143.009995 ┆ … ┆ 2445000 ┆ A      ┆ true      ┆ true     │\n",
       "│ …          ┆ …          ┆ …          ┆ …          ┆ … ┆ …       ┆ …      ┆ …         ┆ …        │\n",
       "│ 2023-03-07 ┆ 52.779999  ┆ 53.040001  ┆ 49.919998  ┆ … ┆ 6298100 ┆ AA     ┆ true      ┆ false    │\n",
       "│ 2023-03-08 ┆ 50.41      ┆ 51.240002  ┆ 49.75      ┆ … ┆ 3467000 ┆ AA     ┆ true      ┆ false    │\n",
       "│ 2023-03-09 ┆ 50.700001  ┆ 51.139999  ┆ 47.330002  ┆ … ┆ 5590500 ┆ AA     ┆ true      ┆ true     │\n",
       "│ 2023-03-10 ┆ 48.119999  ┆ 48.119999  ┆ 44.459999  ┆ … ┆ 6190400 ┆ AA     ┆ true      ┆ false    │\n",
       "└────────────┴────────────┴────────────┴────────────┴───┴─────────┴────────┴───────────┴──────────┘"
      ]
     },
     "execution_count": 25,
     "metadata": {},
     "output_type": "execute_result"
    }
   ],
   "source": [
    "lf.collect()"
   ]
  },
  {
   "cell_type": "code",
   "execution_count": 26,
   "metadata": {},
   "outputs": [],
   "source": [
    "\n",
    "lf = lf.with_columns(\n",
    "    (\n",
    "        (pl.col(column1) < pl.col(column2))\n",
    "        &\n",
    "        (pl.col(column1).shift(1) > pl.col(column2).shift(1))\n",
    "    ).alias(cross_down)\n",
    ")"
   ]
  },
  {
   "cell_type": "code",
   "execution_count": 27,
   "metadata": {},
   "outputs": [
    {
     "data": {
      "text/html": [
       "<div><style>\n",
       ".dataframe > thead > tr > th,\n",
       ".dataframe > tbody > tr > td {\n",
       "  text-align: right;\n",
       "}\n",
       "</style>\n",
       "<small>shape: (94, 11)</small><table border=\"1\" class=\"dataframe\"><thead><tr><th>Date</th><th>Open</th><th>High</th><th>Low</th><th>Close</th><th>Adj Close</th><th>Volume</th><th>Symbol</th><th>same_symbol</th><th>cross_up</th><th>cross_down</th></tr><tr><td>date</td><td>f64</td><td>f64</td><td>f64</td><td>f64</td><td>f64</td><td>i64</td><td>str</td><td>bool</td><td>bool</td><td>bool</td></tr></thead><tbody><tr><td>2023-01-03</td><td>151.960007</td><td>153.130005</td><td>148.470001</td><td>150.039993</td><td>150.039993</td><td>1414300</td><td>&quot;A&quot;</td><td>false</td><td>null</td><td>false</td></tr><tr><td>2023-01-04</td><td>151.649994</td><td>153.039993</td><td>150.240005</td><td>151.669998</td><td>151.669998</td><td>1247400</td><td>&quot;A&quot;</td><td>true</td><td>false</td><td>true</td></tr><tr><td>2023-01-05</td><td>150.0</td><td>153.070007</td><td>148.770004</td><td>152.110001</td><td>152.110001</td><td>1714600</td><td>&quot;A&quot;</td><td>true</td><td>false</td><td>false</td></tr><tr><td>2023-01-06</td><td>154.360001</td><td>154.639999</td><td>143.009995</td><td>147.669998</td><td>147.669998</td><td>2445000</td><td>&quot;A&quot;</td><td>true</td><td>true</td><td>false</td></tr><tr><td>2023-01-09</td><td>149.690002</td><td>151.279999</td><td>147.199997</td><td>147.470001</td><td>147.470001</td><td>1269600</td><td>&quot;A&quot;</td><td>true</td><td>false</td><td>false</td></tr><tr><td>2023-01-10</td><td>150.179993</td><td>155.550003</td><td>148.75</td><td>155.229996</td><td>155.229996</td><td>1565700</td><td>&quot;A&quot;</td><td>true</td><td>false</td><td>true</td></tr><tr><td>2023-01-11</td><td>155.229996</td><td>158.580002</td><td>155.229996</td><td>158.169998</td><td>158.169998</td><td>1241900</td><td>&quot;A&quot;</td><td>true</td><td>false</td><td>false</td></tr><tr><td>2023-01-12</td><td>158.160004</td><td>158.600006</td><td>155.580002</td><td>156.490005</td><td>156.490005</td><td>809100</td><td>&quot;A&quot;</td><td>true</td><td>true</td><td>false</td></tr><tr><td>2023-01-13</td><td>155.539993</td><td>157.279999</td><td>154.5</td><td>156.919998</td><td>156.919998</td><td>921700</td><td>&quot;A&quot;</td><td>true</td><td>false</td><td>true</td></tr><tr><td>2023-01-17</td><td>156.679993</td><td>158.110001</td><td>155.029999</td><td>155.399994</td><td>155.399994</td><td>1602200</td><td>&quot;A&quot;</td><td>true</td><td>true</td><td>false</td></tr><tr><td>2023-01-18</td><td>156.259995</td><td>158.160004</td><td>153.639999</td><td>154.070007</td><td>154.070007</td><td>1150700</td><td>&quot;A&quot;</td><td>true</td><td>false</td><td>false</td></tr><tr><td>2023-01-19</td><td>153.580002</td><td>154.919998</td><td>152.139999</td><td>152.869995</td><td>152.869995</td><td>1017400</td><td>&quot;A&quot;</td><td>true</td><td>false</td><td>false</td></tr><tr><td>&hellip;</td><td>&hellip;</td><td>&hellip;</td><td>&hellip;</td><td>&hellip;</td><td>&hellip;</td><td>&hellip;</td><td>&hellip;</td><td>&hellip;</td><td>&hellip;</td><td>&hellip;</td></tr><tr><td>2023-02-23</td><td>48.5</td><td>49.029999</td><td>46.549999</td><td>47.959999</td><td>47.873615</td><td>4654300</td><td>&quot;AA&quot;</td><td>true</td><td>false</td><td>false</td></tr><tr><td>2023-02-24</td><td>46.93</td><td>46.93</td><td>45.27</td><td>46.450001</td><td>46.366337</td><td>4587700</td><td>&quot;AA&quot;</td><td>true</td><td>false</td><td>false</td></tr><tr><td>2023-02-27</td><td>46.849998</td><td>48.435001</td><td>46.369999</td><td>48.040001</td><td>47.953476</td><td>4931200</td><td>&quot;AA&quot;</td><td>true</td><td>false</td><td>true</td></tr><tr><td>2023-02-28</td><td>48.25</td><td>50.040001</td><td>47.799999</td><td>48.939999</td><td>48.851852</td><td>3871400</td><td>&quot;AA&quot;</td><td>true</td><td>false</td><td>false</td></tr><tr><td>2023-03-01</td><td>51.290001</td><td>52.959999</td><td>50.529999</td><td>51.650002</td><td>51.556973</td><td>7599600</td><td>&quot;AA&quot;</td><td>true</td><td>false</td><td>false</td></tr><tr><td>2023-03-02</td><td>50.189999</td><td>53.709999</td><td>50.049999</td><td>53.689999</td><td>53.593296</td><td>6467900</td><td>&quot;AA&quot;</td><td>true</td><td>false</td><td>false</td></tr><tr><td>2023-03-03</td><td>54.330002</td><td>55.740002</td><td>53.700001</td><td>55.52</td><td>55.420002</td><td>6158800</td><td>&quot;AA&quot;</td><td>true</td><td>false</td><td>false</td></tr><tr><td>2023-03-06</td><td>54.009998</td><td>54.900002</td><td>53.380001</td><td>53.689999</td><td>53.689999</td><td>5129900</td><td>&quot;AA&quot;</td><td>true</td><td>true</td><td>false</td></tr><tr><td>2023-03-07</td><td>52.779999</td><td>53.040001</td><td>49.919998</td><td>50.169998</td><td>50.169998</td><td>6298100</td><td>&quot;AA&quot;</td><td>true</td><td>false</td><td>false</td></tr><tr><td>2023-03-08</td><td>50.41</td><td>51.240002</td><td>49.75</td><td>51.02</td><td>51.02</td><td>3467000</td><td>&quot;AA&quot;</td><td>true</td><td>false</td><td>true</td></tr><tr><td>2023-03-09</td><td>50.700001</td><td>51.139999</td><td>47.330002</td><td>47.900002</td><td>47.900002</td><td>5590500</td><td>&quot;AA&quot;</td><td>true</td><td>true</td><td>false</td></tr><tr><td>2023-03-10</td><td>48.119999</td><td>48.119999</td><td>44.459999</td><td>44.91</td><td>44.91</td><td>6190400</td><td>&quot;AA&quot;</td><td>true</td><td>false</td><td>false</td></tr></tbody></table></div>"
      ],
      "text/plain": [
       "shape: (94, 11)\n",
       "┌────────────┬────────────┬────────────┬────────────┬───┬────────┬───────────┬──────────┬──────────┐\n",
       "│ Date       ┆ Open       ┆ High       ┆ Low        ┆ … ┆ Symbol ┆ same_symb ┆ cross_up ┆ cross_do │\n",
       "│ ---        ┆ ---        ┆ ---        ┆ ---        ┆   ┆ ---    ┆ ol        ┆ ---      ┆ wn       │\n",
       "│ date       ┆ f64        ┆ f64        ┆ f64        ┆   ┆ str    ┆ ---       ┆ bool     ┆ ---      │\n",
       "│            ┆            ┆            ┆            ┆   ┆        ┆ bool      ┆          ┆ bool     │\n",
       "╞════════════╪════════════╪════════════╪════════════╪═══╪════════╪═══════════╪══════════╪══════════╡\n",
       "│ 2023-01-03 ┆ 151.960007 ┆ 153.130005 ┆ 148.470001 ┆ … ┆ A      ┆ false     ┆ null     ┆ false    │\n",
       "│ 2023-01-04 ┆ 151.649994 ┆ 153.039993 ┆ 150.240005 ┆ … ┆ A      ┆ true      ┆ false    ┆ true     │\n",
       "│ 2023-01-05 ┆ 150.0      ┆ 153.070007 ┆ 148.770004 ┆ … ┆ A      ┆ true      ┆ false    ┆ false    │\n",
       "│ 2023-01-06 ┆ 154.360001 ┆ 154.639999 ┆ 143.009995 ┆ … ┆ A      ┆ true      ┆ true     ┆ false    │\n",
       "│ …          ┆ …          ┆ …          ┆ …          ┆ … ┆ …      ┆ …         ┆ …        ┆ …        │\n",
       "│ 2023-03-07 ┆ 52.779999  ┆ 53.040001  ┆ 49.919998  ┆ … ┆ AA     ┆ true      ┆ false    ┆ false    │\n",
       "│ 2023-03-08 ┆ 50.41      ┆ 51.240002  ┆ 49.75      ┆ … ┆ AA     ┆ true      ┆ false    ┆ true     │\n",
       "│ 2023-03-09 ┆ 50.700001  ┆ 51.139999  ┆ 47.330002  ┆ … ┆ AA     ┆ true      ┆ true     ┆ false    │\n",
       "│ 2023-03-10 ┆ 48.119999  ┆ 48.119999  ┆ 44.459999  ┆ … ┆ AA     ┆ true      ┆ false    ┆ false    │\n",
       "└────────────┴────────────┴────────────┴────────────┴───┴────────┴───────────┴──────────┴──────────┘"
      ]
     },
     "execution_count": 27,
     "metadata": {},
     "output_type": "execute_result"
    }
   ],
   "source": [
    "lf.collect()"
   ]
  },
  {
   "cell_type": "code",
   "execution_count": 29,
   "metadata": {},
   "outputs": [
    {
     "data": {
      "text/html": [
       "<div><style>\n",
       ".dataframe > thead > tr > th,\n",
       ".dataframe > tbody > tr > td {\n",
       "  text-align: right;\n",
       "}\n",
       "</style>\n",
       "<small>shape: (94, 12)</small><table border=\"1\" class=\"dataframe\"><thead><tr><th>Date</th><th>Open</th><th>High</th><th>Low</th><th>Close</th><th>Adj Close</th><th>Volume</th><th>Symbol</th><th>same_symbol</th><th>cross_up</th><th>cross_down</th><th>test</th></tr><tr><td>date</td><td>f64</td><td>f64</td><td>f64</td><td>f64</td><td>f64</td><td>i64</td><td>str</td><td>bool</td><td>bool</td><td>bool</td><td>bool</td></tr></thead><tbody><tr><td>2023-01-03</td><td>151.960007</td><td>153.130005</td><td>148.470001</td><td>150.039993</td><td>150.039993</td><td>1414300</td><td>&quot;A&quot;</td><td>false</td><td>null</td><td>false</td><td>false</td></tr><tr><td>2023-01-04</td><td>151.649994</td><td>153.039993</td><td>150.240005</td><td>151.669998</td><td>151.669998</td><td>1247400</td><td>&quot;A&quot;</td><td>true</td><td>false</td><td>true</td><td>true</td></tr><tr><td>2023-01-05</td><td>150.0</td><td>153.070007</td><td>148.770004</td><td>152.110001</td><td>152.110001</td><td>1714600</td><td>&quot;A&quot;</td><td>true</td><td>false</td><td>false</td><td>false</td></tr><tr><td>2023-01-06</td><td>154.360001</td><td>154.639999</td><td>143.009995</td><td>147.669998</td><td>147.669998</td><td>2445000</td><td>&quot;A&quot;</td><td>true</td><td>true</td><td>false</td><td>true</td></tr><tr><td>2023-01-09</td><td>149.690002</td><td>151.279999</td><td>147.199997</td><td>147.470001</td><td>147.470001</td><td>1269600</td><td>&quot;A&quot;</td><td>true</td><td>false</td><td>false</td><td>false</td></tr><tr><td>2023-01-10</td><td>150.179993</td><td>155.550003</td><td>148.75</td><td>155.229996</td><td>155.229996</td><td>1565700</td><td>&quot;A&quot;</td><td>true</td><td>false</td><td>true</td><td>true</td></tr><tr><td>2023-01-11</td><td>155.229996</td><td>158.580002</td><td>155.229996</td><td>158.169998</td><td>158.169998</td><td>1241900</td><td>&quot;A&quot;</td><td>true</td><td>false</td><td>false</td><td>false</td></tr><tr><td>2023-01-12</td><td>158.160004</td><td>158.600006</td><td>155.580002</td><td>156.490005</td><td>156.490005</td><td>809100</td><td>&quot;A&quot;</td><td>true</td><td>true</td><td>false</td><td>true</td></tr><tr><td>2023-01-13</td><td>155.539993</td><td>157.279999</td><td>154.5</td><td>156.919998</td><td>156.919998</td><td>921700</td><td>&quot;A&quot;</td><td>true</td><td>false</td><td>true</td><td>true</td></tr><tr><td>2023-01-17</td><td>156.679993</td><td>158.110001</td><td>155.029999</td><td>155.399994</td><td>155.399994</td><td>1602200</td><td>&quot;A&quot;</td><td>true</td><td>true</td><td>false</td><td>true</td></tr><tr><td>2023-01-18</td><td>156.259995</td><td>158.160004</td><td>153.639999</td><td>154.070007</td><td>154.070007</td><td>1150700</td><td>&quot;A&quot;</td><td>true</td><td>false</td><td>false</td><td>false</td></tr><tr><td>2023-01-19</td><td>153.580002</td><td>154.919998</td><td>152.139999</td><td>152.869995</td><td>152.869995</td><td>1017400</td><td>&quot;A&quot;</td><td>true</td><td>false</td><td>false</td><td>false</td></tr><tr><td>&hellip;</td><td>&hellip;</td><td>&hellip;</td><td>&hellip;</td><td>&hellip;</td><td>&hellip;</td><td>&hellip;</td><td>&hellip;</td><td>&hellip;</td><td>&hellip;</td><td>&hellip;</td><td>&hellip;</td></tr><tr><td>2023-02-23</td><td>48.5</td><td>49.029999</td><td>46.549999</td><td>47.959999</td><td>47.873615</td><td>4654300</td><td>&quot;AA&quot;</td><td>true</td><td>false</td><td>false</td><td>false</td></tr><tr><td>2023-02-24</td><td>46.93</td><td>46.93</td><td>45.27</td><td>46.450001</td><td>46.366337</td><td>4587700</td><td>&quot;AA&quot;</td><td>true</td><td>false</td><td>false</td><td>false</td></tr><tr><td>2023-02-27</td><td>46.849998</td><td>48.435001</td><td>46.369999</td><td>48.040001</td><td>47.953476</td><td>4931200</td><td>&quot;AA&quot;</td><td>true</td><td>false</td><td>true</td><td>true</td></tr><tr><td>2023-02-28</td><td>48.25</td><td>50.040001</td><td>47.799999</td><td>48.939999</td><td>48.851852</td><td>3871400</td><td>&quot;AA&quot;</td><td>true</td><td>false</td><td>false</td><td>false</td></tr><tr><td>2023-03-01</td><td>51.290001</td><td>52.959999</td><td>50.529999</td><td>51.650002</td><td>51.556973</td><td>7599600</td><td>&quot;AA&quot;</td><td>true</td><td>false</td><td>false</td><td>false</td></tr><tr><td>2023-03-02</td><td>50.189999</td><td>53.709999</td><td>50.049999</td><td>53.689999</td><td>53.593296</td><td>6467900</td><td>&quot;AA&quot;</td><td>true</td><td>false</td><td>false</td><td>false</td></tr><tr><td>2023-03-03</td><td>54.330002</td><td>55.740002</td><td>53.700001</td><td>55.52</td><td>55.420002</td><td>6158800</td><td>&quot;AA&quot;</td><td>true</td><td>false</td><td>false</td><td>false</td></tr><tr><td>2023-03-06</td><td>54.009998</td><td>54.900002</td><td>53.380001</td><td>53.689999</td><td>53.689999</td><td>5129900</td><td>&quot;AA&quot;</td><td>true</td><td>true</td><td>false</td><td>true</td></tr><tr><td>2023-03-07</td><td>52.779999</td><td>53.040001</td><td>49.919998</td><td>50.169998</td><td>50.169998</td><td>6298100</td><td>&quot;AA&quot;</td><td>true</td><td>false</td><td>false</td><td>false</td></tr><tr><td>2023-03-08</td><td>50.41</td><td>51.240002</td><td>49.75</td><td>51.02</td><td>51.02</td><td>3467000</td><td>&quot;AA&quot;</td><td>true</td><td>false</td><td>true</td><td>true</td></tr><tr><td>2023-03-09</td><td>50.700001</td><td>51.139999</td><td>47.330002</td><td>47.900002</td><td>47.900002</td><td>5590500</td><td>&quot;AA&quot;</td><td>true</td><td>true</td><td>false</td><td>true</td></tr><tr><td>2023-03-10</td><td>48.119999</td><td>48.119999</td><td>44.459999</td><td>44.91</td><td>44.91</td><td>6190400</td><td>&quot;AA&quot;</td><td>true</td><td>false</td><td>false</td><td>false</td></tr></tbody></table></div>"
      ],
      "text/plain": [
       "shape: (94, 12)\n",
       "┌─────────────┬────────────┬────────────┬────────────┬───┬───────────┬──────────┬──────────┬───────┐\n",
       "│ Date        ┆ Open       ┆ High       ┆ Low        ┆ … ┆ same_symb ┆ cross_up ┆ cross_do ┆ test  │\n",
       "│ ---         ┆ ---        ┆ ---        ┆ ---        ┆   ┆ ol        ┆ ---      ┆ wn       ┆ ---   │\n",
       "│ date        ┆ f64        ┆ f64        ┆ f64        ┆   ┆ ---       ┆ bool     ┆ ---      ┆ bool  │\n",
       "│             ┆            ┆            ┆            ┆   ┆ bool      ┆          ┆ bool     ┆       │\n",
       "╞═════════════╪════════════╪════════════╪════════════╪═══╪═══════════╪══════════╪══════════╪═══════╡\n",
       "│ 2023-01-03  ┆ 151.960007 ┆ 153.130005 ┆ 148.470001 ┆ … ┆ false     ┆ null     ┆ false    ┆ false │\n",
       "│ 2023-01-04  ┆ 151.649994 ┆ 153.039993 ┆ 150.240005 ┆ … ┆ true      ┆ false    ┆ true     ┆ true  │\n",
       "│ 2023-01-05  ┆ 150.0      ┆ 153.070007 ┆ 148.770004 ┆ … ┆ true      ┆ false    ┆ false    ┆ false │\n",
       "│ 2023-01-06  ┆ 154.360001 ┆ 154.639999 ┆ 143.009995 ┆ … ┆ true      ┆ true     ┆ false    ┆ true  │\n",
       "│ …           ┆ …          ┆ …          ┆ …          ┆ … ┆ …         ┆ …        ┆ …        ┆ …     │\n",
       "│ 2023-03-07  ┆ 52.779999  ┆ 53.040001  ┆ 49.919998  ┆ … ┆ true      ┆ false    ┆ false    ┆ false │\n",
       "│ 2023-03-08  ┆ 50.41      ┆ 51.240002  ┆ 49.75      ┆ … ┆ true      ┆ false    ┆ true     ┆ true  │\n",
       "│ 2023-03-09  ┆ 50.700001  ┆ 51.139999  ┆ 47.330002  ┆ … ┆ true      ┆ true     ┆ false    ┆ true  │\n",
       "│ 2023-03-10  ┆ 48.119999  ┆ 48.119999  ┆ 44.459999  ┆ … ┆ true      ┆ false    ┆ false    ┆ false │\n",
       "└─────────────┴────────────┴────────────┴────────────┴───┴───────────┴──────────┴──────────┴───────┘"
      ]
     },
     "execution_count": 29,
     "metadata": {},
     "output_type": "execute_result"
    }
   ],
   "source": [
    "lf.with_columns(((pl.col(cross_up) | pl.col(cross_down)) & pl.col(same_symbol)).alias(column_name)).collect()"
   ]
  },
  {
   "cell_type": "code",
   "execution_count": null,
   "metadata": {},
   "outputs": [],
   "source": []
  }
 ],
 "metadata": {
  "kernelspec": {
   "display_name": ".venv",
   "language": "python",
   "name": "python3"
  },
  "language_info": {
   "codemirror_mode": {
    "name": "ipython",
    "version": 3
   },
   "file_extension": ".py",
   "mimetype": "text/x-python",
   "name": "python",
   "nbconvert_exporter": "python",
   "pygments_lexer": "ipython3",
   "version": "3.10.10"
  },
  "orig_nbformat": 4
 },
 "nbformat": 4,
 "nbformat_minor": 2
}
