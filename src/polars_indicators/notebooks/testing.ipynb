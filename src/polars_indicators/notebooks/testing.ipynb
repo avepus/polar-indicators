{
 "cells": [
  {
   "cell_type": "code",
   "execution_count": null,
   "metadata": {},
   "outputs": [],
   "source": [
    "import polars as pl\n",
    "from datetime import datetime\n",
    "import get_and_store as gas\n",
    "import polars_indicators as pi\n",
    "from polars_indicators import IndicatorResult"
   ]
  },
  {
   "cell_type": "code",
   "execution_count": null,
   "metadata": {},
   "outputs": [],
   "source": [
    "symbols = ['A','AA']"
   ]
  },
  {
   "cell_type": "code",
   "execution_count": null,
   "metadata": {},
   "outputs": [],
   "source": [
    "df = gas.get_symbols_df(symbols)\n",
    "df = df.filter(pl.col('Date') >= datetime(2023, 1, 1))\n",
    "df = df.collect()"
   ]
  },
  {
   "cell_type": "code",
   "execution_count": null,
   "metadata": {},
   "outputs": [],
   "source": [
    "df"
   ]
  },
  {
   "cell_type": "code",
   "execution_count": null,
   "metadata": {},
   "outputs": [],
   "source": [
    "def add_false_column_with_true_indicies(df, indicies: list[int], column: str):\n",
    "    index = \"index\"\n",
    "    new_columns = df.columns.copy()\n",
    "    new_columns.append(column)\n",
    "    return df.with_row_count(name=index).with_columns( \n",
    "            pl.when(\n",
    "                pl.col(index).is_in(indicies)) \\\n",
    "                .then(pl.lit(True)) \\\n",
    "            .otherwise(\n",
    "                pl.lit(False)) \\\n",
    "            .alias(column)).select(new_columns) \n",
    "add_false_column_with_true_indicies(df, [2, 3, 7], \"mycol\")"
   ]
  },
  {
   "cell_type": "code",
   "execution_count": null,
   "metadata": {},
   "outputs": [],
   "source": [
    "index_name = 'my_index'\n",
    "enter_column = \"enter\"\n",
    "mydf = add_false_column_with_true_indicies(df, [3, 4, 7, 85], enter_column).with_row_count(index_name)\n",
    "\n",
    "mydf"
   ]
  },
  {
   "cell_type": "code",
   "execution_count": null,
   "metadata": {},
   "outputs": [],
   "source": [
    "trail = pi.trailing_stop(mydf, 2)\n",
    "exit_column = trail.column"
   ]
  },
  {
   "cell_type": "code",
   "execution_count": null,
   "metadata": {},
   "outputs": [],
   "source": [
    "pi.create_trade_ids(trail.df, enter_column, exit_column).df"
   ]
  }
 ],
 "metadata": {
  "kernelspec": {
   "display_name": ".venv",
   "language": "python",
   "name": "python3"
  },
  "language_info": {
   "codemirror_mode": {
    "name": "ipython",
    "version": 3
   },
   "file_extension": ".py",
   "mimetype": "text/x-python",
   "name": "python",
   "nbconvert_exporter": "python",
   "pygments_lexer": "ipython3",
   "version": "3.10.5"
  },
  "orig_nbformat": 4
 },
 "nbformat": 4,
 "nbformat_minor": 2
}
