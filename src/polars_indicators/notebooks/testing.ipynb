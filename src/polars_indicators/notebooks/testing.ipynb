{
 "cells": [
  {
   "cell_type": "code",
   "execution_count": 1,
   "metadata": {},
   "outputs": [],
   "source": [
    "import polars as pl\n",
    "from datetime import datetime\n",
    "import get_and_store as gas\n",
    "import polars_indicators as pi"
   ]
  },
  {
   "cell_type": "code",
   "execution_count": 2,
   "metadata": {},
   "outputs": [],
   "source": [
    "symbols = ['A','AA']"
   ]
  },
  {
   "cell_type": "code",
   "execution_count": 3,
   "metadata": {},
   "outputs": [],
   "source": [
    "df = gas.get_symbols_df(symbols)\n",
    "df = df.filter(pl.col('Date') >= datetime(2023, 1, 1))\n",
    "df = df.collect()"
   ]
  },
  {
   "cell_type": "code",
   "execution_count": 4,
   "metadata": {},
   "outputs": [
    {
     "data": {
      "text/html": [
       "<div><style>\n",
       ".dataframe > thead > tr > th,\n",
       ".dataframe > tbody > tr > td {\n",
       "  text-align: right;\n",
       "}\n",
       "</style>\n",
       "<small>shape: (94, 8)</small><table border=\"1\" class=\"dataframe\"><thead><tr><th>Date</th><th>Open</th><th>High</th><th>Low</th><th>Close</th><th>Adj Close</th><th>Volume</th><th>Symbol</th></tr><tr><td>date</td><td>f64</td><td>f64</td><td>f64</td><td>f64</td><td>f64</td><td>i64</td><td>str</td></tr></thead><tbody><tr><td>2023-01-03</td><td>151.960007</td><td>153.130005</td><td>148.470001</td><td>150.039993</td><td>150.039993</td><td>1414300</td><td>&quot;A&quot;</td></tr><tr><td>2023-01-04</td><td>151.649994</td><td>153.039993</td><td>150.240005</td><td>151.669998</td><td>151.669998</td><td>1247400</td><td>&quot;A&quot;</td></tr><tr><td>2023-01-05</td><td>150.0</td><td>153.070007</td><td>148.770004</td><td>152.110001</td><td>152.110001</td><td>1714600</td><td>&quot;A&quot;</td></tr><tr><td>2023-01-06</td><td>154.360001</td><td>154.639999</td><td>143.009995</td><td>147.669998</td><td>147.669998</td><td>2445000</td><td>&quot;A&quot;</td></tr><tr><td>2023-01-09</td><td>149.690002</td><td>151.279999</td><td>147.199997</td><td>147.470001</td><td>147.470001</td><td>1269600</td><td>&quot;A&quot;</td></tr><tr><td>2023-01-10</td><td>150.179993</td><td>155.550003</td><td>148.75</td><td>155.229996</td><td>155.229996</td><td>1565700</td><td>&quot;A&quot;</td></tr><tr><td>2023-01-11</td><td>155.229996</td><td>158.580002</td><td>155.229996</td><td>158.169998</td><td>158.169998</td><td>1241900</td><td>&quot;A&quot;</td></tr><tr><td>2023-01-12</td><td>158.160004</td><td>158.600006</td><td>155.580002</td><td>156.490005</td><td>156.490005</td><td>809100</td><td>&quot;A&quot;</td></tr><tr><td>2023-01-13</td><td>155.539993</td><td>157.279999</td><td>154.5</td><td>156.919998</td><td>156.919998</td><td>921700</td><td>&quot;A&quot;</td></tr><tr><td>2023-01-17</td><td>156.679993</td><td>158.110001</td><td>155.029999</td><td>155.399994</td><td>155.399994</td><td>1602200</td><td>&quot;A&quot;</td></tr><tr><td>2023-01-18</td><td>156.259995</td><td>158.160004</td><td>153.639999</td><td>154.070007</td><td>154.070007</td><td>1150700</td><td>&quot;A&quot;</td></tr><tr><td>2023-01-19</td><td>153.580002</td><td>154.919998</td><td>152.139999</td><td>152.869995</td><td>152.869995</td><td>1017400</td><td>&quot;A&quot;</td></tr><tr><td>&hellip;</td><td>&hellip;</td><td>&hellip;</td><td>&hellip;</td><td>&hellip;</td><td>&hellip;</td><td>&hellip;</td><td>&hellip;</td></tr><tr><td>2023-02-23</td><td>48.5</td><td>49.029999</td><td>46.549999</td><td>47.959999</td><td>47.873615</td><td>4654300</td><td>&quot;AA&quot;</td></tr><tr><td>2023-02-24</td><td>46.93</td><td>46.93</td><td>45.27</td><td>46.450001</td><td>46.366337</td><td>4587700</td><td>&quot;AA&quot;</td></tr><tr><td>2023-02-27</td><td>46.849998</td><td>48.435001</td><td>46.369999</td><td>48.040001</td><td>47.953476</td><td>4931200</td><td>&quot;AA&quot;</td></tr><tr><td>2023-02-28</td><td>48.25</td><td>50.040001</td><td>47.799999</td><td>48.939999</td><td>48.851852</td><td>3871400</td><td>&quot;AA&quot;</td></tr><tr><td>2023-03-01</td><td>51.290001</td><td>52.959999</td><td>50.529999</td><td>51.650002</td><td>51.556973</td><td>7599600</td><td>&quot;AA&quot;</td></tr><tr><td>2023-03-02</td><td>50.189999</td><td>53.709999</td><td>50.049999</td><td>53.689999</td><td>53.593296</td><td>6467900</td><td>&quot;AA&quot;</td></tr><tr><td>2023-03-03</td><td>54.330002</td><td>55.740002</td><td>53.700001</td><td>55.52</td><td>55.420002</td><td>6158800</td><td>&quot;AA&quot;</td></tr><tr><td>2023-03-06</td><td>54.009998</td><td>54.900002</td><td>53.380001</td><td>53.689999</td><td>53.689999</td><td>5129900</td><td>&quot;AA&quot;</td></tr><tr><td>2023-03-07</td><td>52.779999</td><td>53.040001</td><td>49.919998</td><td>50.169998</td><td>50.169998</td><td>6298100</td><td>&quot;AA&quot;</td></tr><tr><td>2023-03-08</td><td>50.41</td><td>51.240002</td><td>49.75</td><td>51.02</td><td>51.02</td><td>3467000</td><td>&quot;AA&quot;</td></tr><tr><td>2023-03-09</td><td>50.700001</td><td>51.139999</td><td>47.330002</td><td>47.900002</td><td>47.900002</td><td>5590500</td><td>&quot;AA&quot;</td></tr><tr><td>2023-03-10</td><td>48.119999</td><td>48.119999</td><td>44.459999</td><td>44.91</td><td>44.91</td><td>6190400</td><td>&quot;AA&quot;</td></tr></tbody></table></div>"
      ],
      "text/plain": [
       "shape: (94, 8)\n",
       "┌────────────┬────────────┬────────────┬────────────┬────────────┬────────────┬─────────┬────────┐\n",
       "│ Date       ┆ Open       ┆ High       ┆ Low        ┆ Close      ┆ Adj Close  ┆ Volume  ┆ Symbol │\n",
       "│ ---        ┆ ---        ┆ ---        ┆ ---        ┆ ---        ┆ ---        ┆ ---     ┆ ---    │\n",
       "│ date       ┆ f64        ┆ f64        ┆ f64        ┆ f64        ┆ f64        ┆ i64     ┆ str    │\n",
       "╞════════════╪════════════╪════════════╪════════════╪════════════╪════════════╪═════════╪════════╡\n",
       "│ 2023-01-03 ┆ 151.960007 ┆ 153.130005 ┆ 148.470001 ┆ 150.039993 ┆ 150.039993 ┆ 1414300 ┆ A      │\n",
       "│ 2023-01-04 ┆ 151.649994 ┆ 153.039993 ┆ 150.240005 ┆ 151.669998 ┆ 151.669998 ┆ 1247400 ┆ A      │\n",
       "│ 2023-01-05 ┆ 150.0      ┆ 153.070007 ┆ 148.770004 ┆ 152.110001 ┆ 152.110001 ┆ 1714600 ┆ A      │\n",
       "│ 2023-01-06 ┆ 154.360001 ┆ 154.639999 ┆ 143.009995 ┆ 147.669998 ┆ 147.669998 ┆ 2445000 ┆ A      │\n",
       "│ …          ┆ …          ┆ …          ┆ …          ┆ …          ┆ …          ┆ …       ┆ …      │\n",
       "│ 2023-03-07 ┆ 52.779999  ┆ 53.040001  ┆ 49.919998  ┆ 50.169998  ┆ 50.169998  ┆ 6298100 ┆ AA     │\n",
       "│ 2023-03-08 ┆ 50.41      ┆ 51.240002  ┆ 49.75      ┆ 51.02      ┆ 51.02      ┆ 3467000 ┆ AA     │\n",
       "│ 2023-03-09 ┆ 50.700001  ┆ 51.139999  ┆ 47.330002  ┆ 47.900002  ┆ 47.900002  ┆ 5590500 ┆ AA     │\n",
       "│ 2023-03-10 ┆ 48.119999  ┆ 48.119999  ┆ 44.459999  ┆ 44.91      ┆ 44.91      ┆ 6190400 ┆ AA     │\n",
       "└────────────┴────────────┴────────────┴────────────┴────────────┴────────────┴─────────┴────────┘"
      ]
     },
     "execution_count": 4,
     "metadata": {},
     "output_type": "execute_result"
    }
   ],
   "source": [
    "df"
   ]
  },
  {
   "cell_type": "code",
   "execution_count": 5,
   "metadata": {},
   "outputs": [
    {
     "data": {
      "text/html": [
       "<div><style>\n",
       ".dataframe > thead > tr > th,\n",
       ".dataframe > tbody > tr > td {\n",
       "  text-align: right;\n",
       "}\n",
       "</style>\n",
       "<small>shape: (94, 10)</small><table border=\"1\" class=\"dataframe\"><thead><tr><th>my_index</th><th>Date</th><th>Open</th><th>High</th><th>Low</th><th>Close</th><th>Adj Close</th><th>Volume</th><th>Symbol</th><th>test</th></tr><tr><td>u32</td><td>date</td><td>f64</td><td>f64</td><td>f64</td><td>f64</td><td>f64</td><td>i64</td><td>str</td><td>bool</td></tr></thead><tbody><tr><td>0</td><td>2023-01-03</td><td>151.960007</td><td>153.130005</td><td>148.470001</td><td>150.039993</td><td>150.039993</td><td>1414300</td><td>&quot;A&quot;</td><td>false</td></tr><tr><td>1</td><td>2023-01-04</td><td>151.649994</td><td>153.039993</td><td>150.240005</td><td>151.669998</td><td>151.669998</td><td>1247400</td><td>&quot;A&quot;</td><td>false</td></tr><tr><td>2</td><td>2023-01-05</td><td>150.0</td><td>153.070007</td><td>148.770004</td><td>152.110001</td><td>152.110001</td><td>1714600</td><td>&quot;A&quot;</td><td>false</td></tr><tr><td>3</td><td>2023-01-06</td><td>154.360001</td><td>154.639999</td><td>143.009995</td><td>147.669998</td><td>147.669998</td><td>2445000</td><td>&quot;A&quot;</td><td>true</td></tr><tr><td>4</td><td>2023-01-09</td><td>149.690002</td><td>151.279999</td><td>147.199997</td><td>147.470001</td><td>147.470001</td><td>1269600</td><td>&quot;A&quot;</td><td>true</td></tr><tr><td>5</td><td>2023-01-10</td><td>150.179993</td><td>155.550003</td><td>148.75</td><td>155.229996</td><td>155.229996</td><td>1565700</td><td>&quot;A&quot;</td><td>false</td></tr><tr><td>6</td><td>2023-01-11</td><td>155.229996</td><td>158.580002</td><td>155.229996</td><td>158.169998</td><td>158.169998</td><td>1241900</td><td>&quot;A&quot;</td><td>false</td></tr><tr><td>7</td><td>2023-01-12</td><td>158.160004</td><td>158.600006</td><td>155.580002</td><td>156.490005</td><td>156.490005</td><td>809100</td><td>&quot;A&quot;</td><td>true</td></tr><tr><td>8</td><td>2023-01-13</td><td>155.539993</td><td>157.279999</td><td>154.5</td><td>156.919998</td><td>156.919998</td><td>921700</td><td>&quot;A&quot;</td><td>false</td></tr><tr><td>9</td><td>2023-01-17</td><td>156.679993</td><td>158.110001</td><td>155.029999</td><td>155.399994</td><td>155.399994</td><td>1602200</td><td>&quot;A&quot;</td><td>false</td></tr><tr><td>10</td><td>2023-01-18</td><td>156.259995</td><td>158.160004</td><td>153.639999</td><td>154.070007</td><td>154.070007</td><td>1150700</td><td>&quot;A&quot;</td><td>false</td></tr><tr><td>11</td><td>2023-01-19</td><td>153.580002</td><td>154.919998</td><td>152.139999</td><td>152.869995</td><td>152.869995</td><td>1017400</td><td>&quot;A&quot;</td><td>false</td></tr><tr><td>&hellip;</td><td>&hellip;</td><td>&hellip;</td><td>&hellip;</td><td>&hellip;</td><td>&hellip;</td><td>&hellip;</td><td>&hellip;</td><td>&hellip;</td><td>&hellip;</td></tr><tr><td>82</td><td>2023-02-23</td><td>48.5</td><td>49.029999</td><td>46.549999</td><td>47.959999</td><td>47.873615</td><td>4654300</td><td>&quot;AA&quot;</td><td>false</td></tr><tr><td>83</td><td>2023-02-24</td><td>46.93</td><td>46.93</td><td>45.27</td><td>46.450001</td><td>46.366337</td><td>4587700</td><td>&quot;AA&quot;</td><td>false</td></tr><tr><td>84</td><td>2023-02-27</td><td>46.849998</td><td>48.435001</td><td>46.369999</td><td>48.040001</td><td>47.953476</td><td>4931200</td><td>&quot;AA&quot;</td><td>false</td></tr><tr><td>85</td><td>2023-02-28</td><td>48.25</td><td>50.040001</td><td>47.799999</td><td>48.939999</td><td>48.851852</td><td>3871400</td><td>&quot;AA&quot;</td><td>true</td></tr><tr><td>86</td><td>2023-03-01</td><td>51.290001</td><td>52.959999</td><td>50.529999</td><td>51.650002</td><td>51.556973</td><td>7599600</td><td>&quot;AA&quot;</td><td>false</td></tr><tr><td>87</td><td>2023-03-02</td><td>50.189999</td><td>53.709999</td><td>50.049999</td><td>53.689999</td><td>53.593296</td><td>6467900</td><td>&quot;AA&quot;</td><td>false</td></tr><tr><td>88</td><td>2023-03-03</td><td>54.330002</td><td>55.740002</td><td>53.700001</td><td>55.52</td><td>55.420002</td><td>6158800</td><td>&quot;AA&quot;</td><td>false</td></tr><tr><td>89</td><td>2023-03-06</td><td>54.009998</td><td>54.900002</td><td>53.380001</td><td>53.689999</td><td>53.689999</td><td>5129900</td><td>&quot;AA&quot;</td><td>false</td></tr><tr><td>90</td><td>2023-03-07</td><td>52.779999</td><td>53.040001</td><td>49.919998</td><td>50.169998</td><td>50.169998</td><td>6298100</td><td>&quot;AA&quot;</td><td>false</td></tr><tr><td>91</td><td>2023-03-08</td><td>50.41</td><td>51.240002</td><td>49.75</td><td>51.02</td><td>51.02</td><td>3467000</td><td>&quot;AA&quot;</td><td>false</td></tr><tr><td>92</td><td>2023-03-09</td><td>50.700001</td><td>51.139999</td><td>47.330002</td><td>47.900002</td><td>47.900002</td><td>5590500</td><td>&quot;AA&quot;</td><td>false</td></tr><tr><td>93</td><td>2023-03-10</td><td>48.119999</td><td>48.119999</td><td>44.459999</td><td>44.91</td><td>44.91</td><td>6190400</td><td>&quot;AA&quot;</td><td>false</td></tr></tbody></table></div>"
      ],
      "text/plain": [
       "shape: (94, 10)\n",
       "┌──────────┬────────────┬────────────┬────────────┬───┬────────────┬─────────┬────────┬───────┐\n",
       "│ my_index ┆ Date       ┆ Open       ┆ High       ┆ … ┆ Adj Close  ┆ Volume  ┆ Symbol ┆ test  │\n",
       "│ ---      ┆ ---        ┆ ---        ┆ ---        ┆   ┆ ---        ┆ ---     ┆ ---    ┆ ---   │\n",
       "│ u32      ┆ date       ┆ f64        ┆ f64        ┆   ┆ f64        ┆ i64     ┆ str    ┆ bool  │\n",
       "╞══════════╪════════════╪════════════╪════════════╪═══╪════════════╪═════════╪════════╪═══════╡\n",
       "│ 0        ┆ 2023-01-03 ┆ 151.960007 ┆ 153.130005 ┆ … ┆ 150.039993 ┆ 1414300 ┆ A      ┆ false │\n",
       "│ 1        ┆ 2023-01-04 ┆ 151.649994 ┆ 153.039993 ┆ … ┆ 151.669998 ┆ 1247400 ┆ A      ┆ false │\n",
       "│ 2        ┆ 2023-01-05 ┆ 150.0      ┆ 153.070007 ┆ … ┆ 152.110001 ┆ 1714600 ┆ A      ┆ false │\n",
       "│ 3        ┆ 2023-01-06 ┆ 154.360001 ┆ 154.639999 ┆ … ┆ 147.669998 ┆ 2445000 ┆ A      ┆ true  │\n",
       "│ …        ┆ …          ┆ …          ┆ …          ┆ … ┆ …          ┆ …       ┆ …      ┆ …     │\n",
       "│ 90       ┆ 2023-03-07 ┆ 52.779999  ┆ 53.040001  ┆ … ┆ 50.169998  ┆ 6298100 ┆ AA     ┆ false │\n",
       "│ 91       ┆ 2023-03-08 ┆ 50.41      ┆ 51.240002  ┆ … ┆ 51.02      ┆ 3467000 ┆ AA     ┆ false │\n",
       "│ 92       ┆ 2023-03-09 ┆ 50.700001  ┆ 51.139999  ┆ … ┆ 47.900002  ┆ 5590500 ┆ AA     ┆ false │\n",
       "│ 93       ┆ 2023-03-10 ┆ 48.119999  ┆ 48.119999  ┆ … ┆ 44.91      ┆ 6190400 ┆ AA     ┆ false │\n",
       "└──────────┴────────────┴────────────┴────────────┴───┴────────────┴─────────┴────────┴───────┘"
      ]
     },
     "execution_count": 5,
     "metadata": {},
     "output_type": "execute_result"
    }
   ],
   "source": [
    "index_name = 'my_index'\n",
    "column_name = \"test\"\n",
    "mydf = df.with_row_count(name=index_name).with_columns( \n",
    "                pl.when(\n",
    "                    pl.col(index_name) == 3) \\\n",
    "                    .then(pl.lit(True)) \\\n",
    "                .when(\n",
    "                    (pl.col(index_name) == 4)) \\\n",
    "                    .then(pl.lit(True)) \\\n",
    "                .when(\n",
    "                    (pl.col(index_name) == 7)) \\\n",
    "                    .then(pl.lit(True)) \\\n",
    "                .when(\n",
    "                    (pl.col(index_name) == 85)) \\\n",
    "                    .then(pl.lit(True)) \\\n",
    "                .otherwise(\n",
    "                    pl.lit(False)) \\\n",
    "                .alias(column_name))\n",
    "mydf"
   ]
  },
  {
   "cell_type": "code",
   "execution_count": 16,
   "metadata": {},
   "outputs": [],
   "source": [
    "trail = pi.trailing_stop(mydf, 2)"
   ]
  },
  {
   "cell_type": "code",
   "execution_count": 17,
   "metadata": {},
   "outputs": [
    {
     "data": {
      "text/html": [
       "<div><style>\n",
       ".dataframe > thead > tr > th,\n",
       ".dataframe > tbody > tr > td {\n",
       "  text-align: right;\n",
       "}\n",
       "</style>\n",
       "<small>shape: (94, 12)</small><table border=\"1\" class=\"dataframe\"><thead><tr><th>my_index</th><th>Date</th><th>Open</th><th>High</th><th>Low</th><th>Close</th><th>Adj Close</th><th>Volume</th><th>Symbol</th><th>test</th><th>2_bars_Low_stop</th><th>sum</th></tr><tr><td>u32</td><td>date</td><td>f64</td><td>f64</td><td>f64</td><td>f64</td><td>f64</td><td>i64</td><td>str</td><td>bool</td><td>bool</td><td>u32</td></tr></thead><tbody><tr><td>0</td><td>2023-01-03</td><td>151.960007</td><td>153.130005</td><td>148.470001</td><td>150.039993</td><td>150.039993</td><td>1414300</td><td>&quot;A&quot;</td><td>false</td><td>null</td><td>null</td></tr><tr><td>1</td><td>2023-01-04</td><td>151.649994</td><td>153.039993</td><td>150.240005</td><td>151.669998</td><td>151.669998</td><td>1247400</td><td>&quot;A&quot;</td><td>false</td><td>null</td><td>null</td></tr><tr><td>2</td><td>2023-01-05</td><td>150.0</td><td>153.070007</td><td>148.770004</td><td>152.110001</td><td>152.110001</td><td>1714600</td><td>&quot;A&quot;</td><td>false</td><td>false</td><td>null</td></tr><tr><td>3</td><td>2023-01-06</td><td>154.360001</td><td>154.639999</td><td>143.009995</td><td>147.669998</td><td>147.669998</td><td>2445000</td><td>&quot;A&quot;</td><td>true</td><td>true</td><td>0</td></tr><tr><td>4</td><td>2023-01-09</td><td>149.690002</td><td>151.279999</td><td>147.199997</td><td>147.470001</td><td>147.470001</td><td>1269600</td><td>&quot;A&quot;</td><td>true</td><td>false</td><td>1</td></tr><tr><td>5</td><td>2023-01-10</td><td>150.179993</td><td>155.550003</td><td>148.75</td><td>155.229996</td><td>155.229996</td><td>1565700</td><td>&quot;A&quot;</td><td>false</td><td>false</td><td>1</td></tr><tr><td>6</td><td>2023-01-11</td><td>155.229996</td><td>158.580002</td><td>155.229996</td><td>158.169998</td><td>158.169998</td><td>1241900</td><td>&quot;A&quot;</td><td>false</td><td>false</td><td>1</td></tr><tr><td>7</td><td>2023-01-12</td><td>158.160004</td><td>158.600006</td><td>155.580002</td><td>156.490005</td><td>156.490005</td><td>809100</td><td>&quot;A&quot;</td><td>true</td><td>false</td><td>1</td></tr><tr><td>8</td><td>2023-01-13</td><td>155.539993</td><td>157.279999</td><td>154.5</td><td>156.919998</td><td>156.919998</td><td>921700</td><td>&quot;A&quot;</td><td>false</td><td>true</td><td>1</td></tr><tr><td>9</td><td>2023-01-17</td><td>156.679993</td><td>158.110001</td><td>155.029999</td><td>155.399994</td><td>155.399994</td><td>1602200</td><td>&quot;A&quot;</td><td>false</td><td>false</td><td>2</td></tr><tr><td>10</td><td>2023-01-18</td><td>156.259995</td><td>158.160004</td><td>153.639999</td><td>154.070007</td><td>154.070007</td><td>1150700</td><td>&quot;A&quot;</td><td>false</td><td>true</td><td>2</td></tr><tr><td>11</td><td>2023-01-19</td><td>153.580002</td><td>154.919998</td><td>152.139999</td><td>152.869995</td><td>152.869995</td><td>1017400</td><td>&quot;A&quot;</td><td>false</td><td>true</td><td>3</td></tr><tr><td>&hellip;</td><td>&hellip;</td><td>&hellip;</td><td>&hellip;</td><td>&hellip;</td><td>&hellip;</td><td>&hellip;</td><td>&hellip;</td><td>&hellip;</td><td>&hellip;</td><td>&hellip;</td><td>&hellip;</td></tr><tr><td>82</td><td>2023-02-23</td><td>48.5</td><td>49.029999</td><td>46.549999</td><td>47.959999</td><td>47.873615</td><td>4654300</td><td>&quot;AA&quot;</td><td>false</td><td>true</td><td>37</td></tr><tr><td>83</td><td>2023-02-24</td><td>46.93</td><td>46.93</td><td>45.27</td><td>46.450001</td><td>46.366337</td><td>4587700</td><td>&quot;AA&quot;</td><td>false</td><td>true</td><td>38</td></tr><tr><td>84</td><td>2023-02-27</td><td>46.849998</td><td>48.435001</td><td>46.369999</td><td>48.040001</td><td>47.953476</td><td>4931200</td><td>&quot;AA&quot;</td><td>false</td><td>false</td><td>39</td></tr><tr><td>85</td><td>2023-02-28</td><td>48.25</td><td>50.040001</td><td>47.799999</td><td>48.939999</td><td>48.851852</td><td>3871400</td><td>&quot;AA&quot;</td><td>true</td><td>false</td><td>39</td></tr><tr><td>86</td><td>2023-03-01</td><td>51.290001</td><td>52.959999</td><td>50.529999</td><td>51.650002</td><td>51.556973</td><td>7599600</td><td>&quot;AA&quot;</td><td>false</td><td>false</td><td>39</td></tr><tr><td>87</td><td>2023-03-02</td><td>50.189999</td><td>53.709999</td><td>50.049999</td><td>53.689999</td><td>53.593296</td><td>6467900</td><td>&quot;AA&quot;</td><td>false</td><td>false</td><td>39</td></tr><tr><td>88</td><td>2023-03-03</td><td>54.330002</td><td>55.740002</td><td>53.700001</td><td>55.52</td><td>55.420002</td><td>6158800</td><td>&quot;AA&quot;</td><td>false</td><td>false</td><td>39</td></tr><tr><td>89</td><td>2023-03-06</td><td>54.009998</td><td>54.900002</td><td>53.380001</td><td>53.689999</td><td>53.689999</td><td>5129900</td><td>&quot;AA&quot;</td><td>false</td><td>false</td><td>39</td></tr><tr><td>90</td><td>2023-03-07</td><td>52.779999</td><td>53.040001</td><td>49.919998</td><td>50.169998</td><td>50.169998</td><td>6298100</td><td>&quot;AA&quot;</td><td>false</td><td>true</td><td>39</td></tr><tr><td>91</td><td>2023-03-08</td><td>50.41</td><td>51.240002</td><td>49.75</td><td>51.02</td><td>51.02</td><td>3467000</td><td>&quot;AA&quot;</td><td>false</td><td>true</td><td>40</td></tr><tr><td>92</td><td>2023-03-09</td><td>50.700001</td><td>51.139999</td><td>47.330002</td><td>47.900002</td><td>47.900002</td><td>5590500</td><td>&quot;AA&quot;</td><td>false</td><td>true</td><td>41</td></tr><tr><td>93</td><td>2023-03-10</td><td>48.119999</td><td>48.119999</td><td>44.459999</td><td>44.91</td><td>44.91</td><td>6190400</td><td>&quot;AA&quot;</td><td>false</td><td>true</td><td>42</td></tr></tbody></table></div>"
      ],
      "text/plain": [
       "shape: (94, 12)\n",
       "┌──────────┬────────────┬────────────┬────────────┬───┬────────┬───────┬─────────────────┬──────┐\n",
       "│ my_index ┆ Date       ┆ Open       ┆ High       ┆ … ┆ Symbol ┆ test  ┆ 2_bars_Low_stop ┆ sum  │\n",
       "│ ---      ┆ ---        ┆ ---        ┆ ---        ┆   ┆ ---    ┆ ---   ┆ ---             ┆ ---  │\n",
       "│ u32      ┆ date       ┆ f64        ┆ f64        ┆   ┆ str    ┆ bool  ┆ bool            ┆ u32  │\n",
       "╞══════════╪════════════╪════════════╪════════════╪═══╪════════╪═══════╪═════════════════╪══════╡\n",
       "│ 0        ┆ 2023-01-03 ┆ 151.960007 ┆ 153.130005 ┆ … ┆ A      ┆ false ┆ null            ┆ null │\n",
       "│ 1        ┆ 2023-01-04 ┆ 151.649994 ┆ 153.039993 ┆ … ┆ A      ┆ false ┆ null            ┆ null │\n",
       "│ 2        ┆ 2023-01-05 ┆ 150.0      ┆ 153.070007 ┆ … ┆ A      ┆ false ┆ false           ┆ null │\n",
       "│ 3        ┆ 2023-01-06 ┆ 154.360001 ┆ 154.639999 ┆ … ┆ A      ┆ true  ┆ true            ┆ 0    │\n",
       "│ …        ┆ …          ┆ …          ┆ …          ┆ … ┆ …      ┆ …     ┆ …               ┆ …    │\n",
       "│ 90       ┆ 2023-03-07 ┆ 52.779999  ┆ 53.040001  ┆ … ┆ AA     ┆ false ┆ true            ┆ 39   │\n",
       "│ 91       ┆ 2023-03-08 ┆ 50.41      ┆ 51.240002  ┆ … ┆ AA     ┆ false ┆ true            ┆ 40   │\n",
       "│ 92       ┆ 2023-03-09 ┆ 50.700001  ┆ 51.139999  ┆ … ┆ AA     ┆ false ┆ true            ┆ 41   │\n",
       "│ 93       ┆ 2023-03-10 ┆ 48.119999  ┆ 48.119999  ┆ … ┆ AA     ┆ false ┆ true            ┆ 42   │\n",
       "└──────────┴────────────┴────────────┴────────────┴───┴────────┴───────┴─────────────────┴──────┘"
      ]
     },
     "execution_count": 17,
     "metadata": {},
     "output_type": "execute_result"
    }
   ],
   "source": [
    "newcol = 'sum'\n",
    "new = trail.df.with_columns(pl.col(trail.column).cumsum().shift(1).alias(newcol))\n",
    "new\n"
   ]
  },
  {
   "cell_type": "code",
   "execution_count": 18,
   "metadata": {},
   "outputs": [
    {
     "data": {
      "text/html": [
       "<div><style>\n",
       ".dataframe > thead > tr > th,\n",
       ".dataframe > tbody > tr > td {\n",
       "  text-align: right;\n",
       "}\n",
       "</style>\n",
       "<small>shape: (94, 13)</small><table border=\"1\" class=\"dataframe\"><thead><tr><th>my_index</th><th>Date</th><th>Open</th><th>High</th><th>Low</th><th>Close</th><th>Adj Close</th><th>Volume</th><th>Symbol</th><th>test</th><th>2_bars_Low_stop</th><th>sum</th><th>test2</th></tr><tr><td>u32</td><td>date</td><td>f64</td><td>f64</td><td>f64</td><td>f64</td><td>f64</td><td>i64</td><td>str</td><td>bool</td><td>bool</td><td>u32</td><td>u32</td></tr></thead><tbody><tr><td>0</td><td>2023-01-03</td><td>151.960007</td><td>153.130005</td><td>148.470001</td><td>150.039993</td><td>150.039993</td><td>1414300</td><td>&quot;A&quot;</td><td>false</td><td>null</td><td>null</td><td>null</td></tr><tr><td>1</td><td>2023-01-04</td><td>151.649994</td><td>153.039993</td><td>150.240005</td><td>151.669998</td><td>151.669998</td><td>1247400</td><td>&quot;A&quot;</td><td>false</td><td>null</td><td>null</td><td>null</td></tr><tr><td>2</td><td>2023-01-05</td><td>150.0</td><td>153.070007</td><td>148.770004</td><td>152.110001</td><td>152.110001</td><td>1714600</td><td>&quot;A&quot;</td><td>false</td><td>false</td><td>null</td><td>null</td></tr><tr><td>3</td><td>2023-01-06</td><td>154.360001</td><td>154.639999</td><td>143.009995</td><td>147.669998</td><td>147.669998</td><td>2445000</td><td>&quot;A&quot;</td><td>true</td><td>true</td><td>0</td><td>0</td></tr><tr><td>4</td><td>2023-01-09</td><td>149.690002</td><td>151.279999</td><td>147.199997</td><td>147.470001</td><td>147.470001</td><td>1269600</td><td>&quot;A&quot;</td><td>true</td><td>false</td><td>1</td><td>1</td></tr><tr><td>5</td><td>2023-01-10</td><td>150.179993</td><td>155.550003</td><td>148.75</td><td>155.229996</td><td>155.229996</td><td>1565700</td><td>&quot;A&quot;</td><td>false</td><td>false</td><td>1</td><td>1</td></tr><tr><td>6</td><td>2023-01-11</td><td>155.229996</td><td>158.580002</td><td>155.229996</td><td>158.169998</td><td>158.169998</td><td>1241900</td><td>&quot;A&quot;</td><td>false</td><td>false</td><td>1</td><td>1</td></tr><tr><td>7</td><td>2023-01-12</td><td>158.160004</td><td>158.600006</td><td>155.580002</td><td>156.490005</td><td>156.490005</td><td>809100</td><td>&quot;A&quot;</td><td>true</td><td>false</td><td>1</td><td>1</td></tr><tr><td>8</td><td>2023-01-13</td><td>155.539993</td><td>157.279999</td><td>154.5</td><td>156.919998</td><td>156.919998</td><td>921700</td><td>&quot;A&quot;</td><td>false</td><td>true</td><td>1</td><td>1</td></tr><tr><td>9</td><td>2023-01-17</td><td>156.679993</td><td>158.110001</td><td>155.029999</td><td>155.399994</td><td>155.399994</td><td>1602200</td><td>&quot;A&quot;</td><td>false</td><td>false</td><td>2</td><td>null</td></tr><tr><td>10</td><td>2023-01-18</td><td>156.259995</td><td>158.160004</td><td>153.639999</td><td>154.070007</td><td>154.070007</td><td>1150700</td><td>&quot;A&quot;</td><td>false</td><td>true</td><td>2</td><td>null</td></tr><tr><td>11</td><td>2023-01-19</td><td>153.580002</td><td>154.919998</td><td>152.139999</td><td>152.869995</td><td>152.869995</td><td>1017400</td><td>&quot;A&quot;</td><td>false</td><td>true</td><td>3</td><td>null</td></tr><tr><td>&hellip;</td><td>&hellip;</td><td>&hellip;</td><td>&hellip;</td><td>&hellip;</td><td>&hellip;</td><td>&hellip;</td><td>&hellip;</td><td>&hellip;</td><td>&hellip;</td><td>&hellip;</td><td>&hellip;</td><td>&hellip;</td></tr><tr><td>82</td><td>2023-02-23</td><td>48.5</td><td>49.029999</td><td>46.549999</td><td>47.959999</td><td>47.873615</td><td>4654300</td><td>&quot;AA&quot;</td><td>false</td><td>true</td><td>37</td><td>null</td></tr><tr><td>83</td><td>2023-02-24</td><td>46.93</td><td>46.93</td><td>45.27</td><td>46.450001</td><td>46.366337</td><td>4587700</td><td>&quot;AA&quot;</td><td>false</td><td>true</td><td>38</td><td>null</td></tr><tr><td>84</td><td>2023-02-27</td><td>46.849998</td><td>48.435001</td><td>46.369999</td><td>48.040001</td><td>47.953476</td><td>4931200</td><td>&quot;AA&quot;</td><td>false</td><td>false</td><td>39</td><td>39</td></tr><tr><td>85</td><td>2023-02-28</td><td>48.25</td><td>50.040001</td><td>47.799999</td><td>48.939999</td><td>48.851852</td><td>3871400</td><td>&quot;AA&quot;</td><td>true</td><td>false</td><td>39</td><td>39</td></tr><tr><td>86</td><td>2023-03-01</td><td>51.290001</td><td>52.959999</td><td>50.529999</td><td>51.650002</td><td>51.556973</td><td>7599600</td><td>&quot;AA&quot;</td><td>false</td><td>false</td><td>39</td><td>39</td></tr><tr><td>87</td><td>2023-03-02</td><td>50.189999</td><td>53.709999</td><td>50.049999</td><td>53.689999</td><td>53.593296</td><td>6467900</td><td>&quot;AA&quot;</td><td>false</td><td>false</td><td>39</td><td>39</td></tr><tr><td>88</td><td>2023-03-03</td><td>54.330002</td><td>55.740002</td><td>53.700001</td><td>55.52</td><td>55.420002</td><td>6158800</td><td>&quot;AA&quot;</td><td>false</td><td>false</td><td>39</td><td>39</td></tr><tr><td>89</td><td>2023-03-06</td><td>54.009998</td><td>54.900002</td><td>53.380001</td><td>53.689999</td><td>53.689999</td><td>5129900</td><td>&quot;AA&quot;</td><td>false</td><td>false</td><td>39</td><td>39</td></tr><tr><td>90</td><td>2023-03-07</td><td>52.779999</td><td>53.040001</td><td>49.919998</td><td>50.169998</td><td>50.169998</td><td>6298100</td><td>&quot;AA&quot;</td><td>false</td><td>true</td><td>39</td><td>39</td></tr><tr><td>91</td><td>2023-03-08</td><td>50.41</td><td>51.240002</td><td>49.75</td><td>51.02</td><td>51.02</td><td>3467000</td><td>&quot;AA&quot;</td><td>false</td><td>true</td><td>40</td><td>null</td></tr><tr><td>92</td><td>2023-03-09</td><td>50.700001</td><td>51.139999</td><td>47.330002</td><td>47.900002</td><td>47.900002</td><td>5590500</td><td>&quot;AA&quot;</td><td>false</td><td>true</td><td>41</td><td>null</td></tr><tr><td>93</td><td>2023-03-10</td><td>48.119999</td><td>48.119999</td><td>44.459999</td><td>44.91</td><td>44.91</td><td>6190400</td><td>&quot;AA&quot;</td><td>false</td><td>true</td><td>42</td><td>null</td></tr></tbody></table></div>"
      ],
      "text/plain": [
       "shape: (94, 13)\n",
       "┌──────────┬────────────┬────────────┬────────────┬───┬───────┬─────────────────┬──────┬───────┐\n",
       "│ my_index ┆ Date       ┆ Open       ┆ High       ┆ … ┆ test  ┆ 2_bars_Low_stop ┆ sum  ┆ test2 │\n",
       "│ ---      ┆ ---        ┆ ---        ┆ ---        ┆   ┆ ---   ┆ ---             ┆ ---  ┆ ---   │\n",
       "│ u32      ┆ date       ┆ f64        ┆ f64        ┆   ┆ bool  ┆ bool            ┆ u32  ┆ u32   │\n",
       "╞══════════╪════════════╪════════════╪════════════╪═══╪═══════╪═════════════════╪══════╪═══════╡\n",
       "│ 0        ┆ 2023-01-03 ┆ 151.960007 ┆ 153.130005 ┆ … ┆ false ┆ null            ┆ null ┆ null  │\n",
       "│ 1        ┆ 2023-01-04 ┆ 151.649994 ┆ 153.039993 ┆ … ┆ false ┆ null            ┆ null ┆ null  │\n",
       "│ 2        ┆ 2023-01-05 ┆ 150.0      ┆ 153.070007 ┆ … ┆ false ┆ false           ┆ null ┆ null  │\n",
       "│ 3        ┆ 2023-01-06 ┆ 154.360001 ┆ 154.639999 ┆ … ┆ true  ┆ true            ┆ 0    ┆ 0     │\n",
       "│ …        ┆ …          ┆ …          ┆ …          ┆ … ┆ …     ┆ …               ┆ …    ┆ …     │\n",
       "│ 90       ┆ 2023-03-07 ┆ 52.779999  ┆ 53.040001  ┆ … ┆ false ┆ true            ┆ 39   ┆ 39    │\n",
       "│ 91       ┆ 2023-03-08 ┆ 50.41      ┆ 51.240002  ┆ … ┆ false ┆ true            ┆ 40   ┆ null  │\n",
       "│ 92       ┆ 2023-03-09 ┆ 50.700001  ┆ 51.139999  ┆ … ┆ false ┆ true            ┆ 41   ┆ null  │\n",
       "│ 93       ┆ 2023-03-10 ┆ 48.119999  ┆ 48.119999  ┆ … ┆ false ┆ true            ┆ 42   ┆ null  │\n",
       "└──────────┴────────────┴────────────┴────────────┴───┴───────┴─────────────────┴──────┴───────┘"
      ]
     },
     "execution_count": 18,
     "metadata": {},
     "output_type": "execute_result"
    }
   ],
   "source": [
    "new = new.with_columns(pl.when(pl.col(column_name).max().over(pl.col(newcol))).then(pl.col('sum')).alias('test2'))\n",
    "new"
   ]
  },
  {
   "cell_type": "code",
   "execution_count": 22,
   "metadata": {},
   "outputs": [
    {
     "data": {
      "text/html": [
       "<div><style>\n",
       ".dataframe > thead > tr > th,\n",
       ".dataframe > tbody > tr > td {\n",
       "  text-align: right;\n",
       "}\n",
       "</style>\n",
       "<small>shape: (94, 14)</small><table border=\"1\" class=\"dataframe\"><thead><tr><th>my_index</th><th>Date</th><th>Open</th><th>High</th><th>Low</th><th>Close</th><th>Adj Close</th><th>Volume</th><th>Symbol</th><th>test</th><th>2_bars_Low_stop</th><th>sum</th><th>test2</th><th>test3</th></tr><tr><td>u32</td><td>date</td><td>f64</td><td>f64</td><td>f64</td><td>f64</td><td>f64</td><td>i64</td><td>str</td><td>bool</td><td>bool</td><td>u32</td><td>u32</td><td>bool</td></tr></thead><tbody><tr><td>0</td><td>2023-01-03</td><td>151.960007</td><td>153.130005</td><td>148.470001</td><td>150.039993</td><td>150.039993</td><td>1414300</td><td>&quot;A&quot;</td><td>false</td><td>null</td><td>null</td><td>null</td><td>false</td></tr><tr><td>1</td><td>2023-01-04</td><td>151.649994</td><td>153.039993</td><td>150.240005</td><td>151.669998</td><td>151.669998</td><td>1247400</td><td>&quot;A&quot;</td><td>false</td><td>null</td><td>null</td><td>null</td><td>false</td></tr><tr><td>2</td><td>2023-01-05</td><td>150.0</td><td>153.070007</td><td>148.770004</td><td>152.110001</td><td>152.110001</td><td>1714600</td><td>&quot;A&quot;</td><td>false</td><td>false</td><td>null</td><td>null</td><td>false</td></tr><tr><td>3</td><td>2023-01-06</td><td>154.360001</td><td>154.639999</td><td>143.009995</td><td>147.669998</td><td>147.669998</td><td>2445000</td><td>&quot;A&quot;</td><td>true</td><td>true</td><td>0</td><td>0</td><td>true</td></tr><tr><td>4</td><td>2023-01-09</td><td>149.690002</td><td>151.279999</td><td>147.199997</td><td>147.470001</td><td>147.470001</td><td>1269600</td><td>&quot;A&quot;</td><td>true</td><td>false</td><td>1</td><td>1</td><td>true</td></tr><tr><td>5</td><td>2023-01-10</td><td>150.179993</td><td>155.550003</td><td>148.75</td><td>155.229996</td><td>155.229996</td><td>1565700</td><td>&quot;A&quot;</td><td>false</td><td>false</td><td>1</td><td>1</td><td>true</td></tr><tr><td>6</td><td>2023-01-11</td><td>155.229996</td><td>158.580002</td><td>155.229996</td><td>158.169998</td><td>158.169998</td><td>1241900</td><td>&quot;A&quot;</td><td>false</td><td>false</td><td>1</td><td>1</td><td>true</td></tr><tr><td>7</td><td>2023-01-12</td><td>158.160004</td><td>158.600006</td><td>155.580002</td><td>156.490005</td><td>156.490005</td><td>809100</td><td>&quot;A&quot;</td><td>true</td><td>false</td><td>1</td><td>1</td><td>true</td></tr><tr><td>8</td><td>2023-01-13</td><td>155.539993</td><td>157.279999</td><td>154.5</td><td>156.919998</td><td>156.919998</td><td>921700</td><td>&quot;A&quot;</td><td>false</td><td>true</td><td>1</td><td>1</td><td>true</td></tr><tr><td>9</td><td>2023-01-17</td><td>156.679993</td><td>158.110001</td><td>155.029999</td><td>155.399994</td><td>155.399994</td><td>1602200</td><td>&quot;A&quot;</td><td>false</td><td>false</td><td>2</td><td>null</td><td>false</td></tr><tr><td>10</td><td>2023-01-18</td><td>156.259995</td><td>158.160004</td><td>153.639999</td><td>154.070007</td><td>154.070007</td><td>1150700</td><td>&quot;A&quot;</td><td>false</td><td>true</td><td>2</td><td>null</td><td>false</td></tr><tr><td>11</td><td>2023-01-19</td><td>153.580002</td><td>154.919998</td><td>152.139999</td><td>152.869995</td><td>152.869995</td><td>1017400</td><td>&quot;A&quot;</td><td>false</td><td>true</td><td>3</td><td>null</td><td>false</td></tr><tr><td>&hellip;</td><td>&hellip;</td><td>&hellip;</td><td>&hellip;</td><td>&hellip;</td><td>&hellip;</td><td>&hellip;</td><td>&hellip;</td><td>&hellip;</td><td>&hellip;</td><td>&hellip;</td><td>&hellip;</td><td>&hellip;</td><td>&hellip;</td></tr><tr><td>82</td><td>2023-02-23</td><td>48.5</td><td>49.029999</td><td>46.549999</td><td>47.959999</td><td>47.873615</td><td>4654300</td><td>&quot;AA&quot;</td><td>false</td><td>true</td><td>37</td><td>null</td><td>false</td></tr><tr><td>83</td><td>2023-02-24</td><td>46.93</td><td>46.93</td><td>45.27</td><td>46.450001</td><td>46.366337</td><td>4587700</td><td>&quot;AA&quot;</td><td>false</td><td>true</td><td>38</td><td>null</td><td>false</td></tr><tr><td>84</td><td>2023-02-27</td><td>46.849998</td><td>48.435001</td><td>46.369999</td><td>48.040001</td><td>47.953476</td><td>4931200</td><td>&quot;AA&quot;</td><td>false</td><td>false</td><td>39</td><td>39</td><td>true</td></tr><tr><td>85</td><td>2023-02-28</td><td>48.25</td><td>50.040001</td><td>47.799999</td><td>48.939999</td><td>48.851852</td><td>3871400</td><td>&quot;AA&quot;</td><td>true</td><td>false</td><td>39</td><td>39</td><td>true</td></tr><tr><td>86</td><td>2023-03-01</td><td>51.290001</td><td>52.959999</td><td>50.529999</td><td>51.650002</td><td>51.556973</td><td>7599600</td><td>&quot;AA&quot;</td><td>false</td><td>false</td><td>39</td><td>39</td><td>true</td></tr><tr><td>87</td><td>2023-03-02</td><td>50.189999</td><td>53.709999</td><td>50.049999</td><td>53.689999</td><td>53.593296</td><td>6467900</td><td>&quot;AA&quot;</td><td>false</td><td>false</td><td>39</td><td>39</td><td>true</td></tr><tr><td>88</td><td>2023-03-03</td><td>54.330002</td><td>55.740002</td><td>53.700001</td><td>55.52</td><td>55.420002</td><td>6158800</td><td>&quot;AA&quot;</td><td>false</td><td>false</td><td>39</td><td>39</td><td>true</td></tr><tr><td>89</td><td>2023-03-06</td><td>54.009998</td><td>54.900002</td><td>53.380001</td><td>53.689999</td><td>53.689999</td><td>5129900</td><td>&quot;AA&quot;</td><td>false</td><td>false</td><td>39</td><td>39</td><td>true</td></tr><tr><td>90</td><td>2023-03-07</td><td>52.779999</td><td>53.040001</td><td>49.919998</td><td>50.169998</td><td>50.169998</td><td>6298100</td><td>&quot;AA&quot;</td><td>false</td><td>true</td><td>39</td><td>39</td><td>true</td></tr><tr><td>91</td><td>2023-03-08</td><td>50.41</td><td>51.240002</td><td>49.75</td><td>51.02</td><td>51.02</td><td>3467000</td><td>&quot;AA&quot;</td><td>false</td><td>true</td><td>40</td><td>null</td><td>false</td></tr><tr><td>92</td><td>2023-03-09</td><td>50.700001</td><td>51.139999</td><td>47.330002</td><td>47.900002</td><td>47.900002</td><td>5590500</td><td>&quot;AA&quot;</td><td>false</td><td>true</td><td>41</td><td>null</td><td>false</td></tr><tr><td>93</td><td>2023-03-10</td><td>48.119999</td><td>48.119999</td><td>44.459999</td><td>44.91</td><td>44.91</td><td>6190400</td><td>&quot;AA&quot;</td><td>false</td><td>true</td><td>42</td><td>null</td><td>false</td></tr></tbody></table></div>"
      ],
      "text/plain": [
       "shape: (94, 14)\n",
       "┌──────────┬────────────┬────────────┬────────────┬───┬─────────────────┬──────┬───────┬───────┐\n",
       "│ my_index ┆ Date       ┆ Open       ┆ High       ┆ … ┆ 2_bars_Low_stop ┆ sum  ┆ test2 ┆ test3 │\n",
       "│ ---      ┆ ---        ┆ ---        ┆ ---        ┆   ┆ ---             ┆ ---  ┆ ---   ┆ ---   │\n",
       "│ u32      ┆ date       ┆ f64        ┆ f64        ┆   ┆ bool            ┆ u32  ┆ u32   ┆ bool  │\n",
       "╞══════════╪════════════╪════════════╪════════════╪═══╪═════════════════╪══════╪═══════╪═══════╡\n",
       "│ 0        ┆ 2023-01-03 ┆ 151.960007 ┆ 153.130005 ┆ … ┆ null            ┆ null ┆ null  ┆ false │\n",
       "│ 1        ┆ 2023-01-04 ┆ 151.649994 ┆ 153.039993 ┆ … ┆ null            ┆ null ┆ null  ┆ false │\n",
       "│ 2        ┆ 2023-01-05 ┆ 150.0      ┆ 153.070007 ┆ … ┆ false           ┆ null ┆ null  ┆ false │\n",
       "│ 3        ┆ 2023-01-06 ┆ 154.360001 ┆ 154.639999 ┆ … ┆ true            ┆ 0    ┆ 0     ┆ true  │\n",
       "│ …        ┆ …          ┆ …          ┆ …          ┆ … ┆ …               ┆ …    ┆ …     ┆ …     │\n",
       "│ 90       ┆ 2023-03-07 ┆ 52.779999  ┆ 53.040001  ┆ … ┆ true            ┆ 39   ┆ 39    ┆ true  │\n",
       "│ 91       ┆ 2023-03-08 ┆ 50.41      ┆ 51.240002  ┆ … ┆ true            ┆ 40   ┆ null  ┆ false │\n",
       "│ 92       ┆ 2023-03-09 ┆ 50.700001  ┆ 51.139999  ┆ … ┆ true            ┆ 41   ┆ null  ┆ false │\n",
       "│ 93       ┆ 2023-03-10 ┆ 48.119999  ┆ 48.119999  ┆ … ┆ true            ┆ 42   ┆ null  ┆ false │\n",
       "└──────────┴────────────┴────────────┴────────────┴───┴─────────────────┴──────┴───────┴───────┘"
      ]
     },
     "execution_count": 22,
     "metadata": {},
     "output_type": "execute_result"
    }
   ],
   "source": [
    "new = new.with_columns(pl.col(column_name).max().over(pl.col(newcol)).alias('test3'))\n",
    "new"
   ]
  },
  {
   "cell_type": "code",
   "execution_count": 26,
   "metadata": {},
   "outputs": [
    {
     "data": {
      "text/html": [
       "<div><style>\n",
       ".dataframe > thead > tr > th,\n",
       ".dataframe > tbody > tr > td {\n",
       "  text-align: right;\n",
       "}\n",
       "</style>\n",
       "<small>shape: (94, 15)</small><table border=\"1\" class=\"dataframe\"><thead><tr><th>my_index</th><th>Date</th><th>Open</th><th>High</th><th>Low</th><th>Close</th><th>Adj Close</th><th>Volume</th><th>Symbol</th><th>test</th><th>2_bars_Low_stop</th><th>sum</th><th>test2</th><th>test3</th><th>test4</th></tr><tr><td>u32</td><td>date</td><td>f64</td><td>f64</td><td>f64</td><td>f64</td><td>f64</td><td>i64</td><td>str</td><td>bool</td><td>bool</td><td>u32</td><td>u32</td><td>bool</td><td>u32</td></tr></thead><tbody><tr><td>0</td><td>2023-01-03</td><td>151.960007</td><td>153.130005</td><td>148.470001</td><td>150.039993</td><td>150.039993</td><td>1414300</td><td>&quot;A&quot;</td><td>false</td><td>null</td><td>null</td><td>null</td><td>false</td><td>1</td></tr><tr><td>1</td><td>2023-01-04</td><td>151.649994</td><td>153.039993</td><td>150.240005</td><td>151.669998</td><td>151.669998</td><td>1247400</td><td>&quot;A&quot;</td><td>false</td><td>null</td><td>null</td><td>null</td><td>false</td><td>1</td></tr><tr><td>2</td><td>2023-01-05</td><td>150.0</td><td>153.070007</td><td>148.770004</td><td>152.110001</td><td>152.110001</td><td>1714600</td><td>&quot;A&quot;</td><td>false</td><td>false</td><td>null</td><td>null</td><td>false</td><td>1</td></tr><tr><td>3</td><td>2023-01-06</td><td>154.360001</td><td>154.639999</td><td>143.009995</td><td>147.669998</td><td>147.669998</td><td>2445000</td><td>&quot;A&quot;</td><td>true</td><td>true</td><td>0</td><td>0</td><td>true</td><td>2</td></tr><tr><td>4</td><td>2023-01-09</td><td>149.690002</td><td>151.279999</td><td>147.199997</td><td>147.470001</td><td>147.470001</td><td>1269600</td><td>&quot;A&quot;</td><td>true</td><td>false</td><td>1</td><td>1</td><td>true</td><td>3</td></tr><tr><td>5</td><td>2023-01-10</td><td>150.179993</td><td>155.550003</td><td>148.75</td><td>155.229996</td><td>155.229996</td><td>1565700</td><td>&quot;A&quot;</td><td>false</td><td>false</td><td>1</td><td>1</td><td>true</td><td>3</td></tr><tr><td>6</td><td>2023-01-11</td><td>155.229996</td><td>158.580002</td><td>155.229996</td><td>158.169998</td><td>158.169998</td><td>1241900</td><td>&quot;A&quot;</td><td>false</td><td>false</td><td>1</td><td>1</td><td>true</td><td>3</td></tr><tr><td>7</td><td>2023-01-12</td><td>158.160004</td><td>158.600006</td><td>155.580002</td><td>156.490005</td><td>156.490005</td><td>809100</td><td>&quot;A&quot;</td><td>true</td><td>false</td><td>1</td><td>1</td><td>true</td><td>3</td></tr><tr><td>8</td><td>2023-01-13</td><td>155.539993</td><td>157.279999</td><td>154.5</td><td>156.919998</td><td>156.919998</td><td>921700</td><td>&quot;A&quot;</td><td>false</td><td>true</td><td>1</td><td>1</td><td>true</td><td>3</td></tr><tr><td>9</td><td>2023-01-17</td><td>156.679993</td><td>158.110001</td><td>155.029999</td><td>155.399994</td><td>155.399994</td><td>1602200</td><td>&quot;A&quot;</td><td>false</td><td>false</td><td>2</td><td>null</td><td>false</td><td>3</td></tr><tr><td>10</td><td>2023-01-18</td><td>156.259995</td><td>158.160004</td><td>153.639999</td><td>154.070007</td><td>154.070007</td><td>1150700</td><td>&quot;A&quot;</td><td>false</td><td>true</td><td>2</td><td>null</td><td>false</td><td>3</td></tr><tr><td>11</td><td>2023-01-19</td><td>153.580002</td><td>154.919998</td><td>152.139999</td><td>152.869995</td><td>152.869995</td><td>1017400</td><td>&quot;A&quot;</td><td>false</td><td>true</td><td>3</td><td>null</td><td>false</td><td>3</td></tr><tr><td>&hellip;</td><td>&hellip;</td><td>&hellip;</td><td>&hellip;</td><td>&hellip;</td><td>&hellip;</td><td>&hellip;</td><td>&hellip;</td><td>&hellip;</td><td>&hellip;</td><td>&hellip;</td><td>&hellip;</td><td>&hellip;</td><td>&hellip;</td><td>&hellip;</td></tr><tr><td>82</td><td>2023-02-23</td><td>48.5</td><td>49.029999</td><td>46.549999</td><td>47.959999</td><td>47.873615</td><td>4654300</td><td>&quot;AA&quot;</td><td>false</td><td>true</td><td>37</td><td>null</td><td>false</td><td>4</td></tr><tr><td>83</td><td>2023-02-24</td><td>46.93</td><td>46.93</td><td>45.27</td><td>46.450001</td><td>46.366337</td><td>4587700</td><td>&quot;AA&quot;</td><td>false</td><td>true</td><td>38</td><td>null</td><td>false</td><td>4</td></tr><tr><td>84</td><td>2023-02-27</td><td>46.849998</td><td>48.435001</td><td>46.369999</td><td>48.040001</td><td>47.953476</td><td>4931200</td><td>&quot;AA&quot;</td><td>false</td><td>false</td><td>39</td><td>39</td><td>true</td><td>5</td></tr><tr><td>85</td><td>2023-02-28</td><td>48.25</td><td>50.040001</td><td>47.799999</td><td>48.939999</td><td>48.851852</td><td>3871400</td><td>&quot;AA&quot;</td><td>true</td><td>false</td><td>39</td><td>39</td><td>true</td><td>5</td></tr><tr><td>86</td><td>2023-03-01</td><td>51.290001</td><td>52.959999</td><td>50.529999</td><td>51.650002</td><td>51.556973</td><td>7599600</td><td>&quot;AA&quot;</td><td>false</td><td>false</td><td>39</td><td>39</td><td>true</td><td>5</td></tr><tr><td>87</td><td>2023-03-02</td><td>50.189999</td><td>53.709999</td><td>50.049999</td><td>53.689999</td><td>53.593296</td><td>6467900</td><td>&quot;AA&quot;</td><td>false</td><td>false</td><td>39</td><td>39</td><td>true</td><td>5</td></tr><tr><td>88</td><td>2023-03-03</td><td>54.330002</td><td>55.740002</td><td>53.700001</td><td>55.52</td><td>55.420002</td><td>6158800</td><td>&quot;AA&quot;</td><td>false</td><td>false</td><td>39</td><td>39</td><td>true</td><td>5</td></tr><tr><td>89</td><td>2023-03-06</td><td>54.009998</td><td>54.900002</td><td>53.380001</td><td>53.689999</td><td>53.689999</td><td>5129900</td><td>&quot;AA&quot;</td><td>false</td><td>false</td><td>39</td><td>39</td><td>true</td><td>5</td></tr><tr><td>90</td><td>2023-03-07</td><td>52.779999</td><td>53.040001</td><td>49.919998</td><td>50.169998</td><td>50.169998</td><td>6298100</td><td>&quot;AA&quot;</td><td>false</td><td>true</td><td>39</td><td>39</td><td>true</td><td>5</td></tr><tr><td>91</td><td>2023-03-08</td><td>50.41</td><td>51.240002</td><td>49.75</td><td>51.02</td><td>51.02</td><td>3467000</td><td>&quot;AA&quot;</td><td>false</td><td>true</td><td>40</td><td>null</td><td>false</td><td>5</td></tr><tr><td>92</td><td>2023-03-09</td><td>50.700001</td><td>51.139999</td><td>47.330002</td><td>47.900002</td><td>47.900002</td><td>5590500</td><td>&quot;AA&quot;</td><td>false</td><td>true</td><td>41</td><td>null</td><td>false</td><td>5</td></tr><tr><td>93</td><td>2023-03-10</td><td>48.119999</td><td>48.119999</td><td>44.459999</td><td>44.91</td><td>44.91</td><td>6190400</td><td>&quot;AA&quot;</td><td>false</td><td>true</td><td>42</td><td>null</td><td>false</td><td>5</td></tr></tbody></table></div>"
      ],
      "text/plain": [
       "shape: (94, 15)\n",
       "┌──────────┬────────────┬────────────┬────────────┬───┬──────┬───────┬───────┬───────┐\n",
       "│ my_index ┆ Date       ┆ Open       ┆ High       ┆ … ┆ sum  ┆ test2 ┆ test3 ┆ test4 │\n",
       "│ ---      ┆ ---        ┆ ---        ┆ ---        ┆   ┆ ---  ┆ ---   ┆ ---   ┆ ---   │\n",
       "│ u32      ┆ date       ┆ f64        ┆ f64        ┆   ┆ u32  ┆ u32   ┆ bool  ┆ u32   │\n",
       "╞══════════╪════════════╪════════════╪════════════╪═══╪══════╪═══════╪═══════╪═══════╡\n",
       "│ 0        ┆ 2023-01-03 ┆ 151.960007 ┆ 153.130005 ┆ … ┆ null ┆ null  ┆ false ┆ 1     │\n",
       "│ 1        ┆ 2023-01-04 ┆ 151.649994 ┆ 153.039993 ┆ … ┆ null ┆ null  ┆ false ┆ 1     │\n",
       "│ 2        ┆ 2023-01-05 ┆ 150.0      ┆ 153.070007 ┆ … ┆ null ┆ null  ┆ false ┆ 1     │\n",
       "│ 3        ┆ 2023-01-06 ┆ 154.360001 ┆ 154.639999 ┆ … ┆ 0    ┆ 0     ┆ true  ┆ 2     │\n",
       "│ …        ┆ …          ┆ …          ┆ …          ┆ … ┆ …    ┆ …     ┆ …     ┆ …     │\n",
       "│ 90       ┆ 2023-03-07 ┆ 52.779999  ┆ 53.040001  ┆ … ┆ 39   ┆ 39    ┆ true  ┆ 5     │\n",
       "│ 91       ┆ 2023-03-08 ┆ 50.41      ┆ 51.240002  ┆ … ┆ 40   ┆ null  ┆ false ┆ 5     │\n",
       "│ 92       ┆ 2023-03-09 ┆ 50.700001  ┆ 51.139999  ┆ … ┆ 41   ┆ null  ┆ false ┆ 5     │\n",
       "│ 93       ┆ 2023-03-10 ┆ 48.119999  ┆ 48.119999  ┆ … ┆ 42   ┆ null  ┆ false ┆ 5     │\n",
       "└──────────┴────────────┴────────────┴────────────┴───┴──────┴───────┴───────┴───────┘"
      ]
     },
     "execution_count": 26,
     "metadata": {},
     "output_type": "execute_result"
    }
   ],
   "source": [
    "new.with_columns(pl.when(pl.col('Date') == pl.col('Date').min().over(pl.col('test2'),pl.col(\"Symbol\"))).then(pl.lit(True)).otherwise(pl.lit(False)).cumsum().alias('test4'))"
   ]
  },
  {
   "cell_type": "code",
   "execution_count": 24,
   "metadata": {},
   "outputs": [
    {
     "data": {
      "text/html": [
       "<div><style>\n",
       ".dataframe > thead > tr > th,\n",
       ".dataframe > tbody > tr > td {\n",
       "  text-align: right;\n",
       "}\n",
       "</style>\n",
       "<small>shape: (94, 15)</small><table border=\"1\" class=\"dataframe\"><thead><tr><th>my_index</th><th>Date</th><th>Open</th><th>High</th><th>Low</th><th>Close</th><th>Adj Close</th><th>Volume</th><th>Symbol</th><th>test</th><th>2_bars_Low_stop</th><th>sum</th><th>test2</th><th>test3</th><th>a</th></tr><tr><td>u32</td><td>date</td><td>f64</td><td>f64</td><td>f64</td><td>f64</td><td>f64</td><td>i64</td><td>str</td><td>bool</td><td>bool</td><td>u32</td><td>u32</td><td>bool</td><td>i64</td></tr></thead><tbody><tr><td>0</td><td>2023-01-03</td><td>151.960007</td><td>153.130005</td><td>148.470001</td><td>150.039993</td><td>150.039993</td><td>1414300</td><td>&quot;A&quot;</td><td>false</td><td>null</td><td>null</td><td>null</td><td>false</td><td>null</td></tr><tr><td>1</td><td>2023-01-04</td><td>151.649994</td><td>153.039993</td><td>150.240005</td><td>151.669998</td><td>151.669998</td><td>1247400</td><td>&quot;A&quot;</td><td>false</td><td>null</td><td>null</td><td>null</td><td>false</td><td>null</td></tr><tr><td>2</td><td>2023-01-05</td><td>150.0</td><td>153.070007</td><td>148.770004</td><td>152.110001</td><td>152.110001</td><td>1714600</td><td>&quot;A&quot;</td><td>false</td><td>false</td><td>null</td><td>null</td><td>false</td><td>0</td></tr><tr><td>3</td><td>2023-01-06</td><td>154.360001</td><td>154.639999</td><td>143.009995</td><td>147.669998</td><td>147.669998</td><td>2445000</td><td>&quot;A&quot;</td><td>true</td><td>true</td><td>0</td><td>0</td><td>true</td><td>-1</td></tr><tr><td>4</td><td>2023-01-09</td><td>149.690002</td><td>151.279999</td><td>147.199997</td><td>147.470001</td><td>147.470001</td><td>1269600</td><td>&quot;A&quot;</td><td>true</td><td>false</td><td>1</td><td>1</td><td>true</td><td>-1</td></tr><tr><td>5</td><td>2023-01-10</td><td>150.179993</td><td>155.550003</td><td>148.75</td><td>155.229996</td><td>155.229996</td><td>1565700</td><td>&quot;A&quot;</td><td>false</td><td>false</td><td>1</td><td>1</td><td>true</td><td>1</td></tr><tr><td>6</td><td>2023-01-11</td><td>155.229996</td><td>158.580002</td><td>155.229996</td><td>158.169998</td><td>158.169998</td><td>1241900</td><td>&quot;A&quot;</td><td>false</td><td>false</td><td>1</td><td>1</td><td>true</td><td>1</td></tr><tr><td>7</td><td>2023-01-12</td><td>158.160004</td><td>158.600006</td><td>155.580002</td><td>156.490005</td><td>156.490005</td><td>809100</td><td>&quot;A&quot;</td><td>true</td><td>false</td><td>1</td><td>1</td><td>true</td><td>-1</td></tr><tr><td>8</td><td>2023-01-13</td><td>155.539993</td><td>157.279999</td><td>154.5</td><td>156.919998</td><td>156.919998</td><td>921700</td><td>&quot;A&quot;</td><td>false</td><td>true</td><td>1</td><td>1</td><td>true</td><td>2</td></tr><tr><td>9</td><td>2023-01-17</td><td>156.679993</td><td>158.110001</td><td>155.029999</td><td>155.399994</td><td>155.399994</td><td>1602200</td><td>&quot;A&quot;</td><td>false</td><td>false</td><td>2</td><td>null</td><td>false</td><td>2</td></tr><tr><td>10</td><td>2023-01-18</td><td>156.259995</td><td>158.160004</td><td>153.639999</td><td>154.070007</td><td>154.070007</td><td>1150700</td><td>&quot;A&quot;</td><td>false</td><td>true</td><td>2</td><td>null</td><td>false</td><td>3</td></tr><tr><td>11</td><td>2023-01-19</td><td>153.580002</td><td>154.919998</td><td>152.139999</td><td>152.869995</td><td>152.869995</td><td>1017400</td><td>&quot;A&quot;</td><td>false</td><td>true</td><td>3</td><td>null</td><td>false</td><td>4</td></tr><tr><td>&hellip;</td><td>&hellip;</td><td>&hellip;</td><td>&hellip;</td><td>&hellip;</td><td>&hellip;</td><td>&hellip;</td><td>&hellip;</td><td>&hellip;</td><td>&hellip;</td><td>&hellip;</td><td>&hellip;</td><td>&hellip;</td><td>&hellip;</td><td>&hellip;</td></tr><tr><td>82</td><td>2023-02-23</td><td>48.5</td><td>49.029999</td><td>46.549999</td><td>47.959999</td><td>47.873615</td><td>4654300</td><td>&quot;AA&quot;</td><td>false</td><td>true</td><td>37</td><td>null</td><td>false</td><td>38</td></tr><tr><td>83</td><td>2023-02-24</td><td>46.93</td><td>46.93</td><td>45.27</td><td>46.450001</td><td>46.366337</td><td>4587700</td><td>&quot;AA&quot;</td><td>false</td><td>true</td><td>38</td><td>null</td><td>false</td><td>39</td></tr><tr><td>84</td><td>2023-02-27</td><td>46.849998</td><td>48.435001</td><td>46.369999</td><td>48.040001</td><td>47.953476</td><td>4931200</td><td>&quot;AA&quot;</td><td>false</td><td>false</td><td>39</td><td>39</td><td>true</td><td>39</td></tr><tr><td>85</td><td>2023-02-28</td><td>48.25</td><td>50.040001</td><td>47.799999</td><td>48.939999</td><td>48.851852</td><td>3871400</td><td>&quot;AA&quot;</td><td>true</td><td>false</td><td>39</td><td>39</td><td>true</td><td>-1</td></tr><tr><td>86</td><td>2023-03-01</td><td>51.290001</td><td>52.959999</td><td>50.529999</td><td>51.650002</td><td>51.556973</td><td>7599600</td><td>&quot;AA&quot;</td><td>false</td><td>false</td><td>39</td><td>39</td><td>true</td><td>39</td></tr><tr><td>87</td><td>2023-03-02</td><td>50.189999</td><td>53.709999</td><td>50.049999</td><td>53.689999</td><td>53.593296</td><td>6467900</td><td>&quot;AA&quot;</td><td>false</td><td>false</td><td>39</td><td>39</td><td>true</td><td>39</td></tr><tr><td>88</td><td>2023-03-03</td><td>54.330002</td><td>55.740002</td><td>53.700001</td><td>55.52</td><td>55.420002</td><td>6158800</td><td>&quot;AA&quot;</td><td>false</td><td>false</td><td>39</td><td>39</td><td>true</td><td>39</td></tr><tr><td>89</td><td>2023-03-06</td><td>54.009998</td><td>54.900002</td><td>53.380001</td><td>53.689999</td><td>53.689999</td><td>5129900</td><td>&quot;AA&quot;</td><td>false</td><td>false</td><td>39</td><td>39</td><td>true</td><td>39</td></tr><tr><td>90</td><td>2023-03-07</td><td>52.779999</td><td>53.040001</td><td>49.919998</td><td>50.169998</td><td>50.169998</td><td>6298100</td><td>&quot;AA&quot;</td><td>false</td><td>true</td><td>39</td><td>39</td><td>true</td><td>40</td></tr><tr><td>91</td><td>2023-03-08</td><td>50.41</td><td>51.240002</td><td>49.75</td><td>51.02</td><td>51.02</td><td>3467000</td><td>&quot;AA&quot;</td><td>false</td><td>true</td><td>40</td><td>null</td><td>false</td><td>41</td></tr><tr><td>92</td><td>2023-03-09</td><td>50.700001</td><td>51.139999</td><td>47.330002</td><td>47.900002</td><td>47.900002</td><td>5590500</td><td>&quot;AA&quot;</td><td>false</td><td>true</td><td>41</td><td>null</td><td>false</td><td>42</td></tr><tr><td>93</td><td>2023-03-10</td><td>48.119999</td><td>48.119999</td><td>44.459999</td><td>44.91</td><td>44.91</td><td>6190400</td><td>&quot;AA&quot;</td><td>false</td><td>true</td><td>42</td><td>null</td><td>false</td><td>43</td></tr></tbody></table></div>"
      ],
      "text/plain": [
       "shape: (94, 15)\n",
       "┌──────────┬────────────┬────────────┬────────────┬───┬──────┬───────┬───────┬──────┐\n",
       "│ my_index ┆ Date       ┆ Open       ┆ High       ┆ … ┆ sum  ┆ test2 ┆ test3 ┆ a    │\n",
       "│ ---      ┆ ---        ┆ ---        ┆ ---        ┆   ┆ ---  ┆ ---   ┆ ---   ┆ ---  │\n",
       "│ u32      ┆ date       ┆ f64        ┆ f64        ┆   ┆ u32  ┆ u32   ┆ bool  ┆ i64  │\n",
       "╞══════════╪════════════╪════════════╪════════════╪═══╪══════╪═══════╪═══════╪══════╡\n",
       "│ 0        ┆ 2023-01-03 ┆ 151.960007 ┆ 153.130005 ┆ … ┆ null ┆ null  ┆ false ┆ null │\n",
       "│ 1        ┆ 2023-01-04 ┆ 151.649994 ┆ 153.039993 ┆ … ┆ null ┆ null  ┆ false ┆ null │\n",
       "│ 2        ┆ 2023-01-05 ┆ 150.0      ┆ 153.070007 ┆ … ┆ null ┆ null  ┆ false ┆ 0    │\n",
       "│ 3        ┆ 2023-01-06 ┆ 154.360001 ┆ 154.639999 ┆ … ┆ 0    ┆ 0     ┆ true  ┆ -1   │\n",
       "│ …        ┆ …          ┆ …          ┆ …          ┆ … ┆ …    ┆ …     ┆ …     ┆ …    │\n",
       "│ 90       ┆ 2023-03-07 ┆ 52.779999  ┆ 53.040001  ┆ … ┆ 39   ┆ 39    ┆ true  ┆ 40   │\n",
       "│ 91       ┆ 2023-03-08 ┆ 50.41      ┆ 51.240002  ┆ … ┆ 40   ┆ null  ┆ false ┆ 41   │\n",
       "│ 92       ┆ 2023-03-09 ┆ 50.700001  ┆ 51.139999  ┆ … ┆ 41   ┆ null  ┆ false ┆ 42   │\n",
       "│ 93       ┆ 2023-03-10 ┆ 48.119999  ┆ 48.119999  ┆ … ┆ 42   ┆ null  ┆ false ┆ 43   │\n",
       "└──────────┴────────────┴────────────┴────────────┴───┴──────┴───────┴───────┴──────┘"
      ]
     },
     "execution_count": 24,
     "metadata": {},
     "output_type": "execute_result"
    }
   ],
   "source": [
    "new.with_columns(pl.when(pl.col(column_name)).then(-1).otherwise(pl.col(trail.column).cumsum()).alias('a'))"
   ]
  },
  {
   "cell_type": "code",
   "execution_count": null,
   "metadata": {},
   "outputs": [],
   "source": []
  },
  {
   "cell_type": "code",
   "execution_count": 25,
   "metadata": {},
   "outputs": [
    {
     "data": {
      "text/html": [
       "<div><style>\n",
       ".dataframe > thead > tr > th,\n",
       ".dataframe > tbody > tr > td {\n",
       "  text-align: right;\n",
       "}\n",
       "</style>\n",
       "<small>shape: (94, 16)</small><table border=\"1\" class=\"dataframe\"><thead><tr><th>my_index</th><th>Date</th><th>Open</th><th>High</th><th>Low</th><th>Close</th><th>Adj Close</th><th>Volume</th><th>Symbol</th><th>test</th><th>2_bars_Low_stop</th><th>sum</th><th>test2</th><th>test3</th><th>exit_ids</th><th>test/2_bars_Low_stop</th></tr><tr><td>u32</td><td>date</td><td>f64</td><td>f64</td><td>f64</td><td>f64</td><td>f64</td><td>i64</td><td>str</td><td>bool</td><td>bool</td><td>u32</td><td>u32</td><td>bool</td><td>u32</td><td>u32</td></tr></thead><tbody><tr><td>0</td><td>2023-01-03</td><td>151.960007</td><td>153.130005</td><td>148.470001</td><td>150.039993</td><td>150.039993</td><td>1414300</td><td>&quot;A&quot;</td><td>false</td><td>null</td><td>null</td><td>null</td><td>false</td><td>null</td><td>null</td></tr><tr><td>1</td><td>2023-01-04</td><td>151.649994</td><td>153.039993</td><td>150.240005</td><td>151.669998</td><td>151.669998</td><td>1247400</td><td>&quot;A&quot;</td><td>false</td><td>null</td><td>null</td><td>null</td><td>false</td><td>null</td><td>null</td></tr><tr><td>2</td><td>2023-01-05</td><td>150.0</td><td>153.070007</td><td>148.770004</td><td>152.110001</td><td>152.110001</td><td>1714600</td><td>&quot;A&quot;</td><td>false</td><td>false</td><td>null</td><td>null</td><td>false</td><td>null</td><td>null</td></tr><tr><td>3</td><td>2023-01-06</td><td>154.360001</td><td>154.639999</td><td>143.009995</td><td>147.669998</td><td>147.669998</td><td>2445000</td><td>&quot;A&quot;</td><td>true</td><td>true</td><td>0</td><td>0</td><td>true</td><td>0</td><td>0</td></tr><tr><td>4</td><td>2023-01-09</td><td>149.690002</td><td>151.279999</td><td>147.199997</td><td>147.470001</td><td>147.470001</td><td>1269600</td><td>&quot;A&quot;</td><td>true</td><td>false</td><td>1</td><td>1</td><td>true</td><td>1</td><td>1</td></tr><tr><td>5</td><td>2023-01-10</td><td>150.179993</td><td>155.550003</td><td>148.75</td><td>155.229996</td><td>155.229996</td><td>1565700</td><td>&quot;A&quot;</td><td>false</td><td>false</td><td>1</td><td>1</td><td>true</td><td>1</td><td>1</td></tr><tr><td>6</td><td>2023-01-11</td><td>155.229996</td><td>158.580002</td><td>155.229996</td><td>158.169998</td><td>158.169998</td><td>1241900</td><td>&quot;A&quot;</td><td>false</td><td>false</td><td>1</td><td>1</td><td>true</td><td>1</td><td>1</td></tr><tr><td>7</td><td>2023-01-12</td><td>158.160004</td><td>158.600006</td><td>155.580002</td><td>156.490005</td><td>156.490005</td><td>809100</td><td>&quot;A&quot;</td><td>true</td><td>false</td><td>1</td><td>1</td><td>true</td><td>1</td><td>1</td></tr><tr><td>8</td><td>2023-01-13</td><td>155.539993</td><td>157.279999</td><td>154.5</td><td>156.919998</td><td>156.919998</td><td>921700</td><td>&quot;A&quot;</td><td>false</td><td>true</td><td>1</td><td>1</td><td>true</td><td>1</td><td>1</td></tr><tr><td>9</td><td>2023-01-17</td><td>156.679993</td><td>158.110001</td><td>155.029999</td><td>155.399994</td><td>155.399994</td><td>1602200</td><td>&quot;A&quot;</td><td>false</td><td>false</td><td>2</td><td>null</td><td>false</td><td>2</td><td>null</td></tr><tr><td>10</td><td>2023-01-18</td><td>156.259995</td><td>158.160004</td><td>153.639999</td><td>154.070007</td><td>154.070007</td><td>1150700</td><td>&quot;A&quot;</td><td>false</td><td>true</td><td>2</td><td>null</td><td>false</td><td>2</td><td>null</td></tr><tr><td>11</td><td>2023-01-19</td><td>153.580002</td><td>154.919998</td><td>152.139999</td><td>152.869995</td><td>152.869995</td><td>1017400</td><td>&quot;A&quot;</td><td>false</td><td>true</td><td>3</td><td>null</td><td>false</td><td>3</td><td>null</td></tr><tr><td>&hellip;</td><td>&hellip;</td><td>&hellip;</td><td>&hellip;</td><td>&hellip;</td><td>&hellip;</td><td>&hellip;</td><td>&hellip;</td><td>&hellip;</td><td>&hellip;</td><td>&hellip;</td><td>&hellip;</td><td>&hellip;</td><td>&hellip;</td><td>&hellip;</td><td>&hellip;</td></tr><tr><td>82</td><td>2023-02-23</td><td>48.5</td><td>49.029999</td><td>46.549999</td><td>47.959999</td><td>47.873615</td><td>4654300</td><td>&quot;AA&quot;</td><td>false</td><td>true</td><td>37</td><td>null</td><td>false</td><td>37</td><td>null</td></tr><tr><td>83</td><td>2023-02-24</td><td>46.93</td><td>46.93</td><td>45.27</td><td>46.450001</td><td>46.366337</td><td>4587700</td><td>&quot;AA&quot;</td><td>false</td><td>true</td><td>38</td><td>null</td><td>false</td><td>38</td><td>null</td></tr><tr><td>84</td><td>2023-02-27</td><td>46.849998</td><td>48.435001</td><td>46.369999</td><td>48.040001</td><td>47.953476</td><td>4931200</td><td>&quot;AA&quot;</td><td>false</td><td>false</td><td>39</td><td>39</td><td>true</td><td>39</td><td>39</td></tr><tr><td>85</td><td>2023-02-28</td><td>48.25</td><td>50.040001</td><td>47.799999</td><td>48.939999</td><td>48.851852</td><td>3871400</td><td>&quot;AA&quot;</td><td>true</td><td>false</td><td>39</td><td>39</td><td>true</td><td>39</td><td>39</td></tr><tr><td>86</td><td>2023-03-01</td><td>51.290001</td><td>52.959999</td><td>50.529999</td><td>51.650002</td><td>51.556973</td><td>7599600</td><td>&quot;AA&quot;</td><td>false</td><td>false</td><td>39</td><td>39</td><td>true</td><td>39</td><td>39</td></tr><tr><td>87</td><td>2023-03-02</td><td>50.189999</td><td>53.709999</td><td>50.049999</td><td>53.689999</td><td>53.593296</td><td>6467900</td><td>&quot;AA&quot;</td><td>false</td><td>false</td><td>39</td><td>39</td><td>true</td><td>39</td><td>39</td></tr><tr><td>88</td><td>2023-03-03</td><td>54.330002</td><td>55.740002</td><td>53.700001</td><td>55.52</td><td>55.420002</td><td>6158800</td><td>&quot;AA&quot;</td><td>false</td><td>false</td><td>39</td><td>39</td><td>true</td><td>39</td><td>39</td></tr><tr><td>89</td><td>2023-03-06</td><td>54.009998</td><td>54.900002</td><td>53.380001</td><td>53.689999</td><td>53.689999</td><td>5129900</td><td>&quot;AA&quot;</td><td>false</td><td>false</td><td>39</td><td>39</td><td>true</td><td>39</td><td>39</td></tr><tr><td>90</td><td>2023-03-07</td><td>52.779999</td><td>53.040001</td><td>49.919998</td><td>50.169998</td><td>50.169998</td><td>6298100</td><td>&quot;AA&quot;</td><td>false</td><td>true</td><td>39</td><td>39</td><td>true</td><td>39</td><td>39</td></tr><tr><td>91</td><td>2023-03-08</td><td>50.41</td><td>51.240002</td><td>49.75</td><td>51.02</td><td>51.02</td><td>3467000</td><td>&quot;AA&quot;</td><td>false</td><td>true</td><td>40</td><td>null</td><td>false</td><td>40</td><td>null</td></tr><tr><td>92</td><td>2023-03-09</td><td>50.700001</td><td>51.139999</td><td>47.330002</td><td>47.900002</td><td>47.900002</td><td>5590500</td><td>&quot;AA&quot;</td><td>false</td><td>true</td><td>41</td><td>null</td><td>false</td><td>41</td><td>null</td></tr><tr><td>93</td><td>2023-03-10</td><td>48.119999</td><td>48.119999</td><td>44.459999</td><td>44.91</td><td>44.91</td><td>6190400</td><td>&quot;AA&quot;</td><td>false</td><td>true</td><td>42</td><td>null</td><td>false</td><td>42</td><td>null</td></tr></tbody></table></div>"
      ],
      "text/plain": [
       "shape: (94, 16)\n",
       "┌──────────┬────────────┬────────────┬────────────┬───┬───────┬───────┬──────────┬─────────────────┐\n",
       "│ my_index ┆ Date       ┆ Open       ┆ High       ┆ … ┆ test2 ┆ test3 ┆ exit_ids ┆ test/2_bars_Low │\n",
       "│ ---      ┆ ---        ┆ ---        ┆ ---        ┆   ┆ ---   ┆ ---   ┆ ---      ┆ _stop           │\n",
       "│ u32      ┆ date       ┆ f64        ┆ f64        ┆   ┆ u32   ┆ bool  ┆ u32      ┆ ---             │\n",
       "│          ┆            ┆            ┆            ┆   ┆       ┆       ┆          ┆ u32             │\n",
       "╞══════════╪════════════╪════════════╪════════════╪═══╪═══════╪═══════╪══════════╪═════════════════╡\n",
       "│ 0        ┆ 2023-01-03 ┆ 151.960007 ┆ 153.130005 ┆ … ┆ null  ┆ false ┆ null     ┆ null            │\n",
       "│ 1        ┆ 2023-01-04 ┆ 151.649994 ┆ 153.039993 ┆ … ┆ null  ┆ false ┆ null     ┆ null            │\n",
       "│ 2        ┆ 2023-01-05 ┆ 150.0      ┆ 153.070007 ┆ … ┆ null  ┆ false ┆ null     ┆ null            │\n",
       "│ 3        ┆ 2023-01-06 ┆ 154.360001 ┆ 154.639999 ┆ … ┆ 0     ┆ true  ┆ 0        ┆ 0               │\n",
       "│ …        ┆ …          ┆ …          ┆ …          ┆ … ┆ …     ┆ …     ┆ …        ┆ …               │\n",
       "│ 90       ┆ 2023-03-07 ┆ 52.779999  ┆ 53.040001  ┆ … ┆ 39    ┆ true  ┆ 39       ┆ 39              │\n",
       "│ 91       ┆ 2023-03-08 ┆ 50.41      ┆ 51.240002  ┆ … ┆ null  ┆ false ┆ 40       ┆ null            │\n",
       "│ 92       ┆ 2023-03-09 ┆ 50.700001  ┆ 51.139999  ┆ … ┆ null  ┆ false ┆ 41       ┆ null            │\n",
       "│ 93       ┆ 2023-03-10 ┆ 48.119999  ┆ 48.119999  ┆ … ┆ null  ┆ false ┆ 42       ┆ null            │\n",
       "└──────────┴────────────┴────────────┴────────────┴───┴───────┴───────┴──────────┴─────────────────┘"
      ]
     },
     "execution_count": 25,
     "metadata": {},
     "output_type": "execute_result"
    }
   ],
   "source": [
    "pi.create_trade_ids(new, 'test', trail.column).df"
   ]
  },
  {
   "cell_type": "code",
   "execution_count": 28,
   "metadata": {},
   "outputs": [],
   "source": [
    "new = df"
   ]
  },
  {
   "cell_type": "code",
   "execution_count": 30,
   "metadata": {},
   "outputs": [
    {
     "data": {
      "text/html": [
       "<div><style>\n",
       ".dataframe > thead > tr > th,\n",
       ".dataframe > tbody > tr > td {\n",
       "  text-align: right;\n",
       "}\n",
       "</style>\n",
       "<small>shape: (5, 10)</small><table border=\"1\" class=\"dataframe\"><thead><tr><th>index</th><th>Date</th><th>Open</th><th>High</th><th>Low</th><th>Close</th><th>Adj Close</th><th>Volume</th><th>Symbol</th><th>entries</th></tr><tr><td>u32</td><td>date</td><td>f64</td><td>f64</td><td>f64</td><td>f64</td><td>f64</td><td>i64</td><td>str</td><td>bool</td></tr></thead><tbody><tr><td>0</td><td>2023-01-03</td><td>151.960007</td><td>153.130005</td><td>148.470001</td><td>150.039993</td><td>150.039993</td><td>1414300</td><td>&quot;A&quot;</td><td>false</td></tr><tr><td>1</td><td>2023-01-04</td><td>151.649994</td><td>153.039993</td><td>150.240005</td><td>151.669998</td><td>151.669998</td><td>1247400</td><td>&quot;A&quot;</td><td>false</td></tr><tr><td>2</td><td>2023-01-05</td><td>150.0</td><td>153.070007</td><td>148.770004</td><td>152.110001</td><td>152.110001</td><td>1714600</td><td>&quot;A&quot;</td><td>false</td></tr><tr><td>3</td><td>2023-01-06</td><td>154.360001</td><td>154.639999</td><td>143.009995</td><td>147.669998</td><td>147.669998</td><td>2445000</td><td>&quot;A&quot;</td><td>true</td></tr><tr><td>4</td><td>2023-01-09</td><td>149.690002</td><td>151.279999</td><td>147.199997</td><td>147.470001</td><td>147.470001</td><td>1269600</td><td>&quot;A&quot;</td><td>true</td></tr></tbody></table></div>"
      ],
      "text/plain": [
       "shape: (5, 10)\n",
       "┌───────┬────────────┬────────────┬────────────┬───┬────────────┬─────────┬────────┬─────────┐\n",
       "│ index ┆ Date       ┆ Open       ┆ High       ┆ … ┆ Adj Close  ┆ Volume  ┆ Symbol ┆ entries │\n",
       "│ ---   ┆ ---        ┆ ---        ┆ ---        ┆   ┆ ---        ┆ ---     ┆ ---    ┆ ---     │\n",
       "│ u32   ┆ date       ┆ f64        ┆ f64        ┆   ┆ f64        ┆ i64     ┆ str    ┆ bool    │\n",
       "╞═══════╪════════════╪════════════╪════════════╪═══╪════════════╪═════════╪════════╪═════════╡\n",
       "│ 0     ┆ 2023-01-03 ┆ 151.960007 ┆ 153.130005 ┆ … ┆ 150.039993 ┆ 1414300 ┆ A      ┆ false   │\n",
       "│ 1     ┆ 2023-01-04 ┆ 151.649994 ┆ 153.039993 ┆ … ┆ 151.669998 ┆ 1247400 ┆ A      ┆ false   │\n",
       "│ 2     ┆ 2023-01-05 ┆ 150.0      ┆ 153.070007 ┆ … ┆ 152.110001 ┆ 1714600 ┆ A      ┆ false   │\n",
       "│ 3     ┆ 2023-01-06 ┆ 154.360001 ┆ 154.639999 ┆ … ┆ 147.669998 ┆ 2445000 ┆ A      ┆ true    │\n",
       "│ 4     ┆ 2023-01-09 ┆ 149.690002 ┆ 151.279999 ┆ … ┆ 147.470001 ┆ 1269600 ┆ A      ┆ true    │\n",
       "└───────┴────────────┴────────────┴────────────┴───┴────────────┴─────────┴────────┴─────────┘"
      ]
     },
     "execution_count": 30,
     "metadata": {},
     "output_type": "execute_result"
    }
   ],
   "source": [
    "index_name = 'index'\n",
    "entries = \"entries\"\n",
    "mydf = df.with_row_count(name=index_name).with_columns( \n",
    "                pl.when(\n",
    "                    pl.col(index_name) == 3) \\\n",
    "                    .then(pl.lit(True)) \\\n",
    "                .when(\n",
    "                    (pl.col(index_name) == 4)) \\\n",
    "                    .then(pl.lit(True)) \\\n",
    "                .when(\n",
    "                    (pl.col(index_name) == 7)) \\\n",
    "                    .then(pl.lit(True)) \\\n",
    "                .when(\n",
    "                    (pl.col(index_name) == 85)) \\\n",
    "                    .then(pl.lit(True)) \\\n",
    "                .otherwise(\n",
    "                    pl.lit(False)) \\\n",
    "                .alias(entries))\n",
    "mydf.head()"
   ]
  },
  {
   "cell_type": "code",
   "execution_count": 31,
   "metadata": {},
   "outputs": [
    {
     "data": {
      "text/html": [
       "<div><style>\n",
       ".dataframe > thead > tr > th,\n",
       ".dataframe > tbody > tr > td {\n",
       "  text-align: right;\n",
       "}\n",
       "</style>\n",
       "<small>shape: (5, 11)</small><table border=\"1\" class=\"dataframe\"><thead><tr><th>index</th><th>Date</th><th>Open</th><th>High</th><th>Low</th><th>Close</th><th>Adj Close</th><th>Volume</th><th>Symbol</th><th>entries</th><th>2_bars_Low_stop</th></tr><tr><td>u32</td><td>date</td><td>f64</td><td>f64</td><td>f64</td><td>f64</td><td>f64</td><td>i64</td><td>str</td><td>bool</td><td>bool</td></tr></thead><tbody><tr><td>0</td><td>2023-01-03</td><td>151.960007</td><td>153.130005</td><td>148.470001</td><td>150.039993</td><td>150.039993</td><td>1414300</td><td>&quot;A&quot;</td><td>false</td><td>null</td></tr><tr><td>1</td><td>2023-01-04</td><td>151.649994</td><td>153.039993</td><td>150.240005</td><td>151.669998</td><td>151.669998</td><td>1247400</td><td>&quot;A&quot;</td><td>false</td><td>null</td></tr><tr><td>2</td><td>2023-01-05</td><td>150.0</td><td>153.070007</td><td>148.770004</td><td>152.110001</td><td>152.110001</td><td>1714600</td><td>&quot;A&quot;</td><td>false</td><td>false</td></tr><tr><td>3</td><td>2023-01-06</td><td>154.360001</td><td>154.639999</td><td>143.009995</td><td>147.669998</td><td>147.669998</td><td>2445000</td><td>&quot;A&quot;</td><td>true</td><td>true</td></tr><tr><td>4</td><td>2023-01-09</td><td>149.690002</td><td>151.279999</td><td>147.199997</td><td>147.470001</td><td>147.470001</td><td>1269600</td><td>&quot;A&quot;</td><td>true</td><td>false</td></tr></tbody></table></div>"
      ],
      "text/plain": [
       "shape: (5, 11)\n",
       "┌───────┬────────────┬────────────┬────────────┬───┬─────────┬────────┬─────────┬─────────────────┐\n",
       "│ index ┆ Date       ┆ Open       ┆ High       ┆ … ┆ Volume  ┆ Symbol ┆ entries ┆ 2_bars_Low_stop │\n",
       "│ ---   ┆ ---        ┆ ---        ┆ ---        ┆   ┆ ---     ┆ ---    ┆ ---     ┆ ---             │\n",
       "│ u32   ┆ date       ┆ f64        ┆ f64        ┆   ┆ i64     ┆ str    ┆ bool    ┆ bool            │\n",
       "╞═══════╪════════════╪════════════╪════════════╪═══╪═════════╪════════╪═════════╪═════════════════╡\n",
       "│ 0     ┆ 2023-01-03 ┆ 151.960007 ┆ 153.130005 ┆ … ┆ 1414300 ┆ A      ┆ false   ┆ null            │\n",
       "│ 1     ┆ 2023-01-04 ┆ 151.649994 ┆ 153.039993 ┆ … ┆ 1247400 ┆ A      ┆ false   ┆ null            │\n",
       "│ 2     ┆ 2023-01-05 ┆ 150.0      ┆ 153.070007 ┆ … ┆ 1714600 ┆ A      ┆ false   ┆ false           │\n",
       "│ 3     ┆ 2023-01-06 ┆ 154.360001 ┆ 154.639999 ┆ … ┆ 2445000 ┆ A      ┆ true    ┆ true            │\n",
       "│ 4     ┆ 2023-01-09 ┆ 149.690002 ┆ 151.279999 ┆ … ┆ 1269600 ┆ A      ┆ true    ┆ false           │\n",
       "└───────┴────────────┴────────────┴────────────┴───┴─────────┴────────┴─────────┴─────────────────┘"
      ]
     },
     "execution_count": 31,
     "metadata": {},
     "output_type": "execute_result"
    }
   ],
   "source": [
    "trail = pi.trailing_stop(mydf, bars=2)\n",
    "mydf = trail.df\n",
    "mydf.head()"
   ]
  },
  {
   "cell_type": "code",
   "execution_count": 36,
   "metadata": {},
   "outputs": [
    {
     "data": {
      "text/html": [
       "<div><style>\n",
       ".dataframe > thead > tr > th,\n",
       ".dataframe > tbody > tr > td {\n",
       "  text-align: right;\n",
       "}\n",
       "</style>\n",
       "<small>shape: (5, 12)</small><table border=\"1\" class=\"dataframe\"><thead><tr><th>index</th><th>Date</th><th>Open</th><th>High</th><th>Low</th><th>Close</th><th>Adj Close</th><th>Volume</th><th>Symbol</th><th>entries</th><th>2_bars_Low_stop</th><th>exit_ids</th></tr><tr><td>u32</td><td>date</td><td>f64</td><td>f64</td><td>f64</td><td>f64</td><td>f64</td><td>i64</td><td>str</td><td>bool</td><td>bool</td><td>u32</td></tr></thead><tbody><tr><td>0</td><td>2023-01-03</td><td>151.960007</td><td>153.130005</td><td>148.470001</td><td>150.039993</td><td>150.039993</td><td>1414300</td><td>&quot;A&quot;</td><td>false</td><td>null</td><td>null</td></tr><tr><td>1</td><td>2023-01-04</td><td>151.649994</td><td>153.039993</td><td>150.240005</td><td>151.669998</td><td>151.669998</td><td>1247400</td><td>&quot;A&quot;</td><td>false</td><td>null</td><td>null</td></tr><tr><td>2</td><td>2023-01-05</td><td>150.0</td><td>153.070007</td><td>148.770004</td><td>152.110001</td><td>152.110001</td><td>1714600</td><td>&quot;A&quot;</td><td>false</td><td>false</td><td>null</td></tr><tr><td>3</td><td>2023-01-06</td><td>154.360001</td><td>154.639999</td><td>143.009995</td><td>147.669998</td><td>147.669998</td><td>2445000</td><td>&quot;A&quot;</td><td>true</td><td>true</td><td>0</td></tr><tr><td>4</td><td>2023-01-09</td><td>149.690002</td><td>151.279999</td><td>147.199997</td><td>147.470001</td><td>147.470001</td><td>1269600</td><td>&quot;A&quot;</td><td>true</td><td>false</td><td>1</td></tr></tbody></table></div>"
      ],
      "text/plain": [
       "shape: (5, 12)\n",
       "┌───────┬────────────┬────────────┬────────────┬───┬────────┬─────────┬─────────────────┬──────────┐\n",
       "│ index ┆ Date       ┆ Open       ┆ High       ┆ … ┆ Symbol ┆ entries ┆ 2_bars_Low_stop ┆ exit_ids │\n",
       "│ ---   ┆ ---        ┆ ---        ┆ ---        ┆   ┆ ---    ┆ ---     ┆ ---             ┆ ---      │\n",
       "│ u32   ┆ date       ┆ f64        ┆ f64        ┆   ┆ str    ┆ bool    ┆ bool            ┆ u32      │\n",
       "╞═══════╪════════════╪════════════╪════════════╪═══╪════════╪═════════╪═════════════════╪══════════╡\n",
       "│ 0     ┆ 2023-01-03 ┆ 151.960007 ┆ 153.130005 ┆ … ┆ A      ┆ false   ┆ null            ┆ null     │\n",
       "│ 1     ┆ 2023-01-04 ┆ 151.649994 ┆ 153.039993 ┆ … ┆ A      ┆ false   ┆ null            ┆ null     │\n",
       "│ 2     ┆ 2023-01-05 ┆ 150.0      ┆ 153.070007 ┆ … ┆ A      ┆ false   ┆ false           ┆ null     │\n",
       "│ 3     ┆ 2023-01-06 ┆ 154.360001 ┆ 154.639999 ┆ … ┆ A      ┆ true    ┆ true            ┆ 0        │\n",
       "│ 4     ┆ 2023-01-09 ┆ 149.690002 ┆ 151.279999 ┆ … ┆ A      ┆ true    ┆ false           ┆ 1        │\n",
       "└───────┴────────────┴────────────┴────────────┴───┴────────┴─────────┴─────────────────┴──────────┘"
      ]
     },
     "execution_count": 36,
     "metadata": {},
     "output_type": "execute_result"
    }
   ],
   "source": [
    "exit_column = trail.column\n",
    "exit_ids = \"exit_ids\"\n",
    "enter_column = entries\n",
    "df = mydf.with_columns(pl.col(exit_column).cumsum().shift(1).alias(exit_ids))\n",
    "df.head()"
   ]
  },
  {
   "cell_type": "code",
   "execution_count": 45,
   "metadata": {},
   "outputs": [
    {
     "data": {
      "text/html": [
       "<div><style>\n",
       ".dataframe > thead > tr > th,\n",
       ".dataframe > tbody > tr > td {\n",
       "  text-align: right;\n",
       "}\n",
       "</style>\n",
       "<small>shape: (94, 13)</small><table border=\"1\" class=\"dataframe\"><thead><tr><th>index</th><th>Date</th><th>Open</th><th>High</th><th>Low</th><th>Close</th><th>Adj Close</th><th>Volume</th><th>Symbol</th><th>entries</th><th>2_bars_Low_stop</th><th>exit_ids</th><th>FileNotFoundError</th></tr><tr><td>u32</td><td>date</td><td>f64</td><td>f64</td><td>f64</td><td>f64</td><td>f64</td><td>i64</td><td>str</td><td>bool</td><td>bool</td><td>u32</td><td>bool</td></tr></thead><tbody><tr><td>0</td><td>2023-01-03</td><td>151.960007</td><td>153.130005</td><td>148.470001</td><td>150.039993</td><td>150.039993</td><td>1414300</td><td>&quot;A&quot;</td><td>false</td><td>null</td><td>null</td><td>false</td></tr><tr><td>1</td><td>2023-01-04</td><td>151.649994</td><td>153.039993</td><td>150.240005</td><td>151.669998</td><td>151.669998</td><td>1247400</td><td>&quot;A&quot;</td><td>false</td><td>null</td><td>null</td><td>false</td></tr><tr><td>2</td><td>2023-01-05</td><td>150.0</td><td>153.070007</td><td>148.770004</td><td>152.110001</td><td>152.110001</td><td>1714600</td><td>&quot;A&quot;</td><td>false</td><td>false</td><td>null</td><td>false</td></tr><tr><td>3</td><td>2023-01-06</td><td>154.360001</td><td>154.639999</td><td>143.009995</td><td>147.669998</td><td>147.669998</td><td>2445000</td><td>&quot;A&quot;</td><td>true</td><td>true</td><td>0</td><td>true</td></tr><tr><td>4</td><td>2023-01-09</td><td>149.690002</td><td>151.279999</td><td>147.199997</td><td>147.470001</td><td>147.470001</td><td>1269600</td><td>&quot;A&quot;</td><td>true</td><td>false</td><td>1</td><td>true</td></tr><tr><td>5</td><td>2023-01-10</td><td>150.179993</td><td>155.550003</td><td>148.75</td><td>155.229996</td><td>155.229996</td><td>1565700</td><td>&quot;A&quot;</td><td>false</td><td>false</td><td>1</td><td>true</td></tr><tr><td>6</td><td>2023-01-11</td><td>155.229996</td><td>158.580002</td><td>155.229996</td><td>158.169998</td><td>158.169998</td><td>1241900</td><td>&quot;A&quot;</td><td>false</td><td>false</td><td>1</td><td>true</td></tr><tr><td>7</td><td>2023-01-12</td><td>158.160004</td><td>158.600006</td><td>155.580002</td><td>156.490005</td><td>156.490005</td><td>809100</td><td>&quot;A&quot;</td><td>true</td><td>false</td><td>1</td><td>true</td></tr><tr><td>8</td><td>2023-01-13</td><td>155.539993</td><td>157.279999</td><td>154.5</td><td>156.919998</td><td>156.919998</td><td>921700</td><td>&quot;A&quot;</td><td>false</td><td>true</td><td>1</td><td>true</td></tr><tr><td>9</td><td>2023-01-17</td><td>156.679993</td><td>158.110001</td><td>155.029999</td><td>155.399994</td><td>155.399994</td><td>1602200</td><td>&quot;A&quot;</td><td>false</td><td>false</td><td>2</td><td>false</td></tr><tr><td>10</td><td>2023-01-18</td><td>156.259995</td><td>158.160004</td><td>153.639999</td><td>154.070007</td><td>154.070007</td><td>1150700</td><td>&quot;A&quot;</td><td>false</td><td>true</td><td>2</td><td>false</td></tr><tr><td>11</td><td>2023-01-19</td><td>153.580002</td><td>154.919998</td><td>152.139999</td><td>152.869995</td><td>152.869995</td><td>1017400</td><td>&quot;A&quot;</td><td>false</td><td>true</td><td>3</td><td>false</td></tr><tr><td>&hellip;</td><td>&hellip;</td><td>&hellip;</td><td>&hellip;</td><td>&hellip;</td><td>&hellip;</td><td>&hellip;</td><td>&hellip;</td><td>&hellip;</td><td>&hellip;</td><td>&hellip;</td><td>&hellip;</td><td>&hellip;</td></tr><tr><td>82</td><td>2023-02-23</td><td>48.5</td><td>49.029999</td><td>46.549999</td><td>47.959999</td><td>47.873615</td><td>4654300</td><td>&quot;AA&quot;</td><td>false</td><td>true</td><td>37</td><td>false</td></tr><tr><td>83</td><td>2023-02-24</td><td>46.93</td><td>46.93</td><td>45.27</td><td>46.450001</td><td>46.366337</td><td>4587700</td><td>&quot;AA&quot;</td><td>false</td><td>true</td><td>38</td><td>false</td></tr><tr><td>84</td><td>2023-02-27</td><td>46.849998</td><td>48.435001</td><td>46.369999</td><td>48.040001</td><td>47.953476</td><td>4931200</td><td>&quot;AA&quot;</td><td>false</td><td>false</td><td>39</td><td>true</td></tr><tr><td>85</td><td>2023-02-28</td><td>48.25</td><td>50.040001</td><td>47.799999</td><td>48.939999</td><td>48.851852</td><td>3871400</td><td>&quot;AA&quot;</td><td>true</td><td>false</td><td>39</td><td>true</td></tr><tr><td>86</td><td>2023-03-01</td><td>51.290001</td><td>52.959999</td><td>50.529999</td><td>51.650002</td><td>51.556973</td><td>7599600</td><td>&quot;AA&quot;</td><td>false</td><td>false</td><td>39</td><td>true</td></tr><tr><td>87</td><td>2023-03-02</td><td>50.189999</td><td>53.709999</td><td>50.049999</td><td>53.689999</td><td>53.593296</td><td>6467900</td><td>&quot;AA&quot;</td><td>false</td><td>false</td><td>39</td><td>true</td></tr><tr><td>88</td><td>2023-03-03</td><td>54.330002</td><td>55.740002</td><td>53.700001</td><td>55.52</td><td>55.420002</td><td>6158800</td><td>&quot;AA&quot;</td><td>false</td><td>false</td><td>39</td><td>true</td></tr><tr><td>89</td><td>2023-03-06</td><td>54.009998</td><td>54.900002</td><td>53.380001</td><td>53.689999</td><td>53.689999</td><td>5129900</td><td>&quot;AA&quot;</td><td>false</td><td>false</td><td>39</td><td>true</td></tr><tr><td>90</td><td>2023-03-07</td><td>52.779999</td><td>53.040001</td><td>49.919998</td><td>50.169998</td><td>50.169998</td><td>6298100</td><td>&quot;AA&quot;</td><td>false</td><td>true</td><td>39</td><td>true</td></tr><tr><td>91</td><td>2023-03-08</td><td>50.41</td><td>51.240002</td><td>49.75</td><td>51.02</td><td>51.02</td><td>3467000</td><td>&quot;AA&quot;</td><td>false</td><td>true</td><td>40</td><td>false</td></tr><tr><td>92</td><td>2023-03-09</td><td>50.700001</td><td>51.139999</td><td>47.330002</td><td>47.900002</td><td>47.900002</td><td>5590500</td><td>&quot;AA&quot;</td><td>false</td><td>true</td><td>41</td><td>false</td></tr><tr><td>93</td><td>2023-03-10</td><td>48.119999</td><td>48.119999</td><td>44.459999</td><td>44.91</td><td>44.91</td><td>6190400</td><td>&quot;AA&quot;</td><td>false</td><td>true</td><td>42</td><td>false</td></tr></tbody></table></div>"
      ],
      "text/plain": [
       "shape: (94, 13)\n",
       "┌───────┬────────────┬────────────┬────────────┬───┬─────────┬────────────┬──────────┬────────────┐\n",
       "│ index ┆ Date       ┆ Open       ┆ High       ┆ … ┆ entries ┆ 2_bars_Low ┆ exit_ids ┆ FileNotFou │\n",
       "│ ---   ┆ ---        ┆ ---        ┆ ---        ┆   ┆ ---     ┆ _stop      ┆ ---      ┆ ndError    │\n",
       "│ u32   ┆ date       ┆ f64        ┆ f64        ┆   ┆ bool    ┆ ---        ┆ u32      ┆ ---        │\n",
       "│       ┆            ┆            ┆            ┆   ┆         ┆ bool       ┆          ┆ bool       │\n",
       "╞═══════╪════════════╪════════════╪════════════╪═══╪═════════╪════════════╪══════════╪════════════╡\n",
       "│ 0     ┆ 2023-01-03 ┆ 151.960007 ┆ 153.130005 ┆ … ┆ false   ┆ null       ┆ null     ┆ false      │\n",
       "│ 1     ┆ 2023-01-04 ┆ 151.649994 ┆ 153.039993 ┆ … ┆ false   ┆ null       ┆ null     ┆ false      │\n",
       "│ 2     ┆ 2023-01-05 ┆ 150.0      ┆ 153.070007 ┆ … ┆ false   ┆ false      ┆ null     ┆ false      │\n",
       "│ 3     ┆ 2023-01-06 ┆ 154.360001 ┆ 154.639999 ┆ … ┆ true    ┆ true       ┆ 0        ┆ true       │\n",
       "│ …     ┆ …          ┆ …          ┆ …          ┆ … ┆ …       ┆ …          ┆ …        ┆ …          │\n",
       "│ 90    ┆ 2023-03-07 ┆ 52.779999  ┆ 53.040001  ┆ … ┆ false   ┆ true       ┆ 39       ┆ true       │\n",
       "│ 91    ┆ 2023-03-08 ┆ 50.41      ┆ 51.240002  ┆ … ┆ false   ┆ true       ┆ 40       ┆ false      │\n",
       "│ 92    ┆ 2023-03-09 ┆ 50.700001  ┆ 51.139999  ┆ … ┆ false   ┆ true       ┆ 41       ┆ false      │\n",
       "│ 93    ┆ 2023-03-10 ┆ 48.119999  ┆ 48.119999  ┆ … ┆ false   ┆ true       ┆ 42       ┆ false      │\n",
       "└───────┴────────────┴────────────┴────────────┴───┴─────────┴────────────┴──────────┴────────────┘"
      ]
     },
     "execution_count": 45,
     "metadata": {},
     "output_type": "execute_result"
    }
   ],
   "source": [
    "df.with_columns(\n",
    "        pl.col(enter_column).max().over(pl.col(exit_ids)).alias(\"FileNotFoundError\")) #ensures we only count trades with entries"
   ]
  },
  {
   "cell_type": "code",
   "execution_count": 63,
   "metadata": {},
   "outputs": [
    {
     "data": {
      "text/html": [
       "<div><style>\n",
       ".dataframe > thead > tr > th,\n",
       ".dataframe > tbody > tr > td {\n",
       "  text-align: right;\n",
       "}\n",
       "</style>\n",
       "<small>shape: (94, 15)</small><table border=\"1\" class=\"dataframe\"><thead><tr><th>index</th><th>Date</th><th>Open</th><th>High</th><th>Low</th><th>Close</th><th>Adj Close</th><th>Volume</th><th>Symbol</th><th>entries</th><th>2_bars_Low_stop</th><th>exit_ids</th><th>exit_ids_test</th><th>traded</th><th>ids</th></tr><tr><td>u32</td><td>date</td><td>f64</td><td>f64</td><td>f64</td><td>f64</td><td>f64</td><td>i64</td><td>str</td><td>bool</td><td>bool</td><td>u32</td><td>u32</td><td>bool</td><td>i32</td></tr></thead><tbody><tr><td>0</td><td>2023-01-03</td><td>151.960007</td><td>153.130005</td><td>148.470001</td><td>150.039993</td><td>150.039993</td><td>1414300</td><td>&quot;A&quot;</td><td>false</td><td>null</td><td>null</td><td>null</td><td>false</td><td>null</td></tr><tr><td>1</td><td>2023-01-04</td><td>151.649994</td><td>153.039993</td><td>150.240005</td><td>151.669998</td><td>151.669998</td><td>1247400</td><td>&quot;A&quot;</td><td>false</td><td>null</td><td>null</td><td>null</td><td>false</td><td>null</td></tr><tr><td>2</td><td>2023-01-05</td><td>150.0</td><td>153.070007</td><td>148.770004</td><td>152.110001</td><td>152.110001</td><td>1714600</td><td>&quot;A&quot;</td><td>false</td><td>false</td><td>null</td><td>null</td><td>false</td><td>null</td></tr><tr><td>3</td><td>2023-01-06</td><td>154.360001</td><td>154.639999</td><td>143.009995</td><td>147.669998</td><td>147.669998</td><td>2445000</td><td>&quot;A&quot;</td><td>true</td><td>true</td><td>0</td><td>0</td><td>true</td><td>1</td></tr><tr><td>4</td><td>2023-01-09</td><td>149.690002</td><td>151.279999</td><td>147.199997</td><td>147.470001</td><td>147.470001</td><td>1269600</td><td>&quot;A&quot;</td><td>true</td><td>false</td><td>1</td><td>1</td><td>true</td><td>2</td></tr><tr><td>5</td><td>2023-01-10</td><td>150.179993</td><td>155.550003</td><td>148.75</td><td>155.229996</td><td>155.229996</td><td>1565700</td><td>&quot;A&quot;</td><td>false</td><td>false</td><td>1</td><td>1</td><td>true</td><td>2</td></tr><tr><td>6</td><td>2023-01-11</td><td>155.229996</td><td>158.580002</td><td>155.229996</td><td>158.169998</td><td>158.169998</td><td>1241900</td><td>&quot;A&quot;</td><td>false</td><td>false</td><td>1</td><td>1</td><td>true</td><td>2</td></tr><tr><td>7</td><td>2023-01-12</td><td>158.160004</td><td>158.600006</td><td>155.580002</td><td>156.490005</td><td>156.490005</td><td>809100</td><td>&quot;A&quot;</td><td>true</td><td>false</td><td>1</td><td>1</td><td>true</td><td>2</td></tr><tr><td>8</td><td>2023-01-13</td><td>155.539993</td><td>157.279999</td><td>154.5</td><td>156.919998</td><td>156.919998</td><td>921700</td><td>&quot;A&quot;</td><td>false</td><td>true</td><td>1</td><td>1</td><td>true</td><td>2</td></tr><tr><td>9</td><td>2023-01-17</td><td>156.679993</td><td>158.110001</td><td>155.029999</td><td>155.399994</td><td>155.399994</td><td>1602200</td><td>&quot;A&quot;</td><td>false</td><td>false</td><td>2</td><td>2</td><td>false</td><td>null</td></tr><tr><td>10</td><td>2023-01-18</td><td>156.259995</td><td>158.160004</td><td>153.639999</td><td>154.070007</td><td>154.070007</td><td>1150700</td><td>&quot;A&quot;</td><td>false</td><td>true</td><td>2</td><td>2</td><td>false</td><td>null</td></tr><tr><td>11</td><td>2023-01-19</td><td>153.580002</td><td>154.919998</td><td>152.139999</td><td>152.869995</td><td>152.869995</td><td>1017400</td><td>&quot;A&quot;</td><td>false</td><td>true</td><td>3</td><td>3</td><td>false</td><td>null</td></tr><tr><td>&hellip;</td><td>&hellip;</td><td>&hellip;</td><td>&hellip;</td><td>&hellip;</td><td>&hellip;</td><td>&hellip;</td><td>&hellip;</td><td>&hellip;</td><td>&hellip;</td><td>&hellip;</td><td>&hellip;</td><td>&hellip;</td><td>&hellip;</td><td>&hellip;</td></tr><tr><td>82</td><td>2023-02-23</td><td>48.5</td><td>49.029999</td><td>46.549999</td><td>47.959999</td><td>47.873615</td><td>4654300</td><td>&quot;AA&quot;</td><td>false</td><td>true</td><td>37</td><td>37</td><td>false</td><td>null</td></tr><tr><td>83</td><td>2023-02-24</td><td>46.93</td><td>46.93</td><td>45.27</td><td>46.450001</td><td>46.366337</td><td>4587700</td><td>&quot;AA&quot;</td><td>false</td><td>true</td><td>38</td><td>38</td><td>false</td><td>null</td></tr><tr><td>84</td><td>2023-02-27</td><td>46.849998</td><td>48.435001</td><td>46.369999</td><td>48.040001</td><td>47.953476</td><td>4931200</td><td>&quot;AA&quot;</td><td>false</td><td>false</td><td>39</td><td>39</td><td>true</td><td>3</td></tr><tr><td>85</td><td>2023-02-28</td><td>48.25</td><td>50.040001</td><td>47.799999</td><td>48.939999</td><td>48.851852</td><td>3871400</td><td>&quot;AA&quot;</td><td>true</td><td>false</td><td>39</td><td>39</td><td>true</td><td>3</td></tr><tr><td>86</td><td>2023-03-01</td><td>51.290001</td><td>52.959999</td><td>50.529999</td><td>51.650002</td><td>51.556973</td><td>7599600</td><td>&quot;AA&quot;</td><td>false</td><td>false</td><td>39</td><td>39</td><td>true</td><td>3</td></tr><tr><td>87</td><td>2023-03-02</td><td>50.189999</td><td>53.709999</td><td>50.049999</td><td>53.689999</td><td>53.593296</td><td>6467900</td><td>&quot;AA&quot;</td><td>false</td><td>false</td><td>39</td><td>39</td><td>true</td><td>3</td></tr><tr><td>88</td><td>2023-03-03</td><td>54.330002</td><td>55.740002</td><td>53.700001</td><td>55.52</td><td>55.420002</td><td>6158800</td><td>&quot;AA&quot;</td><td>false</td><td>false</td><td>39</td><td>39</td><td>true</td><td>3</td></tr><tr><td>89</td><td>2023-03-06</td><td>54.009998</td><td>54.900002</td><td>53.380001</td><td>53.689999</td><td>53.689999</td><td>5129900</td><td>&quot;AA&quot;</td><td>false</td><td>false</td><td>39</td><td>39</td><td>true</td><td>3</td></tr><tr><td>90</td><td>2023-03-07</td><td>52.779999</td><td>53.040001</td><td>49.919998</td><td>50.169998</td><td>50.169998</td><td>6298100</td><td>&quot;AA&quot;</td><td>false</td><td>true</td><td>39</td><td>39</td><td>true</td><td>3</td></tr><tr><td>91</td><td>2023-03-08</td><td>50.41</td><td>51.240002</td><td>49.75</td><td>51.02</td><td>51.02</td><td>3467000</td><td>&quot;AA&quot;</td><td>false</td><td>true</td><td>40</td><td>40</td><td>false</td><td>null</td></tr><tr><td>92</td><td>2023-03-09</td><td>50.700001</td><td>51.139999</td><td>47.330002</td><td>47.900002</td><td>47.900002</td><td>5590500</td><td>&quot;AA&quot;</td><td>false</td><td>true</td><td>41</td><td>41</td><td>false</td><td>null</td></tr><tr><td>93</td><td>2023-03-10</td><td>48.119999</td><td>48.119999</td><td>44.459999</td><td>44.91</td><td>44.91</td><td>6190400</td><td>&quot;AA&quot;</td><td>false</td><td>true</td><td>42</td><td>42</td><td>false</td><td>null</td></tr></tbody></table></div>"
      ],
      "text/plain": [
       "shape: (94, 15)\n",
       "┌───────┬────────────┬────────────┬────────────┬───┬──────────┬───────────────┬────────┬──────┐\n",
       "│ index ┆ Date       ┆ Open       ┆ High       ┆ … ┆ exit_ids ┆ exit_ids_test ┆ traded ┆ ids  │\n",
       "│ ---   ┆ ---        ┆ ---        ┆ ---        ┆   ┆ ---      ┆ ---           ┆ ---    ┆ ---  │\n",
       "│ u32   ┆ date       ┆ f64        ┆ f64        ┆   ┆ u32      ┆ u32           ┆ bool   ┆ i32  │\n",
       "╞═══════╪════════════╪════════════╪════════════╪═══╪══════════╪═══════════════╪════════╪══════╡\n",
       "│ 0     ┆ 2023-01-03 ┆ 151.960007 ┆ 153.130005 ┆ … ┆ null     ┆ null          ┆ false  ┆ null │\n",
       "│ 1     ┆ 2023-01-04 ┆ 151.649994 ┆ 153.039993 ┆ … ┆ null     ┆ null          ┆ false  ┆ null │\n",
       "│ 2     ┆ 2023-01-05 ┆ 150.0      ┆ 153.070007 ┆ … ┆ null     ┆ null          ┆ false  ┆ null │\n",
       "│ 3     ┆ 2023-01-06 ┆ 154.360001 ┆ 154.639999 ┆ … ┆ 0        ┆ 0             ┆ true   ┆ 1    │\n",
       "│ …     ┆ …          ┆ …          ┆ …          ┆ … ┆ …        ┆ …             ┆ …      ┆ …    │\n",
       "│ 90    ┆ 2023-03-07 ┆ 52.779999  ┆ 53.040001  ┆ … ┆ 39       ┆ 39            ┆ true   ┆ 3    │\n",
       "│ 91    ┆ 2023-03-08 ┆ 50.41      ┆ 51.240002  ┆ … ┆ 40       ┆ 40            ┆ false  ┆ null │\n",
       "│ 92    ┆ 2023-03-09 ┆ 50.700001  ┆ 51.139999  ┆ … ┆ 41       ┆ 41            ┆ false  ┆ null │\n",
       "│ 93    ┆ 2023-03-10 ┆ 48.119999  ┆ 48.119999  ┆ … ┆ 42       ┆ 42            ┆ false  ┆ null │\n",
       "└───────┴────────────┴────────────┴────────────┴───┴──────────┴───────────────┴────────┴──────┘"
      ]
     },
     "execution_count": 63,
     "metadata": {},
     "output_type": "execute_result"
    }
   ],
   "source": [
    "def add_exit_ids(df, exit_column):\n",
    "    column_name = \"exit_ids_test\"\n",
    "    df = df.with_columns(pl.col(exit_column).cumsum().shift(1).alias(column_name))\n",
    "    return pi.IndicatorResult(df, column_name)\n",
    "\n",
    "def add_traded_column(df, enter_column, exit_ids):\n",
    "    column_name = \"traded\"\n",
    "    df = df.with_columns(\n",
    "        pl.col(enter_column).max().over(pl.col(exit_ids)).alias(column_name)) #ensures we only count trades with entries\n",
    "    return pi.IndicatorResult(df, column_name)\n",
    "\n",
    "def add_id_column(df, enter_column, exit_column):\n",
    "    column_name = \"ids\"\n",
    "    exit_ids = add_exit_ids(df, exit_column)\n",
    "    traded = add_traded_column(exit_ids.df, enter_column, exit_ids.column)\n",
    "\n",
    "    df = traded.df.with_columns(\n",
    "        pl.when(\n",
    "            pl.col(traded.column) #pl.col(enter_column).max().over(pl.col(exit_ids)) #ensures we only count trades with entries\n",
    "            &\n",
    "            (pl.col(\"Date\") == pl.col(\"Date\").min().over(exit_ids.column)) #ensures we only count a trade once per exit\n",
    "        ).then(1).otherwise(0).alias(column_name))\n",
    "    \n",
    "    df = df.with_columns(pl.when(pl.col(traded.column)).then(pl.col(column_name).cumsum()))\n",
    "    return pi.IndicatorResult(df, column_name)\n",
    "    \n",
    "add_id_column(df, enter_column, exit_column).df\n"
   ]
  },
  {
   "cell_type": "code",
   "execution_count": null,
   "metadata": {},
   "outputs": [],
   "source": []
  }
 ],
 "metadata": {
  "kernelspec": {
   "display_name": ".venv",
   "language": "python",
   "name": "python3"
  },
  "language_info": {
   "codemirror_mode": {
    "name": "ipython",
    "version": 3
   },
   "file_extension": ".py",
   "mimetype": "text/x-python",
   "name": "python",
   "nbconvert_exporter": "python",
   "pygments_lexer": "ipython3",
   "version": "3.10.5"
  },
  "orig_nbformat": 4
 },
 "nbformat": 4,
 "nbformat_minor": 2
}
