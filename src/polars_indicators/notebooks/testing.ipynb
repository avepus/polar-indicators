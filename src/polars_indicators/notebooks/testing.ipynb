{
 "cells": [
  {
   "cell_type": "code",
   "execution_count": 1,
   "metadata": {},
   "outputs": [],
   "source": [
    "import polars as pl\n",
    "from datetime import datetime\n",
    "import get_and_store as gas\n",
    "import polars_indicators as pid\n",
    "from polars_indicators import IndicatorResult\n",
    "DATE_COLUNN = \"Date\""
   ]
  },
  {
   "cell_type": "code",
   "execution_count": 2,
   "metadata": {},
   "outputs": [],
   "source": [
    "symbols = ['A','AA']"
   ]
  },
  {
   "cell_type": "code",
   "execution_count": 3,
   "metadata": {},
   "outputs": [],
   "source": [
    "df = gas.get_symbols_df(symbols)\n",
    "df = df.filter(pl.col('Date') >= datetime(2021, 1, 1))\n",
    "df = df.collect()"
   ]
  },
  {
   "cell_type": "code",
   "execution_count": 4,
   "metadata": {},
   "outputs": [
    {
     "data": {
      "text/html": [
       "<div><style>\n",
       ".dataframe > thead > tr > th,\n",
       ".dataframe > tbody > tr > td {\n",
       "  text-align: right;\n",
       "}\n",
       "</style>\n",
       "<small>shape: (1100, 8)</small><table border=\"1\" class=\"dataframe\"><thead><tr><th>Date</th><th>Open</th><th>High</th><th>Low</th><th>Close</th><th>Adj Close</th><th>Volume</th><th>Symbol</th></tr><tr><td>date</td><td>f64</td><td>f64</td><td>f64</td><td>f64</td><td>f64</td><td>i64</td><td>str</td></tr></thead><tbody><tr><td>2021-01-04</td><td>118.940002</td><td>120.089996</td><td>117.110001</td><td>118.639999</td><td>117.230392</td><td>2030700</td><td>&quot;A&quot;</td></tr><tr><td>2021-01-05</td><td>118.480003</td><td>120.32</td><td>118.07</td><td>119.610001</td><td>118.188873</td><td>2344000</td><td>&quot;A&quot;</td></tr><tr><td>2021-01-06</td><td>118.690002</td><td>123.879997</td><td>118.209999</td><td>122.889999</td><td>121.429886</td><td>2428500</td><td>&quot;A&quot;</td></tr><tr><td>2021-01-07</td><td>124.330002</td><td>127.480003</td><td>124.110001</td><td>126.160004</td><td>124.661041</td><td>1775900</td><td>&quot;A&quot;</td></tr><tr><td>2021-01-08</td><td>126.489998</td><td>127.639999</td><td>125.849998</td><td>127.059998</td><td>125.550339</td><td>1577200</td><td>&quot;A&quot;</td></tr><tr><td>2021-01-11</td><td>126.449997</td><td>129.339996</td><td>126.230003</td><td>128.149994</td><td>126.627388</td><td>1746800</td><td>&quot;A&quot;</td></tr><tr><td>2021-01-12</td><td>128.330002</td><td>128.389999</td><td>126.199997</td><td>126.970001</td><td>125.461426</td><td>1826400</td><td>&quot;A&quot;</td></tr><tr><td>2021-01-13</td><td>127.459999</td><td>128.050003</td><td>126.739998</td><td>126.980003</td><td>125.471298</td><td>1530400</td><td>&quot;A&quot;</td></tr><tr><td>2021-01-14</td><td>127.269997</td><td>128.190002</td><td>125.82</td><td>126.029999</td><td>124.532593</td><td>924900</td><td>&quot;A&quot;</td></tr><tr><td>2021-01-15</td><td>125.940002</td><td>127.120003</td><td>124.739998</td><td>126.209999</td><td>124.710449</td><td>2115400</td><td>&quot;A&quot;</td></tr><tr><td>2021-01-19</td><td>127.379997</td><td>127.800003</td><td>126.290001</td><td>127.349998</td><td>125.836906</td><td>1677200</td><td>&quot;A&quot;</td></tr><tr><td>2021-01-20</td><td>127.709999</td><td>128.919998</td><td>127.360001</td><td>128.110001</td><td>126.587868</td><td>1843000</td><td>&quot;A&quot;</td></tr><tr><td>&hellip;</td><td>&hellip;</td><td>&hellip;</td><td>&hellip;</td><td>&hellip;</td><td>&hellip;</td><td>&hellip;</td><td>&hellip;</td></tr><tr><td>2023-02-23</td><td>48.5</td><td>49.029999</td><td>46.549999</td><td>47.959999</td><td>47.873615</td><td>4654300</td><td>&quot;AA&quot;</td></tr><tr><td>2023-02-24</td><td>46.93</td><td>46.93</td><td>45.27</td><td>46.450001</td><td>46.366337</td><td>4587700</td><td>&quot;AA&quot;</td></tr><tr><td>2023-02-27</td><td>46.849998</td><td>48.435001</td><td>46.369999</td><td>48.040001</td><td>47.953476</td><td>4931200</td><td>&quot;AA&quot;</td></tr><tr><td>2023-02-28</td><td>48.25</td><td>50.040001</td><td>47.799999</td><td>48.939999</td><td>48.851852</td><td>3871400</td><td>&quot;AA&quot;</td></tr><tr><td>2023-03-01</td><td>51.290001</td><td>52.959999</td><td>50.529999</td><td>51.650002</td><td>51.556973</td><td>7599600</td><td>&quot;AA&quot;</td></tr><tr><td>2023-03-02</td><td>50.189999</td><td>53.709999</td><td>50.049999</td><td>53.689999</td><td>53.593296</td><td>6467900</td><td>&quot;AA&quot;</td></tr><tr><td>2023-03-03</td><td>54.330002</td><td>55.740002</td><td>53.700001</td><td>55.52</td><td>55.420002</td><td>6158800</td><td>&quot;AA&quot;</td></tr><tr><td>2023-03-06</td><td>54.009998</td><td>54.900002</td><td>53.380001</td><td>53.689999</td><td>53.689999</td><td>5129900</td><td>&quot;AA&quot;</td></tr><tr><td>2023-03-07</td><td>52.779999</td><td>53.040001</td><td>49.919998</td><td>50.169998</td><td>50.169998</td><td>6298100</td><td>&quot;AA&quot;</td></tr><tr><td>2023-03-08</td><td>50.41</td><td>51.240002</td><td>49.75</td><td>51.02</td><td>51.02</td><td>3467000</td><td>&quot;AA&quot;</td></tr><tr><td>2023-03-09</td><td>50.700001</td><td>51.139999</td><td>47.330002</td><td>47.900002</td><td>47.900002</td><td>5590500</td><td>&quot;AA&quot;</td></tr><tr><td>2023-03-10</td><td>48.119999</td><td>48.119999</td><td>44.459999</td><td>44.91</td><td>44.91</td><td>6190400</td><td>&quot;AA&quot;</td></tr></tbody></table></div>"
      ],
      "text/plain": [
       "shape: (1100, 8)\n",
       "┌────────────┬────────────┬────────────┬────────────┬────────────┬────────────┬─────────┬────────┐\n",
       "│ Date       ┆ Open       ┆ High       ┆ Low        ┆ Close      ┆ Adj Close  ┆ Volume  ┆ Symbol │\n",
       "│ ---        ┆ ---        ┆ ---        ┆ ---        ┆ ---        ┆ ---        ┆ ---     ┆ ---    │\n",
       "│ date       ┆ f64        ┆ f64        ┆ f64        ┆ f64        ┆ f64        ┆ i64     ┆ str    │\n",
       "╞════════════╪════════════╪════════════╪════════════╪════════════╪════════════╪═════════╪════════╡\n",
       "│ 2021-01-04 ┆ 118.940002 ┆ 120.089996 ┆ 117.110001 ┆ 118.639999 ┆ 117.230392 ┆ 2030700 ┆ A      │\n",
       "│ 2021-01-05 ┆ 118.480003 ┆ 120.32     ┆ 118.07     ┆ 119.610001 ┆ 118.188873 ┆ 2344000 ┆ A      │\n",
       "│ 2021-01-06 ┆ 118.690002 ┆ 123.879997 ┆ 118.209999 ┆ 122.889999 ┆ 121.429886 ┆ 2428500 ┆ A      │\n",
       "│ 2021-01-07 ┆ 124.330002 ┆ 127.480003 ┆ 124.110001 ┆ 126.160004 ┆ 124.661041 ┆ 1775900 ┆ A      │\n",
       "│ …          ┆ …          ┆ …          ┆ …          ┆ …          ┆ …          ┆ …       ┆ …      │\n",
       "│ 2023-03-07 ┆ 52.779999  ┆ 53.040001  ┆ 49.919998  ┆ 50.169998  ┆ 50.169998  ┆ 6298100 ┆ AA     │\n",
       "│ 2023-03-08 ┆ 50.41      ┆ 51.240002  ┆ 49.75      ┆ 51.02      ┆ 51.02      ┆ 3467000 ┆ AA     │\n",
       "│ 2023-03-09 ┆ 50.700001  ┆ 51.139999  ┆ 47.330002  ┆ 47.900002  ┆ 47.900002  ┆ 5590500 ┆ AA     │\n",
       "│ 2023-03-10 ┆ 48.119999  ┆ 48.119999  ┆ 44.459999  ┆ 44.91      ┆ 44.91      ┆ 6190400 ┆ AA     │\n",
       "└────────────┴────────────┴────────────┴────────────┴────────────┴────────────┴─────────┴────────┘"
      ]
     },
     "execution_count": 4,
     "metadata": {},
     "output_type": "execute_result"
    }
   ],
   "source": [
    "df"
   ]
  },
  {
   "cell_type": "code",
   "execution_count": 5,
   "metadata": {},
   "outputs": [
    {
     "data": {
      "text/html": [
       "<div><style>\n",
       ".dataframe > thead > tr > th,\n",
       ".dataframe > tbody > tr > td {\n",
       "  text-align: right;\n",
       "}\n",
       "</style>\n",
       "<small>shape: (1100, 10)</small><table border=\"1\" class=\"dataframe\"><thead><tr><th>Date</th><th>Open</th><th>High</th><th>Low</th><th>Close</th><th>Adj Close</th><th>Volume</th><th>Symbol</th><th>SMA25</th><th>SMA50</th></tr><tr><td>date</td><td>f64</td><td>f64</td><td>f64</td><td>f64</td><td>f64</td><td>i64</td><td>str</td><td>f64</td><td>f64</td></tr></thead><tbody><tr><td>2021-01-04</td><td>118.940002</td><td>120.089996</td><td>117.110001</td><td>118.639999</td><td>117.230392</td><td>2030700</td><td>&quot;A&quot;</td><td>null</td><td>null</td></tr><tr><td>2021-01-05</td><td>118.480003</td><td>120.32</td><td>118.07</td><td>119.610001</td><td>118.188873</td><td>2344000</td><td>&quot;A&quot;</td><td>null</td><td>null</td></tr><tr><td>2021-01-06</td><td>118.690002</td><td>123.879997</td><td>118.209999</td><td>122.889999</td><td>121.429886</td><td>2428500</td><td>&quot;A&quot;</td><td>null</td><td>null</td></tr><tr><td>2021-01-07</td><td>124.330002</td><td>127.480003</td><td>124.110001</td><td>126.160004</td><td>124.661041</td><td>1775900</td><td>&quot;A&quot;</td><td>null</td><td>null</td></tr><tr><td>2021-01-08</td><td>126.489998</td><td>127.639999</td><td>125.849998</td><td>127.059998</td><td>125.550339</td><td>1577200</td><td>&quot;A&quot;</td><td>null</td><td>null</td></tr><tr><td>2021-01-11</td><td>126.449997</td><td>129.339996</td><td>126.230003</td><td>128.149994</td><td>126.627388</td><td>1746800</td><td>&quot;A&quot;</td><td>null</td><td>null</td></tr><tr><td>2021-01-12</td><td>128.330002</td><td>128.389999</td><td>126.199997</td><td>126.970001</td><td>125.461426</td><td>1826400</td><td>&quot;A&quot;</td><td>null</td><td>null</td></tr><tr><td>2021-01-13</td><td>127.459999</td><td>128.050003</td><td>126.739998</td><td>126.980003</td><td>125.471298</td><td>1530400</td><td>&quot;A&quot;</td><td>null</td><td>null</td></tr><tr><td>2021-01-14</td><td>127.269997</td><td>128.190002</td><td>125.82</td><td>126.029999</td><td>124.532593</td><td>924900</td><td>&quot;A&quot;</td><td>null</td><td>null</td></tr><tr><td>2021-01-15</td><td>125.940002</td><td>127.120003</td><td>124.739998</td><td>126.209999</td><td>124.710449</td><td>2115400</td><td>&quot;A&quot;</td><td>null</td><td>null</td></tr><tr><td>2021-01-19</td><td>127.379997</td><td>127.800003</td><td>126.290001</td><td>127.349998</td><td>125.836906</td><td>1677200</td><td>&quot;A&quot;</td><td>null</td><td>null</td></tr><tr><td>2021-01-20</td><td>127.709999</td><td>128.919998</td><td>127.360001</td><td>128.110001</td><td>126.587868</td><td>1843000</td><td>&quot;A&quot;</td><td>null</td><td>null</td></tr><tr><td>&hellip;</td><td>&hellip;</td><td>&hellip;</td><td>&hellip;</td><td>&hellip;</td><td>&hellip;</td><td>&hellip;</td><td>&hellip;</td><td>&hellip;</td><td>&hellip;</td></tr><tr><td>2023-02-23</td><td>48.5</td><td>49.029999</td><td>46.549999</td><td>47.959999</td><td>47.873615</td><td>4654300</td><td>&quot;AA&quot;</td><td>50.6516</td><td>48.8556</td></tr><tr><td>2023-02-24</td><td>46.93</td><td>46.93</td><td>45.27</td><td>46.450001</td><td>46.366337</td><td>4587700</td><td>&quot;AA&quot;</td><td>50.5288</td><td>48.8684</td></tr><tr><td>2023-02-27</td><td>46.849998</td><td>48.435001</td><td>46.369999</td><td>48.040001</td><td>47.953476</td><td>4931200</td><td>&quot;AA&quot;</td><td>50.4104</td><td>48.9058</td></tr><tr><td>2023-02-28</td><td>48.25</td><td>50.040001</td><td>47.799999</td><td>48.939999</td><td>48.851852</td><td>3871400</td><td>&quot;AA&quot;</td><td>50.298</td><td>48.9746</td></tr><tr><td>2023-03-01</td><td>51.290001</td><td>52.959999</td><td>50.529999</td><td>51.650002</td><td>51.556973</td><td>7599600</td><td>&quot;AA&quot;</td><td>50.2492</td><td>49.1422</td></tr><tr><td>2023-03-02</td><td>50.189999</td><td>53.709999</td><td>50.049999</td><td>53.689999</td><td>53.593296</td><td>6467900</td><td>&quot;AA&quot;</td><td>50.3092</td><td>49.3616</td></tr><tr><td>2023-03-03</td><td>54.330002</td><td>55.740002</td><td>53.700001</td><td>55.52</td><td>55.420002</td><td>6158800</td><td>&quot;AA&quot;</td><td>50.4456</td><td>49.6256</td></tr><tr><td>2023-03-06</td><td>54.009998</td><td>54.900002</td><td>53.380001</td><td>53.689999</td><td>53.689999</td><td>5129900</td><td>&quot;AA&quot;</td><td>50.4832</td><td>49.8176</td></tr><tr><td>2023-03-07</td><td>52.779999</td><td>53.040001</td><td>49.919998</td><td>50.169998</td><td>50.169998</td><td>6298100</td><td>&quot;AA&quot;</td><td>50.4764</td><td>49.9236</td></tr><tr><td>2023-03-08</td><td>50.41</td><td>51.240002</td><td>49.75</td><td>51.02</td><td>51.02</td><td>3467000</td><td>&quot;AA&quot;</td><td>50.4276</td><td>50.067</td></tr><tr><td>2023-03-09</td><td>50.700001</td><td>51.139999</td><td>47.330002</td><td>47.900002</td><td>47.900002</td><td>5590500</td><td>&quot;AA&quot;</td><td>50.1604</td><td>50.141</td></tr><tr><td>2023-03-10</td><td>48.119999</td><td>48.119999</td><td>44.459999</td><td>44.91</td><td>44.91</td><td>6190400</td><td>&quot;AA&quot;</td><td>49.8104</td><td>50.142</td></tr></tbody></table></div>"
      ],
      "text/plain": [
       "shape: (1100, 10)\n",
       "┌────────────┬────────────┬────────────┬────────────┬───┬─────────┬────────┬─────────┬─────────┐\n",
       "│ Date       ┆ Open       ┆ High       ┆ Low        ┆ … ┆ Volume  ┆ Symbol ┆ SMA25   ┆ SMA50   │\n",
       "│ ---        ┆ ---        ┆ ---        ┆ ---        ┆   ┆ ---     ┆ ---    ┆ ---     ┆ ---     │\n",
       "│ date       ┆ f64        ┆ f64        ┆ f64        ┆   ┆ i64     ┆ str    ┆ f64     ┆ f64     │\n",
       "╞════════════╪════════════╪════════════╪════════════╪═══╪═════════╪════════╪═════════╪═════════╡\n",
       "│ 2021-01-04 ┆ 118.940002 ┆ 120.089996 ┆ 117.110001 ┆ … ┆ 2030700 ┆ A      ┆ null    ┆ null    │\n",
       "│ 2021-01-05 ┆ 118.480003 ┆ 120.32     ┆ 118.07     ┆ … ┆ 2344000 ┆ A      ┆ null    ┆ null    │\n",
       "│ 2021-01-06 ┆ 118.690002 ┆ 123.879997 ┆ 118.209999 ┆ … ┆ 2428500 ┆ A      ┆ null    ┆ null    │\n",
       "│ 2021-01-07 ┆ 124.330002 ┆ 127.480003 ┆ 124.110001 ┆ … ┆ 1775900 ┆ A      ┆ null    ┆ null    │\n",
       "│ …          ┆ …          ┆ …          ┆ …          ┆ … ┆ …       ┆ …      ┆ …       ┆ …       │\n",
       "│ 2023-03-07 ┆ 52.779999  ┆ 53.040001  ┆ 49.919998  ┆ … ┆ 6298100 ┆ AA     ┆ 50.4764 ┆ 49.9236 │\n",
       "│ 2023-03-08 ┆ 50.41      ┆ 51.240002  ┆ 49.75      ┆ … ┆ 3467000 ┆ AA     ┆ 50.4276 ┆ 50.067  │\n",
       "│ 2023-03-09 ┆ 50.700001  ┆ 51.139999  ┆ 47.330002  ┆ … ┆ 5590500 ┆ AA     ┆ 50.1604 ┆ 50.141  │\n",
       "│ 2023-03-10 ┆ 48.119999  ┆ 48.119999  ┆ 44.459999  ┆ … ┆ 6190400 ┆ AA     ┆ 49.8104 ┆ 50.142  │\n",
       "└────────────┴────────────┴────────────┴────────────┴───┴─────────┴────────┴─────────┴─────────┘"
      ]
     },
     "execution_count": 5,
     "metadata": {},
     "output_type": "execute_result"
    }
   ],
   "source": [
    "sma25 = pi.simple_moving_average(df, days=25)\n",
    "sma50 = pi.simple_moving_average(sma25.df, days=50)\n",
    "df = sma50.df\n",
    "df"
   ]
  },
  {
   "cell_type": "code",
   "execution_count": 6,
   "metadata": {},
   "outputs": [
    {
     "data": {
      "text/html": [
       "<div><style>\n",
       ".dataframe > thead > tr > th,\n",
       ".dataframe > tbody > tr > td {\n",
       "  text-align: right;\n",
       "}\n",
       "</style>\n",
       "<small>shape: (1100, 11)</small><table border=\"1\" class=\"dataframe\"><thead><tr><th>Date</th><th>Open</th><th>High</th><th>Low</th><th>Close</th><th>Adj Close</th><th>Volume</th><th>Symbol</th><th>SMA25</th><th>SMA50</th><th>SMA25_cross_up_SMA50</th></tr><tr><td>date</td><td>f64</td><td>f64</td><td>f64</td><td>f64</td><td>f64</td><td>i64</td><td>str</td><td>f64</td><td>f64</td><td>bool</td></tr></thead><tbody><tr><td>2021-01-04</td><td>118.940002</td><td>120.089996</td><td>117.110001</td><td>118.639999</td><td>117.230392</td><td>2030700</td><td>&quot;A&quot;</td><td>null</td><td>null</td><td>false</td></tr><tr><td>2021-01-05</td><td>118.480003</td><td>120.32</td><td>118.07</td><td>119.610001</td><td>118.188873</td><td>2344000</td><td>&quot;A&quot;</td><td>null</td><td>null</td><td>null</td></tr><tr><td>2021-01-06</td><td>118.690002</td><td>123.879997</td><td>118.209999</td><td>122.889999</td><td>121.429886</td><td>2428500</td><td>&quot;A&quot;</td><td>null</td><td>null</td><td>null</td></tr><tr><td>2021-01-07</td><td>124.330002</td><td>127.480003</td><td>124.110001</td><td>126.160004</td><td>124.661041</td><td>1775900</td><td>&quot;A&quot;</td><td>null</td><td>null</td><td>null</td></tr><tr><td>2021-01-08</td><td>126.489998</td><td>127.639999</td><td>125.849998</td><td>127.059998</td><td>125.550339</td><td>1577200</td><td>&quot;A&quot;</td><td>null</td><td>null</td><td>null</td></tr><tr><td>2021-01-11</td><td>126.449997</td><td>129.339996</td><td>126.230003</td><td>128.149994</td><td>126.627388</td><td>1746800</td><td>&quot;A&quot;</td><td>null</td><td>null</td><td>null</td></tr><tr><td>2021-01-12</td><td>128.330002</td><td>128.389999</td><td>126.199997</td><td>126.970001</td><td>125.461426</td><td>1826400</td><td>&quot;A&quot;</td><td>null</td><td>null</td><td>null</td></tr><tr><td>2021-01-13</td><td>127.459999</td><td>128.050003</td><td>126.739998</td><td>126.980003</td><td>125.471298</td><td>1530400</td><td>&quot;A&quot;</td><td>null</td><td>null</td><td>null</td></tr><tr><td>2021-01-14</td><td>127.269997</td><td>128.190002</td><td>125.82</td><td>126.029999</td><td>124.532593</td><td>924900</td><td>&quot;A&quot;</td><td>null</td><td>null</td><td>null</td></tr><tr><td>2021-01-15</td><td>125.940002</td><td>127.120003</td><td>124.739998</td><td>126.209999</td><td>124.710449</td><td>2115400</td><td>&quot;A&quot;</td><td>null</td><td>null</td><td>null</td></tr><tr><td>2021-01-19</td><td>127.379997</td><td>127.800003</td><td>126.290001</td><td>127.349998</td><td>125.836906</td><td>1677200</td><td>&quot;A&quot;</td><td>null</td><td>null</td><td>null</td></tr><tr><td>2021-01-20</td><td>127.709999</td><td>128.919998</td><td>127.360001</td><td>128.110001</td><td>126.587868</td><td>1843000</td><td>&quot;A&quot;</td><td>null</td><td>null</td><td>null</td></tr><tr><td>&hellip;</td><td>&hellip;</td><td>&hellip;</td><td>&hellip;</td><td>&hellip;</td><td>&hellip;</td><td>&hellip;</td><td>&hellip;</td><td>&hellip;</td><td>&hellip;</td><td>&hellip;</td></tr><tr><td>2023-02-23</td><td>48.5</td><td>49.029999</td><td>46.549999</td><td>47.959999</td><td>47.873615</td><td>4654300</td><td>&quot;AA&quot;</td><td>50.6516</td><td>48.8556</td><td>false</td></tr><tr><td>2023-02-24</td><td>46.93</td><td>46.93</td><td>45.27</td><td>46.450001</td><td>46.366337</td><td>4587700</td><td>&quot;AA&quot;</td><td>50.5288</td><td>48.8684</td><td>false</td></tr><tr><td>2023-02-27</td><td>46.849998</td><td>48.435001</td><td>46.369999</td><td>48.040001</td><td>47.953476</td><td>4931200</td><td>&quot;AA&quot;</td><td>50.4104</td><td>48.9058</td><td>false</td></tr><tr><td>2023-02-28</td><td>48.25</td><td>50.040001</td><td>47.799999</td><td>48.939999</td><td>48.851852</td><td>3871400</td><td>&quot;AA&quot;</td><td>50.298</td><td>48.9746</td><td>false</td></tr><tr><td>2023-03-01</td><td>51.290001</td><td>52.959999</td><td>50.529999</td><td>51.650002</td><td>51.556973</td><td>7599600</td><td>&quot;AA&quot;</td><td>50.2492</td><td>49.1422</td><td>false</td></tr><tr><td>2023-03-02</td><td>50.189999</td><td>53.709999</td><td>50.049999</td><td>53.689999</td><td>53.593296</td><td>6467900</td><td>&quot;AA&quot;</td><td>50.3092</td><td>49.3616</td><td>false</td></tr><tr><td>2023-03-03</td><td>54.330002</td><td>55.740002</td><td>53.700001</td><td>55.52</td><td>55.420002</td><td>6158800</td><td>&quot;AA&quot;</td><td>50.4456</td><td>49.6256</td><td>false</td></tr><tr><td>2023-03-06</td><td>54.009998</td><td>54.900002</td><td>53.380001</td><td>53.689999</td><td>53.689999</td><td>5129900</td><td>&quot;AA&quot;</td><td>50.4832</td><td>49.8176</td><td>false</td></tr><tr><td>2023-03-07</td><td>52.779999</td><td>53.040001</td><td>49.919998</td><td>50.169998</td><td>50.169998</td><td>6298100</td><td>&quot;AA&quot;</td><td>50.4764</td><td>49.9236</td><td>false</td></tr><tr><td>2023-03-08</td><td>50.41</td><td>51.240002</td><td>49.75</td><td>51.02</td><td>51.02</td><td>3467000</td><td>&quot;AA&quot;</td><td>50.4276</td><td>50.067</td><td>false</td></tr><tr><td>2023-03-09</td><td>50.700001</td><td>51.139999</td><td>47.330002</td><td>47.900002</td><td>47.900002</td><td>5590500</td><td>&quot;AA&quot;</td><td>50.1604</td><td>50.141</td><td>false</td></tr><tr><td>2023-03-10</td><td>48.119999</td><td>48.119999</td><td>44.459999</td><td>44.91</td><td>44.91</td><td>6190400</td><td>&quot;AA&quot;</td><td>49.8104</td><td>50.142</td><td>false</td></tr></tbody></table></div>"
      ],
      "text/plain": [
       "shape: (1100, 11)\n",
       "┌────────────┬────────────┬────────────┬────────────┬───┬────────┬─────────┬─────────┬────────────┐\n",
       "│ Date       ┆ Open       ┆ High       ┆ Low        ┆ … ┆ Symbol ┆ SMA25   ┆ SMA50   ┆ SMA25_cros │\n",
       "│ ---        ┆ ---        ┆ ---        ┆ ---        ┆   ┆ ---    ┆ ---     ┆ ---     ┆ s_up_SMA50 │\n",
       "│ date       ┆ f64        ┆ f64        ┆ f64        ┆   ┆ str    ┆ f64     ┆ f64     ┆ ---        │\n",
       "│            ┆            ┆            ┆            ┆   ┆        ┆         ┆         ┆ bool       │\n",
       "╞════════════╪════════════╪════════════╪════════════╪═══╪════════╪═════════╪═════════╪════════════╡\n",
       "│ 2021-01-04 ┆ 118.940002 ┆ 120.089996 ┆ 117.110001 ┆ … ┆ A      ┆ null    ┆ null    ┆ false      │\n",
       "│ 2021-01-05 ┆ 118.480003 ┆ 120.32     ┆ 118.07     ┆ … ┆ A      ┆ null    ┆ null    ┆ null       │\n",
       "│ 2021-01-06 ┆ 118.690002 ┆ 123.879997 ┆ 118.209999 ┆ … ┆ A      ┆ null    ┆ null    ┆ null       │\n",
       "│ 2021-01-07 ┆ 124.330002 ┆ 127.480003 ┆ 124.110001 ┆ … ┆ A      ┆ null    ┆ null    ┆ null       │\n",
       "│ …          ┆ …          ┆ …          ┆ …          ┆ … ┆ …      ┆ …       ┆ …       ┆ …          │\n",
       "│ 2023-03-07 ┆ 52.779999  ┆ 53.040001  ┆ 49.919998  ┆ … ┆ AA     ┆ 50.4764 ┆ 49.9236 ┆ false      │\n",
       "│ 2023-03-08 ┆ 50.41      ┆ 51.240002  ┆ 49.75      ┆ … ┆ AA     ┆ 50.4276 ┆ 50.067  ┆ false      │\n",
       "│ 2023-03-09 ┆ 50.700001  ┆ 51.139999  ┆ 47.330002  ┆ … ┆ AA     ┆ 50.1604 ┆ 50.141  ┆ false      │\n",
       "│ 2023-03-10 ┆ 48.119999  ┆ 48.119999  ┆ 44.459999  ┆ … ┆ AA     ┆ 49.8104 ┆ 50.142  ┆ false      │\n",
       "└────────────┴────────────┴────────────┴────────────┴───┴────────┴─────────┴─────────┴────────────┘"
      ]
     },
     "execution_count": 6,
     "metadata": {},
     "output_type": "execute_result"
    }
   ],
   "source": [
    "cross_up = pi.crossover_up(df, sma25.column, sma50.column)\n",
    "cross_up.df"
   ]
  },
  {
   "cell_type": "code",
   "execution_count": 7,
   "metadata": {},
   "outputs": [],
   "source": [
    "#convert to open values\n",
    "cross_up.df = cross_up.df.with_columns(pl.when(pl.col(cross_up.column)).then(pl.col(\"Open\")).alias(cross_up.column))"
   ]
  },
  {
   "cell_type": "code",
   "execution_count": 8,
   "metadata": {},
   "outputs": [
    {
     "data": {
      "text/html": [
       "<div><style>\n",
       ".dataframe > thead > tr > th,\n",
       ".dataframe > tbody > tr > td {\n",
       "  text-align: right;\n",
       "}\n",
       "</style>\n",
       "<small>shape: (13, 12)</small><table border=\"1\" class=\"dataframe\"><thead><tr><th>Date</th><th>Open</th><th>High</th><th>Low</th><th>Close</th><th>Adj Close</th><th>Volume</th><th>Symbol</th><th>SMA25</th><th>SMA50</th><th>SMA25_cross_up_SMA50</th><th>2_bar_trailing_stop</th></tr><tr><td>date</td><td>f64</td><td>f64</td><td>f64</td><td>f64</td><td>f64</td><td>i64</td><td>str</td><td>f64</td><td>f64</td><td>f64</td><td>f64</td></tr></thead><tbody><tr><td>2022-06-01</td><td>127.860001</td><td>128.979996</td><td>122.43</td><td>123.089996</td><td>122.477409</td><td>1757600</td><td>&quot;A&quot;</td><td>121.4512</td><td>126.123399</td><td>null</td><td>124.489998</td></tr><tr><td>2022-06-02</td><td>122.959999</td><td>129.190002</td><td>122.300003</td><td>129.100006</td><td>128.457504</td><td>1444400</td><td>&quot;A&quot;</td><td>121.908</td><td>125.9196</td><td>null</td><td>122.43</td></tr><tr><td>2022-06-03</td><td>127.620003</td><td>128.720001</td><td>126.419998</td><td>128.490005</td><td>127.850555</td><td>1722800</td><td>&quot;A&quot;</td><td>122.205201</td><td>125.8058</td><td>null</td><td>null</td></tr><tr><td>2022-06-06</td><td>129.380005</td><td>130.0</td><td>126.970001</td><td>127.629997</td><td>126.99482</td><td>1310600</td><td>&quot;A&quot;</td><td>122.539601</td><td>125.6302</td><td>null</td><td>null</td></tr><tr><td>2022-06-07</td><td>126.57</td><td>131.199997</td><td>126.57</td><td>128.899994</td><td>128.258499</td><td>1236300</td><td>&quot;A&quot;</td><td>122.9128</td><td>125.493999</td><td>null</td><td>null</td></tr><tr><td>2022-06-08</td><td>127.879997</td><td>128.639999</td><td>126.400002</td><td>126.839996</td><td>126.208755</td><td>1049500</td><td>&quot;A&quot;</td><td>123.0904</td><td>125.322399</td><td>null</td><td>126.57</td></tr><tr><td>2022-06-09</td><td>126.089996</td><td>126.919998</td><td>124.129997</td><td>124.139999</td><td>123.522186</td><td>814400</td><td>&quot;A&quot;</td><td>123.004</td><td>125.036799</td><td>null</td><td>126.089996</td></tr><tr><td>2022-06-10</td><td>121.629997</td><td>121.93</td><td>119.900002</td><td>120.57</td><td>119.969955</td><td>1379600</td><td>&quot;A&quot;</td><td>122.9408</td><td>124.738999</td><td>null</td><td>121.629997</td></tr><tr><td>2022-06-13</td><td>116.480003</td><td>117.699997</td><td>115.379997</td><td>116.279999</td><td>115.701309</td><td>1405800</td><td>&quot;A&quot;</td><td>122.7488</td><td>124.417999</td><td>null</td><td>116.480003</td></tr><tr><td>2022-06-14</td><td>115.989998</td><td>116.699997</td><td>113.25</td><td>116.010002</td><td>115.432648</td><td>1314000</td><td>&quot;A&quot;</td><td>122.8648</td><td>124.058799</td><td>null</td><td>115.379997</td></tr><tr><td>2022-06-15</td><td>117.239998</td><td>117.769997</td><td>113.769997</td><td>116.470001</td><td>115.890366</td><td>1886300</td><td>&quot;A&quot;</td><td>122.858</td><td>123.691999</td><td>null</td><td>null</td></tr><tr><td>2022-06-16</td><td>113.800003</td><td>115.080002</td><td>113.360001</td><td>114.959999</td><td>114.387878</td><td>1601600</td><td>&quot;A&quot;</td><td>122.8968</td><td>123.325999</td><td>null</td><td>null</td></tr><tr><td>2022-06-17</td><td>114.769997</td><td>116.730003</td><td>112.669998</td><td>112.709999</td><td>112.149071</td><td>2681500</td><td>&quot;A&quot;</td><td>122.76</td><td>122.925999</td><td>null</td><td>113.360001</td></tr></tbody></table></div>"
      ],
      "text/plain": [
       "shape: (13, 12)\n",
       "┌───────────┬───────────┬───────────┬──────────┬───┬──────────┬──────────┬────────────┬────────────┐\n",
       "│ Date      ┆ Open      ┆ High      ┆ Low      ┆ … ┆ SMA25    ┆ SMA50    ┆ SMA25_cros ┆ 2_bar_trai │\n",
       "│ ---       ┆ ---       ┆ ---       ┆ ---      ┆   ┆ ---      ┆ ---      ┆ s_up_SMA50 ┆ ling_stop  │\n",
       "│ date      ┆ f64       ┆ f64       ┆ f64      ┆   ┆ f64      ┆ f64      ┆ ---        ┆ ---        │\n",
       "│           ┆           ┆           ┆          ┆   ┆          ┆          ┆ f64        ┆ f64        │\n",
       "╞═══════════╪═══════════╪═══════════╪══════════╪═══╪══════════╪══════════╪════════════╪════════════╡\n",
       "│ 2022-06-0 ┆ 127.86000 ┆ 128.97999 ┆ 122.43   ┆ … ┆ 121.4512 ┆ 126.1233 ┆ null       ┆ 124.489998 │\n",
       "│ 1         ┆ 1         ┆ 6         ┆          ┆   ┆          ┆ 99       ┆            ┆            │\n",
       "│ 2022-06-0 ┆ 122.95999 ┆ 129.19000 ┆ 122.3000 ┆ … ┆ 121.908  ┆ 125.9196 ┆ null       ┆ 122.43     │\n",
       "│ 2         ┆ 9         ┆ 2         ┆ 03       ┆   ┆          ┆          ┆            ┆            │\n",
       "│ 2022-06-0 ┆ 127.62000 ┆ 128.72000 ┆ 126.4199 ┆ … ┆ 122.2052 ┆ 125.8058 ┆ null       ┆ null       │\n",
       "│ 3         ┆ 3         ┆ 1         ┆ 98       ┆   ┆ 01       ┆          ┆            ┆            │\n",
       "│ 2022-06-0 ┆ 129.38000 ┆ 130.0     ┆ 126.9700 ┆ … ┆ 122.5396 ┆ 125.6302 ┆ null       ┆ null       │\n",
       "│ 6         ┆ 5         ┆           ┆ 01       ┆   ┆ 01       ┆          ┆            ┆            │\n",
       "│ …         ┆ …         ┆ …         ┆ …        ┆ … ┆ …        ┆ …        ┆ …          ┆ …          │\n",
       "│ 2022-06-1 ┆ 115.98999 ┆ 116.69999 ┆ 113.25   ┆ … ┆ 122.8648 ┆ 124.0587 ┆ null       ┆ 115.379997 │\n",
       "│ 4         ┆ 8         ┆ 7         ┆          ┆   ┆          ┆ 99       ┆            ┆            │\n",
       "│ 2022-06-1 ┆ 117.23999 ┆ 117.76999 ┆ 113.7699 ┆ … ┆ 122.858  ┆ 123.6919 ┆ null       ┆ null       │\n",
       "│ 5         ┆ 8         ┆ 7         ┆ 97       ┆   ┆          ┆ 99       ┆            ┆            │\n",
       "│ 2022-06-1 ┆ 113.80000 ┆ 115.08000 ┆ 113.3600 ┆ … ┆ 122.8968 ┆ 123.3259 ┆ null       ┆ null       │\n",
       "│ 6         ┆ 3         ┆ 2         ┆ 01       ┆   ┆          ┆ 99       ┆            ┆            │\n",
       "│ 2022-06-1 ┆ 114.76999 ┆ 116.73000 ┆ 112.6699 ┆ … ┆ 122.76   ┆ 122.9259 ┆ null       ┆ 113.360001 │\n",
       "│ 7         ┆ 7         ┆ 3         ┆ 98       ┆   ┆          ┆ 99       ┆            ┆            │\n",
       "└───────────┴───────────┴───────────┴──────────┴───┴──────────┴──────────┴────────────┴────────────┘"
      ]
     },
     "execution_count": 8,
     "metadata": {},
     "output_type": "execute_result"
    }
   ],
   "source": [
    "trail = pi.trailing_stop(cross_up.df, bars=2)\n",
    "t = trail.df.filter(pl.col(\"Date\").is_between(datetime(2022, 6, 1), datetime(2022, 6, 18)) & (pl.col(\"Symbol\") == \"A\"))\n",
    "t"
   ]
  },
  {
   "cell_type": "code",
   "execution_count": 10,
   "metadata": {},
   "outputs": [
    {
     "data": {
      "text/html": [
       "<div><style>\n",
       ".dataframe > thead > tr > th,\n",
       ".dataframe > tbody > tr > td {\n",
       "  text-align: right;\n",
       "}\n",
       "</style>\n",
       "<small>shape: (12, 2)</small><table border=\"1\" class=\"dataframe\"><thead><tr><th>row_nr</th><th>vals</th></tr><tr><td>i64</td><td>f64</td></tr></thead><tbody><tr><td>0</td><td>0.1</td></tr><tr><td>1</td><td>0.2</td></tr><tr><td>2</td><td>null</td></tr><tr><td>3</td><td>null</td></tr><tr><td>4</td><td>null</td></tr><tr><td>5</td><td>1.1</td></tr><tr><td>6</td><td>1.2</td></tr><tr><td>7</td><td>1.3</td></tr><tr><td>8</td><td>1.4</td></tr><tr><td>9</td><td>1.5</td></tr><tr><td>10</td><td>null</td></tr><tr><td>11</td><td>1.7</td></tr></tbody></table></div>"
      ],
      "text/plain": [
       "shape: (12, 2)\n",
       "┌────────┬──────┐\n",
       "│ row_nr ┆ vals │\n",
       "│ ---    ┆ ---  │\n",
       "│ i64    ┆ f64  │\n",
       "╞════════╪══════╡\n",
       "│ 0      ┆ 0.1  │\n",
       "│ 1      ┆ 0.2  │\n",
       "│ 2      ┆ null │\n",
       "│ 3      ┆ null │\n",
       "│ …      ┆ …    │\n",
       "│ 8      ┆ 1.4  │\n",
       "│ 9      ┆ 1.5  │\n",
       "│ 10     ┆ null │\n",
       "│ 11     ┆ 1.7  │\n",
       "└────────┴──────┘"
      ]
     },
     "execution_count": 10,
     "metadata": {},
     "output_type": "execute_result"
    }
   ],
   "source": [
    "index = \"row_nr\"\n",
    "column = \"vals\"\n",
    "bars = 2\n",
    "values = [0.1, 0.2, None, None, None, 1.1, 1.2, 1.3, 1.4, 1.5, None, 1.7]\n",
    "ind = range(len(values))\n",
    "d = {index: ind,\n",
    "     column: values}\n",
    "df = pl.DataFrame(d)\n",
    "df"
   ]
  },
  {
   "cell_type": "code",
   "execution_count": 11,
   "metadata": {},
   "outputs": [
    {
     "data": {
      "text/html": [
       "<div><style>\n",
       ".dataframe > thead > tr > th,\n",
       ".dataframe > tbody > tr > td {\n",
       "  text-align: right;\n",
       "}\n",
       "</style>\n",
       "<small>shape: (12, 3)</small><table border=\"1\" class=\"dataframe\"><thead><tr><th>row_nr</th><th>vals</th><th>tes</th></tr><tr><td>i64</td><td>f64</td><td>bool</td></tr></thead><tbody><tr><td>0</td><td>0.1</td><td>true</td></tr><tr><td>1</td><td>0.2</td><td>true</td></tr><tr><td>2</td><td>null</td><td>true</td></tr><tr><td>3</td><td>null</td><td>true</td></tr><tr><td>4</td><td>null</td><td>true</td></tr><tr><td>5</td><td>1.1</td><td>true</td></tr><tr><td>6</td><td>1.2</td><td>true</td></tr><tr><td>7</td><td>1.3</td><td>true</td></tr><tr><td>8</td><td>1.4</td><td>true</td></tr><tr><td>9</td><td>1.5</td><td>true</td></tr><tr><td>10</td><td>null</td><td>true</td></tr><tr><td>11</td><td>1.7</td><td>true</td></tr></tbody></table></div>"
      ],
      "text/plain": [
       "shape: (12, 3)\n",
       "┌────────┬──────┬──────┐\n",
       "│ row_nr ┆ vals ┆ tes  │\n",
       "│ ---    ┆ ---  ┆ ---  │\n",
       "│ i64    ┆ f64  ┆ bool │\n",
       "╞════════╪══════╪══════╡\n",
       "│ 0      ┆ 0.1  ┆ true │\n",
       "│ 1      ┆ 0.2  ┆ true │\n",
       "│ 2      ┆ null ┆ true │\n",
       "│ 3      ┆ null ┆ true │\n",
       "│ …      ┆ …    ┆ …    │\n",
       "│ 8      ┆ 1.4  ┆ true │\n",
       "│ 9      ┆ 1.5  ┆ true │\n",
       "│ 10     ┆ null ┆ true │\n",
       "│ 11     ┆ 1.7  ┆ true │\n",
       "└────────┴──────┴──────┘"
      ]
     },
     "execution_count": 11,
     "metadata": {},
     "output_type": "execute_result"
    }
   ],
   "source": [
    "tes = \"tes\"\n",
    "df = df.with_columns(pl.lit(True).alias(tes))\n",
    "df"
   ]
  },
  {
   "cell_type": "code",
   "execution_count": 12,
   "metadata": {},
   "outputs": [
    {
     "data": {
      "text/html": [
       "<div><style>\n",
       ".dataframe > thead > tr > th,\n",
       ".dataframe > tbody > tr > td {\n",
       "  text-align: right;\n",
       "}\n",
       "</style>\n",
       "<small>shape: (12, 3)</small><table border=\"1\" class=\"dataframe\"><thead><tr><th>row_nr</th><th>vals</th><th>tes</th></tr><tr><td>i64</td><td>f64</td><td>bool</td></tr></thead><tbody><tr><td>0</td><td>0.1</td><td>true</td></tr><tr><td>1</td><td>0.2</td><td>true</td></tr><tr><td>2</td><td>null</td><td>false</td></tr><tr><td>3</td><td>null</td><td>false</td></tr><tr><td>4</td><td>null</td><td>true</td></tr><tr><td>5</td><td>1.1</td><td>true</td></tr><tr><td>6</td><td>1.2</td><td>true</td></tr><tr><td>7</td><td>1.3</td><td>false</td></tr><tr><td>8</td><td>1.4</td><td>false</td></tr><tr><td>9</td><td>1.5</td><td>false</td></tr><tr><td>10</td><td>null</td><td>false</td></tr><tr><td>11</td><td>1.7</td><td>false</td></tr></tbody></table></div>"
      ],
      "text/plain": [
       "shape: (12, 3)\n",
       "┌────────┬──────┬───────┐\n",
       "│ row_nr ┆ vals ┆ tes   │\n",
       "│ ---    ┆ ---  ┆ ---   │\n",
       "│ i64    ┆ f64  ┆ bool  │\n",
       "╞════════╪══════╪═══════╡\n",
       "│ 0      ┆ 0.1  ┆ true  │\n",
       "│ 1      ┆ 0.2  ┆ true  │\n",
       "│ 2      ┆ null ┆ false │\n",
       "│ 3      ┆ null ┆ false │\n",
       "│ …      ┆ …    ┆ …     │\n",
       "│ 8      ┆ 1.4  ┆ false │\n",
       "│ 9      ┆ 1.5  ┆ false │\n",
       "│ 10     ┆ null ┆ false │\n",
       "│ 11     ┆ 1.7  ┆ false │\n",
       "└────────┴──────┴───────┘"
      ]
     },
     "execution_count": 12,
     "metadata": {},
     "output_type": "execute_result"
    }
   ],
   "source": [
    "\n",
    "df = df.with_columns(pl.col(tes) & pl.col(column).shift(2).is_null().alias(tes))\n",
    "df"
   ]
  },
  {
   "cell_type": "code",
   "execution_count": 13,
   "metadata": {},
   "outputs": [
    {
     "data": {
      "text/html": [
       "<div><style>\n",
       ".dataframe > thead > tr > th,\n",
       ".dataframe > tbody > tr > td {\n",
       "  text-align: right;\n",
       "}\n",
       "</style>\n",
       "<small>shape: (12, 3)</small><table border=\"1\" class=\"dataframe\"><thead><tr><th>row_nr</th><th>vals</th><th>tes</th></tr><tr><td>i64</td><td>f64</td><td>bool</td></tr></thead><tbody><tr><td>0</td><td>0.1</td><td>true</td></tr><tr><td>1</td><td>0.2</td><td>false</td></tr><tr><td>2</td><td>null</td><td>false</td></tr><tr><td>3</td><td>null</td><td>false</td></tr><tr><td>4</td><td>null</td><td>true</td></tr><tr><td>5</td><td>1.1</td><td>true</td></tr><tr><td>6</td><td>1.2</td><td>false</td></tr><tr><td>7</td><td>1.3</td><td>false</td></tr><tr><td>8</td><td>1.4</td><td>false</td></tr><tr><td>9</td><td>1.5</td><td>false</td></tr><tr><td>10</td><td>null</td><td>false</td></tr><tr><td>11</td><td>1.7</td><td>false</td></tr></tbody></table></div>"
      ],
      "text/plain": [
       "shape: (12, 3)\n",
       "┌────────┬──────┬───────┐\n",
       "│ row_nr ┆ vals ┆ tes   │\n",
       "│ ---    ┆ ---  ┆ ---   │\n",
       "│ i64    ┆ f64  ┆ bool  │\n",
       "╞════════╪══════╪═══════╡\n",
       "│ 0      ┆ 0.1  ┆ true  │\n",
       "│ 1      ┆ 0.2  ┆ false │\n",
       "│ 2      ┆ null ┆ false │\n",
       "│ 3      ┆ null ┆ false │\n",
       "│ …      ┆ …    ┆ …     │\n",
       "│ 8      ┆ 1.4  ┆ false │\n",
       "│ 9      ┆ 1.5  ┆ false │\n",
       "│ 10     ┆ null ┆ false │\n",
       "│ 11     ┆ 1.7  ┆ false │\n",
       "└────────┴──────┴───────┘"
      ]
     },
     "execution_count": 13,
     "metadata": {},
     "output_type": "execute_result"
    }
   ],
   "source": [
    "df = df.with_columns(pl.col(tes) & pl.col(column).shift(1).is_null().alias(tes))\n",
    "df"
   ]
  },
  {
   "cell_type": "code",
   "execution_count": 14,
   "metadata": {},
   "outputs": [
    {
     "ename": "NameError",
     "evalue": "name 'col1' is not defined",
     "output_type": "error",
     "traceback": [
      "\u001b[0;31m---------------------------------------------------------------------------\u001b[0m",
      "\u001b[0;31mNameError\u001b[0m                                 Traceback (most recent call last)",
      "Cell \u001b[0;32mIn[14], line 1\u001b[0m\n\u001b[0;32m----> 1\u001b[0m df\u001b[39m.\u001b[39mwith_columns(pl\u001b[39m.\u001b[39mwhen(pl\u001b[39m.\u001b[39mcol(tes))\u001b[39m.\u001b[39mthen(\u001b[39m1\u001b[39m)\u001b[39m.\u001b[39motherwise(\u001b[39m0\u001b[39m)\u001b[39m.\u001b[39mcumsum()\u001b[39m.\u001b[39malias(col1)) \n",
      "\u001b[0;31mNameError\u001b[0m: name 'col1' is not defined"
     ]
    }
   ],
   "source": [
    "df.with_columns(pl.when(pl.col(tes)).then(1).otherwise(0).cumsum().alias(col1)) "
   ]
  },
  {
   "cell_type": "code",
   "execution_count": 15,
   "metadata": {},
   "outputs": [
    {
     "data": {
      "text/html": [
       "<div><style>\n",
       ".dataframe > thead > tr > th,\n",
       ".dataframe > tbody > tr > td {\n",
       "  text-align: right;\n",
       "}\n",
       "</style>\n",
       "<small>shape: (12, 4)</small><table border=\"1\" class=\"dataframe\"><thead><tr><th>row_nr</th><th>vals</th><th>tes</th><th>col1</th></tr><tr><td>i64</td><td>f64</td><td>bool</td><td>i32</td></tr></thead><tbody><tr><td>0</td><td>0.1</td><td>true</td><td>1</td></tr><tr><td>1</td><td>0.2</td><td>false</td><td>1</td></tr><tr><td>2</td><td>null</td><td>false</td><td>1</td></tr><tr><td>3</td><td>null</td><td>false</td><td>1</td></tr><tr><td>4</td><td>null</td><td>true</td><td>2</td></tr><tr><td>5</td><td>1.1</td><td>true</td><td>3</td></tr><tr><td>6</td><td>1.2</td><td>false</td><td>3</td></tr><tr><td>7</td><td>1.3</td><td>false</td><td>3</td></tr><tr><td>8</td><td>1.4</td><td>false</td><td>3</td></tr><tr><td>9</td><td>1.5</td><td>false</td><td>3</td></tr><tr><td>10</td><td>null</td><td>false</td><td>3</td></tr><tr><td>11</td><td>1.7</td><td>false</td><td>3</td></tr></tbody></table></div>"
      ],
      "text/plain": [
       "shape: (12, 4)\n",
       "┌────────┬──────┬───────┬──────┐\n",
       "│ row_nr ┆ vals ┆ tes   ┆ col1 │\n",
       "│ ---    ┆ ---  ┆ ---   ┆ ---  │\n",
       "│ i64    ┆ f64  ┆ bool  ┆ i32  │\n",
       "╞════════╪══════╪═══════╪══════╡\n",
       "│ 0      ┆ 0.1  ┆ true  ┆ 1    │\n",
       "│ 1      ┆ 0.2  ┆ false ┆ 1    │\n",
       "│ 2      ┆ null ┆ false ┆ 1    │\n",
       "│ 3      ┆ null ┆ false ┆ 1    │\n",
       "│ …      ┆ …    ┆ …     ┆ …    │\n",
       "│ 8      ┆ 1.4  ┆ false ┆ 3    │\n",
       "│ 9      ┆ 1.5  ┆ false ┆ 3    │\n",
       "│ 10     ┆ null ┆ false ┆ 3    │\n",
       "│ 11     ┆ 1.7  ┆ false ┆ 3    │\n",
       "└────────┴──────┴───────┴──────┘"
      ]
     },
     "execution_count": 15,
     "metadata": {},
     "output_type": "execute_result"
    }
   ],
   "source": [
    "col1 = \"col1\"\n",
    "df = df.with_columns(pl.when(pl.col(column).shift(2).is_null() & pl.col(column).shift(1).is_null()).then(1).otherwise(0).cumsum().alias(col1)) \n",
    "df"
   ]
  },
  {
   "cell_type": "code",
   "execution_count": 16,
   "metadata": {},
   "outputs": [
    {
     "data": {
      "text/html": [
       "<div><style>\n",
       ".dataframe > thead > tr > th,\n",
       ".dataframe > tbody > tr > td {\n",
       "  text-align: right;\n",
       "}\n",
       "</style>\n",
       "<small>shape: (12, 6)</small><table border=\"1\" class=\"dataframe\"><thead><tr><th>row_nr</th><th>vals</th><th>tes</th><th>col1</th><th>ones</th><th>col2</th></tr><tr><td>i64</td><td>f64</td><td>bool</td><td>i32</td><td>i32</td><td>i32</td></tr></thead><tbody><tr><td>0</td><td>0.1</td><td>true</td><td>1</td><td>1</td><td>1</td></tr><tr><td>1</td><td>0.2</td><td>false</td><td>1</td><td>1</td><td>2</td></tr><tr><td>2</td><td>null</td><td>false</td><td>1</td><td>1</td><td>3</td></tr><tr><td>3</td><td>null</td><td>false</td><td>1</td><td>1</td><td>4</td></tr><tr><td>4</td><td>null</td><td>true</td><td>2</td><td>1</td><td>1</td></tr><tr><td>5</td><td>1.1</td><td>true</td><td>3</td><td>1</td><td>1</td></tr><tr><td>6</td><td>1.2</td><td>false</td><td>3</td><td>1</td><td>2</td></tr><tr><td>7</td><td>1.3</td><td>false</td><td>3</td><td>1</td><td>3</td></tr><tr><td>8</td><td>1.4</td><td>false</td><td>3</td><td>1</td><td>4</td></tr><tr><td>9</td><td>1.5</td><td>false</td><td>3</td><td>1</td><td>5</td></tr><tr><td>10</td><td>null</td><td>false</td><td>3</td><td>1</td><td>6</td></tr><tr><td>11</td><td>1.7</td><td>false</td><td>3</td><td>1</td><td>7</td></tr></tbody></table></div>"
      ],
      "text/plain": [
       "shape: (12, 6)\n",
       "┌────────┬──────┬───────┬──────┬──────┬──────┐\n",
       "│ row_nr ┆ vals ┆ tes   ┆ col1 ┆ ones ┆ col2 │\n",
       "│ ---    ┆ ---  ┆ ---   ┆ ---  ┆ ---  ┆ ---  │\n",
       "│ i64    ┆ f64  ┆ bool  ┆ i32  ┆ i32  ┆ i32  │\n",
       "╞════════╪══════╪═══════╪══════╪══════╪══════╡\n",
       "│ 0      ┆ 0.1  ┆ true  ┆ 1    ┆ 1    ┆ 1    │\n",
       "│ 1      ┆ 0.2  ┆ false ┆ 1    ┆ 1    ┆ 2    │\n",
       "│ 2      ┆ null ┆ false ┆ 1    ┆ 1    ┆ 3    │\n",
       "│ 3      ┆ null ┆ false ┆ 1    ┆ 1    ┆ 4    │\n",
       "│ …      ┆ …    ┆ …     ┆ …    ┆ …    ┆ …    │\n",
       "│ 8      ┆ 1.4  ┆ false ┆ 3    ┆ 1    ┆ 4    │\n",
       "│ 9      ┆ 1.5  ┆ false ┆ 3    ┆ 1    ┆ 5    │\n",
       "│ 10     ┆ null ┆ false ┆ 3    ┆ 1    ┆ 6    │\n",
       "│ 11     ┆ 1.7  ┆ false ┆ 3    ┆ 1    ┆ 7    │\n",
       "└────────┴──────┴───────┴──────┴──────┴──────┘"
      ]
     },
     "execution_count": 16,
     "metadata": {},
     "output_type": "execute_result"
    }
   ],
   "source": [
    "col2 = \"col2\"\n",
    "ones = \"ones\"\n",
    "df = df.with_columns(pl.lit(1).alias(ones)).with_columns(pl.col(ones).cumsum().over(col1).alias(col2))\n",
    "df"
   ]
  },
  {
   "cell_type": "code",
   "execution_count": 17,
   "metadata": {},
   "outputs": [
    {
     "data": {
      "text/html": [
       "<div><style>\n",
       ".dataframe > thead > tr > th,\n",
       ".dataframe > tbody > tr > td {\n",
       "  text-align: right;\n",
       "}\n",
       "</style>\n",
       "<small>shape: (12, 7)</small><table border=\"1\" class=\"dataframe\"><thead><tr><th>row_nr</th><th>vals</th><th>tes</th><th>col1</th><th>ones</th><th>col2</th><th>literal</th></tr><tr><td>i64</td><td>f64</td><td>bool</td><td>i32</td><td>i32</td><td>i32</td><td>i32</td></tr></thead><tbody><tr><td>0</td><td>0.1</td><td>true</td><td>1</td><td>1</td><td>1</td><td>1</td></tr><tr><td>1</td><td>0.2</td><td>false</td><td>1</td><td>1</td><td>2</td><td>0</td></tr><tr><td>2</td><td>null</td><td>false</td><td>1</td><td>1</td><td>3</td><td>0</td></tr><tr><td>3</td><td>null</td><td>false</td><td>1</td><td>1</td><td>4</td><td>4</td></tr><tr><td>4</td><td>null</td><td>true</td><td>2</td><td>1</td><td>1</td><td>1</td></tr><tr><td>5</td><td>1.1</td><td>true</td><td>3</td><td>1</td><td>1</td><td>1</td></tr><tr><td>6</td><td>1.2</td><td>false</td><td>3</td><td>1</td><td>2</td><td>0</td></tr><tr><td>7</td><td>1.3</td><td>false</td><td>3</td><td>1</td><td>3</td><td>0</td></tr><tr><td>8</td><td>1.4</td><td>false</td><td>3</td><td>1</td><td>4</td><td>4</td></tr><tr><td>9</td><td>1.5</td><td>false</td><td>3</td><td>1</td><td>5</td><td>0</td></tr><tr><td>10</td><td>null</td><td>false</td><td>3</td><td>1</td><td>6</td><td>0</td></tr><tr><td>11</td><td>1.7</td><td>false</td><td>3</td><td>1</td><td>7</td><td>7</td></tr></tbody></table></div>"
      ],
      "text/plain": [
       "shape: (12, 7)\n",
       "┌────────┬──────┬───────┬──────┬──────┬──────┬─────────┐\n",
       "│ row_nr ┆ vals ┆ tes   ┆ col1 ┆ ones ┆ col2 ┆ literal │\n",
       "│ ---    ┆ ---  ┆ ---   ┆ ---  ┆ ---  ┆ ---  ┆ ---     │\n",
       "│ i64    ┆ f64  ┆ bool  ┆ i32  ┆ i32  ┆ i32  ┆ i32     │\n",
       "╞════════╪══════╪═══════╪══════╪══════╪══════╪═════════╡\n",
       "│ 0      ┆ 0.1  ┆ true  ┆ 1    ┆ 1    ┆ 1    ┆ 1       │\n",
       "│ 1      ┆ 0.2  ┆ false ┆ 1    ┆ 1    ┆ 2    ┆ 0       │\n",
       "│ 2      ┆ null ┆ false ┆ 1    ┆ 1    ┆ 3    ┆ 0       │\n",
       "│ 3      ┆ null ┆ false ┆ 1    ┆ 1    ┆ 4    ┆ 4       │\n",
       "│ …      ┆ …    ┆ …     ┆ …    ┆ …    ┆ …    ┆ …       │\n",
       "│ 8      ┆ 1.4  ┆ false ┆ 3    ┆ 1    ┆ 4    ┆ 4       │\n",
       "│ 9      ┆ 1.5  ┆ false ┆ 3    ┆ 1    ┆ 5    ┆ 0       │\n",
       "│ 10     ┆ null ┆ false ┆ 3    ┆ 1    ┆ 6    ┆ 0       │\n",
       "│ 11     ┆ 1.7  ┆ false ┆ 3    ┆ 1    ┆ 7    ┆ 7       │\n",
       "└────────┴──────┴───────┴──────┴──────┴──────┴─────────┘"
      ]
     },
     "execution_count": 17,
     "metadata": {},
     "output_type": "execute_result"
    }
   ],
   "source": [
    "df.with_columns(pl.when(pl.col(col2) % 3 != 1).then(0).otherwise(pl.col(col2)))"
   ]
  },
  {
   "cell_type": "code",
   "execution_count": 13,
   "metadata": {},
   "outputs": [
    {
     "data": {
      "text/html": [
       "<div><style>\n",
       ".dataframe > thead > tr > th,\n",
       ".dataframe > tbody > tr > td {\n",
       "  text-align: right;\n",
       "}\n",
       "</style>\n",
       "<small>shape: (12, 7)</small><table border=\"1\" class=\"dataframe\"><thead><tr><th>row_nr</th><th>vals</th><th>tes</th><th>group_2</th><th>ones</th><th>sum</th><th>2_minimum_bars_between</th></tr><tr><td>i64</td><td>f64</td><td>bool</td><td>i32</td><td>i32</td><td>i32</td><td>f64</td></tr></thead><tbody><tr><td>0</td><td>0.1</td><td>true</td><td>1</td><td>1</td><td>1</td><td>0.1</td></tr><tr><td>1</td><td>0.2</td><td>false</td><td>1</td><td>1</td><td>2</td><td>null</td></tr><tr><td>2</td><td>null</td><td>false</td><td>1</td><td>1</td><td>3</td><td>null</td></tr><tr><td>3</td><td>null</td><td>false</td><td>1</td><td>1</td><td>4</td><td>null</td></tr><tr><td>4</td><td>null</td><td>true</td><td>2</td><td>1</td><td>1</td><td>null</td></tr><tr><td>5</td><td>1.1</td><td>true</td><td>3</td><td>1</td><td>1</td><td>1.1</td></tr><tr><td>6</td><td>1.2</td><td>false</td><td>3</td><td>1</td><td>2</td><td>null</td></tr><tr><td>7</td><td>1.3</td><td>false</td><td>3</td><td>1</td><td>3</td><td>null</td></tr><tr><td>8</td><td>1.4</td><td>false</td><td>3</td><td>1</td><td>4</td><td>1.4</td></tr><tr><td>9</td><td>1.5</td><td>false</td><td>3</td><td>1</td><td>5</td><td>null</td></tr><tr><td>10</td><td>null</td><td>false</td><td>3</td><td>1</td><td>6</td><td>null</td></tr><tr><td>11</td><td>1.7</td><td>false</td><td>3</td><td>1</td><td>7</td><td>1.7</td></tr></tbody></table></div>"
      ],
      "text/plain": [
       "shape: (12, 7)\n",
       "┌────────┬──────┬───────┬─────────┬──────┬─────┬────────────────────────┐\n",
       "│ row_nr ┆ vals ┆ tes   ┆ group_2 ┆ ones ┆ sum ┆ 2_minimum_bars_between │\n",
       "│ ---    ┆ ---  ┆ ---   ┆ ---     ┆ ---  ┆ --- ┆ ---                    │\n",
       "│ i64    ┆ f64  ┆ bool  ┆ i32     ┆ i32  ┆ i32 ┆ f64                    │\n",
       "╞════════╪══════╪═══════╪═════════╪══════╪═════╪════════════════════════╡\n",
       "│ 0      ┆ 0.1  ┆ true  ┆ 1       ┆ 1    ┆ 1   ┆ 0.1                    │\n",
       "│ 1      ┆ 0.2  ┆ false ┆ 1       ┆ 1    ┆ 2   ┆ null                   │\n",
       "│ 2      ┆ null ┆ false ┆ 1       ┆ 1    ┆ 3   ┆ null                   │\n",
       "│ 3      ┆ null ┆ false ┆ 1       ┆ 1    ┆ 4   ┆ null                   │\n",
       "│ …      ┆ …    ┆ …     ┆ …       ┆ …    ┆ …   ┆ …                      │\n",
       "│ 8      ┆ 1.4  ┆ false ┆ 3       ┆ 1    ┆ 4   ┆ 1.4                    │\n",
       "│ 9      ┆ 1.5  ┆ false ┆ 3       ┆ 1    ┆ 5   ┆ null                   │\n",
       "│ 10     ┆ null ┆ false ┆ 3       ┆ 1    ┆ 6   ┆ null                   │\n",
       "│ 11     ┆ 1.7  ┆ false ┆ 3       ┆ 1    ┆ 7   ┆ 1.7                    │\n",
       "└────────┴──────┴───────┴─────────┴──────┴─────┴────────────────────────┘"
      ]
     },
     "execution_count": 13,
     "metadata": {},
     "output_type": "execute_result"
    }
   ],
   "source": [
    "def group_by_bars(df: pl.DataFrame | pl.LazyFrame, nulls: int, column: str) -> IndicatorResult:\n",
    "    \"\"\"groups trades together allowing for a specified number of nulls in each group\"\"\"\n",
    "    column_name = f\"group_{nulls}\"\n",
    "    if column_name in df.columns:\n",
    "        return IndicatorResult(df, column_name)\n",
    "    \n",
    "    tes = \"tes\"\n",
    "    df = df.with_columns(pl.lit(True).alias(tes))\n",
    "    \n",
    "    for i in range(1, nulls+1):\n",
    "        df = df.with_columns(pl.col(tes) & pl.col(column).shift(i).is_null().alias(tes))\n",
    "\n",
    "    df = df.with_columns(pl.when(pl.col(tes)).then(1).otherwise(0).cumsum().alias(column_name)) \n",
    "\n",
    "    return IndicatorResult(df, column_name)\n",
    "def limit_entries(df: pl.DataFrame | pl.LazyFrame, bars: int, entries: str) -> IndicatorResult:\n",
    "    \"\"\"Forces a minimum number of bars between entries\"\"\"\n",
    "    column_name = f\"{bars}_minimum_bars_between\"\n",
    "    if column_name in df.columns:\n",
    "        return IndicatorResult(df, column_name)\n",
    "    \n",
    "    group = group_by_bars(df, bars, entries)\n",
    "\n",
    "    ones = \"ones\"\n",
    "\n",
    "    df = group.df\n",
    "\n",
    "    sum = \"sum\"\n",
    "    df = group.df.with_columns(pl.lit(1).alias(ones)).with_columns(pl.col(ones).cumsum().over(group.column).alias(sum))\n",
    "\n",
    "    df = df.with_columns(pl.when(pl.col(sum) % (bars+1) == 1).then(pl.col(entries)).alias(column_name))\n",
    "\n",
    "\n",
    "    return IndicatorResult(df, column_name)\n",
    "\n",
    "index = \"row_nr\"\n",
    "column = \"vals\"\n",
    "values = [0.1, 0.2, None, None, None, 1.1, 1.2, 1.3, 1.4, 1.5, None, 1.7]\n",
    "ind = range(len(values))\n",
    "d = {index: ind,\n",
    "     column: values}\n",
    "df = pl.DataFrame(d)\n",
    "df\n",
    "group_by_bars(df, 2, column).df\n",
    "limit_entries(df, 2, column).df"
   ]
  },
  {
   "cell_type": "code",
   "execution_count": null,
   "metadata": {},
   "outputs": [],
   "source": [
    "ret = pi.create_trade_ids(trail.df, cross_up.column, trail.column)"
   ]
  },
  {
   "cell_type": "code",
   "execution_count": null,
   "metadata": {},
   "outputs": [],
   "source": [
    "pi.summarize_trades(ret.df, ret.column, cross_up.column, trail.column)"
   ]
  },
  {
   "cell_type": "code",
   "execution_count": null,
   "metadata": {},
   "outputs": [],
   "source": []
  }
 ],
 "metadata": {
  "kernelspec": {
   "display_name": ".venv",
   "language": "python",
   "name": "python3"
  },
  "language_info": {
   "codemirror_mode": {
    "name": "ipython",
    "version": 3
   },
   "file_extension": ".py",
   "mimetype": "text/x-python",
   "name": "python",
   "nbconvert_exporter": "python",
   "pygments_lexer": "ipython3",
   "version": "3.10.10"
  },
  "orig_nbformat": 4
 },
 "nbformat": 4,
 "nbformat_minor": 2
}
