{
 "cells": [
  {
   "cell_type": "code",
   "execution_count": null,
   "metadata": {},
   "outputs": [],
   "source": [
    "import polars as pl\n",
    "from datetime import datetime,timedelta\n",
    "import get_and_store as gas\n",
    "import polars_indicators as pi\n",
    "from polars_indicators.indicators import IndicatorResult\n",
    "from importlib import reload\n",
    "DATE_COLUNN = \"Date\""
   ]
  },
  {
   "cell_type": "code",
   "execution_count": null,
   "metadata": {},
   "outputs": [],
   "source": [
    "reload(pi)\n",
    "reload(pi.strategies)\n",
    "reload(pi.strategies.buy_x_week_low)\n",
    "reload(pi.strategies.buy_close_trail)\n",
    "reload(pi.summarize.trades)\n",
    "reload(pi.indicators)"
   ]
  },
  {
   "cell_type": "code",
   "execution_count": null,
   "metadata": {},
   "outputs": [],
   "source": [
    "try:\n",
    "    df = saved_df.clone()\n",
    "except NameError:\n",
    "        df = gas.get_all_saved_data_df()\n",
    "        df = df.filter(pl.col(pi.indicators.DATE_COLUMN) >= datetime(2020, 1, 1))\n",
    "        df = df.collect()"
   ]
  },
  {
   "cell_type": "code",
   "execution_count": null,
   "metadata": {},
   "outputs": [],
   "source": [
    "saved_df = df.clone()"
   ]
  },
  {
   "cell_type": "code",
   "execution_count": null,
   "metadata": {},
   "outputs": [],
   "source": [
    "df = df.with_columns(pl.col(pi.indicators.DATE_COLUMN).cast(pl.Datetime))"
   ]
  },
  {
   "cell_type": "code",
   "execution_count": null,
   "metadata": {},
   "outputs": [],
   "source": [
    "lower_limit = 3\n",
    "upper_limit = 250\n",
    "close_within_limits = f\"close_over{lower_limit}_under{upper_limit}\"\n",
    "df = df.with_columns(((pl.col(pi.indicators.CLOSE_COLUMN) > lower_limit) & (pl.col(pi.indicators.CLOSE_COLUMN) < upper_limit)).alias(close_within_limits))"
   ]
  },
  {
   "cell_type": "code",
   "execution_count": null,
   "metadata": {},
   "outputs": [],
   "source": [
    "sma_pairs = [(3, 5), (5, 8), (8, 21), (10, 20), (15, 30), (50, 100)]"
   ]
  },
  {
   "cell_type": "code",
   "execution_count": null,
   "metadata": {},
   "outputs": [],
   "source": [
    "column = pi.indicators.CLOSE_COLUMN"
   ]
  },
  {
   "cell_type": "code",
   "execution_count": null,
   "metadata": {},
   "outputs": [],
   "source": [
    "indicator_pairs = []\n",
    "for sma_pair in sma_pairs:\n",
    "    sma0 = pi.indicators.simple_moving_average(df, sma_pair[0], column)\n",
    "    sma1 = pi.indicators.simple_moving_average(sma0.df, sma_pair[1], column)\n",
    "    indicator_pairs.append((sma0, sma1))\n",
    "    df = sma1.df"
   ]
  },
  {
   "cell_type": "code",
   "execution_count": null,
   "metadata": {},
   "outputs": [],
   "source": [
    "buy_indicators = []\n",
    "for indicator_pair in indicator_pairs:\n",
    "    ind = pi.indicators.crossover_up(df, indicator_pair[0].column, indicator_pair[1].column)\n",
    "    buy_indicators.append(ind)\n",
    "    df = ind.df.with_columns((pl.col(ind.column) & pl.col(close_within_limits)).alias(ind.column))"
   ]
  },
  {
   "cell_type": "code",
   "execution_count": null,
   "metadata": {},
   "outputs": [],
   "source": [
    "russell = df.filter(pl.col(pi.indicators.SYMBOL_COLUMN).is_in(pi.Russell1000_2020))"
   ]
  },
  {
   "cell_type": "code",
   "execution_count": null,
   "metadata": {},
   "outputs": [],
   "source": [
    "#df = df.filter(pl.col(pi.indicators.SYMBOL_COLUMN).is_in(pi.SnP500_2020))"
   ]
  },
  {
   "cell_type": "code",
   "execution_count": null,
   "metadata": {},
   "outputs": [],
   "source": [
    "strat_results = [pi.summarize.trades.Trades.from_strategy_result(pi.strategies.buy_close_trail.strategy(df, buy_indicator.column, trailing_stop_bars=2)) for buy_indicator in buy_indicators]"
   ]
  },
  {
   "cell_type": "code",
   "execution_count": null,
   "metadata": {},
   "outputs": [],
   "source": [
    "pi.summarize.trades.compare_strategies(strat_results, [str(x) for x in sma_pairs])"
   ]
  },
  {
   "cell_type": "code",
   "execution_count": null,
   "metadata": {},
   "outputs": [],
   "source": [
    "russell_results = [pi.summarize.trades.Trades.from_strategy_result(pi.strategies.buy_close_trail.strategy(russell, buy_indicator.column, trailing_stop_bars=2)) for buy_indicator in buy_indicators]"
   ]
  },
  {
   "cell_type": "code",
   "execution_count": null,
   "metadata": {},
   "outputs": [],
   "source": [
    "pi.summarize.trades.compare_strategies(russell_results, [str(x) for x in sma_pairs])"
   ]
  },
  {
   "cell_type": "code",
   "execution_count": null,
   "metadata": {},
   "outputs": [],
   "source": [
    "russell_results[4].df"
   ]
  },
  {
   "cell_type": "code",
   "execution_count": null,
   "metadata": {},
   "outputs": [],
   "source": [
    "russell.filter(pl.col(pi.indicators.DATE_COLUMN).is_between(datetime(2020,4,22),datetime(2020,4,27)) & (pl.col(pi.indicators.SYMBOL_COLUMN) == \"A\"))"
   ]
  },
  {
   "cell_type": "code",
   "execution_count": null,
   "metadata": {},
   "outputs": [],
   "source": []
  }
 ],
 "metadata": {
  "kernelspec": {
   "display_name": ".venv",
   "language": "python",
   "name": "python3"
  },
  "language_info": {
   "codemirror_mode": {
    "name": "ipython",
    "version": 3
   },
   "file_extension": ".py",
   "mimetype": "text/x-python",
   "name": "python",
   "nbconvert_exporter": "python",
   "pygments_lexer": "ipython3",
   "version": "3.10.5"
  },
  "orig_nbformat": 4
 },
 "nbformat": 4,
 "nbformat_minor": 2
}
